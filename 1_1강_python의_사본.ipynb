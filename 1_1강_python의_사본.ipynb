{
  "nbformat": 4,
  "nbformat_minor": 0,
  "metadata": {
    "colab": {
      "name": "1-1강 python의 사본",
      "provenance": [],
      "collapsed_sections": [],
      "include_colab_link": true
    },
    "kernelspec": {
      "display_name": "Python 3",
      "name": "python3"
    }
  },
  "cells": [
    {
      "cell_type": "markdown",
      "metadata": {
        "id": "view-in-github",
        "colab_type": "text"
      },
      "source": [
        "<a href=\"https://colab.research.google.com/github/kim-jiha95/data_diving/blob/main/1_1%EA%B0%95_python%EC%9D%98_%EC%82%AC%EB%B3%B8.ipynb\" target=\"_parent\"><img src=\"https://colab.research.google.com/assets/colab-badge.svg\" alt=\"Open In Colab\"/></a>"
      ]
    },
    {
      "cell_type": "markdown",
      "metadata": {
        "id": "xNIwLyimLz9M"
      },
      "source": [
        "# ⛔ 강의를 시작하기 전에\n",
        "\n",
        "- 해당 강의자료(ipynb)는 '🧜🏻‍♀️데이터 다이빙🧜🏻' 강의 목적을 위해 제작되었으며, 외부로 무단 배포를 엄격히 금하고 있습니다.👹  \n",
        "'🧜🏻‍♀️데이터 다이빙🧜🏻' 여러분들의 학습을 위해서만 활용해주시기를 부탁드리겠습니다!\n",
        "-  ipynb 파일은 파이썬 언어를 기반으로 제작된 노트 파일이며, Jupyter Notebook과 Google Colab 상에서 읽기/쓰기가 가능합니다.\n",
        "\n",
        "> **아래 매뉴얼을 따라주세요!** \n",
        ">> ➀ 크롬 다운로드와 구글 계정을 생성해주세요   \n",
        "➁ 좌측 상단 '파일' -> '드라이브에 사본 저장...'   \n",
        "➂ 본인의 구글 계정 Gdrive에 접속해주세요  \n",
        "➃ 자동으로 'Colab Notebooks'라는 폴더가 만들어져 있습니다  \n",
        "(*없다면 새로고침를 눌러주세요)  \n",
        "➄ 해당 폴더 속에 사본 파일이 복사된 것을 확인   \n",
        "➅ 'Colab Notebooks'폴더 안에 꼭 'datascience'라는 이름의 폴더를 만들어주세요  \n",
        "➆ 사본 ipynd 파일을 datascience 폴더로 이동 시킨 후 열어주세요!  \n",
        "\n",
        "  😁이제 '읽기 쓰기'가 가능한, '🧜‍♀️데이터 다이빙🧜‍♂️' 여러분들만을 위한 파일이 성공적으로 생성되었습니다! \n",
        "- 내 강의 자료 : 구글 드라이브 > Colab Notebook > datascience\n"
      ]
    },
    {
      "cell_type": "markdown",
      "metadata": {
        "id": "snmnvvyvA6wR"
      },
      "source": [
        ""
      ]
    },
    {
      "cell_type": "markdown",
      "metadata": {
        "id": "JXOuFpk2N-1q"
      },
      "source": [
        "## 🙉 구글 코랩(Google Colab) 익숙해지기!\n",
        "> **아래 매뉴얼을 따라해주세요!**  \n",
        "> - 이 셀을 한 번 클릭한 후, 화면 좌측 상단의 '**+텍스트**' 버튼을 눌러보세요."
      ]
    },
    {
      "cell_type": "markdown",
      "metadata": {
        "id": "UvCtuRzbBEI_"
      },
      "source": [
        "데이터 다이빙 화이팅"
      ]
    },
    {
      "cell_type": "markdown",
      "metadata": {
        "id": "8mvKvFbEniKI"
      },
      "source": [
        "markdown 문법 - 여러 가지 기능을 제공\n",
        "\n",
        "```\n",
        "# 코드로 형식 지정됨\n",
        "```\n",
        "\n"
      ]
    },
    {
      "cell_type": "markdown",
      "metadata": {
        "id": "EayHkZxsO3Go"
      },
      "source": [
        "> - 텍스트를 입력할 수 있는 셀이 추가되었습니다!! `shift + enter`을 누르면 **셀이 실행**됩니다."
      ]
    },
    {
      "cell_type": "markdown",
      "metadata": {
        "id": "xjywhgQXOymT"
      },
      "source": [
        "> - 해당 셀이 비어있어서 '더블 클릭 또는 Enter 키를 눌러 수정'이라고 쓰여 있을 것입니다.\n",
        "- 생성된 셀을 더블 클릭한 뒤, '데이터 다이빙 화이팅'을 입력한 뒤 `shift + enter`를 눌러주세요."
      ]
    },
    {
      "cell_type": "code",
      "metadata": {
        "colab": {
          "base_uri": "https://localhost:8080/"
        },
        "id": "5h-UQV0aBZfZ",
        "outputId": "75d1b046-477d-4a06-bc0c-3b3d7fb2b321"
      },
      "source": [
        "print(\"hello world\")"
      ],
      "execution_count": null,
      "outputs": [
        {
          "output_type": "stream",
          "text": [
            "hello world\n"
          ],
          "name": "stdout"
        }
      ]
    },
    {
      "cell_type": "markdown",
      "metadata": {
        "id": "kqSa7cWSOgsP"
      },
      "source": [
        "> - 코드를 입력할 수 있는 셀이 추가되었습니다!!  \n",
        "> - 이제 해당 셀을 '**더블 클릭**'하거나 '**엔터키**'를 치고 편집 환경에 들어갑니다.\n",
        "> - 우측 상단의 툴박스를 통해 셀을\n",
        "    1.   위로 올리거나\n",
        "    2.   아래로 내리거나\n",
        "    3. 링크를 공유하거나\n",
        "    4. 댓글을 달거나\n",
        "    5. 삭제할 수 있습니다.\n"
      ]
    },
    {
      "cell_type": "markdown",
      "metadata": {
        "id": "C8nJcDVDYoMY"
      },
      "source": [
        "### **※ 런타임이란 무엇인가요?**\n",
        "\n",
        "\n",
        "\n",
        "```\n",
        "\n",
        "```\n",
        "\n"
      ]
    },
    {
      "cell_type": "markdown",
      "metadata": {
        "id": "NRG6rQJ1jsiZ"
      },
      "source": [
        "#🌈 아이스 브레이킹 (10분 이내)  \n",
        "코랩 파일을 '쓰기 전용'으로 성공적으로 열었다면,  \n",
        "본 강의에 앞서 강사님과 가볍게 자기소개 시간을 갖겠습니다! (이미 하셨다면 Skip!!)  \n",
        "\n",
        "```\n",
        "😀 이름, 하시는 일, 데이터 사이언스를 배우는 이유 등등\n",
        "```"
      ]
    },
    {
      "cell_type": "markdown",
      "metadata": {
        "id": "Es66X6B5lYCE"
      },
      "source": [
        "\n",
        "#🔥 Lesson 1, Deep Dive into '파이썬(Python)'  \n",
        "\n",
        "## ⛳ 무엇을 배우나요?\n",
        "\n",
        "<img src = \"https://1.bp.blogspot.com/-_WBc3Luhgok/Xp6leDSPB3I/AAAAAAAAASs/YD-Dz1sBGOkQX0gTatQV-5isP57p5zURgCLcBGAsYHQ/s1600/%25E1%2584%2589%25E1%2585%25B3%25E1%2586%25AF%25E1%2584%2585%25E1%2585%25A1%25E1%2584%258B%25E1%2585%25B5%25E1%2584%2583%25E1%2585%25B32.png\" width = \"1000\">\n",
        "\n",
        "\n",
        "\n",
        "## 개요\n",
        "\n",
        "파이썬은 프로그래밍 언어 중 가장 배우기 쉽고 다양한 용도로 사용되고 있습니다.  \n",
        "\n",
        "![대체 텍스트](https://www.raspberrypi.org/documentation/usage/python/images/python-logo.png)\n",
        "\n",
        "> 파이썬을 배우면 할 수 있는 것들\n",
        "1. **데이터 사이언스**\n",
        "2. 머신러닝\n",
        "3. 웹 스크래핑\n",
        "4. 데이터 비쥬얼라이징\n",
        "5. 웹사이트 제작\n",
        "6. 해킹😅\n",
        "\n",
        "## 😃 강사님이 생각하는 파이썬이란? 파이썬을 배우면 좋은 이유는?  \n",
        "\n",
        "\n",
        "```\n",
        "\n",
        "```\n",
        "\n",
        "\n",
        "\n",
        "\n",
        "파이썬은 IEEE(전기 전자 기술자 협회) 기준 랭킹 1위 프로그래밍 언어로 평가받고 있으며  \n",
        "> 참조 : https://spectrum.ieee.org/static/interactive-the-top-programming-languages-2019  \n",
        "\n",
        "데이터 사이언스 분야에서는 파이썬을 기반으로하는 주피터 노트북(구글 코랩)이 압도적인 1위를 차지하고 있는 어플리케이션입니다.\n",
        "\n",
        "> ![툴 이미지](https://www.benfrederickson.com/images/github/language-popularity/scientific.svg)\n",
        "\n",
        "## 🤔 무엇을 배우나요?\n",
        "+ 파이썬의 기본 연산 : 덧셈, 뺄셈, 곱셈, 나눗셈, 나머지 연산자 등  \n",
        "- 파이썬의 비교 연산 : 등호(==)와 부등호(!=), 이상, 이하, 미만, 초과 등  \n",
        "- 파이썬의 변수 : 변수를 할당하는 법과 사용하는 법 등  \n",
        "- 파이썬의 다양한 데이터 타입 : 숫자, 문자열(텍스트), 리스트(배열) 등  \n",
        "- 파이썬의 제어문과 반복문 : for과 while 등  \n",
        "- 파이썬의 함수와 그 응용 등  \n"
      ]
    },
    {
      "cell_type": "markdown",
      "metadata": {
        "id": "UF05aK0yj7TA"
      },
      "source": [
        "## [참고] Colaboratory 소개 영상"
      ]
    },
    {
      "cell_type": "code",
      "metadata": {
        "cellView": "both",
        "id": "RbuRUJj4mpAV"
      },
      "source": [
        "from IPython.display import YouTubeVideo\n",
        "YouTubeVideo('inN8seMm7UI', width=600, height=400)"
      ],
      "execution_count": null,
      "outputs": []
    },
    {
      "cell_type": "markdown",
      "metadata": {
        "id": "tJN08hMrmx0I"
      },
      "source": [
        "## 주피터 노트북 파일이란?\n",
        "지금 읽고 있는 문서는 Colaboratory 클라우드 환경에서 작동하는 [Jupyter 노트북](https://jupyter.org)(.ipynb 파일) 입니다.\n",
        "노트북 파일은 파이썬 코드를 작은 셀(cell) 단위로 실행할 수 있어 손쉽게 코드를 작성하게 도와줍니다.\n",
        "\n",
        "예를 들어 아래의 셀은 \"깨어나세요 용사여!\" 를 출력하는 간단한 파이썬 셀입니다.\n",
        "\n",
        "> 아래의 셀을 클릭하여 왼쪽의 실행버튼(`shift + enter`)을 눌러보세요"
      ]
    },
    {
      "cell_type": "code",
      "metadata": {
        "colab": {
          "base_uri": "https://localhost:8080/"
        },
        "id": "wiNkKO9Mm_jo",
        "outputId": "4f7f386f-9ba8-4e19-ae30-0215ab1ae174"
      },
      "source": [
        "my_name = \"용사\"\n",
        "print(\"깨어나세요. \" + my_name + \"여!\")"
      ],
      "execution_count": null,
      "outputs": [
        {
          "output_type": "stream",
          "text": [
            "깨어나세요. 용사여!\n"
          ],
          "name": "stdout"
        }
      ]
    },
    {
      "cell_type": "markdown",
      "metadata": {
        "id": "vpkniJ-EnHOK"
      },
      "source": [
        "\n",
        "\n",
        "---\n",
        "> 아래의 코드에서\n",
        "`my_name` 을 수정하여 본인의 이름이 출력되도록 해보세요 ** \n"
      ]
    },
    {
      "cell_type": "code",
      "metadata": {
        "colab": {
          "base_uri": "https://localhost:8080/"
        },
        "id": "mLQvqM1hnVkV",
        "outputId": "bcd75658-f52a-4cf9-901e-c696dfc46fe4"
      },
      "source": [
        "my_name = \"지하\"\n",
        "print(\"깨어나세요. \" + my_name + \"여!\")"
      ],
      "execution_count": null,
      "outputs": [
        {
          "output_type": "stream",
          "text": [
            "깨어나세요. 지하여!\n"
          ],
          "name": "stdout"
        }
      ]
    },
    {
      "cell_type": "markdown",
      "metadata": {
        "id": "1q5KSTt_rBUb"
      },
      "source": [
        "# 📌 Step 1. 파이썬 기초"
      ]
    },
    {
      "cell_type": "markdown",
      "metadata": {
        "id": "DGGyVkq0rGdW"
      },
      "source": [
        "## 코멘트 🤫🤫\n",
        "\n",
        "코멘트(주석)는 컴퓨터가 읽지 않도록 하는 마법의 기능입니다.  \n",
        "> '#' 을 입력 후 원하는 내용을 입력할 수 있습니다.\n",
        "\n",
        "```\n",
        "# 데이터 다이빙 화이팅~\n",
        "```\n",
        "\n",
        "\n",
        "\n",
        "```\n",
        "# 다음은 그날의 미세먼지를 알려주는 코드\n",
        "get_misaemisae()\n",
        "```\n"
      ]
    },
    {
      "cell_type": "code",
      "metadata": {
        "id": "CMp3c1dwrVC3"
      },
      "source": [
        "my_name = \"재원\"                         #이름을 지정해주는 코드\n",
        "print(\"깨어나세요. \" + my_name + \"여!\")  #인사말을 출력해주는 코드 \n",
        "\n",
        "# 코멘트가 무엇인지 설명하는 코멘트^^;"
      ],
      "execution_count": null,
      "outputs": []
    },
    {
      "cell_type": "markdown",
      "metadata": {
        "id": "MqwhUH8qraqh"
      },
      "source": [
        "## 출력 Print 🖨🖨🖨\n",
        "\n",
        "코드는 컴퓨터와 소통하는 방법입니다.  \n",
        "요즘은 인공지능 스피커가 나와서 다양한 방식으로 소통할 수 있겠지만, 우리가 보는 코드 화면은 흰 바탕에 검정 글씨로 쓰인 워드 화면과 크게 다르지 않습니다.  \n",
        " \n",
        "**`print()`** 는 컴퓨터가 말하도록 하는 함수입니다. 이때 화면 상에 출력되는 결과를 보통 **`output`**, 또는 코드의 출력이라고 합니다.  \n",
        "\n",
        "<img src=\"https://1.bp.blogspot.com/-6xslfGdg9So/XoF757SbMMI/AAAAAAAAAN0/2SfYDCN2KSMsIUwc0sQwriAgvq7KJl3dgCLcBGAsYHQ/s1600/1%25E1%2584%2580%25E1%2585%25A1%25E1%2586%25BC%2B%25E1%2584%2591%25E1%2585%25B3%25E1%2584%2585%25E1%2585%25B5%25E1%2586%25AB%25E1%2584%2590%25E1%2585%25B3%2B%25E1%2584%2592%25E1%2585%25A1%25E1%2586%25B7%25E1%2584%2589%25E1%2585%25AE.jpg\" width = \"700\">\n",
        "\n",
        "아래와 같이 괄호 안에 다양한 메세지 또는 변수들을 넣어서 원하는 것을 출력하도록 할 수 있습니다.  \n",
        "\n"
      ]
    },
    {
      "cell_type": "code",
      "metadata": {
        "colab": {
          "base_uri": "https://localhost:8080/"
        },
        "id": "9egq3Bt4sfyI",
        "outputId": "202de5e4-1c43-45a0-c2d2-580a0e3152ab"
      },
      "source": [
        "print(\"안녕하세요!\")    # 문자를 넣을 수도 있고\n",
        "print(10)               # 숫자를 넣을 수도 있고\n",
        "print(False)            # 참/거짓 값을 넣을 수도 있습니다"
      ],
      "execution_count": null,
      "outputs": [
        {
          "output_type": "stream",
          "text": [
            "안녕하세요!\n",
            "10\n",
            "False\n"
          ],
          "name": "stdout"
        }
      ]
    },
    {
      "cell_type": "markdown",
      "metadata": {
        "id": "rnWVtQCRsjAK"
      },
      "source": [
        "## 문자열 String\n",
        "\n",
        "컴퓨터 프로그래밍에서 텍스트를 **문자열(string)** 이라고 부릅니다.\n",
        "\n",
        "\n",
        "파이썬에서는 문자열을 **큰 따옴표** 또는 **작은 따옴표**로 표기합니다.\n",
        "\n",
        "\n",
        "예) \"이것은 문자열(string)입니다\" or '이것 또한 문자열(string)입니다'\n",
        "\n",
        "\n",
        "어떤 따옴표를 쓰는지는 상관없습니다! 다만 짝이 맞아야 해요. \n",
        "\n",
        "> 🔍 아래의 빈 셀에서 본인의 이름을 print()함수를 이용하여 출력해보세요! 한번은 `\" \" `, 한번은 `' ' `을 써주시기 바랍니다."
      ]
    },
    {
      "cell_type": "code",
      "metadata": {
        "colab": {
          "base_uri": "https://localhost:8080/"
        },
        "id": "_X6CB3FusuYj",
        "outputId": "83346d11-4c84-4730-eec2-9b50dee7fb4c"
      },
      "source": [
        "#이름을 출력해보세요... 두 번...!!\n",
        "print(\"지하\")\n",
        "print('지하')\n"
      ],
      "execution_count": null,
      "outputs": [
        {
          "output_type": "stream",
          "text": [
            "지하\n",
            "지하\n"
          ],
          "name": "stdout"
        }
      ]
    },
    {
      "cell_type": "code",
      "metadata": {
        "colab": {
          "base_uri": "https://localhost:8080/"
        },
        "id": "SihyGmBfHEpR",
        "outputId": "d99d398f-e2cb-4750-8f0d-5dfbe5bf8597"
      },
      "source": [
        "where = \"집\" #where라는 변수에 집을 지정했다\n",
        "print(where + \"에 가고싶다\")"
      ],
      "execution_count": null,
      "outputs": [
        {
          "output_type": "stream",
          "text": [
            "집에 가고싶다\n"
          ],
          "name": "stdout"
        }
      ]
    },
    {
      "cell_type": "markdown",
      "metadata": {
        "id": "2sOVnY-hs0kw"
      },
      "source": [
        "## 변수 Variables \n",
        " \n",
        "**변수**란 프로그래밍에서 **데이터를 저장하는 가장 작은 단위**입니다.  \n",
        "\n",
        "수학 공부할 때 쓰는 줄 알았는데, 이쪽에서 더 많이 쓰는 것 같습니다😱  \n",
        "\n",
        "변수를 활용하면 한 번 지정한 값을 여러 번 재사용할 수 있으므로 코딩하기가 편해집니다.  \n",
        "\n",
        "변수를 어떠한 값으로 지정하는 것을 파이썬에서는 **선언 (assign)** 이라 하며 다음과 같이 **'='** 부호를 사용합니다. \n",
        "\n",
        "<img src = \"https://1.bp.blogspot.com/-t5-w7IhWPGI/XoF9eA43NTI/AAAAAAAAAOg/JQ87XAQwjGwN4f15SIk7THPiu6m7i0PHACLcBGAsYHQ/s1600/%25E1%2584%258F%25E1%2585%25A2%25E1%2586%25B8%25E1%2584%258E%25E1%2585%25A54.JPG\" width = \"550\">\n",
        "\n",
        "![대체 텍스트](https://i0.wp.com/www.bsidesoft.com/wp-content/uploads/2017/04/v06-2_02.jpg?resize=509%2C327)"
      ]
    },
    {
      "cell_type": "code",
      "metadata": {
        "id": "uwPhHGuMt2tm"
      },
      "source": [
        "# 변수를 이용하면 매번 장문의 데이터를 입력할 필요가 없어집니다.\n",
        "text = \"왜들 그리 다운돼있어? 뭐가 문제야 say something~ 분위기가 겁나 싸해 요새는 이런 게 유행인가. 왜들 그리 재미없어? 아 그건 나도 마찬가지 Tell me what I got to do 급한 대로 블루투스 켜!\"\n",
        "\n",
        "print(text) "
      ],
      "execution_count": null,
      "outputs": []
    },
    {
      "cell_type": "markdown",
      "metadata": {
        "id": "AYivSSbQudGX"
      },
      "source": [
        "### 변수 이름 짓기\n",
        "변수의 이름은 여러분 마음대로 지정할 수 있습니다.  \n",
        "다만 띄어쓰기는 인식이 불가능하니 여러 형태로 띄어쓰기를 대체하고 있습니다. \n",
        "\n",
        "![대체 텍스트](https://content.invisioncic.com/r229491/monthly_2018_02/codecase.png.9abc0521d2c0925906f5d0c309ed3f7b.png)\n",
        "\n",
        "위 예시 중 파이썬에서는 보통 언더바 `_` 혹은 대문자로 띄어쓰기를 대체합니다.  \n",
        "\n",
        "\n",
        "\n",
        "또한, 한 번 선언한 변수의 값은 다시 선언 기호 `=` 를 사용하여 다른 값으로 업데이트할 수 있습니다. \n",
        "\n",
        "\n",
        "다음과 같이요 !\n",
        "\n",
        "> 아래의 예제에서 코로나 바이러스 현황을 수정해보세요."
      ]
    },
    {
      "cell_type": "code",
      "metadata": {
        "colab": {
          "base_uri": "https://localhost:8080/",
          "height": 92
        },
        "id": "TRGvbY8Hv_lS",
        "outputId": "72581c83-6df7-4620-8d1e-e48cced94d71"
      },
      "source": [
        "# 코로나 바이러스 현황(3월 23일 기준)\n",
        "japan = 1086\n",
        "japan_cruise = 712\n",
        "\n",
        "# 코로나 바이러스 현황 출력\n",
        "print(\"일본 : \")\n",
        "print(japan)\n",
        "print(\"일본 크루즈 : \")\n",
        "print(japan_cruise)"
      ],
      "execution_count": null,
      "outputs": [
        {
          "output_type": "stream",
          "text": [
            "일본 : \n",
            "1086\n",
            "일본 크루즈 : \n",
            "712\n"
          ],
          "name": "stdout"
        }
      ]
    },
    {
      "cell_type": "code",
      "metadata": {
        "colab": {
          "base_uri": "https://localhost:8080/",
          "height": 55
        },
        "id": "XIFMQn5axBWv",
        "outputId": "4ae48f2a-ef77-4cef-85c3-920a120c1a02"
      },
      "source": [
        "# 아래 빈칸을 채워 일본 집계를 정확하게 업데이트 해주세요.\n",
        "\n",
        "# 일본과 일본 크루즈의 감염자 수를 더해주세요.\n",
        "japan_tot = japan + japan_cruise\n",
        "\n",
        "# 다시 출력하기\n",
        "print(\"일본 감염자수는 ? :\")\n",
        "print(japan_tot)\n"
      ],
      "execution_count": null,
      "outputs": [
        {
          "output_type": "stream",
          "text": [
            "일본 감염자수는 ? :\n",
            "1798\n"
          ],
          "name": "stdout"
        }
      ]
    },
    {
      "cell_type": "markdown",
      "metadata": {
        "id": "14yIE4My1BYi"
      },
      "source": [
        "## 숫자 Numeric Data types \n",
        "\n",
        "파이썬에서는 수를 크게 두 가지 타입으로 분류합니다 .\n",
        "\n",
        "1. **integer 또는 int** 는 **정수형** 데이터를 저장하는 변수 타입입니다. (-2, -1 .... 3 4 5 등)  \n",
        "소수점이 없는 수를 저장할 때 쓰입니다. \n",
        "\n",
        "2. **floating point 또는 float** 는 **부동소수점**을 표기하기 위해 쓰는 변수 타입입니다. ( 1.23, 10.567 등) \n",
        "\n",
        "어떤 타입인지 모를 때는 **type()** 함수를 쓰면 알 수 있습니다. \n"
      ]
    },
    {
      "cell_type": "code",
      "metadata": {
        "colab": {
          "base_uri": "https://localhost:8080/",
          "height": 148
        },
        "id": "1lQiUP231ac8",
        "outputId": "79867b6b-d99f-4c5b-d6e0-ff5c03d3ff39"
      },
      "source": [
        "grade_1 = 3    #int 형\n",
        "grade_2 = 2.0  #float 형\n",
        "\n",
        "print(\"grade_1 type : \") \n",
        "print(type(grade_1))\n",
        "print(\"grade_2 type : \")\n",
        "print(type(grade_2))\n",
        "\n",
        "print(\"average : \")  #파이썬에서는 타입을 알아서 자동으로 변환해줍니다!\n",
        "print(grade_1/2 + grade_2/2)\n",
        "print(type(grade_1/2 + grade_2/2))"
      ],
      "execution_count": null,
      "outputs": [
        {
          "output_type": "stream",
          "text": [
            "grade_1 type : \n",
            "<class 'int'>\n",
            "grade_2 type : \n",
            "<class 'float'>\n",
            "average : \n",
            "2.5\n",
            "<class 'float'>\n"
          ],
          "name": "stdout"
        }
      ]
    },
    {
      "cell_type": "markdown",
      "metadata": {
        "id": "_RW5-dcz1nbJ"
      },
      "source": [
        "### 사칙연산 ➕➖➗✖\n",
        "\n",
        "파이썬은 엑셀과 같은 함수 기호를 써서 연산합니다.\n",
        "\n",
        " `print()` 안에 넣어도 잘 동작하고\n",
        "`=`으로 선언할 때 써도 잘 동작합니다!   \n",
        "제곱은 `**` 으로 표기합니다"
      ]
    },
    {
      "cell_type": "code",
      "metadata": {
        "id": "BZtCeKLZ1uK8"
      },
      "source": [
        "# print \"100\"\n",
        "print(170 - 71 + 1)\n",
        "\n",
        "# Print \"50\"\n",
        "print(25 * 2)\n",
        "\n",
        "# Print \"2.0\"\n",
        "print(10 / 5)\n",
        "\n",
        "# Print \"18\"\n",
        "num = 3*2/2*6\n",
        "print(num)\n",
        "\n",
        "# Print \"2의 3승\"\n",
        "print(2 ** 3)"
      ],
      "execution_count": null,
      "outputs": []
    },
    {
      "cell_type": "markdown",
      "metadata": {
        "id": "C0Mgpu3p1xMb"
      },
      "source": [
        "> 0 으로 나누면 어떻게 될까요? 아래 셀을 실행해보세요"
      ]
    },
    {
      "cell_type": "code",
      "metadata": {
        "colab": {
          "base_uri": "https://localhost:8080/",
          "height": 172
        },
        "id": "CfCZ2ZC810FP",
        "outputId": "2da3666a-56e3-42cf-eaf1-042cbfca322f"
      },
      "source": [
        "print(5/0)"
      ],
      "execution_count": null,
      "outputs": [
        {
          "output_type": "error",
          "ename": "ZeroDivisionError",
          "evalue": "ignored",
          "traceback": [
            "\u001b[0;31m---------------------------------------------------------------------------\u001b[0m",
            "\u001b[0;31mZeroDivisionError\u001b[0m                         Traceback (most recent call last)",
            "\u001b[0;32m<ipython-input-7-fad870a50e27>\u001b[0m in \u001b[0;36m<module>\u001b[0;34m()\u001b[0m\n\u001b[0;32m----> 1\u001b[0;31m \u001b[0mprint\u001b[0m\u001b[0;34m(\u001b[0m\u001b[0;36m5\u001b[0m\u001b[0;34m/\u001b[0m\u001b[0;36m0\u001b[0m\u001b[0;34m)\u001b[0m\u001b[0;34m\u001b[0m\u001b[0;34m\u001b[0m\u001b[0m\n\u001b[0m",
            "\u001b[0;31mZeroDivisionError\u001b[0m: division by zero"
          ]
        }
      ]
    },
    {
      "cell_type": "markdown",
      "metadata": {
        "id": "x0mSQZ7diRw7"
      },
      "source": [
        "> 🔍 아래의 셀에서 사각형의 넓이를 출력해보세요"
      ]
    },
    {
      "cell_type": "code",
      "metadata": {
        "colab": {
          "base_uri": "https://localhost:8080/"
        },
        "id": "Lqt40goU159M",
        "outputId": "c2a89f98-8f72-4866-a41c-df6b26fd72bd"
      },
      "source": [
        "width = 400\n",
        "height = 200\n",
        "\n",
        "print() #여기서 넓이를 출력해보세요!\n",
        "\n",
        "# print(400*200)말고 다른 방법으로도 풀어보세요!\n",
        "print(width * height)"
      ],
      "execution_count": null,
      "outputs": [
        {
          "output_type": "stream",
          "text": [
            "\n",
            "80000\n"
          ],
          "name": "stdout"
        }
      ]
    },
    {
      "cell_type": "markdown",
      "metadata": {
        "id": "G7dtn1Xq2Pah"
      },
      "source": [
        " \n",
        "\n",
        "파이썬에서는 나누었을 때 나머지를 구해주는 기능이 있습니다.  \n",
        " `%` 기호로 나머지를 구할 수 있는데요. "
      ]
    },
    {
      "cell_type": "code",
      "metadata": {
        "colab": {
          "base_uri": "https://localhost:8080/"
        },
        "id": "t7NuElnuNShd",
        "outputId": "4f3f5c1d-77ae-40e6-ea15-8104559f9f8d"
      },
      "source": [
        "54 //6"
      ],
      "execution_count": null,
      "outputs": [
        {
          "output_type": "execute_result",
          "data": {
            "text/plain": [
              "9"
            ]
          },
          "metadata": {
            "tags": []
          },
          "execution_count": 10
        }
      ]
    },
    {
      "cell_type": "code",
      "metadata": {
        "id": "VJo3L4mP2a7r"
      },
      "source": [
        "#소주 2병을 10명이서 한 잔씩 마셨을 때, 남는 소주의 양은? \n",
        "#힌트 소주 한 병은 7잔입니다 ^0^  \n",
        "\n",
        "leftover_soju = ???\n",
        "\n",
        "print(\"소주 2병을 10명이서 한 잔씩 마셨을 때, 남는 소주의 양은?\")\n",
        "print(leftover_soju)"
      ],
      "execution_count": null,
      "outputs": []
    },
    {
      "cell_type": "markdown",
      "metadata": {
        "id": "nSIPYL404q50"
      },
      "source": [
        "## 문자열 더하기 String Concatenation \n",
        "\n",
        "`+` 기호를 문자열(String)에 사용하면 놀라운 일이 일어납니다.  \n",
        "문자열끼리 덧셈이 가능해지는데요. 이것을 Concatenation 이라고 합니다.  \n",
        "문자열을 더하면 공백없이 두 문자열이 합쳐지게 됩니다. (순서는 더한 순서대로!)\n",
        "\n",
        "> 아래의 예제에서 lyrics 라는 변수에 모든 문자열을 더해주세요. 그 이후 lyrics 를 출력해주세요!"
      ]
    },
    {
      "cell_type": "code",
      "metadata": {
        "colab": {
          "base_uri": "https://localhost:8080/"
        },
        "id": "p2leT0ld4x95",
        "outputId": "ac97c1f8-4e1e-4908-a496-1eeb4073bfe9"
      },
      "source": [
        "string_1 = \"비가 내리고, \"\n",
        "string_2 = \"음악이 흐르면, \"\n",
        "string_3 = \"난 당신을 생각해요, \"\n",
        "string_4 = \"당신이 떠나시던 그 밤에 이렇게 비가 왔어요 \" \n",
        "\n",
        "lyrics = string_1 + string_2 + string_3 + string_4  # lyrics concatenate 하세요!\n",
        "print(lyrics) # lyrics를 출력해보세요!😲"
      ],
      "execution_count": null,
      "outputs": [
        {
          "output_type": "stream",
          "text": [
            "비가 내리고, 음악이 흐르면, 난 당신을 생각해요, 당신이 떠나시던 그 밤에 이렇게 비가 왔어요 \n"
          ],
          "name": "stdout"
        }
      ]
    },
    {
      "cell_type": "markdown",
      "metadata": {
        "id": "cInWlN7i4-8M"
      },
      "source": [
        "## += 이랑 -= Plus Equals\n",
        "\n",
        "가끔 한 번 지정한 값을 업데이트 해줘야 할 때가 있습니다.  \n",
        " - `money = money + 10000` \n",
        " - `money += 10000`  \n",
        "\n",
        "둘 다 현재의 money 에 10000 을 더해서 업데이트하여 줍니다.  \n",
        "`-=` 기호를 쓰면 뺄셈이 되겠죠! "
      ]
    },
    {
      "cell_type": "markdown",
      "metadata": {
        "id": "QesgYRa1kLJa"
      },
      "source": [
        "> 코로나 바이러스 현황 예제 다시보기 "
      ]
    },
    {
      "cell_type": "code",
      "metadata": {
        "id": "xnF2abBe5cxx"
      },
      "source": [
        "# 코로나 바이러스 현황 예제 다시보기 \n",
        "japan = 1086\n",
        "japan_cruise = 712\n",
        "print(japan)\n",
        "\n",
        "japan += japan_cruise  #japan = japan + japan_cruise\n",
        "print(\"일본의 총 확진자 수는? \")\n",
        "print(japan)"
      ],
      "execution_count": null,
      "outputs": []
    },
    {
      "cell_type": "markdown",
      "metadata": {
        "id": "So_5oPRB5y8h"
      },
      "source": [
        "> 🔍 (예시) 어제 국내 코로나 확진자 수는 1000명이었습니다.  \n",
        "오늘 100명의 환자가 퇴원했는데요,   \n",
        "그렇다면 오늘 코로나 확진자 수는 몇 명일지 **-= 기호를 사용하여** 구해보세요!\n"
      ]
    },
    {
      "cell_type": "code",
      "metadata": {
        "colab": {
          "base_uri": "https://localhost:8080/"
        },
        "id": "z7q8b7Uz50sp",
        "outputId": "e0efc4a1-8316-4a26-ec47-6be2977027c0"
      },
      "source": [
        "patients = 1000  # 확진자 수\n",
        "print(\"어제 확진자 수\")\n",
        "print(patients)\n",
        "\n",
        "# 오늘 확진자 수로 변수 patients를 업데이트하세요.\n",
        "patients -= 100\n",
        "print(\"오늘 확진자 수\")\n",
        "print(patients)\n"
      ],
      "execution_count": null,
      "outputs": [
        {
          "output_type": "stream",
          "text": [
            "어제 확진자 수\n",
            "1000\n",
            "오늘 확진자 수\n",
            "900\n"
          ],
          "name": "stdout"
        }
      ]
    },
    {
      "cell_type": "markdown",
      "metadata": {
        "id": "XZdBxVDFERaT"
      },
      "source": [
        "## ☕이것만 하고 쉬는 것은 어떨까요?\n",
        "\n",
        "> 🔍 다음 변수들을 만들어보세요  \n",
        ">\n",
        ">`first_name`   \n",
        "`last_name`  \n",
        "`full_name`  \n",
        "`my_age`  \n",
        "`half_my_age`"
      ]
    },
    {
      "cell_type": "code",
      "metadata": {
        "id": "Qbi76ttKEY5o"
      },
      "source": [
        "# 여기에 \n",
        "first_name = \"KIM\"\n",
        "last_name = \"JI HA\"\n",
        "full_name = \"KIM JIHA\"\n",
        "my_age = \"26\"\n",
        "half_my_age = \"13\""
      ],
      "execution_count": null,
      "outputs": []
    },
    {
      "cell_type": "code",
      "metadata": {
        "colab": {
          "base_uri": "https://localhost:8080/"
        },
        "id": "26mQt8MdPZMN",
        "outputId": "664bbb58-c40c-4926-fcdb-ce78487e978a"
      },
      "source": [
        "print(full_name)\n",
        "print(half_my_age)"
      ],
      "execution_count": null,
      "outputs": [
        {
          "output_type": "stream",
          "text": [
            "KIM JIHA\n",
            "13\n"
          ],
          "name": "stdout"
        }
      ]
    },
    {
      "cell_type": "markdown",
      "metadata": {
        "id": "dMzgRalldrk6"
      },
      "source": [
        "앞으로 쉬는 시간은 강사님과 수강생 분들께서 자율적으로 정해주시면 됩니다 🍰🍰🍰 \n",
        "\n",
        "# 📌 Step 2. 파이썬 - 함수\n",
        "\n",
        "<img src = \"https://076923.github.io/assets/images/Python/ch3/1.png\" width = \"700\">\n"
      ]
    },
    {
      "cell_type": "markdown",
      "metadata": {
        "id": "nWqGnLuidxuU"
      },
      "source": [
        "## 함수 functions\n",
        "\n",
        "함수는 반복적인 작업을 한 뭉텅이로 뭉쳐서 코드를 간결하게 만들어주는 마법의 도구입니다.\n",
        "\n",
        "<img src = \"https://1.bp.blogspot.com/-rpWEHS2h8X4/XqT5cq1SMlI/AAAAAAAAATw/V8b99gcD4VgJv_C_5D_Iequ4VBTux_tLwCLcBGAsYHQ/s1600/%25E1%2584%2592%25E1%2585%25A1%25E1%2586%25B7%25E1%2584%2589%25E1%2585%25AE%2B%25E1%2584%2589%25E1%2585%25A5%25E1%2586%25AF%25E1%2584%2586%25E1%2585%25A7%25E1%2586%25BC.png\" width = \"700\">\n",
        "\n",
        "`def function_name()` 의 양식으로 함수를 정의합니다."
      ]
    },
    {
      "cell_type": "code",
      "metadata": {
        "colab": {
          "base_uri": "https://localhost:8080/"
        },
        "id": "0zpOi4FZd6pu",
        "outputId": "daa57477-2e7f-487a-c0f4-606bba95ee91"
      },
      "source": [
        "string_1 = \"비가 내리고, \"\n",
        "string_2 = \"음악이 흐르면, \"\n",
        "string_3 = \"난 당신을 생각해요, \"\n",
        "string_4 = \"당신이 떠나시던 그 밤에 이렇게 비가 왔어요 \" \n",
        "\n",
        "print(string_1)\n",
        "print(string_2)\n",
        "print(string_3)\n",
        "print(string_4)\n",
        "\n",
        "# sing() 함수 만들기\n",
        "def sing(): \n",
        "  print(string_1)\n",
        "  print(string_2)\n",
        "  print(string_3)\n",
        "  print(string_4)    \n",
        "\n",
        "print('\\n 함수로 출력해보기 \\n')\n",
        "sing()\n",
        "\n",
        "#노래를 한 번 더 불러보세요\n",
        "sing()"
      ],
      "execution_count": null,
      "outputs": [
        {
          "output_type": "stream",
          "text": [
            "비가 내리고, \n",
            "음악이 흐르면, \n",
            "난 당신을 생각해요, \n",
            "당신이 떠나시던 그 밤에 이렇게 비가 왔어요 \n",
            "\n",
            " 함수로 출력해보기 \n",
            "\n",
            "비가 내리고, \n",
            "음악이 흐르면, \n",
            "난 당신을 생각해요, \n",
            "당신이 떠나시던 그 밤에 이렇게 비가 왔어요 \n",
            "비가 내리고, \n",
            "음악이 흐르면, \n",
            "난 당신을 생각해요, \n",
            "당신이 떠나시던 그 밤에 이렇게 비가 왔어요 \n"
          ],
          "name": "stdout"
        }
      ]
    },
    {
      "cell_type": "markdown",
      "metadata": {
        "id": "Ll4NosZpffGg"
      },
      "source": [
        "> 🔍 주문 중이라는 함수를 만들어보세요\n",
        "> - 함수의 이름은 마음대로 지어도 됩니다\n",
        "> - \"주문 중입니다 ....\"가 출력되도록 하세요\n",
        "\n",
        "```\n",
        "def function():\n",
        "  code      <-- 잘 보면 tab 으로 들여쓰기가 되어있는 것을 알 수 있습니다. 파이썬 에서는 tab 으로 함수 안의 내용과 밖의 내용을 구분합니다\n",
        "  code\n",
        "<-- shift+tab 으로 탈출할 수 있습니다 \n",
        "function()\n",
        "```"
      ]
    },
    {
      "cell_type": "code",
      "metadata": {
        "id": "rVnvyehmgFrj"
      },
      "source": [
        "# 여기에 만들어보세요\n",
        "def ordering():\n",
        "   print(\"주문 중입니다...\")\n"
      ],
      "execution_count": null,
      "outputs": []
    },
    {
      "cell_type": "markdown",
      "metadata": {
        "id": "LfYSeVxNguSd"
      },
      "source": [
        "## 함수 인자 parameters\n",
        "\n",
        "꼭 비가 내려야 당신이 생각나는 것은 아니겠죠! \n",
        "\n",
        "눈이 오거나 봄이 온다든가 매번 다른 게 오면 어떻게 할까요? \n",
        "\n"
      ]
    },
    {
      "cell_type": "code",
      "metadata": {
        "id": "H-yW2m6Eg8Sq"
      },
      "source": [
        "def sing(thing):\n",
        "  # 파이썬에서는 마치 thing 이라는 변수에 내가 입력한 값이 선언된 것처럼 처리를 합니다.\n",
        "  # thing = \"눈이\"\n",
        "  print(thing + \" 내리고, \")\n",
        "  print(\"음악이 흐르면, \")\n",
        "  print(\"난 당신을 생각해요, \")\n",
        "  print(\"당신이 떠나시던 그 밤에 이렇게 비가 왔어요 \\n\") \n",
        "\n",
        "sing(\"눈이\") # 이떄 괄호 안에 들어가는 변수를 parameter 또는 함수 인자라고 부릅니다\n",
        "sing(\"눈물이...\")\n",
        "sing(\"아무거나\")"
      ],
      "execution_count": null,
      "outputs": []
    },
    {
      "cell_type": "markdown",
      "metadata": {
        "id": "e-UJu_0IiPK6"
      },
      "source": [
        "인자가 2개라면 어떻게 될까요?"
      ]
    },
    {
      "cell_type": "code",
      "metadata": {
        "colab": {
          "base_uri": "https://localhost:8080/"
        },
        "id": "PKew0YKNiOdY",
        "outputId": "b0441651-1e4a-4a26-da53-ec2f25b084b5"
      },
      "source": [
        "def sing(thing1, thing2):\n",
        "  print(thing1 + \" 내리고, \")\n",
        "  print(thing2 + \" 흐르면, \")\n",
        "  print(\"난 당신을 생각해요, \")\n",
        "  print(\"당신이 떠나시던 그 밤에 이렇게 비가 왔어요 \\n\") \n",
        "\n",
        "sing(\"비가\",\"음악이\") # 파이썬에서는 함수인자가 들어가는 순서대로 배정됩니다. thing1 -> thing2 순서"
      ],
      "execution_count": null,
      "outputs": [
        {
          "output_type": "stream",
          "text": [
            "비가 내리고, \n",
            "음악이 흐르면, \n",
            "난 당신을 생각해요, \n",
            "당신이 떠나시던 그 밤에 이렇게 비가 왔어요 \n",
            "\n"
          ],
          "name": "stdout"
        }
      ]
    },
    {
      "cell_type": "code",
      "metadata": {
        "colab": {
          "base_uri": "https://localhost:8080/"
        },
        "id": "2DtEAqhzSRde",
        "outputId": "7ecb4fd8-795a-4a40-e7c7-6d97d0c3bb02"
      },
      "source": [
        "sing(thing2=\"음악이\", thing1=\"비가\")"
      ],
      "execution_count": null,
      "outputs": [
        {
          "output_type": "stream",
          "text": [
            "비가 내리고, \n",
            "음악이 흐르면, \n",
            "난 당신을 생각해요, \n",
            "당신이 떠나시던 그 밤에 이렇게 비가 왔어요 \n",
            "\n"
          ],
          "name": "stdout"
        }
      ]
    },
    {
      "cell_type": "markdown",
      "metadata": {
        "id": "vbtLPBx4i06N"
      },
      "source": [
        "## 반환값, return\n",
        "\n",
        "여태까지는 함수가 `print()`만 하였습니다. 하지만 함수를 이용해서 값을 받아오거나, 이를 다시 수정하거나 다음에 사용할 수도 있습니다. \n",
        "\n",
        "아래의 함수는 2 로 나눈 값을 반환하게 됩니다. \n",
        "```python\n",
        "  def devide_by_2(input_number):\n",
        "    return input_number / 2\n",
        "```\n",
        "\n",
        "반값 후려치기의 달인 릭 아저씨가 함수를 두 번 사용한다면 \n",
        "\n",
        "💰6000 달러💰 값어치의 물건을 1500 달러에 구매를 하겠지요.\n",
        "\n",
        "```python\n",
        "price = 6000 # 원가\n",
        "print(price,\"달러에 사겠습니다\") \n",
        "```\n",
        "\n",
        "<img src = \"https://i.ytimg.com/vi/zW_hGPWdE2M/maxresdefault.jpg\" width = \"800\">\n"
      ]
    },
    {
      "cell_type": "code",
      "metadata": {
        "colab": {
          "base_uri": "https://localhost:8080/"
        },
        "id": "3zF_n70SkYKq",
        "outputId": "e66d5a2d-0425-4c49-865f-3784bd747edd"
      },
      "source": [
        "def devide_by_2_p(input_number):\n",
        "  print(\"릭 아저씨의 반값 후려치기!\")\n",
        "  print(input_number / 2)\n",
        "  \n",
        "def devide_by_2(input_number):\n",
        "  print(\"릭 아저씨의 반값 후려치기!\")\n",
        "  return input_number / 2\n",
        "\n",
        "price = 6000\n",
        "print(price, \"달러에 사겠습니다\")\n",
        "\n",
        "price = devide_by_2(price) \n",
        "print(price, \"달러에 사겠습니다\")\n",
        "\n",
        "price = devide_by_2(price)\n",
        "print(price, \"달러에 사겠습니다\")"
      ],
      "execution_count": null,
      "outputs": [
        {
          "output_type": "stream",
          "text": [
            "6000 달러에 사겠습니다\n",
            "릭 아저씨의 반값 후려치기!\n",
            "3000.0 달러에 사겠습니다\n",
            "릭 아저씨의 반값 후려치기!\n",
            "1500.0 달러에 사겠습니다\n"
          ],
          "name": "stdout"
        }
      ]
    },
    {
      "cell_type": "code",
      "metadata": {
        "colab": {
          "base_uri": "https://localhost:8080/"
        },
        "id": "bJghuHIiklAV",
        "outputId": "62acccce-d277-476e-e258-629f540257d6"
      },
      "source": [
        "price = 6000\n",
        "devide_by_2_p(price)"
      ],
      "execution_count": null,
      "outputs": [
        {
          "output_type": "stream",
          "text": [
            "릭 아저씨의 반값 후려치기!\n",
            "3000.0\n"
          ],
          "name": "stdout"
        }
      ]
    },
    {
      "cell_type": "markdown",
      "metadata": {
        "id": "8xo6rQqwlQEe"
      },
      "source": [
        "### 여러 개의 반환값, multiple returns\n",
        "\n",
        "여러 개의 인자 parameter을 받아온 것 처럼, 여러 개의 반환값을 return 해줄 수 도 있습니다. \n",
        "\n"
      ]
    },
    {
      "cell_type": "code",
      "metadata": {
        "id": "iRGLyXS6luuv"
      },
      "source": [
        "def sample(): \n",
        "    str = \"geeksforgeeks\"\n",
        "    x   = 20\n",
        "    return str, x # , 로 값을 여러 개 반환 할 수 있습니다\n",
        "  \n",
        "str, x = sample() # 마찬가지로 여러 개 값을 한 번에 받아올 수 있습니다\n",
        "print(str) \n",
        "print(x) "
      ],
      "execution_count": null,
      "outputs": []
    },
    {
      "cell_type": "markdown",
      "metadata": {
        "id": "UUUWmPhNF-xM"
      },
      "source": [
        "# 📌 Step 3. 파이썬 - 리스트"
      ]
    },
    {
      "cell_type": "markdown",
      "metadata": {
        "id": "IDSr6erb91Tv"
      },
      "source": [
        "## 리스트(List) 란? \n",
        "\n",
        "리스트는 숫자와 문자열만으로는 표현할 수 있는 것들에 한계가 존재해서 그 부분을 보완하기 위해 만든 것입니다.  \n",
        "파이썬의 자료 구조 형태 중 하나로 리스트는 값을 나열하는 것으로 정의됩니다.  \n",
        "\n",
        "### List 만들기 \n",
        "\n",
        "리스트의 구조는 단순합니다. 변수로 리스트를 정의하고  대괄호 안에 여러 개의 값을 넣고 각각을 콤마 (,) 로 구분하면 됩니다.  \n",
        ">예) 바다에 사는 것들 = [ 🐳, 🦀, 🐚, 🧜🏻‍♀️, 🐬 ]  \n",
        "> List 를 만들어봅시다\n"
      ]
    },
    {
      "cell_type": "code",
      "metadata": {
        "colab": {
          "base_uri": "https://localhost:8080/"
        },
        "id": "ET7sFHboWFpV",
        "outputId": "d1fd4890-1b0c-4e21-ccd3-66422dd2ab69"
      },
      "source": [
        "#List_name(변수) = [a,b,c] \n",
        "corona_counts = [114,1091,2163,50184]  # 4개 국가의 코로나 현황을 담는 list 를 생성합니다\n",
        "print(\"각 국가의 코로나 바이러스 현황은?\")\n",
        "print(corona_counts)"
      ],
      "execution_count": null,
      "outputs": [
        {
          "output_type": "stream",
          "text": [
            "각 국가의 코로나 바이러스 현황은?\n",
            "[114, 1091, 2163, 50184]\n"
          ],
          "name": "stdout"
        }
      ]
    },
    {
      "cell_type": "markdown",
      "metadata": {
        "id": "4maRmBJ_Wook"
      },
      "source": [
        "`corona_counts` 라는 변수의 이름에  114, 1091, 2163, 50184 와 같은 여러 개의 값을 담을 수 있습니다.\n",
        "이게 바로 List 입니다. \n",
        "\n"
      ]
    },
    {
      "cell_type": "markdown",
      "metadata": {
        "id": "gDHUR8aRbqP7"
      },
      "source": [
        "### List에 문자 담기 \n",
        "\n",
        "  리스트에는 숫자(int 또는 float) 뿐만 아니라 텍스트(string) 도 담을 수 있습니다.  \n",
        "  텍스트를 list에 넣을 때는, 작은 따옴표('`이건 string`') 로 감싸서  넣어 줘야 합니다.\n",
        "  "
      ]
    },
    {
      "cell_type": "markdown",
      "metadata": {
        "id": "261r2L8uX8-c"
      },
      "source": [
        "> 🔍 아래 예제를 보고 야식 리스트를 만들어보세요\n",
        "> * 만약 에러가 뜬다면 입력 값들 사이에 콤마 (,) 를 표시했는지 살펴 보세요 \n",
        "\n"
      ]
    },
    {
      "cell_type": "code",
      "metadata": {
        "colab": {
          "base_uri": "https://localhost:8080/"
        },
        "id": "gTRy61pnX8Bp",
        "outputId": "61d6346b-0d1e-43d0-8cef-10d03cc56552"
      },
      "source": [
        "#야식을 리스트로 만들어서 출력해보세요!\n",
        "\n",
        "yasik = [\"족발\"]\n",
        "print(\"내가 먹고 싶은 야식 리스트 \")\n",
        "print(yasik)"
      ],
      "execution_count": null,
      "outputs": [
        {
          "output_type": "stream",
          "text": [
            "내가 먹고 싶은 야식 리스트 \n",
            "['족발']\n"
          ],
          "name": "stdout"
        }
      ]
    },
    {
      "cell_type": "markdown",
      "metadata": {
        "id": "Zx5gVYrS3ntO"
      },
      "source": [
        "> 또한 list에 숫자와 텍스트 둘다 넣을 수 있습니다. "
      ]
    },
    {
      "cell_type": "code",
      "metadata": {
        "colab": {
          "base_uri": "https://localhost:8080/"
        },
        "id": "a-zQA--tPck5",
        "outputId": "10a6c5cf-b3b4-47d1-9c17-e9cd56dec9f4"
      },
      "source": [
        "# 아래는 음식 이름과 가격을 갖는 order list 입니다 \n",
        "order = [\"떡볶이\", 3000]\n",
        "\n",
        "print(\"내 주문 정보\")\n",
        "print(order) #order list를 출력합니다. "
      ],
      "execution_count": null,
      "outputs": [
        {
          "output_type": "stream",
          "text": [
            "내 주문 정보\n",
            "['떡볶이', 3000]\n"
          ],
          "name": "stdout"
        }
      ]
    },
    {
      "cell_type": "markdown",
      "metadata": {
        "id": "uic8wjEEh0lm"
      },
      "source": [
        "###List 에 List 담기 \n",
        "\n",
        "List에는 숫자, 문자뿐만 아니라 심지어 다른 리스트를 담을 수 있습니다!  \n",
        " 리스트 안에 다른 리스트를 넣을 때는 대괄호를 하나 더 써줘야 합니다.\n",
        " \n",
        " `[  [ ]  ]` 이렇게요."
      ]
    },
    {
      "cell_type": "code",
      "metadata": {
        "colab": {
          "base_uri": "https://localhost:8080/"
        },
        "id": "7WCarWR2h5pY",
        "outputId": "3ec29181-69a3-4196-e3be-ed53aff8537f"
      },
      "source": [
        "# list 안에 list \n",
        "cheese_in_the_list = [['치즈'],\n",
        "                      ['크림치즈','고르곤졸라치즈'],\n",
        "                      ['사워크림치즈','허니버터치즈','어니언갈릭치즈']\n",
        "                      ]  \n",
        "print(cheese_in_the_list) "
      ],
      "execution_count": null,
      "outputs": [
        {
          "output_type": "stream",
          "text": [
            "[['치즈'], ['크림치즈', '고르곤졸라치즈'], ['사워크림치즈', '허니버터치즈', '어니언갈릭치즈']]\n"
          ],
          "name": "stdout"
        }
      ]
    },
    {
      "cell_type": "markdown",
      "metadata": {
        "id": "I1peJRKvvslG"
      },
      "source": [
        "## .append() 리스트에 값을 추가하기\n",
        "리스트에 다른 값을 추가하고 싶을 때는 `.append()`라는 함수를 사용하여 새로운 값을 추가할 수 있습니다.  \n",
        " `.append()` 함수는 리스트 이름 뒤에 붙여야 합니다!  만약 위의 `cheese_in_the_list` 라는 리스트에 값을 추가할 경우에는\n",
        "\n",
        "`cheese_in_the_list.append('추가하고 싶은 치즈')  `  이런 식으로 말이죠"
      ]
    },
    {
      "cell_type": "code",
      "metadata": {
        "id": "xC0Ckwv5xhIb"
      },
      "source": [
        "#추가 전 치즈 리스트\n",
        "print(cheese_in_the_list) "
      ],
      "execution_count": null,
      "outputs": []
    },
    {
      "cell_type": "markdown",
      "metadata": {
        "id": "DLrldKNnCmYF"
      },
      "source": [
        "> 🔍 세상에 존재하지 않는 치즈를 추가해보세요 "
      ]
    },
    {
      "cell_type": "code",
      "metadata": {
        "colab": {
          "base_uri": "https://localhost:8080/"
        },
        "id": "OifBMOBYCiY6",
        "outputId": "3f15e2e5-875a-4586-b656-921c659c7d89"
      },
      "source": [
        "# 여기에\n",
        "cheese_in_the_list.append(\"마라치즈\")\n",
        "print(cheese_in_the_list)    # 만약 TypeError가 뜬다면 추가한 치즈를 string 형태나 list 형태로 바꿔보세요"
      ],
      "execution_count": null,
      "outputs": [
        {
          "output_type": "stream",
          "text": [
            "[['치즈'], ['크림치즈', '고르곤졸라치즈'], ['사워크림치즈', '허니버터치즈', '어니언갈릭치즈'], '마라치즈']\n"
          ],
          "name": "stdout"
        }
      ]
    },
    {
      "cell_type": "code",
      "metadata": {
        "colab": {
          "base_uri": "https://localhost:8080/",
          "height": 190
        },
        "id": "bm0CRYG8VPB_",
        "outputId": "37438cc3-e6c4-4f34-ad54-056f43c501b0"
      },
      "source": [
        "#제거는 pop을 쓴다,\n",
        "cheese_in_the_list.pop()"
      ],
      "execution_count": null,
      "outputs": [
        {
          "output_type": "error",
          "ename": "IndexError",
          "evalue": "ignored",
          "traceback": [
            "\u001b[0;31m---------------------------------------------------------------------------\u001b[0m",
            "\u001b[0;31mIndexError\u001b[0m                                Traceback (most recent call last)",
            "\u001b[0;32m<ipython-input-36-738d44ef56a8>\u001b[0m in \u001b[0;36m<module>\u001b[0;34m()\u001b[0m\n\u001b[1;32m      1\u001b[0m \u001b[0;31m#제거는 pop을 쓴다,\u001b[0m\u001b[0;34m\u001b[0m\u001b[0;34m\u001b[0m\u001b[0;34m\u001b[0m\u001b[0m\n\u001b[0;32m----> 2\u001b[0;31m \u001b[0mcheese_in_the_list\u001b[0m\u001b[0;34m.\u001b[0m\u001b[0mpop\u001b[0m\u001b[0;34m(\u001b[0m\u001b[0;34m)\u001b[0m\u001b[0;34m\u001b[0m\u001b[0;34m\u001b[0m\u001b[0m\n\u001b[0m",
            "\u001b[0;31mIndexError\u001b[0m: pop from empty list"
          ]
        }
      ]
    },
    {
      "cell_type": "markdown",
      "metadata": {
        "id": "mYbGqtnz8zbD"
      },
      "source": [
        "## Range\n",
        " \n",
        " 리스트에 연속적인 숫자 목록을 만들고 싶을 경우가 있습니다. 파이썬은 0 부터 9까지의 숫자가 포함된 list를 만들 경우 \n",
        " \n",
        " 0부터 9를 전부 입력하기보다 `range()` 함수를 사용하면 우리가 지정하는 숫자에 맞게 list를 생성해 줍니다. \n",
        " \n",
        "`range()` 함수는 0부터 입력받은 숫자 바로 이전 숫자까지를 생성합니다. "
      ]
    },
    {
      "cell_type": "code",
      "metadata": {
        "colab": {
          "base_uri": "https://localhost:8080/"
        },
        "id": "c1glshb1RGtw",
        "outputId": "56f70f80-3e92-405c-8b64-be8721469bea"
      },
      "source": [
        "#range(n) = [0,1,2,..., n-1]\n",
        "for i in range(10):\n",
        "    print(i)"
      ],
      "execution_count": null,
      "outputs": [
        {
          "output_type": "stream",
          "text": [
            "0\n",
            "1\n",
            "2\n",
            "3\n",
            "4\n",
            "5\n",
            "6\n",
            "7\n",
            "8\n",
            "9\n"
          ],
          "name": "stdout"
        }
      ]
    },
    {
      "cell_type": "code",
      "metadata": {
        "id": "d0Ttz7Yqazko"
      },
      "source": [
        "# num = [0,1,2,3,4,5,6,7,8,9] 이렇게 0~9 까지 입력하는 건 귀찮습니다.\n",
        "\n",
        "# 그래서 range를 사용해서 0부터 9까지 숫자를 가지는 range 객체를 생성합니다. \n",
        "my_range = ???\n",
        "\n",
        "# range 를 출력해 볼까요?\n",
        "print(\"0부터 9까지 숫자\")\n",
        "print(my_range)\n",
        "print(\"range(0, 10) 은 0부터 10 미만의 숫자를 포함한다는 뜻입니다\")"
      ],
      "execution_count": null,
      "outputs": []
    },
    {
      "cell_type": "markdown",
      "metadata": {
        "id": "-NgG9DCkhmae"
      },
      "source": [
        "## 리스트 인덱싱 (index) \n",
        "\n",
        "### 인덱싱(index)\n",
        "리스트는 문자열과 같이 인덱싱을 적용하여  리스트 안의 값들을 가져올 수 있습니다. \n",
        "\n",
        " \n",
        "` num = [0,1,2,3,4,5]` 라는  list가 있을 때, \n",
        " \n",
        "- `num[0]` 은 num 리스트의 첫 번째 요소값을 말합니다.  \n",
        "- `num[1]` 은 두 번째, `num[2]`는 세 번째... 이렇게 순서대로 리스트안의 요소값을 말합니다. \n",
        " \n",
        " 어? 😵 근데 왜 `num[1]`이 두 번째 숫자인가 하고 궁금하실 거에요.  \n",
        "\n",
        " 그 이유는 **파이썬은 0부터 숫자를 세기 때문이죠!**  \n",
        "\n",
        " 아래와 같이 생각하면 이해가 잘 될 것입니다.\n",
        "\n",
        "<img src = \"https://1.bp.blogspot.com/-h1ancM4CSRo/XqUTHZXGqdI/AAAAAAAAAT8/IFdLypLcCEAuA0LwItNh0v2QuZEQmV3xwCLcBGAsYHQ/s1600/%25E1%2584%2589%25E1%2585%25B3%25E1%2586%25AF%25E1%2584%2585%25E1%2585%25A1%25E1%2584%258B%25E1%2585%25B5%25E1%2584%2589%25E1%2585%25B5%25E1%2586%25BC.png\" width = \"800\">"
      ]
    },
    {
      "cell_type": "markdown",
      "metadata": {
        "id": "w6ENSzQu7Sqt"
      },
      "source": [
        "> 인덱싱을 통해 특정 위치의 값을 불러 출력할 수 있습니다. "
      ]
    },
    {
      "cell_type": "code",
      "metadata": {
        "colab": {
          "base_uri": "https://localhost:8080/"
        },
        "id": "xHUWzmlQq0u9",
        "outputId": "dad44133-c2bb-4ad6-8a63-1d65de6e6481"
      },
      "source": [
        "list1 = [0,3,5,4]  # list1이라는 리스트가 있습니다. \n",
        "print(\"list1  안에 있는 세 번째 값은:\")\n",
        "print(list1[2]) # list1에서 세 번째에 들어있는 값을 print 합니다.\n",
        "\n",
        "# 쉽죠? 그럼 이제 숫자 말고 텍스트도 볼까요? \n",
        "list2 = [ 'i', 'love','you',3000] \n",
        "print(\"list2 안에 있는 두 번째 단어를 print:\")\n",
        "print(list2 [1])  # love는 두 번째 단어니까 list2[1] 이겠죠?"
      ],
      "execution_count": null,
      "outputs": [
        {
          "output_type": "stream",
          "text": [
            "list1  안에 있는 세 번째 값은:\n",
            "5\n",
            "list2 안에 있는 두 번째 단어를 print:\n",
            "love\n"
          ],
          "name": "stdout"
        }
      ]
    },
    {
      "cell_type": "markdown",
      "metadata": {
        "id": "cMLDagaR7dur"
      },
      "source": [
        "> 🔍 위 리스트에서 3000이라는 숫자를 print 해보세요!"
      ]
    },
    {
      "cell_type": "code",
      "metadata": {
        "colab": {
          "base_uri": "https://localhost:8080/",
          "height": 222
        },
        "id": "dGDG4MmF7iRo",
        "outputId": "48ea4a80-3621-42b9-a7be-9566e7998c8b"
      },
      "source": [
        "# 여기에\n",
        "print(list2[3])\n",
        "# 역순의 인덱스도 한 번 활용해볼까요?\n",
        "print(list2[-1])"
      ],
      "execution_count": null,
      "outputs": [
        {
          "output_type": "error",
          "ename": "NameError",
          "evalue": "ignored",
          "traceback": [
            "\u001b[0;31m---------------------------------------------------------------------------\u001b[0m",
            "\u001b[0;31mNameError\u001b[0m                                 Traceback (most recent call last)",
            "\u001b[0;32m<ipython-input-17-fe612933d774>\u001b[0m in \u001b[0;36m<module>\u001b[0;34m()\u001b[0m\n\u001b[1;32m      1\u001b[0m \u001b[0;31m# 여기에\u001b[0m\u001b[0;34m\u001b[0m\u001b[0;34m\u001b[0m\u001b[0;34m\u001b[0m\u001b[0m\n\u001b[0;32m----> 2\u001b[0;31m \u001b[0mprint\u001b[0m\u001b[0;34m(\u001b[0m\u001b[0mlist2\u001b[0m\u001b[0;34m[\u001b[0m\u001b[0;36m3\u001b[0m\u001b[0;34m]\u001b[0m\u001b[0;34m)\u001b[0m\u001b[0;34m\u001b[0m\u001b[0;34m\u001b[0m\u001b[0m\n\u001b[0m\u001b[1;32m      3\u001b[0m \u001b[0;31m# 역순의 인덱스도 한 번 활용해볼까요?\u001b[0m\u001b[0;34m\u001b[0m\u001b[0;34m\u001b[0m\u001b[0;34m\u001b[0m\u001b[0m\n\u001b[1;32m      4\u001b[0m \u001b[0mprint\u001b[0m\u001b[0;34m(\u001b[0m\u001b[0mlist2\u001b[0m\u001b[0;34m[\u001b[0m\u001b[0;34m-\u001b[0m\u001b[0;36m1\u001b[0m\u001b[0;34m]\u001b[0m\u001b[0;34m)\u001b[0m\u001b[0;34m\u001b[0m\u001b[0;34m\u001b[0m\u001b[0m\n",
            "\u001b[0;31mNameError\u001b[0m: name 'list2' is not defined"
          ]
        }
      ]
    },
    {
      "cell_type": "code",
      "metadata": {
        "colab": {
          "base_uri": "https://localhost:8080/"
        },
        "id": "c9R9o_JhW7Vz",
        "outputId": "43cbb457-2b1c-4768-b529-b27da323a7ef"
      },
      "source": [
        "#체크\n",
        "list3 = \"DATADIVING\"  #!!!!체크\n",
        "print(list3[3])"
      ],
      "execution_count": null,
      "outputs": [
        {
          "output_type": "stream",
          "text": [
            "D\n"
          ],
          "name": "stdout"
        }
      ]
    },
    {
      "cell_type": "markdown",
      "metadata": {
        "id": "uePdRr-auvQl"
      },
      "source": [
        "### 슬라이싱(slicing)\n",
        "\n",
        "슬라이싱은 말 그대로 문자열이나 리스트에서 단순히 한 문자만 뽑아내는 것이 아니라 원하는 값을 여러 개 가져오는 기능입니다. \n",
        "* list[시작:끝]   이렇게 생겼습니다. \n",
        "\n",
        "그럼 이제 문자열(string)과 배열(list)을 slicing 해보겠습니다."
      ]
    },
    {
      "cell_type": "code",
      "metadata": {
        "colab": {
          "base_uri": "https://localhost:8080/"
        },
        "id": "leLwtBAMxm1u",
        "outputId": "727545c7-7577-4d3d-ff13-635de62f89d6"
      },
      "source": [
        "# 문자열을 slicing 하면\n",
        "text = \"i love you 3000\"  \n",
        "text = [text[0:6]]  # index 0부터 ~ index 6 전의 index 5까지 가져옵니다\n",
        "print(\"인덱스 0 부터 5까지 값을 출력하면:\")\n",
        "print(text) # 가져온 값을 살펴봅시다"
      ],
      "execution_count": null,
      "outputs": [
        {
          "output_type": "stream",
          "text": [
            "인덱스 0 부터 5까지 값을 출력하면:\n",
            "['i love']\n"
          ],
          "name": "stdout"
        }
      ]
    },
    {
      "cell_type": "markdown",
      "metadata": {
        "id": "ttOmAhSizOW8"
      },
      "source": [
        "문장에서 0부터 6 번째 자리에 있는 단어들이 출력 되었습니다!  \n",
        "그럼 이제 배열 slicing을 해볼게요. 배열도 마찬가지입니다. 배열 인덱싱도 방식은 동일합니다."
      ]
    },
    {
      "cell_type": "code",
      "metadata": {
        "colab": {
          "base_uri": "https://localhost:8080/"
        },
        "id": "3pPVWROvznXy",
        "outputId": "1ebf8301-e064-4bd1-e179-a8f9e73a278f"
      },
      "source": [
        "list3 = ['i','love','you','3000']\n",
        "result = list3[0:2]     # 리스트에서 첫 번째 부터 두 번째 값을 가져옵니다.\n",
        "print(\"list3 안의 첫 번째 부터 두 번째까지의 값은:\")\n",
        "print(result)\n",
        "print(\"위 문장을 모두 slicing을 이용해서 가져오고 print 해보세요!\")\n",
        "print(list3[0:4])\n",
        "# list[시작:끝]을 result라는 변수에 넣고 출력해보세요\n"
      ],
      "execution_count": null,
      "outputs": [
        {
          "output_type": "stream",
          "text": [
            "list3 안의 첫 번째 부터 두 번째까지의 값은:\n",
            "['i', 'love']\n",
            "위 문장을 모두 slicing을 이용해서 가져오고 print 해보세요!\n",
            "['i', 'love', 'you', '3000']\n"
          ],
          "name": "stdout"
        }
      ]
    },
    {
      "cell_type": "markdown",
      "metadata": {
        "id": "f6JeCmsP1rGW"
      },
      "source": [
        "list [시작: 끝] 에서 위에서 한 것처럼 범위를 지정할 수도 있지만,  시작과 끝 부분을 얻어보는 방법을 더 쉽게 표현 할 수 있습니다. \n",
        "\n",
        "\n",
        "* list [ 2 : ]  : 2번째부터 끝까지 가져옴\n",
        "* list [ : 2 ] : 처음부터 2번째 까지 반환 \n",
        "* list [ : ] : 처음부터 끝까지 전부 반환\n",
        "\n",
        "> 🔍 위 내용을 참고해서 아래 예제의 리스트에서 처음부터 2번째 값을 가져와 출력해 보세요\n"
      ]
    },
    {
      "cell_type": "code",
      "metadata": {
        "colab": {
          "base_uri": "https://localhost:8080/"
        },
        "id": "NjKx70Ka2neZ",
        "outputId": "5ed65971-8add-49fc-ea8c-db510ade72a0"
      },
      "source": [
        "# 아래 list4에서 처음부터 3번째 '끝' 까지만 가져와 보세요\n",
        "list4 = ['이제','수업','끝','남','잠시 휴식','시간 가져요']\n",
        "\n",
        "answer = list4[:3]\n",
        "\n",
        "print(answer) # 가져온 값을 출력해 봅니다"
      ],
      "execution_count": null,
      "outputs": [
        {
          "output_type": "stream",
          "text": [
            "['이제', '수업', '끝']\n"
          ],
          "name": "stdout"
        }
      ]
    },
    {
      "cell_type": "markdown",
      "metadata": {
        "id": "X8C_GYGbbLYq"
      },
      "source": [
        "# 📌 Step 4.파이썬으로 반복 작업 자동화하기\n",
        "\n",
        "<img src = \"https://1.bp.blogspot.com/-yCFfjWNmWAo/Xs9Vvi5gI3I/AAAAAAAAAYs/3I6SGbMzbMg2zEsj5iG7ET37W1TmDXWPQCLcBGAsYHQ/s400/4425_701_0.gif\" width = \"500\">"
      ]
    },
    {
      "cell_type": "markdown",
      "metadata": {
        "id": "GyZDKWv5bHh7"
      },
      "source": [
        "## 루프(Loops) 란? \n",
        "\n",
        "루프는 명령어를 반복적으로 실행시키는 경우에 사용합니다.\n",
        "\n",
        "예를 들어 \" Hello world!\" 라는 것을 100번 print할 때 print를 100번 하는 것은 비효율적입니다! \n",
        "\n",
        "그래서 이럴 경우 파이썬에서 제공하는 루프(Loop)명령문을 이용한다면 100번 작성할 필요가 없습니다. \n",
        "\n",
        "고양이  list를 print 한다고 가정해봅시다. "
      ]
    },
    {
      "cell_type": "code",
      "metadata": {
        "id": "U9LWa3f7bHh8"
      },
      "source": [
        "# 고양이 종류 list를 print 할 경우 \n",
        "cat_breeds = ['샴','러시안블루','먼치킨','페르시안','코리안숏헤어']\n",
        "\n",
        "print(\"고양이종류:\")\n",
        "print(cat_breeds[0])\n",
        "print(cat_breeds[1])\n",
        "print(cat_breeds[2])\n",
        "print(cat_breeds[3])\n",
        "print(cat_breeds[4])"
      ],
      "execution_count": null,
      "outputs": []
    },
    {
      "cell_type": "markdown",
      "metadata": {
        "id": "oI94fwQSbHh_"
      },
      "source": [
        "이렇게 5번 print 하는건 너무 귀찮습니다. 그래서 loop를 사용합니다. "
      ]
    },
    {
      "cell_type": "markdown",
      "metadata": {
        "id": "cEhbHFTybHiA"
      },
      "source": [
        "## for 루프 \n",
        "\n",
        "* for 루프(for loop)\n",
        "  - for문은 각 시퀀스 값에 따라 반복하는 명령문 입니다.\n",
        "  - 반복을 얼마나 할지 정확한 횟수를 기반으로 구성됩니다. "
      ]
    },
    {
      "cell_type": "code",
      "metadata": {
        "id": "rvd5obtzbHiA"
      },
      "source": [
        "# 고양이 종류 list를 for문으로 print 할 경우 \n",
        "cat_breeds = ['샴','러시안블루','먼치킨','페르시안','코리안숏헤어']\n",
        "\n",
        "#cat_breed라는 list 안에 있는 breed들을 불러와서 전부 출력합니다"
      ],
      "execution_count": null,
      "outputs": []
    },
    {
      "cell_type": "markdown",
      "metadata": {
        "id": "lftW6DnfbHiC"
      },
      "source": [
        "이런 식으로 for 문을 만드는 형식은 아래와 같습니다. \n",
        "\n",
        "\n",
        "```\n",
        " for <임시변수> in <list 변수> :\n",
        "     <취할 동작>  # 자동으로 Tab이 한칸 들어가게 됩니다\n",
        "```\n",
        "\n",
        "위 예제의 경우, 임시변수는 breed 이고 list 변수는 cat_breeds 그리고 취할 동작은 print(breed) 입니다.  \n",
        "임시변수는 리스트에 있는 값을 하나씩 가져오며, 우리가 원하는 이름으로 지정하면 됩니다.  \n",
        "아래 예제처럼 i 또는 cat 이라고 지정해도 같은 결과가 나옵니다. \n",
        "\n",
        "아래 코드를 보면 for 루프 이후에 print 앞에 한 칸씩 들여쓰기(indentation)가 되어 있는데요,  \n",
        "만약 for문 작성 후 아래에 들여쓰기하지 않을 경우 indentation error가 발생하니 주의하세요. "
      ]
    },
    {
      "cell_type": "code",
      "metadata": {
        "id": "C7RXrU-TbHiC"
      },
      "source": [
        "# 고양이 종류 list를 for문으로 print 할 경우 \n",
        "cat_breeds = ['샴','러시안블루','먼치킨','페르시안','코리안숏헤어']\n",
        "\n",
        "for i in cat_breeds:   # 임시변수를 i 라고 지정합니다.\n",
        "  print(i)             #고양이 리스트를 전부 출력합니다"
      ],
      "execution_count": null,
      "outputs": []
    },
    {
      "cell_type": "code",
      "metadata": {
        "id": "sTYjiaqTU3bw"
      },
      "source": [
        "print(i)  # 지금 i에는 무엇이 들어있을까요?"
      ],
      "execution_count": null,
      "outputs": []
    },
    {
      "cell_type": "markdown",
      "metadata": {
        "id": "FYz-I_UeTjSz"
      },
      "source": [
        "⛔ 들여쓰기를 하지 않으면 `IndentationError`가 발생합니다! "
      ]
    },
    {
      "cell_type": "code",
      "metadata": {
        "id": "LY7NDvH_1qqT"
      },
      "source": [
        "cat_breeds = ['샴','러시안블루','먼치킨','페르시안','코리안숏헤어']\n",
        "\n",
        "for cat in cat_breeds:   # 임시변수를 cat 라고 지정합니다\n",
        "print(cat)               # 고양이 리스트를 전부 출력합니다"
      ],
      "execution_count": null,
      "outputs": []
    },
    {
      "cell_type": "markdown",
      "metadata": {
        "id": "76T71UAtFn5c"
      },
      "source": [
        "## while 반복문\n",
        "\n",
        "while 문은 while 키워드 다음의 조건이 참인 동안 계속 while 안의 블럭을 실행합니다. \n",
        "\n",
        "예를 들어, 아래 예제를 보면 while의 조건식은 i 가 10보다 작거나 같은 경우인데, \n",
        "\n",
        "i 값이 이 조건에 맞으면 계속 루프를 돌게 됩니다. 따라서 아래 예제는 1부터 10까지 값을 출력하게 됩니다. "
      ]
    },
    {
      "cell_type": "markdown",
      "metadata": {
        "id": "x-r6NG-5Rujn"
      },
      "source": [
        "while문은 횟수가 아니라 조건이 충족될때까지 돌아감"
      ]
    },
    {
      "cell_type": "code",
      "metadata": {
        "colab": {
          "base_uri": "https://localhost:8080/"
        },
        "id": "AziqxSheGDTs",
        "outputId": "158df667-9b02-45f6-85a3-09ceceeadbaa"
      },
      "source": [
        "i = 1\n",
        "while i <= 10:   # i가 10보다 작거나 같으면\n",
        "  print(i)       # i를 출력한다\n",
        "  i += 1         # 그리고 i는 1씩 증가함"
      ],
      "execution_count": null,
      "outputs": [
        {
          "output_type": "stream",
          "text": [
            "1\n",
            "2\n",
            "3\n",
            "4\n",
            "5\n",
            "6\n",
            "7\n",
            "8\n",
            "9\n",
            "10\n"
          ],
          "name": "stdout"
        }
      ]
    },
    {
      "cell_type": "markdown",
      "metadata": {
        "id": "W_FJSayfmrV9"
      },
      "source": [
        "### 비교연산\n",
        "\n",
        "`while` 에는 어떤 조건이 만족 (true)해야만 지속됩니다.\n",
        "이 조건을 컨트롤하기 위해서는 비교 연산자를 사용합니다.\n",
        "\n",
        "파이썬에서 사용되는 비교연산자는 아래와 같습니다. \n",
        "\n",
        "`==` : 같다 (`=` 과 혼동하기 쉽습니다. `=` 은 컴퓨터 언어에서 '같다'는 뜻이 아니라 지정하는 역할로 쓰입니다.) \n",
        "\n",
        "`a < b` : a는 b보다 작다\n",
        "\n",
        "`a > b` : a는 b 보다 크다 \n",
        "\n",
        "`a >= b` : a는 b보다 같거나 크다\n",
        "\n",
        "`a <= b` : a는 b보다 같거나 작다 \n",
        "\n"
      ]
    },
    {
      "cell_type": "markdown",
      "metadata": {
        "id": "98qoGv8O6cE8"
      },
      "source": [
        "🔍 아래 코드에서 while의 조건을 **'i 가 10 보다 크거나 같다면'**으로 바꿔주세요 "
      ]
    },
    {
      "cell_type": "code",
      "metadata": {
        "colab": {
          "base_uri": "https://localhost:8080/"
        },
        "id": "7dE8mnoVnXXO",
        "outputId": "e4b526c2-887e-4679-96de-2815bf97a27a"
      },
      "source": [
        "i = 20\n",
        "while i >= 10:   # 'i 가 10 보다 크거나 같다면'으로 바꿔주세요 \n",
        "  print(i)       # i를 출력한다\n",
        "  i -= 1         # 그리고 i는 1씩 감소함"
      ],
      "execution_count": null,
      "outputs": [
        {
          "output_type": "stream",
          "text": [
            "20\n",
            "19\n",
            "18\n",
            "17\n",
            "16\n",
            "15\n",
            "14\n",
            "13\n",
            "12\n",
            "11\n",
            "10\n"
          ],
          "name": "stdout"
        }
      ]
    },
    {
      "cell_type": "markdown",
      "metadata": {
        "id": "r82c48msGcVI"
      },
      "source": [
        "### while 문으로 1부터 100까지 더하기 "
      ]
    },
    {
      "cell_type": "code",
      "metadata": {
        "id": "k1j9hjf7GySX"
      },
      "source": [
        "i = 1 \n",
        "sum = 0          # 합은 0으로 정의\n",
        "while \n",
        "\n",
        "print(sum)"
      ],
      "execution_count": null,
      "outputs": []
    },
    {
      "cell_type": "markdown",
      "metadata": {
        "id": "gEgnzqTZIIco"
      },
      "source": [
        "**반복문 생성 시 반복하고자 하는 조건식은 항상 반복문 바디(body) 안에 있어야 합니다.**\n",
        "\n",
        "```\n",
        "while loop조건식:\n",
        "  loop body\n",
        "  실행할 동작 # 탭 한 칸이 유지되는 동안은 바디 안에 속하게 됩니다 \n",
        "```\n",
        "\n"
      ]
    },
    {
      "cell_type": "markdown",
      "metadata": {
        "id": "RNRrm-lQCOS1"
      },
      "source": [
        "아래 예제를 보면 `i += 1` 이 반복문 바디 밖에 있어서 반복문이 항상 참이 됩니다.  \n",
        "그래서 결국 **무한 반복 실행**을 하게 됩니다. 이 내용은 뒤에서 더 자세하게 설명하겠습니다."
      ]
    },
    {
      "cell_type": "code",
      "metadata": {
        "id": "0K6h7UAQJB8t"
      },
      "source": [
        "# 1부터 100까지 더하기 무한반복 경우 \n",
        "i = 1 \n",
        "sum = 0 \n",
        "while i < 100:\n",
        "  sum += i\n",
        "i += 1\n",
        "print(sum)"
      ],
      "execution_count": null,
      "outputs": []
    },
    {
      "cell_type": "markdown",
      "metadata": {
        "id": "1UQQQNW0bHiL"
      },
      "source": [
        "## range() 함수 \n",
        "\n",
        "`range()` 함수는 반복문과 연동되어 많이 사용되는 함수입니다. 위에서 살펴본 리스트 외에 다른 명령을 실행하고 싶을 때 for 반복문에서 몇 번 루프를 돌지를 표시하기 위해 range() 함수를 종종 함께 사용합니다. \n",
        "\n",
        "> 예를 들어, 아래는 Hello 문자열을 10번 (0 부터 9)까지 출력하는 예제입니다. \n"
      ]
    },
    {
      "cell_type": "code",
      "metadata": {
        "id": "Py5-edPcbHiM"
      },
      "source": [
        "for i in range(10):\n",
        "  print(\"Hello\")"
      ],
      "execution_count": null,
      "outputs": []
    },
    {
      "cell_type": "markdown",
      "metadata": {
        "id": "3d-Ty6T24hKv"
      },
      "source": [
        "**위 예제에서와 같이 `range()` 함수 괄호 안에 실행하고자 하는 명령 횟수를 적어줍니다.**  \n",
        "range 함수는 숫자 n을 input으로 받아서 0부터 n-1 까지의 리스트를 반환합니다.  아래를 참고하세요.  \n",
        "> - `len()` : length의 줄임말. 괄호() 안에 있는 것의 개수(리스트의 경우 원소 개수, 문자열의 경우 글자 개수)를 가져옵니다.\n"
      ]
    },
    {
      "cell_type": "code",
      "metadata": {
        "id": "x7L7rkDT5F3l"
      },
      "source": [
        "list1 = range(5)       # 0부터 4까지 값으로 가지는 list 생성\n",
        "print(\"list1 안의 값들:\")\n",
        "print(list(list1))     # list1 리스트 출력\n",
        "print(\"list1 길이:\")\n",
        "print(len(list1))      # list1 길이 출력"
      ],
      "execution_count": null,
      "outputs": []
    },
    {
      "cell_type": "code",
      "metadata": {
        "id": "01YbhdnqEhy6"
      },
      "source": [
        "list2 = range(7) # 0부터  6까지 list 생성\n",
        "print(\"list2 안의 값들:\") \n",
        "print(list(list2)) \n",
        "print(\"list2 길이:\") \n",
        "print(len(list2)) "
      ],
      "execution_count": null,
      "outputs": []
    },
    {
      "cell_type": "markdown",
      "metadata": {
        "id": "jbYnoiDlbHiR"
      },
      "source": [
        "## 무한 루프 & break \n",
        "\n",
        "if 고양이가 넘어지면 -> break!!  \n",
        "<img src = \"http://image.gamechosun.co.kr/wlwl_upload/dataroom/common/2019/12/17/289258_1576577306.gif\" width = \"500\">\n",
        "\n",
        "만약 While문의 **조건이 항상 '참'으로 고정 되어 있으면 무한 반복에 빠지게 됩니다.**  \n",
        "\n",
        "`if` 문과 함께 `break` 문을 사용하면 무한 루프를 빠져나올 수 있습니다!!  \n",
        "\n",
        "```\n",
        " if <조건> :\n",
        "    <조건이 참일 경우 취할 동작>  # 자동으로 Tab이 한칸 들어가게 됩니다\n",
        "```\n",
        "\n",
        "아래 예제를 보면 1부터 10까지의 합을 구하는데,  i가 100 보다 큰 경우 while 루프를 빠져나옵니다.  \n",
        "> - `break` : 반복의 기능을 수행하는 for문 또는 while문을 탈출\n",
        "\n"
      ]
    },
    {
      "cell_type": "code",
      "metadata": {
        "id": "mbToCfiUbHiS"
      },
      "source": [
        "i = 0\n",
        "sum = 0 \n",
        "while True:  # while 문이 참으로 고정되어 있음\n",
        "  i += 1   \n",
        "  if i > 100: # i가 100보다 큰 경우\n",
        "    break     # 루프를 빠져나옴\n",
        "  sum += i    \n",
        "\n",
        "print(sum)   # 100 까지만 sum한 결과\n",
        "  "
      ],
      "execution_count": null,
      "outputs": []
    },
    {
      "cell_type": "markdown",
      "metadata": {
        "id": "34sIzdtALzAC"
      },
      "source": [
        "다른 예제를 볼까요? 아래와 같이 eng 리스트 안의 A 부터 I 까지의 알파벳 중에 F 까지만 print 할 수도 있습니다. \n",
        "\n"
      ]
    },
    {
      "cell_type": "code",
      "metadata": {
        "id": "ueU4EFC8L34Z"
      },
      "source": [
        "eng = ['A','B','C','D','E','F','G','H','I'] \n",
        "\n",
        "# F 만나면\n",
        "# 그만 print 해라 \n",
        "  \n",
        "print(\"print end\")"
      ],
      "execution_count": null,
      "outputs": []
    },
    {
      "cell_type": "markdown",
      "metadata": {
        "id": "R023Bfuu8zzs"
      },
      "source": [
        "## Continue\n",
        "\n",
        "반복하며 리스트를 헤엄쳐 나갈 때, 가끔은 몇 개의 값을 스킵하고 싶을 때가 있습니다.\n",
        "\n",
        "그럴 때는  continue를 사용합니다. \n",
        "\n",
        "> 아래의 예시에서는 홀수일 때 스킵합니다."
      ]
    },
    {
      "cell_type": "code",
      "metadata": {
        "id": "n0BRmmm79E87"
      },
      "source": [
        "nums = [1, 2, 3, 4, 5, 6, 7, 8, 9]\n",
        "\n",
        "for i in nums:\n",
        "  if i % 2 == 1: #i를 2로 나눈 나머지가 1일때\n",
        "    continue # skip\n",
        "  print(i) #아니면,, i를 출력"
      ],
      "execution_count": null,
      "outputs": []
    },
    {
      "cell_type": "markdown",
      "metadata": {
        "id": "Slrdc_q49XxS"
      },
      "source": [
        " ### 🔍 문제풀기\n",
        "\n",
        "\n",
        "> 여러분의 선술집에 손님들이 오셨습니다!\n",
        "- 나이를 물어보고, 대답하게 한 뒤 \n",
        "- 20살 미만일 경우 \n",
        "- \"미성년자입니다. 나가주세요!\"를 출력하세요.\n",
        " "
      ]
    },
    {
      "cell_type": "code",
      "metadata": {
        "colab": {
          "background_save": true
        },
        "id": "bFZ82-eB9Zx3",
        "outputId": "4acdf04c-9bca-4584-d76d-29c71fa4e54b"
      },
      "source": [
        "ages = [18, 23, 21, 17, 20, 24, 19]\n",
        "\n",
        "# 여기서 부터 반복문\n",
        "for i in ages:\n",
        "  if i >=20\n",
        "    continue\n",
        "  print(\"미성년자입니다. 나가주세요!\")"
      ],
      "execution_count": null,
      "outputs": [
        {
          "output_type": "error",
          "ename": "SyntaxError",
          "evalue": "ignored",
          "traceback": [
            "\u001b[0;36m  File \u001b[0;32m\"<ipython-input-2-a5a42a1fe1a9>\"\u001b[0;36m, line \u001b[0;32m5\u001b[0m\n\u001b[0;31m    if i >=20\u001b[0m\n\u001b[0m             ^\u001b[0m\n\u001b[0;31mSyntaxError\u001b[0m\u001b[0;31m:\u001b[0m invalid syntax\n"
          ]
        }
      ]
    },
    {
      "cell_type": "markdown",
      "metadata": {
        "id": "lpXGlfbd95_3"
      },
      "source": [
        "##  While  로 리스트 헤엄치기~ 🏊‍♀️🏊🏊‍♂️\n",
        "\n",
        "while  문으로도 리스트를 반복하며 처리할 수 있습니다 \n",
        "\n",
        "아래의 코드를 한 번 볼까요?"
      ]
    },
    {
      "cell_type": "code",
      "metadata": {
        "id": "zGKzvBBF-Oo0"
      },
      "source": [
        "dog_breeds = ['bulldog', 'dalmation', 'shihtzu', 'poodle', 'collie']\n",
        "\n",
        "index = 0\n",
        "while index < len(dog_breeds):\n",
        "  print(dog_breeds[index])\n",
        "  index += 1"
      ],
      "execution_count": null,
      "outputs": []
    },
    {
      "cell_type": "markdown",
      "metadata": {
        "id": "aK5cX_Ia_A95"
      },
      "source": [
        "## Nested Loops  중첩 루프문\n",
        "\n",
        "반복문 안에... 반복문을 또 넣을 수 있습니다. 이걸 중첩 루프문이라고 합니다. \n",
        "\n",
        "리스트 안의 리스트, 중첩 리스트를 사용할 때 매우 유용하죠!\n",
        "\n",
        "아래의 예제를 한 번 볼까요?"
      ]
    },
    {
      "cell_type": "code",
      "metadata": {
        "id": "EOuYoUCJ_anp"
      },
      "source": [
        "msi_teams = [[\"Impact\", \"Xmithie\", \"Jenson\",\"Doublelift\",\"CoreJJ\"], [\"Wunder\", \"Jankos\",\"Caps\",\"Perkz\",\"Mikyx\"],\n",
        "             [\"Khan\", \"Clid\",\"Faker\",\"Teddy\",\"Mata\"]]\n",
        "\n",
        "for team in msi_teams:\n",
        "  for player in team:\n",
        "    print(player)"
      ],
      "execution_count": null,
      "outputs": []
    },
    {
      "cell_type": "markdown",
      "metadata": {
        "id": "x-hHJXbAANAb"
      },
      "source": [
        "\n",
        "###  🔍 문제풀기\n",
        ">당신은 총 3개의 스티커 부스를 운영하고 있습니다.  \n",
        "- 각 지점의 월,수,금 스티커 판매량을 `sales_data` 에 저장하였습니다.  \n",
        "-이번 주 총 스티커 판매량  `stickers_sold`  를 구해보세요!  \n"
      ]
    },
    {
      "cell_type": "code",
      "metadata": {
        "id": "nwl-CUtcAS6b"
      },
      "source": [
        "sales_data = [[231, 532, 780], [121, 316, 317], [67, 89, 523]]\n",
        "\n",
        "stickers_sold = 0\n",
        "\n",
        "# 여기에 작성"
      ],
      "execution_count": null,
      "outputs": []
    },
    {
      "cell_type": "markdown",
      "metadata": {
        "id": "B04J4vRVA0nw"
      },
      "source": [
        "## 간편 반복 리스트 만들기\n",
        "\n",
        "여러 줄의 반복문을 리스트 한 줄로 해결할 수 있습니다.  \n",
        "> 여러 줄의 반복문"
      ]
    },
    {
      "cell_type": "code",
      "metadata": {
        "id": "-yucQ7QgBHeD"
      },
      "source": [
        "# 섭씨를 화씨로 바꾸기\n",
        "celsius = [0, 10, 15, 32, -5, 27, 3]\n",
        "\n",
        "fahrenheit = [] # 여기부터 세줄\n",
        "for c in celsius:\n",
        "  fahrenheit.append(c * 9/5 + 32)\n",
        "\n",
        "print(fahrenheit)"
      ],
      "execution_count": null,
      "outputs": []
    },
    {
      "cell_type": "markdown",
      "metadata": {
        "id": "dAMymeitt-mw"
      },
      "source": [
        "> 리스트 한 줄로 해결하기 (**List Comprehension** 이라고 합니다)"
      ]
    },
    {
      "cell_type": "code",
      "metadata": {
        "id": "MTNjHXznBCda"
      },
      "source": [
        "celsius = [0, 10, 15, 32, -5, 27, 3]\n",
        "\n",
        "fahrenheit = ??? # 한 줄로 해결!\n",
        "\n",
        "print(fahrenheit)"
      ],
      "execution_count": null,
      "outputs": []
    },
    {
      "cell_type": "markdown",
      "metadata": {
        "id": "CkBRrNyIuMVe"
      },
      "source": [
        "# 🌖 오늘 하루 고생하셨습니다! 다음 강의 자료로 넘어가주세요! 🌖\n",
        "\n",
        "파이썬과 같은 프로그래밍 언어는 절대 하루 만에 늘지 않습니다!  \n",
        "\n",
        "이후 수업에서 계속해서 다루며 점점 코드 실력을 향상시켜보아요 🐣🐥🐓🦅🐉  \n",
        "\n",
        "(파이썬에 대해 더 공부하고 싶은 분들은 아래 링크를 참고해주세요!!)\n",
        "\n",
        "jump to python\n",
        "03문\n",
        "\n",
        "<img src=\"https://1.bp.blogspot.com/-pEss-ICFwNs/XoF71ugnzgI/AAAAAAAAANc/IU10rf9hrDwSUSuQtlpfRky7CoocyBkowCLcBGAsYHQ/s1600/nariman-mesharrafa-ROSPIhZsOaI-unsplash.jpg\" width = \"600\">\n",
        "\n",
        "1. 코드카데미(초급) : 영어에 자신이 있으시다면 추천합니다! python2는 무료이고 python3는 free trial 기간으로 학습할 수 있습니다.  \n",
        "https://www.codecademy.com/learn/learn-python \n",
        "\n",
        "2. 노마드코더(중급) : 개발자들 사이에서 요즘 핫한 사이트! 파이썬으로 간단한 웹스크레퍼(크롤링)를 만듭니다. 데이터 사이언티스트에게 크롤링은 어느 정도 필요한 기술이라고 생각합니다!  \n",
        "https://academy.nomadcoders.co/p/python-for-absolute-beginners\n",
        "\n",
        "3. 코딩도장(중급) : 파이썬 실전 문제들을 풀어가며 코딩 실력을 재밌게 늘려갈 수 있는 사이트입니다. Lv1 부터 시작하세요!  \n",
        "http://codingdojang.com/list/1?sort=level&sort_order=fw\n",
        "\n",
        "4. 백준 알고리즘(고급) : 개발자 수준의 코딩 실력을 갖고 싶다! 하시는 분들만 추천합니다. 기초 알고리즘 문제부터 대기업 취직 시험 수준의 문제까지 있습니다. 왠만한 문제 풀이는 구글링하면 됩니다.  \n",
        "https://www.acmicpc.net/step\n"
      ]
    },
    {
      "cell_type": "code",
      "metadata": {
        "id": "8wOI9NO3GA93"
      },
      "source": [
        "%reset"
      ],
      "execution_count": null,
      "outputs": []
    },
    {
      "cell_type": "code",
      "metadata": {
        "id": "MtFGGEyfT6Rf"
      },
      "source": [
        ""
      ],
      "execution_count": null,
      "outputs": []
    }
  ]
}