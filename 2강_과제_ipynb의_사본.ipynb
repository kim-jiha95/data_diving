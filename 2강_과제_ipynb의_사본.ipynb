{
  "nbformat": 4,
  "nbformat_minor": 0,
  "metadata": {
    "colab": {
      "name": "2강 과제.ipynb의 사본",
      "provenance": [],
      "collapsed_sections": [],
      "toc_visible": true,
      "include_colab_link": true
    },
    "kernelspec": {
      "name": "python3",
      "display_name": "Python 3"
    }
  },
  "cells": [
    {
      "cell_type": "markdown",
      "metadata": {
        "id": "view-in-github",
        "colab_type": "text"
      },
      "source": [
        "<a href=\"https://colab.research.google.com/github/kim-jiha95/data_diving/blob/main/2%EA%B0%95_%EA%B3%BC%EC%A0%9C_ipynb%EC%9D%98_%EC%82%AC%EB%B3%B8.ipynb\" target=\"_parent\"><img src=\"https://colab.research.google.com/assets/colab-badge.svg\" alt=\"Open In Colab\"/></a>"
      ]
    },
    {
      "cell_type": "markdown",
      "metadata": {
        "id": "mV5mTQjsAgHC"
      },
      "source": [
        "# 🔥 Quiz  2: Visualize Titanic Dataset\n",
        "\n",
        "타이나틱 데이터셋은 실제 타이타닉 호에 탑승했던 승객들의 정보(성별, 나이 등)를 담고 있습니다.  \n",
        "이를 바탕으로 승객의 생존여부 또는 생존율을 예측하는데 활용됩니다.\n",
        "\n",
        "이번 퀴즈에서는 실제 데이터셋으로 **스스로** 탐색적 자료분석을 실시해봅시다.\n",
        "\n",
        "다음 물음에 답해주세요!"
      ]
    },
    {
      "cell_type": "markdown",
      "metadata": {
        "id": "O6OaqgyxUF26"
      },
      "source": [
        "시작하기 전에 필요한 라이브러리들을 불러옵시다\n",
        "\n"
      ]
    },
    {
      "cell_type": "code",
      "metadata": {
        "id": "H7Nrk0MIHE-7"
      },
      "source": [
        "import pandas as pd\n",
        "import seaborn as sns"
      ],
      "execution_count": null,
      "outputs": []
    },
    {
      "cell_type": "markdown",
      "metadata": {
        "id": "PqZqlEJzGjlL"
      },
      "source": [
        "## Problem 1\n",
        "\n",
        "지난 퀴즈에서는 구글 드라이브에서 titanic dataset을 불러와 사용했습니다.  이번 퀴즈에서는 **seaborn 라이브러리에서 titanic dataset을 불러와**  `titanic` 변수에 저장해보세요! "
      ]
    },
    {
      "cell_type": "markdown",
      "metadata": {
        "id": "g4Y_KYBBRRHE"
      },
      "source": [
        "> 지난 퀴즈에서의 자료와 형태가 조금 다릅니다.  원래 그런 것이니 걱정하지 마세요 😎"
      ]
    },
    {
      "cell_type": "code",
      "metadata": {
        "colab": {
          "base_uri": "https://localhost:8080/"
        },
        "id": "_jySAvUn8buL",
        "outputId": "34a7d2ba-1a95-4954-add9-9815ff10af9d"
      },
      "source": [
        "from google.colab import drive    # Google Drive 패키지 불러오기\n",
        "drive.mount('/content/gdrive/')"
      ],
      "execution_count": null,
      "outputs": [
        {
          "output_type": "stream",
          "text": [
            "Mounted at /content/gdrive/\n"
          ],
          "name": "stdout"
        }
      ]
    },
    {
      "cell_type": "code",
      "metadata": {
        "colab": {
          "base_uri": "https://localhost:8080/",
          "height": 402
        },
        "id": "7ijlLOtC8oSd",
        "outputId": "3ae4ccb0-b1c2-4948-fd55-bd79502d154f"
      },
      "source": [
        "titanic = pd.read_csv('/content/gdrive/My Drive/Colab Notebooks/datascience/titanic_train.csv')     # 현재 작업 환경 경로 기준\n",
        "titanic = sns.load_dataset('titanic')\n",
        "titanic"
      ],
      "execution_count": null,
      "outputs": [
        {
          "output_type": "execute_result",
          "data": {
            "text/html": [
              "<div>\n",
              "<style scoped>\n",
              "    .dataframe tbody tr th:only-of-type {\n",
              "        vertical-align: middle;\n",
              "    }\n",
              "\n",
              "    .dataframe tbody tr th {\n",
              "        vertical-align: top;\n",
              "    }\n",
              "\n",
              "    .dataframe thead th {\n",
              "        text-align: right;\n",
              "    }\n",
              "</style>\n",
              "<table border=\"1\" class=\"dataframe\">\n",
              "  <thead>\n",
              "    <tr style=\"text-align: right;\">\n",
              "      <th></th>\n",
              "      <th>survived</th>\n",
              "      <th>pclass</th>\n",
              "      <th>sex</th>\n",
              "      <th>age</th>\n",
              "      <th>sibsp</th>\n",
              "      <th>parch</th>\n",
              "      <th>fare</th>\n",
              "      <th>embarked</th>\n",
              "      <th>class</th>\n",
              "      <th>who</th>\n",
              "      <th>adult_male</th>\n",
              "      <th>deck</th>\n",
              "      <th>embark_town</th>\n",
              "      <th>alive</th>\n",
              "      <th>alone</th>\n",
              "    </tr>\n",
              "  </thead>\n",
              "  <tbody>\n",
              "    <tr>\n",
              "      <th>0</th>\n",
              "      <td>0</td>\n",
              "      <td>3</td>\n",
              "      <td>male</td>\n",
              "      <td>22.0</td>\n",
              "      <td>1</td>\n",
              "      <td>0</td>\n",
              "      <td>7.2500</td>\n",
              "      <td>S</td>\n",
              "      <td>Third</td>\n",
              "      <td>man</td>\n",
              "      <td>True</td>\n",
              "      <td>NaN</td>\n",
              "      <td>Southampton</td>\n",
              "      <td>no</td>\n",
              "      <td>False</td>\n",
              "    </tr>\n",
              "    <tr>\n",
              "      <th>1</th>\n",
              "      <td>1</td>\n",
              "      <td>1</td>\n",
              "      <td>female</td>\n",
              "      <td>38.0</td>\n",
              "      <td>1</td>\n",
              "      <td>0</td>\n",
              "      <td>71.2833</td>\n",
              "      <td>C</td>\n",
              "      <td>First</td>\n",
              "      <td>woman</td>\n",
              "      <td>False</td>\n",
              "      <td>C</td>\n",
              "      <td>Cherbourg</td>\n",
              "      <td>yes</td>\n",
              "      <td>False</td>\n",
              "    </tr>\n",
              "    <tr>\n",
              "      <th>2</th>\n",
              "      <td>1</td>\n",
              "      <td>3</td>\n",
              "      <td>female</td>\n",
              "      <td>26.0</td>\n",
              "      <td>0</td>\n",
              "      <td>0</td>\n",
              "      <td>7.9250</td>\n",
              "      <td>S</td>\n",
              "      <td>Third</td>\n",
              "      <td>woman</td>\n",
              "      <td>False</td>\n",
              "      <td>NaN</td>\n",
              "      <td>Southampton</td>\n",
              "      <td>yes</td>\n",
              "      <td>True</td>\n",
              "    </tr>\n",
              "    <tr>\n",
              "      <th>3</th>\n",
              "      <td>1</td>\n",
              "      <td>1</td>\n",
              "      <td>female</td>\n",
              "      <td>35.0</td>\n",
              "      <td>1</td>\n",
              "      <td>0</td>\n",
              "      <td>53.1000</td>\n",
              "      <td>S</td>\n",
              "      <td>First</td>\n",
              "      <td>woman</td>\n",
              "      <td>False</td>\n",
              "      <td>C</td>\n",
              "      <td>Southampton</td>\n",
              "      <td>yes</td>\n",
              "      <td>False</td>\n",
              "    </tr>\n",
              "    <tr>\n",
              "      <th>4</th>\n",
              "      <td>0</td>\n",
              "      <td>3</td>\n",
              "      <td>male</td>\n",
              "      <td>35.0</td>\n",
              "      <td>0</td>\n",
              "      <td>0</td>\n",
              "      <td>8.0500</td>\n",
              "      <td>S</td>\n",
              "      <td>Third</td>\n",
              "      <td>man</td>\n",
              "      <td>True</td>\n",
              "      <td>NaN</td>\n",
              "      <td>Southampton</td>\n",
              "      <td>no</td>\n",
              "      <td>True</td>\n",
              "    </tr>\n",
              "    <tr>\n",
              "      <th>...</th>\n",
              "      <td>...</td>\n",
              "      <td>...</td>\n",
              "      <td>...</td>\n",
              "      <td>...</td>\n",
              "      <td>...</td>\n",
              "      <td>...</td>\n",
              "      <td>...</td>\n",
              "      <td>...</td>\n",
              "      <td>...</td>\n",
              "      <td>...</td>\n",
              "      <td>...</td>\n",
              "      <td>...</td>\n",
              "      <td>...</td>\n",
              "      <td>...</td>\n",
              "      <td>...</td>\n",
              "    </tr>\n",
              "    <tr>\n",
              "      <th>886</th>\n",
              "      <td>0</td>\n",
              "      <td>2</td>\n",
              "      <td>male</td>\n",
              "      <td>27.0</td>\n",
              "      <td>0</td>\n",
              "      <td>0</td>\n",
              "      <td>13.0000</td>\n",
              "      <td>S</td>\n",
              "      <td>Second</td>\n",
              "      <td>man</td>\n",
              "      <td>True</td>\n",
              "      <td>NaN</td>\n",
              "      <td>Southampton</td>\n",
              "      <td>no</td>\n",
              "      <td>True</td>\n",
              "    </tr>\n",
              "    <tr>\n",
              "      <th>887</th>\n",
              "      <td>1</td>\n",
              "      <td>1</td>\n",
              "      <td>female</td>\n",
              "      <td>19.0</td>\n",
              "      <td>0</td>\n",
              "      <td>0</td>\n",
              "      <td>30.0000</td>\n",
              "      <td>S</td>\n",
              "      <td>First</td>\n",
              "      <td>woman</td>\n",
              "      <td>False</td>\n",
              "      <td>B</td>\n",
              "      <td>Southampton</td>\n",
              "      <td>yes</td>\n",
              "      <td>True</td>\n",
              "    </tr>\n",
              "    <tr>\n",
              "      <th>888</th>\n",
              "      <td>0</td>\n",
              "      <td>3</td>\n",
              "      <td>female</td>\n",
              "      <td>NaN</td>\n",
              "      <td>1</td>\n",
              "      <td>2</td>\n",
              "      <td>23.4500</td>\n",
              "      <td>S</td>\n",
              "      <td>Third</td>\n",
              "      <td>woman</td>\n",
              "      <td>False</td>\n",
              "      <td>NaN</td>\n",
              "      <td>Southampton</td>\n",
              "      <td>no</td>\n",
              "      <td>False</td>\n",
              "    </tr>\n",
              "    <tr>\n",
              "      <th>889</th>\n",
              "      <td>1</td>\n",
              "      <td>1</td>\n",
              "      <td>male</td>\n",
              "      <td>26.0</td>\n",
              "      <td>0</td>\n",
              "      <td>0</td>\n",
              "      <td>30.0000</td>\n",
              "      <td>C</td>\n",
              "      <td>First</td>\n",
              "      <td>man</td>\n",
              "      <td>True</td>\n",
              "      <td>C</td>\n",
              "      <td>Cherbourg</td>\n",
              "      <td>yes</td>\n",
              "      <td>True</td>\n",
              "    </tr>\n",
              "    <tr>\n",
              "      <th>890</th>\n",
              "      <td>0</td>\n",
              "      <td>3</td>\n",
              "      <td>male</td>\n",
              "      <td>32.0</td>\n",
              "      <td>0</td>\n",
              "      <td>0</td>\n",
              "      <td>7.7500</td>\n",
              "      <td>Q</td>\n",
              "      <td>Third</td>\n",
              "      <td>man</td>\n",
              "      <td>True</td>\n",
              "      <td>NaN</td>\n",
              "      <td>Queenstown</td>\n",
              "      <td>no</td>\n",
              "      <td>True</td>\n",
              "    </tr>\n",
              "  </tbody>\n",
              "</table>\n",
              "<p>891 rows × 15 columns</p>\n",
              "</div>"
            ],
            "text/plain": [
              "     survived  pclass     sex   age  ...  deck  embark_town  alive  alone\n",
              "0           0       3    male  22.0  ...   NaN  Southampton     no  False\n",
              "1           1       1  female  38.0  ...     C    Cherbourg    yes  False\n",
              "2           1       3  female  26.0  ...   NaN  Southampton    yes   True\n",
              "3           1       1  female  35.0  ...     C  Southampton    yes  False\n",
              "4           0       3    male  35.0  ...   NaN  Southampton     no   True\n",
              "..        ...     ...     ...   ...  ...   ...          ...    ...    ...\n",
              "886         0       2    male  27.0  ...   NaN  Southampton     no   True\n",
              "887         1       1  female  19.0  ...     B  Southampton    yes   True\n",
              "888         0       3  female   NaN  ...   NaN  Southampton     no  False\n",
              "889         1       1    male  26.0  ...     C    Cherbourg    yes   True\n",
              "890         0       3    male  32.0  ...   NaN   Queenstown     no   True\n",
              "\n",
              "[891 rows x 15 columns]"
            ]
          },
          "metadata": {
            "tags": []
          },
          "execution_count": 16
        }
      ]
    },
    {
      "cell_type": "code",
      "metadata": {
        "id": "lF-_rbko5ZFq"
      },
      "source": [
        "# prob1\n",
        "# titanic = ..."
      ],
      "execution_count": null,
      "outputs": []
    },
    {
      "cell_type": "code",
      "metadata": {
        "colab": {
          "base_uri": "https://localhost:8080/",
          "height": 229
        },
        "id": "6OASz1GO8vPS",
        "outputId": "2c8ce086-3d73-4f2a-f80a-4f756fae7301"
      },
      "source": [
        "titanic.head(5)"
      ],
      "execution_count": null,
      "outputs": [
        {
          "output_type": "execute_result",
          "data": {
            "text/html": [
              "<div>\n",
              "<style scoped>\n",
              "    .dataframe tbody tr th:only-of-type {\n",
              "        vertical-align: middle;\n",
              "    }\n",
              "\n",
              "    .dataframe tbody tr th {\n",
              "        vertical-align: top;\n",
              "    }\n",
              "\n",
              "    .dataframe thead th {\n",
              "        text-align: right;\n",
              "    }\n",
              "</style>\n",
              "<table border=\"1\" class=\"dataframe\">\n",
              "  <thead>\n",
              "    <tr style=\"text-align: right;\">\n",
              "      <th></th>\n",
              "      <th>PassengerId</th>\n",
              "      <th>Survived</th>\n",
              "      <th>Pclass</th>\n",
              "      <th>Name</th>\n",
              "      <th>Sex</th>\n",
              "      <th>Age</th>\n",
              "      <th>SibSp</th>\n",
              "      <th>Parch</th>\n",
              "      <th>Ticket</th>\n",
              "      <th>Fare</th>\n",
              "      <th>Cabin</th>\n",
              "      <th>Embarked</th>\n",
              "    </tr>\n",
              "  </thead>\n",
              "  <tbody>\n",
              "    <tr>\n",
              "      <th>0</th>\n",
              "      <td>1</td>\n",
              "      <td>0</td>\n",
              "      <td>3</td>\n",
              "      <td>Braund, Mr. Owen Harris</td>\n",
              "      <td>male</td>\n",
              "      <td>22.0</td>\n",
              "      <td>1</td>\n",
              "      <td>0</td>\n",
              "      <td>A/5 21171</td>\n",
              "      <td>7.2500</td>\n",
              "      <td>NaN</td>\n",
              "      <td>S</td>\n",
              "    </tr>\n",
              "    <tr>\n",
              "      <th>1</th>\n",
              "      <td>2</td>\n",
              "      <td>1</td>\n",
              "      <td>1</td>\n",
              "      <td>Cumings, Mrs. John Bradley (Florence Briggs Th...</td>\n",
              "      <td>female</td>\n",
              "      <td>38.0</td>\n",
              "      <td>1</td>\n",
              "      <td>0</td>\n",
              "      <td>PC 17599</td>\n",
              "      <td>71.2833</td>\n",
              "      <td>C85</td>\n",
              "      <td>C</td>\n",
              "    </tr>\n",
              "    <tr>\n",
              "      <th>2</th>\n",
              "      <td>3</td>\n",
              "      <td>1</td>\n",
              "      <td>3</td>\n",
              "      <td>Heikkinen, Miss. Laina</td>\n",
              "      <td>female</td>\n",
              "      <td>26.0</td>\n",
              "      <td>0</td>\n",
              "      <td>0</td>\n",
              "      <td>STON/O2. 3101282</td>\n",
              "      <td>7.9250</td>\n",
              "      <td>NaN</td>\n",
              "      <td>S</td>\n",
              "    </tr>\n",
              "    <tr>\n",
              "      <th>3</th>\n",
              "      <td>4</td>\n",
              "      <td>1</td>\n",
              "      <td>1</td>\n",
              "      <td>Futrelle, Mrs. Jacques Heath (Lily May Peel)</td>\n",
              "      <td>female</td>\n",
              "      <td>35.0</td>\n",
              "      <td>1</td>\n",
              "      <td>0</td>\n",
              "      <td>113803</td>\n",
              "      <td>53.1000</td>\n",
              "      <td>C123</td>\n",
              "      <td>S</td>\n",
              "    </tr>\n",
              "    <tr>\n",
              "      <th>4</th>\n",
              "      <td>5</td>\n",
              "      <td>0</td>\n",
              "      <td>3</td>\n",
              "      <td>Allen, Mr. William Henry</td>\n",
              "      <td>male</td>\n",
              "      <td>35.0</td>\n",
              "      <td>0</td>\n",
              "      <td>0</td>\n",
              "      <td>373450</td>\n",
              "      <td>8.0500</td>\n",
              "      <td>NaN</td>\n",
              "      <td>S</td>\n",
              "    </tr>\n",
              "  </tbody>\n",
              "</table>\n",
              "</div>"
            ],
            "text/plain": [
              "   PassengerId  Survived  Pclass  ...     Fare Cabin  Embarked\n",
              "0            1         0       3  ...   7.2500   NaN         S\n",
              "1            2         1       1  ...  71.2833   C85         C\n",
              "2            3         1       3  ...   7.9250   NaN         S\n",
              "3            4         1       1  ...  53.1000  C123         S\n",
              "4            5         0       3  ...   8.0500   NaN         S\n",
              "\n",
              "[5 rows x 12 columns]"
            ]
          },
          "metadata": {
            "tags": []
          },
          "execution_count": 5
        }
      ]
    },
    {
      "cell_type": "markdown",
      "metadata": {
        "id": "gqeA_BM0IGnQ"
      },
      "source": [
        "잘 불러와졌다면 `titanic.head(5)`를 입력했을 때 다음과 같은 결과가 나와야합니다.\n",
        "\n",
        "\n",
        "<img src = \"https://1.bp.blogspot.com/-HN88dYJolDE/Xtnjvzk8UkI/AAAAAAAAAZs/3SOtlLWRYYc-doulNlFrlNFlEt1fe4gJwCLcBGAsYHQ/s1600/%25E1%2584%2589%25E1%2585%25B3%25E1%2584%258F%25E1%2585%25B3%25E1%2584%2585%25E1%2585%25B5%25E1%2586%25AB%25E1%2584%2589%25E1%2585%25A3%25E1%2586%25BA%2B2020-06-05%2B%25E1%2584%258B%25E1%2585%25A9%25E1%2584%2592%25E1%2585%25AE%2B3.17.16.png\">"
      ]
    },
    {
      "cell_type": "markdown",
      "metadata": {
        "id": "s8y82kevIJ2H"
      },
      "source": [
        "👀 타이타닉 데이터셋의 각 열은 다음을 의미합니다.\n",
        "\n",
        "- pclass = 티켓의 등급\n",
        "- sex = 성별\n",
        "- age = 나이\n",
        "- sibsp = 동승한 형제 자매 / 배우자 수\n",
        "- parch = 동승한 부모 / 자식 수\n",
        "- fare = 요금\n",
        "- embarked = 승선항   \n",
        "- survived = 생존 여부"
      ]
    },
    {
      "cell_type": "markdown",
      "metadata": {
        "id": "yLQE7GpqK6tR"
      },
      "source": [
        "## Problem 2\n",
        "\n",
        "이번에는 타이타닉 데이터셋을 시각화해볼까요?  \n",
        "타이타닉 호 탑승권의 가격(fare)의 히스토그램을 그려주세요! 단, 밀도함수는 그리지 말아주세요!"
      ]
    },
    {
      "cell_type": "markdown",
      "metadata": {
        "id": "668e2Y0oMVOI"
      },
      "source": [
        "> 어때보이시나요? 탑승권의 가격은 균등한 수준인가요? 아니면 불균형이 심한가요?"
      ]
    },
    {
      "cell_type": "code",
      "metadata": {
        "id": "YZHUfd4MLiCH",
        "colab": {
          "base_uri": "https://localhost:8080/",
          "height": 386
        },
        "outputId": "f6a127a3-59fa-4822-ea63-e4b3b54e06de"
      },
      "source": [
        "# prob2\n",
        "sns.displot(titanic['fare'])"
      ],
      "execution_count": null,
      "outputs": [
        {
          "output_type": "execute_result",
          "data": {
            "text/plain": [
              "<seaborn.axisgrid.FacetGrid at 0x7fb47bc5f828>"
            ]
          },
          "metadata": {
            "tags": []
          },
          "execution_count": 18
        },
        {
          "output_type": "display_data",
          "data": {
            "image/png": "[encoded data removed]",
            "text/plain": [
              "<Figure size 360x360 with 1 Axes>"
            ]
          },
          "metadata": {
            "tags": [],
            "needs_background": "light"
          }
        }
      ]
    },
    {
      "cell_type": "markdown",
      "metadata": {
        "id": "W1VAwmGiRkC-"
      },
      "source": [
        "##  Problem 3\n",
        "\n",
        "타이타닉 호 탑승객의 성별(sex)의 분포를 확인하고 싶습니다. 각 성별의 수(count)를 막대그래프로 시각화해주세요!"
      ]
    },
    {
      "cell_type": "markdown",
      "metadata": {
        "id": "4WiuBsF1RtPe"
      },
      "source": [
        "> 탑승객 성별의 분포는 균일한가요 그렇지 않은가요? "
      ]
    },
    {
      "cell_type": "code",
      "metadata": {
        "id": "Bsaq48cqJHDw",
        "colab": {
          "base_uri": "https://localhost:8080/",
          "height": 336
        },
        "outputId": "10458d56-f132-4631-b4b0-02d759d28e61"
      },
      "source": [
        "# prob 3\n",
        "sns.countplot(titanic['sex']);"
      ],
      "execution_count": null,
      "outputs": [
        {
          "output_type": "stream",
          "text": [
            "/usr/local/lib/python3.6/dist-packages/seaborn/_decorators.py:43: FutureWarning: Pass the following variable as a keyword arg: x. From version 0.12, the only valid positional argument will be `data`, and passing other arguments without an explicit keyword will result in an error or misinterpretation.\n",
            "  FutureWarning\n"
          ],
          "name": "stderr"
        },
        {
          "output_type": "display_data",
          "data": {
            "image/png": "[encoded data removed]",
            "text/plain": [
              "<Figure size 432x288 with 1 Axes>"
            ]
          },
          "metadata": {
            "tags": [],
            "needs_background": "light"
          }
        }
      ]
    },
    {
      "cell_type": "markdown",
      "metadata": {
        "id": "WXnEif1uLJ8M"
      },
      "source": [
        "##  Problem 4\n",
        "\n",
        "타이타닉 호 탑승객의 나이(age)와 탑승권의 가격(fare)의 산점도를 그려주세요. 단,\n",
        "\n",
        "* x축에 나이가 오도록\n",
        "* y축에 가격이 오도록\n",
        "* 색상(hue)는 성별(sex)로\n",
        "*  점의 크기(size) 점의 크기(size)를 티켓의 등급(pclass)를 반영해 그려주세요! 단, 1등급은 3, 2등급은 2, 3등급은 1이 되게 해주셔야 합니다 \n",
        "\n",
        "> 💁‍♂️힌트: map으로 각 등급을 원하는 숫자로 변환할 수 있습니다."
      ]
    },
    {
      "cell_type": "code",
      "metadata": {
        "id": "VwKofCs2OSxD",
        "colab": {
          "base_uri": "https://localhost:8080/",
          "height": 383
        },
        "outputId": "e8c22697-a8a0-4b86-89fc-b6253452f0e7"
      },
      "source": [
        "# prob 4\n",
        "titanic['psize'] = titanic['pclass'].map(\n",
        "    {1: 3,\n",
        "     2: 2,\n",
        "     3: 1}\n",
        ")\n",
        "sns.relplot(data=titanic, x='age', y='fare', hue='sex', size='psize');"
      ],
      "execution_count": null,
      "outputs": [
        {
          "output_type": "display_data",
          "data": {
            "image/png": "[encoded data removed]",
            "text/plain": [
              "<Figure size 430.5x360 with 1 Axes>"
            ]
          },
          "metadata": {
            "tags": [],
            "needs_background": "light"
          }
        }
      ]
    },
    {
      "cell_type": "markdown",
      "metadata": {
        "id": "7yqf0uPzOyFY"
      },
      "source": [
        "이런 그림이 그려지면 됩니다 😎"
      ]
    },
    {
      "cell_type": "markdown",
      "metadata": {
        "id": "Ms2ImwuDOT4-"
      },
      "source": [
        "![](data:image/png;base64,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)"
      ]
    },
    {
      "cell_type": "markdown",
      "metadata": {
        "id": "q9PzJ2XqGP9K"
      },
      "source": [
        "# 🔥 Quiz 2 정답지\n"
      ]
    },
    {
      "cell_type": "markdown",
      "metadata": {
        "id": "IJjNkFa-GlPw"
      },
      "source": [
        "## Solution 1"
      ]
    },
    {
      "cell_type": "code",
      "metadata": {
        "id": "ZRF_pHyWGYWN"
      },
      "source": [
        "# sol 1\n",
        "titanic = sns.load_dataset('titanic')\n",
        "titanic.head(5)"
      ],
      "execution_count": null,
      "outputs": []
    },
    {
      "cell_type": "markdown",
      "metadata": {
        "id": "z_P-0tdXGaOn"
      },
      "source": [
        "## Solution 2"
      ]
    },
    {
      "cell_type": "code",
      "metadata": {
        "id": "SYv-IeUrGbph"
      },
      "source": [
        "# sol 2\n",
        "sns.distplot(titanic['fare'], kde=False);"
      ],
      "execution_count": null,
      "outputs": []
    },
    {
      "cell_type": "markdown",
      "metadata": {
        "id": "btDYMZffGcSu"
      },
      "source": [
        "## Solution 3"
      ]
    },
    {
      "cell_type": "code",
      "metadata": {
        "id": "04ttopOyGeCj"
      },
      "source": [
        "# sol 3\n",
        "sns.countplot(titanic['sex']);"
      ],
      "execution_count": null,
      "outputs": []
    },
    {
      "cell_type": "markdown",
      "metadata": {
        "id": "iRr5MCsdGe7c"
      },
      "source": [
        "## Solution 4"
      ]
    },
    {
      "cell_type": "code",
      "metadata": {
        "id": "BGrnLZgeGgAg"
      },
      "source": [
        "# sol 4\n",
        "titanic['psize'] = titanic['pclass'].map(\n",
        "    {1: 3,\n",
        "     2: 2,\n",
        "     3: 1}\n",
        ")\n",
        "sns.relplot(data=titanic, x='age', y='fare', hue='sex', size='psize');"
      ],
      "execution_count": null,
      "outputs": []
    }
  ]
}