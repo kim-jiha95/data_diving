{
  "nbformat": 4,
  "nbformat_minor": 0,
  "metadata": {
    "colab": {
      "name": "2강 데이터 시각화의 사본",
      "provenance": [],
      "collapsed_sections": [],
      "toc_visible": true,
      "include_colab_link": true
    },
    "kernelspec": {
      "name": "python3",
      "display_name": "Python 3"
    }
  },
  "cells": [
    {
      "cell_type": "markdown",
      "metadata": {
        "id": "view-in-github",
        "colab_type": "text"
      },
      "source": [
        "<a href=\"https://colab.research.google.com/github/kim-jiha95/data_diving/blob/main/2%EA%B0%95_%EB%8D%B0%EC%9D%B4%ED%84%B0_%EC%8B%9C%EA%B0%81%ED%99%94%EC%9D%98_%EC%82%AC%EB%B3%B8.ipynb\" target=\"_parent\"><img src=\"https://colab.research.google.com/assets/colab-badge.svg\" alt=\"Open In Colab\"/></a>"
      ]
    },
    {
      "cell_type": "markdown",
      "metadata": {
        "id": "mV5mTQjsAgHC"
      },
      "source": [
        "# **🔥 Lesson 2, Seaborn과 Scikit-learn**\n",
        "\n",
        "</br>\n",
        "\n",
        "## ✍ 지난 시간 복습하기\n",
        "\n",
        "```\n",
        "간단히 지난 시간 강의내용 복습을 진행해주세요 🔥🔥\n",
        "```\n"
      ]
    },
    {
      "cell_type": "code",
      "metadata": {
        "id": "qhncnFcjNv02"
      },
      "source": [
        "print(\"안녕하세요\\n\\n저는 000입니다\") # escape 문자"
      ],
      "execution_count": null,
      "outputs": []
    },
    {
      "cell_type": "markdown",
      "metadata": {
        "id": "cqzQRmsmBTrp"
      },
      "source": [
        "## ⛳ 무엇을 배우나요?\n",
        "\n",
        "<img src = \"https://1.bp.blogspot.com/-kozWSDfMESI/Xp6leanhp_I/AAAAAAAAAS0/eE7OAHbFCYg6ajeNIvNOAtgOK7ADiKnOwCLcBGAsYHQ/s1600/%25E1%2584%2589%25E1%2585%25B3%25E1%2586%25AF%25E1%2584%2585%25E1%2585%25A1%25E1%2584%258B%25E1%2585%25B5%25E1%2584%2583%25E1%2585%25B34.png\" width = \"800\">\n",
        "\n",
        "안녕하세요. '🧜🏻‍♀️데이터 다이빙🧜🏻' 여러분!! \n",
        "\n",
        "오늘은 데이터 분석을 위한 강력한 시각화 라이브러리(tool) **seaborn 활용법**을 배우고,  \n",
        "다양한 데이터셋에 적용하여 실습해보겠습니다.   \n",
        "\n",
        "그리고 인공지능, 기계학습, 딥러닝 등 인공지능의 다양한 갈래와 특징을 배운 뒤, 기계학습에 앞서 선행되어야 할 조건을 알아보고,  \n",
        "대표적인 파이썬 기계학습 라이브러리 **Scikit-learn 을 활용법**을 배워보겠습니다.\n",
        "\n",
        ">> #### **🐳 오늘 배울 내용은요 🐳**\n",
        "- **데이터 시각화**\n",
        "- **머신러닝이란?**\n",
        "- **머신러닝 준비**\n",
        "- **Scikit-learn 활용**"
      ]
    },
    {
      "cell_type": "markdown",
      "metadata": {
        "id": "rRtIOjKEjInI"
      },
      "source": [
        "# Data Visualization 📊📈📉\n",
        "\n",
        "데이터 처리와 학습에 앞서서, **데이터 시각화**에 대해서 먼저 알아보도록 하겠습니다.  \n",
        "\n",
        "> **🤔 데이터 시각화는 왜 배워야할까?**  \n",
        ">>[실무자의 답변]\n",
        "- 내 데이터에 대한 이해도를 높이는데 사용\n",
        "- 다른 직군과의 커뮤니케이션에 활용\n",
        "- 필터링을 통해 얻는 insight로 모델의 성능을 개선  \n",
        "\n",
        "## 👀 강사님은 데이터 시각화를 언제 사용하셨나요?\n",
        "```\n",
        "# 실무에서 사용했던 경험, 현재까지 배운 내용과 어떻게 관련되는지, 어려운지, 사전에 알아야할 내용 등\n",
        "```\n",
        "\n"
      ]
    },
    {
      "cell_type": "markdown",
      "metadata": {
        "id": "QSoOceyOmkx_"
      },
      "source": [
        "## 📌 Step1. seaborn vs matplotlib (시각화 패키지 알아보기)\n",
        "파이썬에서 시각화를 위해 가장 많이 쓰이는 패키지는 matplotlib 입니다.     \n",
        "\n",
        "**seaborn 은 matplotlib 기반으로 색상과 통계기반 패키지가 추가된 패키지**입니다. \n",
        "\n",
        "matplotlib 이 그냥 커피라면, seaborn 은 티오피 ... \n",
        "\n",
        "> - 커피 ⊃ 티오피\n",
        "> - matplotlib ⊃ seaborn\n",
        "\n",
        "데이터셋을 직접 살펴보며 자세히 알아보도록 하겠습니다."
      ]
    },
    {
      "cell_type": "markdown",
      "metadata": {
        "id": "O6OaqgyxUF26"
      },
      "source": [
        "##seaborn 불러오기\n",
        "\n",
        "\n",
        "\n",
        "\n"
      ]
    },
    {
      "cell_type": "code",
      "metadata": {
        "id": "XT3CA9UKUM2t"
      },
      "source": [
        "import seaborn as sns # 데이터 시각화를 위해 seaborn 패키지를 가져오는데(import), \n",
        "                      # 이때 'seaborn package' 이 너무 길기 때문에 'sns'로 보통 줄여서(as) 사용합니다."
      ],
      "execution_count": null,
      "outputs": []
    },
    {
      "cell_type": "markdown",
      "metadata": {
        "id": "KMU8I7W-bHig"
      },
      "source": [
        " `as` : 패키지 이름을 '사용자 지정'으로 바꿔줍니다. 패키지 이름을 줄여서 편하게 사용할 수 있습니다. \n",
        "```\n",
        "# 예시\n",
        "import pandas as pd\n",
        "import numpy as np\n",
        "import seaborn as sns\n",
        "import tensorflow as tf\n",
        "import torch \n",
        "```\n",
        "사용자 지정 축약어를 sns나 pd가 아니라 다르게 지정할 수도 있지만,  \n",
        "원활한 소통을 위해 다수가 사용하는 축약어를 사용하는게 좋습니다. \n",
        "\n",
        "✍결론 : 그냥 seaborn은 'sns', pandas는 'pd'로 지정하시기를 권장해 드립니다!"
      ]
    },
    {
      "cell_type": "code",
      "metadata": {
        "id": "cqde2O_HXh6f"
      },
      "source": [
        "import matplotlib.pyplot as plt"
      ],
      "execution_count": null,
      "outputs": []
    },
    {
      "cell_type": "markdown",
      "metadata": {
        "id": "67434m_snMM4"
      },
      "source": [
        "## 📌 Step2. 시각화할 데이터셋 살펴보기 \n",
        "\n",
        "본 강의에서는 3개의 데이터셋을 활용하여 데이터 시각화를 실습합니다.\n",
        " \n",
        "\n",
        "1. 🌼 iris_dataset \n",
        "2. 💵 tips_dataset\n",
        "3. ⛴ titanic_dataset \n"
      ]
    },
    {
      "cell_type": "markdown",
      "metadata": {
        "id": "fPi-V3QFnn3_"
      },
      "source": [
        "### 1. iris_dataset 🌼🌸💐\n",
        "\n",
        "iris dataset 은 머신러닝, 데이터분석의 고전이라고 할 수 있습니다. 💾🎞📺...    \n",
        "\n",
        "가장 기초적이면서도 오래되었고 쉽고 간단하기 때문에,  \n",
        "모든 입문자들은 한번씩 거쳐간 🍲사골 국물🍲이라고 할 수 있죠! \n",
        "\n",
        "petal(꽃잎)과 sepal(꽃받침)의 길이/너비를 **Feature(독립변수, X)**로 사용하여,  \n",
        "(setosa, versicolor, virginica 중) 어떤 종의 iris 인지  **Label(종속변수, Y)**를 예측하는 머신러닝에 사용되는 dataset입니다.\n",
        "\n",
        "<img src = \"https://miro.medium.com/max/1100/0*SHhnoaaIm36pc1bd\" width = \"800\">"
      ]
    },
    {
      "cell_type": "code",
      "metadata": {
        "id": "jmJ45nZ0X_dD"
      },
      "source": [
        "iris = sns.load_dataset('iris')"
      ],
      "execution_count": null,
      "outputs": []
    },
    {
      "cell_type": "code",
      "metadata": {
        "id": "c7my1kNPYPbc",
        "colab": {
          "base_uri": "https://localhost:8080/",
          "height": 402
        },
        "outputId": "146c7d97-9b5b-4ec0-8203-3124a2a5ff90"
      },
      "source": [
        "iris = sns.load_dataset('iris') # seaborn(sns) 패키지에 '이미 내장'되어 있는 데이터셋이기 때문에 이런 방식의 load가 가능! \n",
        "                                # 자신만의 데이터를 불러올 때는 다른 방법을 써야합니다.\n",
        "iris"
      ],
      "execution_count": null,
      "outputs": [
        {
          "output_type": "execute_result",
          "data": {
            "text/html": [
              "<div>\n",
              "<style scoped>\n",
              "    .dataframe tbody tr th:only-of-type {\n",
              "        vertical-align: middle;\n",
              "    }\n",
              "\n",
              "    .dataframe tbody tr th {\n",
              "        vertical-align: top;\n",
              "    }\n",
              "\n",
              "    .dataframe thead th {\n",
              "        text-align: right;\n",
              "    }\n",
              "</style>\n",
              "<table border=\"1\" class=\"dataframe\">\n",
              "  <thead>\n",
              "    <tr style=\"text-align: right;\">\n",
              "      <th></th>\n",
              "      <th>sepal_length</th>\n",
              "      <th>sepal_width</th>\n",
              "      <th>petal_length</th>\n",
              "      <th>petal_width</th>\n",
              "      <th>species</th>\n",
              "    </tr>\n",
              "  </thead>\n",
              "  <tbody>\n",
              "    <tr>\n",
              "      <th>0</th>\n",
              "      <td>5.1</td>\n",
              "      <td>3.5</td>\n",
              "      <td>1.4</td>\n",
              "      <td>0.2</td>\n",
              "      <td>setosa</td>\n",
              "    </tr>\n",
              "    <tr>\n",
              "      <th>1</th>\n",
              "      <td>4.9</td>\n",
              "      <td>3.0</td>\n",
              "      <td>1.4</td>\n",
              "      <td>0.2</td>\n",
              "      <td>setosa</td>\n",
              "    </tr>\n",
              "    <tr>\n",
              "      <th>2</th>\n",
              "      <td>4.7</td>\n",
              "      <td>3.2</td>\n",
              "      <td>1.3</td>\n",
              "      <td>0.2</td>\n",
              "      <td>setosa</td>\n",
              "    </tr>\n",
              "    <tr>\n",
              "      <th>3</th>\n",
              "      <td>4.6</td>\n",
              "      <td>3.1</td>\n",
              "      <td>1.5</td>\n",
              "      <td>0.2</td>\n",
              "      <td>setosa</td>\n",
              "    </tr>\n",
              "    <tr>\n",
              "      <th>4</th>\n",
              "      <td>5.0</td>\n",
              "      <td>3.6</td>\n",
              "      <td>1.4</td>\n",
              "      <td>0.2</td>\n",
              "      <td>setosa</td>\n",
              "    </tr>\n",
              "    <tr>\n",
              "      <th>...</th>\n",
              "      <td>...</td>\n",
              "      <td>...</td>\n",
              "      <td>...</td>\n",
              "      <td>...</td>\n",
              "      <td>...</td>\n",
              "    </tr>\n",
              "    <tr>\n",
              "      <th>145</th>\n",
              "      <td>6.7</td>\n",
              "      <td>3.0</td>\n",
              "      <td>5.2</td>\n",
              "      <td>2.3</td>\n",
              "      <td>virginica</td>\n",
              "    </tr>\n",
              "    <tr>\n",
              "      <th>146</th>\n",
              "      <td>6.3</td>\n",
              "      <td>2.5</td>\n",
              "      <td>5.0</td>\n",
              "      <td>1.9</td>\n",
              "      <td>virginica</td>\n",
              "    </tr>\n",
              "    <tr>\n",
              "      <th>147</th>\n",
              "      <td>6.5</td>\n",
              "      <td>3.0</td>\n",
              "      <td>5.2</td>\n",
              "      <td>2.0</td>\n",
              "      <td>virginica</td>\n",
              "    </tr>\n",
              "    <tr>\n",
              "      <th>148</th>\n",
              "      <td>6.2</td>\n",
              "      <td>3.4</td>\n",
              "      <td>5.4</td>\n",
              "      <td>2.3</td>\n",
              "      <td>virginica</td>\n",
              "    </tr>\n",
              "    <tr>\n",
              "      <th>149</th>\n",
              "      <td>5.9</td>\n",
              "      <td>3.0</td>\n",
              "      <td>5.1</td>\n",
              "      <td>1.8</td>\n",
              "      <td>virginica</td>\n",
              "    </tr>\n",
              "  </tbody>\n",
              "</table>\n",
              "<p>150 rows × 5 columns</p>\n",
              "</div>"
            ],
            "text/plain": [
              "     sepal_length  sepal_width  petal_length  petal_width    species\n",
              "0             5.1          3.5           1.4          0.2     setosa\n",
              "1             4.9          3.0           1.4          0.2     setosa\n",
              "2             4.7          3.2           1.3          0.2     setosa\n",
              "3             4.6          3.1           1.5          0.2     setosa\n",
              "4             5.0          3.6           1.4          0.2     setosa\n",
              "..            ...          ...           ...          ...        ...\n",
              "145           6.7          3.0           5.2          2.3  virginica\n",
              "146           6.3          2.5           5.0          1.9  virginica\n",
              "147           6.5          3.0           5.2          2.0  virginica\n",
              "148           6.2          3.4           5.4          2.3  virginica\n",
              "149           5.9          3.0           5.1          1.8  virginica\n",
              "\n",
              "[150 rows x 5 columns]"
            ]
          },
          "metadata": {
            "tags": []
          },
          "execution_count": 10
        }
      ]
    },
    {
      "cell_type": "code",
      "metadata": {
        "id": "WeGf-QfQWnG7"
      },
      "source": [
        ""
      ],
      "execution_count": null,
      "outputs": []
    },
    {
      "cell_type": "markdown",
      "metadata": {
        "id": "jwfcgEfacyZB"
      },
      "source": [
        "총 150개의 행으로 되어있는 것을 확인할 수 있습니다. (*데이터의 양)"
      ]
    },
    {
      "cell_type": "markdown",
      "metadata": {
        "id": "DYIVPd0Nov_y"
      },
      "source": [
        "### 2. tips_dataset 💵💰💸\n",
        "\n",
        "미국 레스토랑에서는 팁 문화가 발달되어 있어, 팁이 종업원의 급여에 많은 부분을 차지합니다.\n",
        "\n",
        "따라서 팁을 많이 줄 것 같은 손님을 한 종업원만 몰아서 받는다면 서로 싸우게 되겠죠?😰\n",
        "\n",
        "이러한 이유로 최대한 공평한 분배를 위해, 손님을 종업원에게 배정하는 매니저들은 손님의 팁을 예측하기 시작했습니다!\n",
        "\n",
        "\n",
        "\n",
        "\n"
      ]
    },
    {
      "cell_type": "code",
      "metadata": {
        "id": "5nFmd3H-qBR6",
        "colab": {
          "base_uri": "https://localhost:8080/",
          "height": 402
        },
        "outputId": "e856e51c-43e6-4774-f238-fbbf72c0225a"
      },
      "source": [
        "tips = sns.load_dataset('tips') # 마찬가지로, seaborn 패키지에 이미 내장된 'tips' 데이터셋 불러오기\n",
        "\n",
        "tips"
      ],
      "execution_count": null,
      "outputs": [
        {
          "output_type": "execute_result",
          "data": {
            "text/html": [
              "<div>\n",
              "<style scoped>\n",
              "    .dataframe tbody tr th:only-of-type {\n",
              "        vertical-align: middle;\n",
              "    }\n",
              "\n",
              "    .dataframe tbody tr th {\n",
              "        vertical-align: top;\n",
              "    }\n",
              "\n",
              "    .dataframe thead th {\n",
              "        text-align: right;\n",
              "    }\n",
              "</style>\n",
              "<table border=\"1\" class=\"dataframe\">\n",
              "  <thead>\n",
              "    <tr style=\"text-align: right;\">\n",
              "      <th></th>\n",
              "      <th>total_bill</th>\n",
              "      <th>tip</th>\n",
              "      <th>sex</th>\n",
              "      <th>smoker</th>\n",
              "      <th>day</th>\n",
              "      <th>time</th>\n",
              "      <th>size</th>\n",
              "    </tr>\n",
              "  </thead>\n",
              "  <tbody>\n",
              "    <tr>\n",
              "      <th>0</th>\n",
              "      <td>16.99</td>\n",
              "      <td>1.01</td>\n",
              "      <td>Female</td>\n",
              "      <td>No</td>\n",
              "      <td>Sun</td>\n",
              "      <td>Dinner</td>\n",
              "      <td>2</td>\n",
              "    </tr>\n",
              "    <tr>\n",
              "      <th>1</th>\n",
              "      <td>10.34</td>\n",
              "      <td>1.66</td>\n",
              "      <td>Male</td>\n",
              "      <td>No</td>\n",
              "      <td>Sun</td>\n",
              "      <td>Dinner</td>\n",
              "      <td>3</td>\n",
              "    </tr>\n",
              "    <tr>\n",
              "      <th>2</th>\n",
              "      <td>21.01</td>\n",
              "      <td>3.50</td>\n",
              "      <td>Male</td>\n",
              "      <td>No</td>\n",
              "      <td>Sun</td>\n",
              "      <td>Dinner</td>\n",
              "      <td>3</td>\n",
              "    </tr>\n",
              "    <tr>\n",
              "      <th>3</th>\n",
              "      <td>23.68</td>\n",
              "      <td>3.31</td>\n",
              "      <td>Male</td>\n",
              "      <td>No</td>\n",
              "      <td>Sun</td>\n",
              "      <td>Dinner</td>\n",
              "      <td>2</td>\n",
              "    </tr>\n",
              "    <tr>\n",
              "      <th>4</th>\n",
              "      <td>24.59</td>\n",
              "      <td>3.61</td>\n",
              "      <td>Female</td>\n",
              "      <td>No</td>\n",
              "      <td>Sun</td>\n",
              "      <td>Dinner</td>\n",
              "      <td>4</td>\n",
              "    </tr>\n",
              "    <tr>\n",
              "      <th>...</th>\n",
              "      <td>...</td>\n",
              "      <td>...</td>\n",
              "      <td>...</td>\n",
              "      <td>...</td>\n",
              "      <td>...</td>\n",
              "      <td>...</td>\n",
              "      <td>...</td>\n",
              "    </tr>\n",
              "    <tr>\n",
              "      <th>239</th>\n",
              "      <td>29.03</td>\n",
              "      <td>5.92</td>\n",
              "      <td>Male</td>\n",
              "      <td>No</td>\n",
              "      <td>Sat</td>\n",
              "      <td>Dinner</td>\n",
              "      <td>3</td>\n",
              "    </tr>\n",
              "    <tr>\n",
              "      <th>240</th>\n",
              "      <td>27.18</td>\n",
              "      <td>2.00</td>\n",
              "      <td>Female</td>\n",
              "      <td>Yes</td>\n",
              "      <td>Sat</td>\n",
              "      <td>Dinner</td>\n",
              "      <td>2</td>\n",
              "    </tr>\n",
              "    <tr>\n",
              "      <th>241</th>\n",
              "      <td>22.67</td>\n",
              "      <td>2.00</td>\n",
              "      <td>Male</td>\n",
              "      <td>Yes</td>\n",
              "      <td>Sat</td>\n",
              "      <td>Dinner</td>\n",
              "      <td>2</td>\n",
              "    </tr>\n",
              "    <tr>\n",
              "      <th>242</th>\n",
              "      <td>17.82</td>\n",
              "      <td>1.75</td>\n",
              "      <td>Male</td>\n",
              "      <td>No</td>\n",
              "      <td>Sat</td>\n",
              "      <td>Dinner</td>\n",
              "      <td>2</td>\n",
              "    </tr>\n",
              "    <tr>\n",
              "      <th>243</th>\n",
              "      <td>18.78</td>\n",
              "      <td>3.00</td>\n",
              "      <td>Female</td>\n",
              "      <td>No</td>\n",
              "      <td>Thur</td>\n",
              "      <td>Dinner</td>\n",
              "      <td>2</td>\n",
              "    </tr>\n",
              "  </tbody>\n",
              "</table>\n",
              "<p>244 rows × 7 columns</p>\n",
              "</div>"
            ],
            "text/plain": [
              "     total_bill   tip     sex smoker   day    time  size\n",
              "0         16.99  1.01  Female     No   Sun  Dinner     2\n",
              "1         10.34  1.66    Male     No   Sun  Dinner     3\n",
              "2         21.01  3.50    Male     No   Sun  Dinner     3\n",
              "3         23.68  3.31    Male     No   Sun  Dinner     2\n",
              "4         24.59  3.61  Female     No   Sun  Dinner     4\n",
              "..          ...   ...     ...    ...   ...     ...   ...\n",
              "239       29.03  5.92    Male     No   Sat  Dinner     3\n",
              "240       27.18  2.00  Female    Yes   Sat  Dinner     2\n",
              "241       22.67  2.00    Male    Yes   Sat  Dinner     2\n",
              "242       17.82  1.75    Male     No   Sat  Dinner     2\n",
              "243       18.78  3.00  Female     No  Thur  Dinner     2\n",
              "\n",
              "[244 rows x 7 columns]"
            ]
          },
          "metadata": {
            "tags": []
          },
          "execution_count": 11
        }
      ]
    },
    {
      "cell_type": "markdown",
      "metadata": {
        "id": "_xwOnnRJqGCn"
      },
      "source": [
        "**👀 다양한 Feature(X : 성별, 흡연 여부 등)를 활용해서, Label(Y : 팁)을 예측해봐요.** \n",
        "> **Feature(X, 독립 변수)**\n",
        "- total_bill = 총 금액  \n",
        "- sex =  계산한 사람의 성별  \n",
        "- smoker = 흡연 여부 \n",
        "- day = 요일  \n",
        "- time = 런치 or 디너  \n",
        "- size = 테이블당 사람 수 \n",
        "\n",
        "> **Label(Y, 종속변수)**\n",
        "- tip = 팁 금액\n",
        "\n",
        "\n",
        "\n",
        "\n"
      ]
    },
    {
      "cell_type": "markdown",
      "metadata": {
        "id": "GYaxegZIqVBI"
      },
      "source": [
        "### 3. titanic_dataset 🛥🚤⛴\n",
        "\n",
        "마지막으로 타이타닉 데이터셋을 불러와 봅시다.  \n",
        "타이나틱 데이터셋은 실제 타이타닉호에 탑승했던 승객들의 정보(성별, 나이 등)를 담고 있습니다.  \n",
        "이를 바탕으로 승객의 생존 여부 또는 생존율을 예측하는 데 활용됩니다.\n"
      ]
    },
    {
      "cell_type": "code",
      "metadata": {
        "id": "vGNVabQSqbc6",
        "colab": {
          "base_uri": "https://localhost:8080/",
          "height": 402
        },
        "outputId": "ff98af7f-0fa9-41e2-bb4f-e33100a7721e"
      },
      "source": [
        "titanic = sns.load_dataset('titanic')  # seaborn 패키지에 내장된 'titanic' 데이터셋 불러오기\n",
        "\n",
        "titanic"
      ],
      "execution_count": null,
      "outputs": [
        {
          "output_type": "execute_result",
          "data": {
            "text/html": [
              "<div>\n",
              "<style scoped>\n",
              "    .dataframe tbody tr th:only-of-type {\n",
              "        vertical-align: middle;\n",
              "    }\n",
              "\n",
              "    .dataframe tbody tr th {\n",
              "        vertical-align: top;\n",
              "    }\n",
              "\n",
              "    .dataframe thead th {\n",
              "        text-align: right;\n",
              "    }\n",
              "</style>\n",
              "<table border=\"1\" class=\"dataframe\">\n",
              "  <thead>\n",
              "    <tr style=\"text-align: right;\">\n",
              "      <th></th>\n",
              "      <th>survived</th>\n",
              "      <th>pclass</th>\n",
              "      <th>sex</th>\n",
              "      <th>age</th>\n",
              "      <th>sibsp</th>\n",
              "      <th>parch</th>\n",
              "      <th>fare</th>\n",
              "      <th>embarked</th>\n",
              "      <th>class</th>\n",
              "      <th>who</th>\n",
              "      <th>adult_male</th>\n",
              "      <th>deck</th>\n",
              "      <th>embark_town</th>\n",
              "      <th>alive</th>\n",
              "      <th>alone</th>\n",
              "    </tr>\n",
              "  </thead>\n",
              "  <tbody>\n",
              "    <tr>\n",
              "      <th>0</th>\n",
              "      <td>0</td>\n",
              "      <td>3</td>\n",
              "      <td>male</td>\n",
              "      <td>22.0</td>\n",
              "      <td>1</td>\n",
              "      <td>0</td>\n",
              "      <td>7.2500</td>\n",
              "      <td>S</td>\n",
              "      <td>Third</td>\n",
              "      <td>man</td>\n",
              "      <td>True</td>\n",
              "      <td>NaN</td>\n",
              "      <td>Southampton</td>\n",
              "      <td>no</td>\n",
              "      <td>False</td>\n",
              "    </tr>\n",
              "    <tr>\n",
              "      <th>1</th>\n",
              "      <td>1</td>\n",
              "      <td>1</td>\n",
              "      <td>female</td>\n",
              "      <td>38.0</td>\n",
              "      <td>1</td>\n",
              "      <td>0</td>\n",
              "      <td>71.2833</td>\n",
              "      <td>C</td>\n",
              "      <td>First</td>\n",
              "      <td>woman</td>\n",
              "      <td>False</td>\n",
              "      <td>C</td>\n",
              "      <td>Cherbourg</td>\n",
              "      <td>yes</td>\n",
              "      <td>False</td>\n",
              "    </tr>\n",
              "    <tr>\n",
              "      <th>2</th>\n",
              "      <td>1</td>\n",
              "      <td>3</td>\n",
              "      <td>female</td>\n",
              "      <td>26.0</td>\n",
              "      <td>0</td>\n",
              "      <td>0</td>\n",
              "      <td>7.9250</td>\n",
              "      <td>S</td>\n",
              "      <td>Third</td>\n",
              "      <td>woman</td>\n",
              "      <td>False</td>\n",
              "      <td>NaN</td>\n",
              "      <td>Southampton</td>\n",
              "      <td>yes</td>\n",
              "      <td>True</td>\n",
              "    </tr>\n",
              "    <tr>\n",
              "      <th>3</th>\n",
              "      <td>1</td>\n",
              "      <td>1</td>\n",
              "      <td>female</td>\n",
              "      <td>35.0</td>\n",
              "      <td>1</td>\n",
              "      <td>0</td>\n",
              "      <td>53.1000</td>\n",
              "      <td>S</td>\n",
              "      <td>First</td>\n",
              "      <td>woman</td>\n",
              "      <td>False</td>\n",
              "      <td>C</td>\n",
              "      <td>Southampton</td>\n",
              "      <td>yes</td>\n",
              "      <td>False</td>\n",
              "    </tr>\n",
              "    <tr>\n",
              "      <th>4</th>\n",
              "      <td>0</td>\n",
              "      <td>3</td>\n",
              "      <td>male</td>\n",
              "      <td>35.0</td>\n",
              "      <td>0</td>\n",
              "      <td>0</td>\n",
              "      <td>8.0500</td>\n",
              "      <td>S</td>\n",
              "      <td>Third</td>\n",
              "      <td>man</td>\n",
              "      <td>True</td>\n",
              "      <td>NaN</td>\n",
              "      <td>Southampton</td>\n",
              "      <td>no</td>\n",
              "      <td>True</td>\n",
              "    </tr>\n",
              "    <tr>\n",
              "      <th>...</th>\n",
              "      <td>...</td>\n",
              "      <td>...</td>\n",
              "      <td>...</td>\n",
              "      <td>...</td>\n",
              "      <td>...</td>\n",
              "      <td>...</td>\n",
              "      <td>...</td>\n",
              "      <td>...</td>\n",
              "      <td>...</td>\n",
              "      <td>...</td>\n",
              "      <td>...</td>\n",
              "      <td>...</td>\n",
              "      <td>...</td>\n",
              "      <td>...</td>\n",
              "      <td>...</td>\n",
              "    </tr>\n",
              "    <tr>\n",
              "      <th>886</th>\n",
              "      <td>0</td>\n",
              "      <td>2</td>\n",
              "      <td>male</td>\n",
              "      <td>27.0</td>\n",
              "      <td>0</td>\n",
              "      <td>0</td>\n",
              "      <td>13.0000</td>\n",
              "      <td>S</td>\n",
              "      <td>Second</td>\n",
              "      <td>man</td>\n",
              "      <td>True</td>\n",
              "      <td>NaN</td>\n",
              "      <td>Southampton</td>\n",
              "      <td>no</td>\n",
              "      <td>True</td>\n",
              "    </tr>\n",
              "    <tr>\n",
              "      <th>887</th>\n",
              "      <td>1</td>\n",
              "      <td>1</td>\n",
              "      <td>female</td>\n",
              "      <td>19.0</td>\n",
              "      <td>0</td>\n",
              "      <td>0</td>\n",
              "      <td>30.0000</td>\n",
              "      <td>S</td>\n",
              "      <td>First</td>\n",
              "      <td>woman</td>\n",
              "      <td>False</td>\n",
              "      <td>B</td>\n",
              "      <td>Southampton</td>\n",
              "      <td>yes</td>\n",
              "      <td>True</td>\n",
              "    </tr>\n",
              "    <tr>\n",
              "      <th>888</th>\n",
              "      <td>0</td>\n",
              "      <td>3</td>\n",
              "      <td>female</td>\n",
              "      <td>NaN</td>\n",
              "      <td>1</td>\n",
              "      <td>2</td>\n",
              "      <td>23.4500</td>\n",
              "      <td>S</td>\n",
              "      <td>Third</td>\n",
              "      <td>woman</td>\n",
              "      <td>False</td>\n",
              "      <td>NaN</td>\n",
              "      <td>Southampton</td>\n",
              "      <td>no</td>\n",
              "      <td>False</td>\n",
              "    </tr>\n",
              "    <tr>\n",
              "      <th>889</th>\n",
              "      <td>1</td>\n",
              "      <td>1</td>\n",
              "      <td>male</td>\n",
              "      <td>26.0</td>\n",
              "      <td>0</td>\n",
              "      <td>0</td>\n",
              "      <td>30.0000</td>\n",
              "      <td>C</td>\n",
              "      <td>First</td>\n",
              "      <td>man</td>\n",
              "      <td>True</td>\n",
              "      <td>C</td>\n",
              "      <td>Cherbourg</td>\n",
              "      <td>yes</td>\n",
              "      <td>True</td>\n",
              "    </tr>\n",
              "    <tr>\n",
              "      <th>890</th>\n",
              "      <td>0</td>\n",
              "      <td>3</td>\n",
              "      <td>male</td>\n",
              "      <td>32.0</td>\n",
              "      <td>0</td>\n",
              "      <td>0</td>\n",
              "      <td>7.7500</td>\n",
              "      <td>Q</td>\n",
              "      <td>Third</td>\n",
              "      <td>man</td>\n",
              "      <td>True</td>\n",
              "      <td>NaN</td>\n",
              "      <td>Queenstown</td>\n",
              "      <td>no</td>\n",
              "      <td>True</td>\n",
              "    </tr>\n",
              "  </tbody>\n",
              "</table>\n",
              "<p>891 rows × 15 columns</p>\n",
              "</div>"
            ],
            "text/plain": [
              "     survived  pclass     sex   age  ...  deck  embark_town  alive  alone\n",
              "0           0       3    male  22.0  ...   NaN  Southampton     no  False\n",
              "1           1       1  female  38.0  ...     C    Cherbourg    yes  False\n",
              "2           1       3  female  26.0  ...   NaN  Southampton    yes   True\n",
              "3           1       1  female  35.0  ...     C  Southampton    yes  False\n",
              "4           0       3    male  35.0  ...   NaN  Southampton     no   True\n",
              "..        ...     ...     ...   ...  ...   ...          ...    ...    ...\n",
              "886         0       2    male  27.0  ...   NaN  Southampton     no   True\n",
              "887         1       1  female  19.0  ...     B  Southampton    yes   True\n",
              "888         0       3  female   NaN  ...   NaN  Southampton     no  False\n",
              "889         1       1    male  26.0  ...     C    Cherbourg    yes   True\n",
              "890         0       3    male  32.0  ...   NaN   Queenstown     no   True\n",
              "\n",
              "[891 rows x 15 columns]"
            ]
          },
          "metadata": {
            "tags": []
          },
          "execution_count": 12
        }
      ]
    },
    {
      "cell_type": "markdown",
      "metadata": {
        "id": "s8y82kevIJ2H"
      },
      "source": [
        "👀 **승객들의 다양한 정보(X, Feature)를 바탕으로 생존 여부(Y, Label)를 예측해봐요.**\n",
        "> **Feature(X, 독립 변수)**\n",
        "- pclass = 티켓의 등급\n",
        "- sex = 성별\n",
        "- age = 나이\n",
        "- sibsp = 동승한 형제 자매 / 배우자 수\n",
        "- parch = 동승한 부모 / 자식 수\n",
        "- fare = 요금\n",
        "- embarked = 승선항   \n",
        "등등...\n",
        "\n",
        "> **Label(Y, 종속 변수)**\n",
        "- survived = 생존 여부"
      ]
    },
    {
      "cell_type": "markdown",
      "metadata": {
        "id": "K3aIT_ZGsUaK"
      },
      "source": [
        "## 📌 Step3. 데이터 시각화 \n",
        "![대체 텍스트](https://cdn.datafloq.com/cache/blog_pictures/878x531/best-libraries-platforms-data-visualization.jpg)\n",
        "\n",
        "### **데이터의 종류(형태) 파악하기 ⚽🏀🏈⚾**\n",
        "먼저, 각 feature의 **데이터** **형태**를 파악해야 어떠한 그래프(plot)로 시각화 할 지 선택가능합니다😀\n",
        "\n",
        "> ✔ 📈 **Numerical (수치형) 또는 Quantitative (양적) 데이터**\n",
        ">> - Discrete (이산형, 불연속형) 데이터  \n",
        "     : 숫자로 셀 수 있는 것, 특정 값, 정수형태 (*1개, 2명 등)\n",
        "\n",
        ">> - Continuous (연속형) 데이터  \n",
        "     : 측정해야 하는 것, 연속 범위 내 실수값 (*온도(21.3℃), 무게(72.5kg), 길이(183m), 비율(57%) 등)\n",
        "\n",
        "> **✔ 📊 Categorical (범주형) 또는 Qualitative (질적) 데이터**\n",
        ">> - Nominal (명목형) 데이터  \n",
        "     : 순서가 없는 것 (*성별, 동물의 종류 등)  \n",
        "\n",
        ">> - Ordinal (순서형) 데이터  \n",
        "     : 순서가 있는 것 (수능 등급, 좌석 등급, 순위 등)"
      ]
    },
    {
      "cell_type": "markdown",
      "metadata": {
        "id": "qvHsxRUosWxj"
      },
      "source": [
        "### **1차원 시각화** \n",
        "\n",
        "1차원, 즉 **변수(feature) 한 개**의 분포를 알아보기 위한 시각화입니다. \n",
        "\n",
        "> distplot  : `sns.distplot()`  \n",
        "> countplot : `sns.countplot()`"
      ]
    },
    {
      "cell_type": "markdown",
      "metadata": {
        "id": "uKTl8d5Qs8TK"
      },
      "source": [
        "#### **분포**를 알아보기위한 **distplot**\n",
        "> - `hist = True` : 히스토그램 On!\n",
        "> - `kde = True` : 커널밀도추정 On!  \n",
        "> ※ kde는 'kernel density estimate'의 약자로서,  \n",
        "     히스토그램보다 부드러운 형태의 분포 곡선을 보여주는 방법입니다.\n"
      ]
    },
    {
      "cell_type": "code",
      "metadata": {
        "id": "_mlF8ALmsgg3",
        "colab": {
          "base_uri": "https://localhost:8080/",
          "height": 354
        },
        "outputId": "78913b10-b29f-48ba-a3b8-b472ce5e2fcb"
      },
      "source": [
        "sns.distplot(iris['petal_width'], bins=30)\n",
        "# hist=True, kde=False : 히스토그램(막대그래프)만 보이는 상태\n",
        "#bins = 촘촘? kde =true (밀도함수)"
      ],
      "execution_count": null,
      "outputs": [
        {
          "output_type": "stream",
          "text": [
            "/usr/local/lib/python3.6/dist-packages/seaborn/distributions.py:2551: FutureWarning: `distplot` is a deprecated function and will be removed in a future version. Please adapt your code to use either `displot` (a figure-level function with similar flexibility) or `histplot` (an axes-level function for histograms).\n",
            "  warnings.warn(msg, FutureWarning)\n"
          ],
          "name": "stderr"
        },
        {
          "output_type": "execute_result",
          "data": {
            "text/plain": [
              "<matplotlib.axes._subplots.AxesSubplot at 0x7fd57db41518>"
            ]
          },
          "metadata": {
            "tags": []
          },
          "execution_count": 13
        },
        {
          "output_type": "display_data",
          "data": {
            "image/png": "[encoded data removed]",
            "text/plain": [
              "<Figure size 432x288 with 1 Axes>"
            ]
          },
          "metadata": {
            "tags": [],
            "needs_background": "light"
          }
        }
      ]
    },
    {
      "cell_type": "code",
      "metadata": {
        "colab": {
          "base_uri": "https://localhost:8080/",
          "height": 386
        },
        "id": "wt_8zbVlZBWw",
        "outputId": "fe987a4e-b7a8-48a0-b67b-35b6a89ece5e"
      },
      "source": [
        "sns.displot(iris['petal_width'], kde=True)"
      ],
      "execution_count": null,
      "outputs": [
        {
          "output_type": "execute_result",
          "data": {
            "text/plain": [
              "<seaborn.axisgrid.FacetGrid at 0x7fd57da475c0>"
            ]
          },
          "metadata": {
            "tags": []
          },
          "execution_count": 14
        },
        {
          "output_type": "display_data",
          "data": {
            "image/png": "[encoded data removed]",
            "text/plain": [
              "<Figure size 360x360 with 1 Axes>"
            ]
          },
          "metadata": {
            "tags": [],
            "needs_background": "light"
          }
        }
      ]
    },
    {
      "cell_type": "code",
      "metadata": {
        "id": "eMBWMsooZch-"
      },
      "source": [
        "#histoplot"
      ],
      "execution_count": null,
      "outputs": []
    },
    {
      "cell_type": "markdown",
      "metadata": {
        "id": "Qf8uV75buDMS"
      },
      "source": [
        "위와 같이 분포를 계산하여 그래프를 그려줍니다.  \n",
        "\n",
        "> 한 번 bins를 10에서 30으로 변경해볼까요?"
      ]
    },
    {
      "cell_type": "code",
      "metadata": {
        "id": "HKGeqDORtwoy",
        "colab": {
          "base_uri": "https://localhost:8080/",
          "height": 298
        },
        "outputId": "cccfd45b-cf71-4f9e-8b00-d8be7a5026a9"
      },
      "source": [
        "sns.histplot(iris['petal_width'], bins=10)\n",
        "# bins 를 늘릴수록 구간이 더 촘촘하게 설정되는 것을 볼 수 있습니다."
      ],
      "execution_count": null,
      "outputs": [
        {
          "output_type": "execute_result",
          "data": {
            "text/plain": [
              "<matplotlib.axes._subplots.AxesSubplot at 0x7fd57da79470>"
            ]
          },
          "metadata": {
            "tags": []
          },
          "execution_count": 16
        },
        {
          "output_type": "display_data",
          "data": {
            "image/png": "[encoded data removed]",
            "text/plain": [
              "<Figure size 432x288 with 1 Axes>"
            ]
          },
          "metadata": {
            "tags": [],
            "needs_background": "light"
          }
        }
      ]
    },
    {
      "cell_type": "markdown",
      "metadata": {
        "id": "2k_ek2BFdiL6"
      },
      "source": [
        "> kde의 값을 False에서 True로 변경해볼까요?"
      ]
    },
    {
      "cell_type": "code",
      "metadata": {
        "id": "EQiVc1-wuGMr",
        "colab": {
          "base_uri": "https://localhost:8080/",
          "height": 298
        },
        "outputId": "341789be-cdbc-4620-8eef-96c1799c483a"
      },
      "source": [
        "sns.histplot(iris['petal_width'], bins=30)\n",
        "# 한번에 histogram 그래프와 kde 곡선을 볼 수 있습니다. "
      ],
      "execution_count": null,
      "outputs": [
        {
          "output_type": "execute_result",
          "data": {
            "text/plain": [
              "<matplotlib.axes._subplots.AxesSubplot at 0x7fd579a81550>"
            ]
          },
          "metadata": {
            "tags": []
          },
          "execution_count": 17
        },
        {
          "output_type": "display_data",
          "data": {
            "image/png": "[encoded data removed]",
            "text/plain": [
              "<Figure size 432x288 with 1 Axes>"
            ]
          },
          "metadata": {
            "tags": [],
            "needs_background": "light"
          }
        }
      ]
    },
    {
      "cell_type": "code",
      "metadata": {
        "colab": {
          "base_uri": "https://localhost:8080/",
          "height": 298
        },
        "id": "vfS6dJ9lZykw",
        "outputId": "ca18c082-e4a1-46b5-ca5e-d967e7a625df"
      },
      "source": [
        "sns.histplot(iris['petal_width'], kde=True)"
      ],
      "execution_count": null,
      "outputs": [
        {
          "output_type": "execute_result",
          "data": {
            "text/plain": [
              "<matplotlib.axes._subplots.AxesSubplot at 0x7fd579935400>"
            ]
          },
          "metadata": {
            "tags": []
          },
          "execution_count": 18
        },
        {
          "output_type": "display_data",
          "data": {
            "image/png": "[encoded data removed]",
            "text/plain": [
              "<Figure size 432x288 with 1 Axes>"
            ]
          },
          "metadata": {
            "tags": [],
            "needs_background": "light"
          }
        }
      ]
    },
    {
      "cell_type": "markdown",
      "metadata": {
        "id": "hErow5NTucob"
      },
      "source": [
        "> 🔍 예제 : iris_dataset의 나머지 feature 들도 시각화 해보세요 "
      ]
    },
    {
      "cell_type": "code",
      "metadata": {
        "id": "cGr_K_GQtx_5",
        "colab": {
          "base_uri": "https://localhost:8080/",
          "height": 298
        },
        "outputId": "a918a376-bc5d-43a9-9942-39170eb6f0f9"
      },
      "source": [
        "# 여기에 예제를 작성해볼까요?\n",
        "sns.histplot(iris['sepal_width'], kde=True)"
      ],
      "execution_count": null,
      "outputs": [
        {
          "output_type": "execute_result",
          "data": {
            "text/plain": [
              "<matplotlib.axes._subplots.AxesSubplot at 0x7fd5799a1c88>"
            ]
          },
          "metadata": {
            "tags": []
          },
          "execution_count": 19
        },
        {
          "output_type": "display_data",
          "data": {
            "image/png": "[encoded data removed]",
            "text/plain": [
              "<Figure size 432x288 with 1 Axes>"
            ]
          },
          "metadata": {
            "tags": [],
            "needs_background": "light"
          }
        }
      ]
    },
    {
      "cell_type": "code",
      "metadata": {
        "colab": {
          "base_uri": "https://localhost:8080/",
          "height": 298
        },
        "id": "NIjLcLKhaTHO",
        "outputId": "3df639da-8d58-4082-d8b4-554639327403"
      },
      "source": [
        "sns.histplot(iris['sepal_width'])"
      ],
      "execution_count": null,
      "outputs": [
        {
          "output_type": "execute_result",
          "data": {
            "text/plain": [
              "<matplotlib.axes._subplots.AxesSubplot at 0x7fd5798971d0>"
            ]
          },
          "metadata": {
            "tags": []
          },
          "execution_count": 20
        },
        {
          "output_type": "display_data",
          "data": {
            "image/png": "[encoded data removed]",
            "text/plain": [
              "<Figure size 432x288 with 1 Axes>"
            ]
          },
          "metadata": {
            "tags": [],
            "needs_background": "light"
          }
        }
      ]
    },
    {
      "cell_type": "code",
      "metadata": {
        "colab": {
          "base_uri": "https://localhost:8080/",
          "height": 298
        },
        "id": "j0L5mpIRaWwq",
        "outputId": "937723af-e973-47dd-dbc2-7331e296d560"
      },
      "source": [
        "sns.histplot(iris['sepal_width'], bins=30)"
      ],
      "execution_count": null,
      "outputs": [
        {
          "output_type": "execute_result",
          "data": {
            "text/plain": [
              "<matplotlib.axes._subplots.AxesSubplot at 0x7fd5797bdbe0>"
            ]
          },
          "metadata": {
            "tags": []
          },
          "execution_count": 21
        },
        {
          "output_type": "display_data",
          "data": {
            "image/png": "[encoded data removed]",
            "text/plain": [
              "<Figure size 432x288 with 1 Axes>"
            ]
          },
          "metadata": {
            "tags": [],
            "needs_background": "light"
          }
        }
      ]
    },
    {
      "cell_type": "code",
      "metadata": {
        "colab": {
          "base_uri": "https://localhost:8080/",
          "height": 298
        },
        "id": "QFnESq02bEv5",
        "outputId": "d3ffaa30-c6c1-4241-dfaa-0aa880094753"
      },
      "source": [
        "sns.histplot(iris['petal_length'], kde=False, label='petal', color='red', alpha=1/2) #수업다시보자\n",
        "#alpha = 투명도"
      ],
      "execution_count": null,
      "outputs": [
        {
          "output_type": "execute_result",
          "data": {
            "text/plain": [
              "<matplotlib.axes._subplots.AxesSubplot at 0x7fd579a7ce80>"
            ]
          },
          "metadata": {
            "tags": []
          },
          "execution_count": 22
        },
        {
          "output_type": "display_data",
          "data": {
            "image/png": "[encoded data removed]",
            "text/plain": [
              "<Figure size 432x288 with 1 Axes>"
            ]
          },
          "metadata": {
            "tags": [],
            "needs_background": "light"
          }
        }
      ]
    },
    {
      "cell_type": "code",
      "metadata": {
        "id": "h0hUybyEasER",
        "colab": {
          "base_uri": "https://localhost:8080/",
          "height": 282
        },
        "outputId": "24616436-963c-4262-ae90-9c2226c12911"
      },
      "source": [
        "plt.plot(0, 0, 'kx')\n",
        "plt.plot(1, 1, 'bx')"
      ],
      "execution_count": null,
      "outputs": [
        {
          "output_type": "execute_result",
          "data": {
            "text/plain": [
              "[<matplotlib.lines.Line2D at 0x7fd57966be10>]"
            ]
          },
          "metadata": {
            "tags": []
          },
          "execution_count": 23
        },
        {
          "output_type": "display_data",
          "data": {
            "image/png": "[encoded data removed]",
            "text/plain": [
              "<Figure size 432x288 with 1 Axes>"
            ]
          },
          "metadata": {
            "tags": [],
            "needs_background": "light"
          }
        }
      ]
    },
    {
      "cell_type": "code",
      "metadata": {
        "colab": {
          "base_uri": "https://localhost:8080/",
          "height": 296
        },
        "id": "Tu6JEm2ZYtrF",
        "outputId": "4ce5aba1-1623-476a-a7b3-6da7ec516a85"
      },
      "source": [
        "sns.histplot(iris['petal_length'], kde=False, color='red')\n",
        "sns.histplot(iris['sepal_length'], kde=False, color='blue')\n",
        "plt.legend(['petal', 'segal'])\n",
        "plt.title('iris length')\n",
        "plt.show()"
      ],
      "execution_count": null,
      "outputs": [
        {
          "output_type": "display_data",
          "data": {
            "image/png": "[encoded data removed]",
            "text/plain": [
              "<Figure size 432x288 with 1 Axes>"
            ]
          },
          "metadata": {
            "tags": [],
            "needs_background": "light"
          }
        }
      ]
    },
    {
      "cell_type": "markdown",
      "metadata": {
        "id": "S0rNbaiX5Sen"
      },
      "source": [
        "---\n",
        "\n",
        "#### **범주형 변수의 분포**를 알아보기 위한 **countplot**\n",
        "\n",
        "**distplot**은 **numerical 데이터를 한눈에 알아보기에 용이**하지만,  \n",
        "형태가 **categorical 데이터인 경우에는 적용할 수 없다**는 단점이 있습니다. \n",
        "\n",
        "그럴 때 사용하는 것이 **countplot**입니다! \n",
        "\n",
        "> iris_dataset 중 'species' 열을 countplot 하기"
      ]
    },
    {
      "cell_type": "code",
      "metadata": {
        "colab": {
          "base_uri": "https://localhost:8080/",
          "height": 279
        },
        "id": "tQls_2Blb-hy",
        "outputId": "53f13e6d-5828-4f26-f9a4-d8e1a3894c59"
      },
      "source": [
        "#sns.countplot(iris['species'])\n",
        "sns.countplot(data=iris, y='species')\n",
        "plt.show()\n",
        "#가로뭐지???"
      ],
      "execution_count": null,
      "outputs": [
        {
          "output_type": "display_data",
          "data": {
            "image/png": "[encoded data removed]",
            "text/plain": [
              "<Figure size 432x288 with 1 Axes>"
            ]
          },
          "metadata": {
            "tags": [],
            "needs_background": "light"
          }
        }
      ]
    },
    {
      "cell_type": "code",
      "metadata": {
        "id": "FenW2EWS5jZY",
        "colab": {
          "base_uri": "https://localhost:8080/",
          "height": 134
        },
        "outputId": "98b6d318-d7d0-4147-98cd-9f6d0d46aa68"
      },
      "source": [
        "iris = sns.load_dataset('iris')\n",
        "sns.???"
      ],
      "execution_count": null,
      "outputs": [
        {
          "output_type": "error",
          "ename": "SyntaxError",
          "evalue": "ignored",
          "traceback": [
            "\u001b[0;36m  File \u001b[0;32m\"<ipython-input-26-deab015eb2f2>\"\u001b[0;36m, line \u001b[0;32m2\u001b[0m\n\u001b[0;31m    sns.???\u001b[0m\n\u001b[0m        ^\u001b[0m\n\u001b[0;31mSyntaxError\u001b[0m\u001b[0;31m:\u001b[0m invalid syntax\n"
          ]
        }
      ]
    },
    {
      "cell_type": "markdown",
      "metadata": {
        "id": "gaZZdCLjjag1"
      },
      "source": [
        "countplot의 결과, iris_dataset의 세가지 species는 각각 동일한 분포를 가지고 있음을 확인할 수 있습니다.\n",
        "\n",
        "> 다음은 tips_dataset에서 '요일'별 팁의 분포입니다.\n"
      ]
    },
    {
      "cell_type": "code",
      "metadata": {
        "id": "otJStEYiclcT"
      },
      "source": [
        "sns.countplot(data=tips, x='day')\n",
        "plt.show()"
      ],
      "execution_count": null,
      "outputs": []
    },
    {
      "cell_type": "code",
      "metadata": {
        "id": "jLG8YD3c59q-"
      },
      "source": [
        "tips = sns.load_dataset('tips')\n",
        "sns.???"
      ],
      "execution_count": null,
      "outputs": []
    },
    {
      "cell_type": "markdown",
      "metadata": {
        "id": "vGeaeduX6WjR"
      },
      "source": [
        "> 🔍 예제 : titatnic_dataset의 'pclass' feature 를 활용해서, \n",
        "각 클래스별 승객수를 시각화해보세요"
      ]
    },
    {
      "cell_type": "code",
      "metadata": {
        "id": "02wz-Kh_6hT4"
      },
      "source": [
        "# 여기에 작성하기!\n",
        "sns.set_theme(style=\"darkgrid\")\n",
        "sns.countplot(data=titanic, x='pclass')\n",
        "plt.show()"
      ],
      "execution_count": null,
      "outputs": []
    },
    {
      "cell_type": "markdown",
      "metadata": {
        "id": "tdVvX3zD6jVq"
      },
      "source": [
        "### **2차원 시각화** \n",
        "\n",
        "지금까지 1차원, 즉 한 개의 feature 만을 가지고 시각화 하는 방법을 보았습니다.   \n",
        "이번에는 2차원, 즉 두 개 이상의 feature 간에 상관관계를 분석할 때 사용하는 시각화 기법을 알아 보겠습니다.  \n",
        "> 🙉 여기서 잠깐!! feature가 열 또는 변수를 의미한다는 것은 기억하시겠죠?\n"
      ]
    },
    {
      "cell_type": "markdown",
      "metadata": {
        "id": "DPsjJqxb6y_f"
      },
      "source": [
        "#### **수치형 변수 간의 관계**를 보여주는 **scatter plot (산점도)**\n",
        "\n",
        "만약 시각화하고자 하는 값이 **모두 numerical data** 라면, scatter plot 을 이용해서 시각화 할 수 있습니다. \n",
        "\n",
        "🤩 아래의 **relplot** 함수를 사용하여 'total_bill' 과 'tip' feature의 관계를 살펴 볼 수 있습니다.  \n",
        "> - `sns.relplot(x=\"X값\", y= \"Y값\", data = 데이터셋)`\n"
      ]
    },
    {
      "cell_type": "code",
      "metadata": {
        "id": "7S-ZeiZh7PRx"
      },
      "source": [
        "sns.relplot(data=tips, x='total_bill', y='tip')\n",
        "plt.show()\n",
        "# total_bill 이 늘어날수록 tip 또한 맞춰서 증가하는 경향을 볼 수 있습니다. "
      ],
      "execution_count": null,
      "outputs": []
    },
    {
      "cell_type": "markdown",
      "metadata": {
        "id": "4sNAekvo8PQC"
      },
      "source": [
        "> 🔍예제 : tips_dataset 의 'size' 와 'total_bill' feature의 관계를 시각화해보세요. \n"
      ]
    },
    {
      "cell_type": "code",
      "metadata": {
        "id": "aCLMuyi18WP_"
      },
      "source": [
        "# 여기에 작성해주세요\n",
        "sns.relplot(data=tips, x='size', y='total_bill')"
      ],
      "execution_count": null,
      "outputs": []
    },
    {
      "cell_type": "markdown",
      "metadata": {
        "id": "JHFXFahh8Xmn"
      },
      "source": [
        "🤩 **pairplot** 함수를 사용하면, 데이터셋의 **모든 numerical feature**들 간의 2차원 scatterplot 을 그려주게 됩니다.  \n",
        "\n",
        "> - `sns.pairplot(데이터셋)`"
      ]
    },
    {
      "cell_type": "code",
      "metadata": {
        "id": "lnDljZ-h7fm8"
      },
      "source": [
        "sns.pairplot(tips)"
      ],
      "execution_count": null,
      "outputs": []
    },
    {
      "cell_type": "markdown",
      "metadata": {
        "id": "NtFu4Opa8wiq"
      },
      "source": [
        "#### **hue** 값을 이용한 3개 feature 시각화 \n",
        "\n",
        "🤩 만약 **categorical data**가 섞여 있는 경우, **hue 인수에 카테고리 변수 이름을 지정**하면  \n",
        "카테고리 값에 따라 색상을 다르게 하여 시각화할 수 있습니다.\n",
        "> - `hue = \" \"`  "
      ]
    },
    {
      "cell_type": "code",
      "metadata": {
        "id": "g0IXWA7N7VPd"
      },
      "source": [
        "sns.relplot(data=tips, x='total_bill', y='tip', hue='sex')"
      ],
      "execution_count": null,
      "outputs": []
    },
    {
      "cell_type": "markdown",
      "metadata": {
        "id": "HV2pIR474j_J"
      },
      "source": [
        "이번에는 hue 인수에 \"day\"를 넣어볼까요? day에는 4가지 categorical data(목요일 ~ 일요일)가 들어가 있으니  \n",
        "4가지 종류의 색상으로 표현될 것입니다."
      ]
    },
    {
      "cell_type": "code",
      "metadata": {
        "id": "UBBYn8aC5RM4"
      },
      "source": [
        "sns.relplot(data=tips, x='total_bill', y='tip', hue='day')"
      ],
      "execution_count": null,
      "outputs": []
    },
    {
      "cell_type": "markdown",
      "metadata": {
        "id": "kMuA_33D9YEH"
      },
      "source": [
        "🤩 **x 축, y 축, 색**... 😱  그리고 마지막으로 점의 📐**크기**를 사용하여 4개의 기준으로 data 를 시각화 할 수 있습니다. \n",
        "> - `size = \" \"`  "
      ]
    },
    {
      "cell_type": "code",
      "metadata": {
        "id": "0DOq_mex9FK-"
      },
      "source": [
        "sns.relplot(data=tips, x='total_bill', y='tip', hue='day', size='tip')"
      ],
      "execution_count": null,
      "outputs": []
    },
    {
      "cell_type": "markdown",
      "metadata": {
        "id": "17nK--sz9i4h"
      },
      "source": [
        "#### **Categorical data** 시각화\n",
        "\n",
        "🤩 **catplot** 을 이용하면 좀 더 간단히 **categorical data** 를 시각화 할 수 있습니다. \n",
        "\n",
        "> - `sns.catplot(x = \"x축\", y = \"y축\", data= 데이터셋)`\n",
        "\n",
        "> categorical data인 '성별(sex)' 분포를 확인해볼까요?\n"
      ]
    },
    {
      "cell_type": "code",
      "metadata": {
        "id": "MiMts1OJ_fbi"
      },
      "source": [
        "sns.catplot(data=tips, x='sex', y='tip')"
      ],
      "execution_count": null,
      "outputs": []
    },
    {
      "cell_type": "code",
      "metadata": {
        "id": "MvxDzIkIl1Gi"
      },
      "source": [
        "sns.boxplot(data=tips, x='smoker', y='tip')\n",
        "plt.show()"
      ],
      "execution_count": null,
      "outputs": []
    },
    {
      "cell_type": "code",
      "metadata": {
        "id": "L7hs9IS9lsPr"
      },
      "source": [
        "sns.violinplot(data=tips, x='smoker', y='tip')\n",
        "plt.show()"
      ],
      "execution_count": null,
      "outputs": []
    },
    {
      "cell_type": "markdown",
      "metadata": {
        "id": "6rpGV5Yz_m9z"
      },
      "source": [
        "catplot 도 relplot 과 마찬가지로 **hue** 값을 줄 수 있습니다\n"
      ]
    },
    {
      "cell_type": "code",
      "metadata": {
        "id": "qUdLLOgX_q-X"
      },
      "source": [
        "sns.catplot(data=tips, x='sex', y='tip', hue='day')\n",
        "plt.title('sex vs tip')\n",
        "plt.plot"
      ],
      "execution_count": null,
      "outputs": []
    },
    {
      "cell_type": "markdown",
      "metadata": {
        "id": "0cfBCsIAH4e6"
      },
      "source": [
        "🥇🥈🥉 위의 X (Thur, Fri, Sat, Sun)는 판다스 데이터프레임에 들어가 있는 순서대로 보여지게 됩니다.  \n",
        "\n",
        "👉 이때 **X 순서를 임의로 변경**하고 싶다면 **order** 를 사용해주어야합니다. \n",
        "> - `order = []`"
      ]
    },
    {
      "cell_type": "code",
      "metadata": {
        "id": "ljvuNYX0H3qT"
      },
      "source": [
        "sns.catplot(x=\"smoker\", y=\"tip\", data=tips); # order 없음"
      ],
      "execution_count": null,
      "outputs": []
    },
    {
      "cell_type": "code",
      "metadata": {
        "id": "B4YzcigHH02s"
      },
      "source": [
        "sns.catplot(x=\"smoker\", y=\"tip\", order=[\"No\", \"Yes\"], data=tips); #order 있음\n",
        "plt.title(\"catplot\")\n",
        "plt.xlabel('Smoker')\n",
        "plt.show()"
      ],
      "execution_count": null,
      "outputs": []
    },
    {
      "cell_type": "markdown",
      "metadata": {
        "id": "enFReq8ldQLD"
      },
      "source": [
        "# 머신러닝 입문 💻🧠🤖"
      ]
    },
    {
      "cell_type": "markdown",
      "metadata": {
        "id": "F0TMNrhGdVdi"
      },
      "source": [
        "## **🤖인공지능 vs 💡머신러닝 vs 🧠딥러닝 ??**\n",
        "\n",
        "일반적으로 가장 많이 궁금해하는 부분입니다.  \n",
        "노션으로 제공 드린 '통계학 기초' 수업 자료에서 이미 설명해 드린 적이 있었지만,  \n",
        "본격적으로 머신러닝을 시작하기 앞서서 한 번 더 설명하고 넘어가겠습니다.\n",
        "\n",
        "**\"인공지능과 머신러닝이 어떻게 다른 거죠? 차이가 뭔가요?\"**\n",
        "\n",
        "정확히 말하자면 인공지능이 가장 큰 뿌리가 되는 학문이고, \n",
        "머신러닝과 딥러닝은 인공지능에 속한 기법들입니다.  \n",
        "실제로 알파고 등에 사용되는 딥러닝 기법인 '인공신경망', '심층학습' 등에 쓰이는 인공신경망(perceptron)의 개념은  \n",
        "1958년에 제안된 아주 구닥다리(?) 개념이죠. \n",
        "\n",
        "아래 그림에 나와 있듯이,  \n",
        "머신러닝은 인공지능에서 **\"스스로 학습하여 성능이 개선되는 기법들\"**을 위주로 발전한 세부학문,  \n",
        "딥러닝은 머신러닝에서 \"인간의 뇌와 비슷한 신경망\" 구조를 본떠서 발전한 세부학문이라고 이해하면 됩니다.\n",
        "\n",
        "<img src = \"https://mblogthumb-phinf.pstatic.net/MjAxOTA4MTNfMjEw/MDAxNTY1NjI0MDM4NzU5.gipXXlssyqZ_eIugsfoCDHK91gxUDZd-mgYGhPF1dowg.kfK2-x7iE0amYCcGn_CZI7wpIgK7mrux0ZcNpXliUygg.PNG.pwj6971/20190813_%EC%9D%B8%EA%B3%B5%EC%A7%80%EB%8A%A5%EC%9D%98%EA%B0%9C%EB%85%90%EB%8F%84.png?type=w800\" width = \"700\">"
      ]
    },
    {
      "cell_type": "markdown",
      "metadata": {
        "id": "iUENPL-FgK9j"
      },
      "source": [
        "## 🤖 머신러닝의 분류\n",
        "\n",
        "![대체 텍스트](https://1.bp.blogspot.com/-kq3ylb8PPYY/XoF9e0b_YpI/AAAAAAAAAOo/Zo4m5OYr-wM4vuueUutaB7upEqezFclxwCLcBGAsYHQ/s1600/%25E1%2584%258F%25E1%2585%25A2%25E1%2586%25B8%25E1%2584%258E%25E1%2585%25A56.jpg)"
      ]
    },
    {
      "cell_type": "markdown",
      "metadata": {
        "id": "YpHzacxfhrba"
      },
      "source": [
        "🤩 같은 데이터를 가지고도 지도학습과 비지도학습이 둘 다 가능합니다(🗺지도 아님! XXXX)\n",
        "\n",
        "아래 그림은 '방의 개수'와 '집의 가격'의 관계를 보여주는 그래프입니다.\n",
        "\n",
        "![대체 텍스트](https://1.bp.blogspot.com/-55JOEYVxmuw/XoGT3aIpLCI/AAAAAAAAAPE/TL_WYLHLUwcKOw4H1ilAaNS36nPdN_7LwCLcBGAsYHQ/s1600/2%25E1%2584%2580%25E1%2585%25A1%25E1%2586%25BC%2B%25E1%2584%258C%25E1%2585%25B5%25E1%2584%2583%25E1%2585%25A9%2B%25E1%2584%2587%25E1%2585%25B5%25E1%2584%258C%25E1%2585%25B5%25E1%2584%2583%25E1%2585%25A9%2B%25E1%2584%2587%25E1%2585%25AE%25E1%2586%25AB%25E1%2584%2585%25E1%2585%25B2.jpg)\n",
        "\n",
        "이때 **'방의 개수'를 입력(X)**으로 **'집의 가격'(label, Y)**을 예측하도록 학습한다면 **지도학습**이 되는것이고,  \n",
        "**'방의 개수'와 '집의 가격'을 둘 다 입력(X)으로** 부동산의 특징을 그룹화 하자고하면 **비지도 학습**이 되는것입니다. \n",
        "\n",
        "<br/>\n",
        "\n",
        "### **🌈분류와 회귀** :\n",
        "\n",
        "* **범주형(Categorical) :** 순위(Ordinal), 명목(Nominal)\n",
        " \n",
        "  - 막대그래프, 도수 분포표, 원형 그래프로 표현\n",
        "\n",
        "<img src = \"https://1.bp.blogspot.com/-lkBRs-BuVdk/XnxqbYjVIUI/AAAAAAAAALg/w-Ub80-wyTYLe1pjRmxTKbZVDR1QBTD5wCLcBGAsYHQ/s1600/8.JPG\" width = \"800\">  \n",
        "\n",
        "* **수치형(Numerical) :** 연속(Continuous), 이산(Discrete)\n",
        " \n",
        "  - Box plot, 히스토그램으로 표현\n",
        "\n",
        "    ![대체 텍스트](https://1.bp.blogspot.com/-_v2XEZX0p8Y/Xnxqbk8jHyI/AAAAAAAAALk/FL9WcIzZkss5NThipA4i2mwGKQQwYf-mwCLcBGAsYHQ/s640/9.JPG)\n",
        "\n",
        "\n",
        "> **분류 : Feature X에 대해서 범주형 Y를 출력하여 Class(Y)를 예측**\n",
        "\n",
        "> **회귀 : Feature X에 대해서 수치형 Y를 출력하여 Class(Y)를 예측**\n",
        "\n",
        "<br/>\n"
      ]
    },
    {
      "cell_type": "markdown",
      "metadata": {
        "id": "S48ukVCwiyu2"
      },
      "source": [
        "## 🐳 (빅)데이터 분석 과정\n",
        "\n",
        "<img src=\"https://1.bp.blogspot.com/-C-XS0D36Ubs/XtMOZBnyLLI/AAAAAAAAAZI/6Nen2thHlnUUipI0njEZyOvBXh_A20eJQCLcBGAsYHQ/s1600/%25E1%2584%2589%25E1%2585%25B3%25E1%2584%258F%25E1%2585%25B3%25E1%2584%2585%25E1%2585%25B5%25E1%2586%25AB%25E1%2584%2589%25E1%2585%25A3%25E1%2586%25BA%2B2020-05-31%2B%25E1%2584%258B%25E1%2585%25A9%25E1%2584%258C%25E1%2585%25A5%25E1%2586%25AB%2B10.50.44.png\" border=\"0\" width = \"800\">"
      ]
    },
    {
      "cell_type": "markdown",
      "metadata": {
        "id": "WMLmfSZjhciK"
      },
      "source": [
        "# **scikit-learn**\n",
        "\n",
        "<img src = \"https://1.bp.blogspot.com/-H74dXAJ7tw4/Xp6lfLDb1qI/AAAAAAAAAS4/D-U1gpNe3ukolXqYVSHXfgwAcJpD4ifOQCLcBGAsYHQ/s1600/%25E1%2584%2589%25E1%2585%25B3%25E1%2586%25AF%25E1%2584%2585%25E1%2585%25A1%25E1%2584%258B%25E1%2585%25B5%25E1%2584%2583%25E1%2585%25B35.png\" width = \"800\">\n",
        "\n",
        "## **개요**\n",
        "\n",
        "싸이킷런은 파이썬 기반 범용 오픈 소스 라이브러리(툴)로서,  \n",
        "다양한 기계학습 알고리즘 적용(데이터 분석)을 위한 기능들을 포함하고 있습니다.\n",
        "\n",
        "![대체 텍스트](https://gaussian37.github.io/assets/img/ml/sklearn/sklearn.png)"
      ]
    },
    {
      "cell_type": "markdown",
      "metadata": {
        "id": "Ndaydb-Thj9d"
      },
      "source": [
        "## scikit-learn 머신러닝을 위해 꼭 필요한 3가지 조건\n",
        "\n",
        "우리는 머신러닝에서 주로 **지도학습**, 즉 **supervised learning** 을 다룰 겁니다.  \n",
        "그러기 위해 필요한 3가지는  \n",
        "\n",
        "📌 Step1. [feature1, feature 2 ...... , target] 에서 n개의 feature(X) 와 1개의 target(Y) 분리  \n",
        "\n",
        "📌 Step2. 데이터 인코딩 (*모든 입/출력값은 '숫자' 로 되어있어야 한다!)  \n",
        "\n",
        "📌 Step3. test set과 train set 분리\n",
        "\n"
      ]
    },
    {
      "cell_type": "markdown",
      "metadata": {
        "id": "sSJpLFLniaw1"
      },
      "source": [
        "### 📌 Step1. Feature(X) 와 Target(Y) 분리\n",
        "\n",
        "머신러닝 지도학습은 feature(X) 값들을 사용하여 target(Y) 값을 예측하도록 학습합니다.  \n",
        "만약 데이터의 **어떤 부분이 feature 이고 어떤 부분이 target 인지** 명확하게 구분을 해놓지 않는다면 학습이 안되겠죠?\n",
        "\n",
        "<img src = \"https://1.bp.blogspot.com/-T26D5I27FkA/XoF9dMBin7I/AAAAAAAAAOY/Gao09-IsQkcjlUdNIcb8aJEDdNG3pQY2QCLcBGAsYHQ/s1600/%25E1%2584%258F%25E1%2585%25A2%25E1%2586%25B8%25E1%2584%258E%25E1%2585%25A51.JPG\" width = \"800\">\n",
        "\n",
        "\n",
        "\n",
        "> 아래의 titanic_dataset을 살펴보고 어떤 열(column)이 feature(X)이고 target(Y)이 될까요?  \n",
        "> 👋 손들고 답을 말해볼까요?\n",
        "> ```\n",
        ">```\n",
        "\n"
      ]
    },
    {
      "cell_type": "code",
      "metadata": {
        "id": "5Xn_6zGeid9F"
      },
      "source": [
        "titanic = sns.load_dataset('titanic')\n",
        "titanic.head()"
      ],
      "execution_count": null,
      "outputs": []
    },
    {
      "cell_type": "markdown",
      "metadata": {
        "id": "nTPXqnSLca4E"
      },
      "source": [
        "> 🔍 아래의 tips_dataset 에서는 어떤 열이 target(Y)일까요? 👋👋👋(손손손~~)"
      ]
    },
    {
      "cell_type": "code",
      "metadata": {
        "id": "Kndoi8GSlQ7F"
      },
      "source": [
        "tips = sns.load_dataset('tips')\n",
        "tips.head()"
      ],
      "execution_count": null,
      "outputs": []
    },
    {
      "cell_type": "markdown",
      "metadata": {
        "id": "mIFq7hMXeiXw"
      },
      "source": [
        "🔍 아래 mpg_dataset 에서도 한 번 feature와 target을 구분해볼까요? (난이도 上 👹) 🤯🤯\n",
        "> **mpg 데이터셋 설명**\n",
        "- mpg(miles per gallon) = 연비  \n",
        "- cylinders = 실린더 개수   \n",
        "- displacement = 배기량  \n",
        "- horsepower = 마력  \n",
        "- weight = 무게  \n",
        "- acceleration = 테이블당 사람 수  \n",
        "- model_year = 생산년도  \n",
        "- origin = 생산국  \n",
        "- name = 자동차 모델명  \n"
      ]
    },
    {
      "cell_type": "code",
      "metadata": {
        "id": "qN0N9eeNlX7o"
      },
      "source": [
        "mpg = sns.load_dataset('mpg')\n",
        "mpg.head()"
      ],
      "execution_count": null,
      "outputs": []
    },
    {
      "cell_type": "markdown",
      "metadata": {
        "id": "7kO9eKOhcZHD"
      },
      "source": [
        "> 😅😅 위 데이터셋의 경우는 사실 target 열이 따로 정해져 있지 않습니다 💦  \n",
        "이렇게 target(또는 label 또는 goal, Y)이 명확하지 않은 데이터셋이 주어질 경우,  \n",
        "**'여러분(데이터 사이언티스트🤓)이 정하기 나름대로'**  \n",
        "🧡유의미한 데이터가 될 수도, 💔무의미한 데이터가 될 수도 있습니다!\n"
      ]
    },
    {
      "cell_type": "code",
      "metadata": {
        "colab": {
          "base_uri": "https://localhost:8080/"
        },
        "id": "gMNGjrm4nTxg",
        "outputId": "45e7c3ef-ab48-4103-a77f-fc1a9fad4d08"
      },
      "source": [
        "species = iris['species']\n",
        "iris_input = iris.drop('species', axis=1)\n",
        "print(species)"
      ],
      "execution_count": null,
      "outputs": [
        {
          "output_type": "stream",
          "text": [
            "0         setosa\n",
            "1         setosa\n",
            "2         setosa\n",
            "3         setosa\n",
            "4         setosa\n",
            "         ...    \n",
            "145    virginica\n",
            "146    virginica\n",
            "147    virginica\n",
            "148    virginica\n",
            "149    virginica\n",
            "Name: species, Length: 150, dtype: object\n"
          ],
          "name": "stdout"
        }
      ]
    },
    {
      "cell_type": "code",
      "metadata": {
        "id": "l_51rqmOnkjV"
      },
      "source": [
        ""
      ],
      "execution_count": null,
      "outputs": []
    },
    {
      "cell_type": "code",
      "metadata": {
        "id": "YVjTsWsvnbuW",
        "colab": {
          "base_uri": "https://localhost:8080/"
        },
        "outputId": "21baaee8-77af-433f-c4be-ef946d050df3"
      },
      "source": [
        "# 나누기 \n",
        "species = iris['species'] # target\n",
        "iris_input = iris.drop('species', axis=1)\n",
        "\n",
        "print(species)\n",
        "print(iris_input)"
      ],
      "execution_count": null,
      "outputs": [
        {
          "output_type": "stream",
          "text": [
            "0         setosa\n",
            "1         setosa\n",
            "2         setosa\n",
            "3         setosa\n",
            "4         setosa\n",
            "         ...    \n",
            "145    virginica\n",
            "146    virginica\n",
            "147    virginica\n",
            "148    virginica\n",
            "149    virginica\n",
            "Name: species, Length: 150, dtype: object\n",
            "     sepal_length  sepal_width  petal_length  petal_width\n",
            "0             5.1          3.5           1.4          0.2\n",
            "1             4.9          3.0           1.4          0.2\n",
            "2             4.7          3.2           1.3          0.2\n",
            "3             4.6          3.1           1.5          0.2\n",
            "4             5.0          3.6           1.4          0.2\n",
            "..            ...          ...           ...          ...\n",
            "145           6.7          3.0           5.2          2.3\n",
            "146           6.3          2.5           5.0          1.9\n",
            "147           6.5          3.0           5.2          2.0\n",
            "148           6.2          3.4           5.4          2.3\n",
            "149           5.9          3.0           5.1          1.8\n",
            "\n",
            "[150 rows x 4 columns]\n"
          ],
          "name": "stdout"
        }
      ]
    },
    {
      "cell_type": "code",
      "metadata": {
        "id": "xXq4SUPznuIx"
      },
      "source": [
        "from sklearn.linear_model import LogisticRegression #수업복습복기 전처리"
      ],
      "execution_count": null,
      "outputs": []
    },
    {
      "cell_type": "markdown",
      "metadata": {
        "id": "NXE5lohymRgy"
      },
      "source": [
        "### 📌 Step2. 데이터 인코딩 (Encoding)\n",
        "\n",
        "앞서 배운대로, 데이터는 크게 **2가지 형태**로 나뉩니다. (Numerical 또는 Categorical)\n",
        "\n",
        "우리가 만들 머신러닝 모델들은 categorical data 를 입력값으로 활용할 수 없습니다. \n",
        "\n",
        "따라서 '남자', '빨강', '사과' 등의 categorical data 를 numerical 하게 변환해주는 **전처리 작업(preprocessing)**이 선행되어야합니다. \n",
        "\n",
        "\n",
        "![대체 텍스트](https://1.bp.blogspot.com/-SHwLXfe1u9U/XoQg6zN9CXI/AAAAAAAAAPc/mGfgC5TYMoom_OeymnqiaqIHoFTbCjTOACLcBGAsYHQ/s1600/2%25E1%2584%2580%25E1%2585%25A1%25E1%2586%25BC%2B%25E1%2584%2583%25E1%2585%25A6%25E1%2584%258B%25E1%2585%25B5%25E1%2584%2590%25E1%2585%25A5%2B%25E1%2584%2590%25E1%2585%25A1%25E1%2584%258B%25E1%2585%25B5%25E1%2586%25B8.png)\n",
        "\n",
        "> ✔ 📈 **Numerical (수치형) (또는 Quantitative (양적)) 데이터**\n",
        ">> - Discrete (이산형, 불연속형) 데이터  \n",
        "     : 숫자로 셀 수 있는 것, 특정 값, 정수형태 (1개, 2명 등)\n",
        "\n",
        ">> - Continuous (연속형) 데이터  \n",
        "     : 측정해야 하는 것, 연속 범위 내 실수값 (온도(21.3℃), 무게(72.5kg), 길이(183m), 비율(57%) 등)\n",
        "\n",
        "> **✔ 📊 Categorical (범주형) (또는 Qualitative (질적)) 데이터**\n",
        ">> - Nominal (범주형) 데이터  \n",
        "     : 순서가 없는 것 (성별, 동물의 종류 등)  \n",
        "\n",
        ">> - Ordinal (순서형) 데이터  \n",
        "     : 순서가 있는 것 (수능 등급, 좌석 등급, 순위 등)\n"
      ]
    },
    {
      "cell_type": "markdown",
      "metadata": {
        "id": "-4Ue7HOmsRmU"
      },
      "source": [
        "#### ① **Pandas** 의 **map** 함수 이용하기 🔨\n",
        "\n",
        "데이터 인코딩(또는 전처리) 방법은 여러가지가 있습니다.\n",
        "\n",
        "그 중 첫번째로 **map 함수를 이용하는 방법**입니다.  \n",
        "\n",
        "`map` 함수를 이용하면 pandas 데이터프레임 안에 있는 데이터를 python dictionary 형태에 맞게 변환해줍니다. \n",
        "\n",
        "tips_dataset을 통해 한 번 알아보겠습니다.\n",
        "\n",
        "> - `수정할 열.map({수정할 내용})`\n",
        "\n"
      ]
    },
    {
      "cell_type": "code",
      "metadata": {
        "id": "bOHKOMzHtEWV",
        "colab": {
          "base_uri": "https://localhost:8080/",
          "height": 195
        },
        "outputId": "a89120b7-7de5-4c26-bb01-b1f52c1f316f"
      },
      "source": [
        "tips = sns.load_dataset('tips')\n",
        "tips.head()"
      ],
      "execution_count": null,
      "outputs": [
        {
          "output_type": "execute_result",
          "data": {
            "text/html": [
              "<div>\n",
              "<style scoped>\n",
              "    .dataframe tbody tr th:only-of-type {\n",
              "        vertical-align: middle;\n",
              "    }\n",
              "\n",
              "    .dataframe tbody tr th {\n",
              "        vertical-align: top;\n",
              "    }\n",
              "\n",
              "    .dataframe thead th {\n",
              "        text-align: right;\n",
              "    }\n",
              "</style>\n",
              "<table border=\"1\" class=\"dataframe\">\n",
              "  <thead>\n",
              "    <tr style=\"text-align: right;\">\n",
              "      <th></th>\n",
              "      <th>total_bill</th>\n",
              "      <th>tip</th>\n",
              "      <th>sex</th>\n",
              "      <th>smoker</th>\n",
              "      <th>day</th>\n",
              "      <th>time</th>\n",
              "      <th>size</th>\n",
              "    </tr>\n",
              "  </thead>\n",
              "  <tbody>\n",
              "    <tr>\n",
              "      <th>0</th>\n",
              "      <td>16.99</td>\n",
              "      <td>1.01</td>\n",
              "      <td>Female</td>\n",
              "      <td>No</td>\n",
              "      <td>Sun</td>\n",
              "      <td>Dinner</td>\n",
              "      <td>2</td>\n",
              "    </tr>\n",
              "    <tr>\n",
              "      <th>1</th>\n",
              "      <td>10.34</td>\n",
              "      <td>1.66</td>\n",
              "      <td>Male</td>\n",
              "      <td>No</td>\n",
              "      <td>Sun</td>\n",
              "      <td>Dinner</td>\n",
              "      <td>3</td>\n",
              "    </tr>\n",
              "    <tr>\n",
              "      <th>2</th>\n",
              "      <td>21.01</td>\n",
              "      <td>3.50</td>\n",
              "      <td>Male</td>\n",
              "      <td>No</td>\n",
              "      <td>Sun</td>\n",
              "      <td>Dinner</td>\n",
              "      <td>3</td>\n",
              "    </tr>\n",
              "    <tr>\n",
              "      <th>3</th>\n",
              "      <td>23.68</td>\n",
              "      <td>3.31</td>\n",
              "      <td>Male</td>\n",
              "      <td>No</td>\n",
              "      <td>Sun</td>\n",
              "      <td>Dinner</td>\n",
              "      <td>2</td>\n",
              "    </tr>\n",
              "    <tr>\n",
              "      <th>4</th>\n",
              "      <td>24.59</td>\n",
              "      <td>3.61</td>\n",
              "      <td>Female</td>\n",
              "      <td>No</td>\n",
              "      <td>Sun</td>\n",
              "      <td>Dinner</td>\n",
              "      <td>4</td>\n",
              "    </tr>\n",
              "  </tbody>\n",
              "</table>\n",
              "</div>"
            ],
            "text/plain": [
              "   total_bill   tip     sex smoker  day    time  size\n",
              "0       16.99  1.01  Female     No  Sun  Dinner     2\n",
              "1       10.34  1.66    Male     No  Sun  Dinner     3\n",
              "2       21.01  3.50    Male     No  Sun  Dinner     3\n",
              "3       23.68  3.31    Male     No  Sun  Dinner     2\n",
              "4       24.59  3.61  Female     No  Sun  Dinner     4"
            ]
          },
          "metadata": {
            "tags": []
          },
          "execution_count": 37
        }
      ]
    },
    {
      "cell_type": "code",
      "metadata": {
        "colab": {
          "base_uri": "https://localhost:8080/"
        },
        "id": "QiuOKd_loM1w",
        "outputId": "f299d03a-c374-4cb2-d5ad-e531a942286e"
      },
      "source": [
        "tips['sex'].map({'Female': 0, 'Male': 1}) #컬럼 대괄호"
      ],
      "execution_count": null,
      "outputs": [
        {
          "output_type": "execute_result",
          "data": {
            "text/plain": [
              "0      0\n",
              "1      1\n",
              "2      1\n",
              "3      1\n",
              "4      0\n",
              "      ..\n",
              "239    1\n",
              "240    0\n",
              "241    1\n",
              "242    1\n",
              "243    0\n",
              "Name: sex, Length: 244, dtype: category\n",
              "Categories (2, int64): [1, 0]"
            ]
          },
          "metadata": {
            "tags": []
          },
          "execution_count": 38
        }
      ]
    },
    {
      "cell_type": "code",
      "metadata": {
        "id": "E7PakB5NtHQw",
        "colab": {
          "base_uri": "https://localhost:8080/",
          "height": 195
        },
        "outputId": "da297abe-ed6d-461c-d177-4f8bad3786d2"
      },
      "source": [
        "import pandas as pd\n",
        "# categorical data인 'sex(Female 또는 Male)'를 map 함수를 사용하여 인코딩(전처리) 해볼까요?\n",
        "tips['sex'] = tips['sex'].map({'Female': 0, 'Male': 1})\n",
        "tips.head()"
      ],
      "execution_count": null,
      "outputs": [
        {
          "output_type": "execute_result",
          "data": {
            "text/html": [
              "<div>\n",
              "<style scoped>\n",
              "    .dataframe tbody tr th:only-of-type {\n",
              "        vertical-align: middle;\n",
              "    }\n",
              "\n",
              "    .dataframe tbody tr th {\n",
              "        vertical-align: top;\n",
              "    }\n",
              "\n",
              "    .dataframe thead th {\n",
              "        text-align: right;\n",
              "    }\n",
              "</style>\n",
              "<table border=\"1\" class=\"dataframe\">\n",
              "  <thead>\n",
              "    <tr style=\"text-align: right;\">\n",
              "      <th></th>\n",
              "      <th>total_bill</th>\n",
              "      <th>tip</th>\n",
              "      <th>sex</th>\n",
              "      <th>smoker</th>\n",
              "      <th>day</th>\n",
              "      <th>time</th>\n",
              "      <th>size</th>\n",
              "    </tr>\n",
              "  </thead>\n",
              "  <tbody>\n",
              "    <tr>\n",
              "      <th>0</th>\n",
              "      <td>16.99</td>\n",
              "      <td>1.01</td>\n",
              "      <td>0</td>\n",
              "      <td>No</td>\n",
              "      <td>Sun</td>\n",
              "      <td>Dinner</td>\n",
              "      <td>2</td>\n",
              "    </tr>\n",
              "    <tr>\n",
              "      <th>1</th>\n",
              "      <td>10.34</td>\n",
              "      <td>1.66</td>\n",
              "      <td>1</td>\n",
              "      <td>No</td>\n",
              "      <td>Sun</td>\n",
              "      <td>Dinner</td>\n",
              "      <td>3</td>\n",
              "    </tr>\n",
              "    <tr>\n",
              "      <th>2</th>\n",
              "      <td>21.01</td>\n",
              "      <td>3.50</td>\n",
              "      <td>1</td>\n",
              "      <td>No</td>\n",
              "      <td>Sun</td>\n",
              "      <td>Dinner</td>\n",
              "      <td>3</td>\n",
              "    </tr>\n",
              "    <tr>\n",
              "      <th>3</th>\n",
              "      <td>23.68</td>\n",
              "      <td>3.31</td>\n",
              "      <td>1</td>\n",
              "      <td>No</td>\n",
              "      <td>Sun</td>\n",
              "      <td>Dinner</td>\n",
              "      <td>2</td>\n",
              "    </tr>\n",
              "    <tr>\n",
              "      <th>4</th>\n",
              "      <td>24.59</td>\n",
              "      <td>3.61</td>\n",
              "      <td>0</td>\n",
              "      <td>No</td>\n",
              "      <td>Sun</td>\n",
              "      <td>Dinner</td>\n",
              "      <td>4</td>\n",
              "    </tr>\n",
              "  </tbody>\n",
              "</table>\n",
              "</div>"
            ],
            "text/plain": [
              "   total_bill   tip sex smoker  day    time  size\n",
              "0       16.99  1.01   0     No  Sun  Dinner     2\n",
              "1       10.34  1.66   1     No  Sun  Dinner     3\n",
              "2       21.01  3.50   1     No  Sun  Dinner     3\n",
              "3       23.68  3.31   1     No  Sun  Dinner     2\n",
              "4       24.59  3.61   0     No  Sun  Dinner     4"
            ]
          },
          "metadata": {
            "tags": []
          },
          "execution_count": 39
        }
      ]
    },
    {
      "cell_type": "markdown",
      "metadata": {
        "id": "JVgWxwuhtl9m"
      },
      "source": [
        "> 🔍 tips_dataset 내 나머지 categorical data들도 map 함수를 사용하여 numerical data로 변환해보세요!\n",
        "\n"
      ]
    },
    {
      "cell_type": "code",
      "metadata": {
        "id": "SDSlwdzttrlx",
        "colab": {
          "base_uri": "https://localhost:8080/",
          "height": 195
        },
        "outputId": "1be703f3-e68c-463b-d834-473366763cec"
      },
      "source": [
        "## 여기에서!\n",
        "tips.head()"
      ],
      "execution_count": null,
      "outputs": [
        {
          "output_type": "execute_result",
          "data": {
            "text/html": [
              "<div>\n",
              "<style scoped>\n",
              "    .dataframe tbody tr th:only-of-type {\n",
              "        vertical-align: middle;\n",
              "    }\n",
              "\n",
              "    .dataframe tbody tr th {\n",
              "        vertical-align: top;\n",
              "    }\n",
              "\n",
              "    .dataframe thead th {\n",
              "        text-align: right;\n",
              "    }\n",
              "</style>\n",
              "<table border=\"1\" class=\"dataframe\">\n",
              "  <thead>\n",
              "    <tr style=\"text-align: right;\">\n",
              "      <th></th>\n",
              "      <th>total_bill</th>\n",
              "      <th>tip</th>\n",
              "      <th>sex</th>\n",
              "      <th>smoker</th>\n",
              "      <th>day</th>\n",
              "      <th>time</th>\n",
              "      <th>size</th>\n",
              "    </tr>\n",
              "  </thead>\n",
              "  <tbody>\n",
              "    <tr>\n",
              "      <th>0</th>\n",
              "      <td>16.99</td>\n",
              "      <td>1.01</td>\n",
              "      <td>0</td>\n",
              "      <td>No</td>\n",
              "      <td>Sun</td>\n",
              "      <td>Dinner</td>\n",
              "      <td>2</td>\n",
              "    </tr>\n",
              "    <tr>\n",
              "      <th>1</th>\n",
              "      <td>10.34</td>\n",
              "      <td>1.66</td>\n",
              "      <td>1</td>\n",
              "      <td>No</td>\n",
              "      <td>Sun</td>\n",
              "      <td>Dinner</td>\n",
              "      <td>3</td>\n",
              "    </tr>\n",
              "    <tr>\n",
              "      <th>2</th>\n",
              "      <td>21.01</td>\n",
              "      <td>3.50</td>\n",
              "      <td>1</td>\n",
              "      <td>No</td>\n",
              "      <td>Sun</td>\n",
              "      <td>Dinner</td>\n",
              "      <td>3</td>\n",
              "    </tr>\n",
              "    <tr>\n",
              "      <th>3</th>\n",
              "      <td>23.68</td>\n",
              "      <td>3.31</td>\n",
              "      <td>1</td>\n",
              "      <td>No</td>\n",
              "      <td>Sun</td>\n",
              "      <td>Dinner</td>\n",
              "      <td>2</td>\n",
              "    </tr>\n",
              "    <tr>\n",
              "      <th>4</th>\n",
              "      <td>24.59</td>\n",
              "      <td>3.61</td>\n",
              "      <td>0</td>\n",
              "      <td>No</td>\n",
              "      <td>Sun</td>\n",
              "      <td>Dinner</td>\n",
              "      <td>4</td>\n",
              "    </tr>\n",
              "  </tbody>\n",
              "</table>\n",
              "</div>"
            ],
            "text/plain": [
              "   total_bill   tip sex smoker  day    time  size\n",
              "0       16.99  1.01   0     No  Sun  Dinner     2\n",
              "1       10.34  1.66   1     No  Sun  Dinner     3\n",
              "2       21.01  3.50   1     No  Sun  Dinner     3\n",
              "3       23.68  3.31   1     No  Sun  Dinner     2\n",
              "4       24.59  3.61   0     No  Sun  Dinner     4"
            ]
          },
          "metadata": {
            "tags": []
          },
          "execution_count": 40
        }
      ]
    },
    {
      "cell_type": "markdown",
      "metadata": {
        "id": "4qpRLKhstyOG"
      },
      "source": [
        "#### ② **Scikit-learn** 의 패키지 이용하기 🔧\n",
        "\n",
        "앞서 Pandas의 map 함수를 이용해서 categorical data를 numerical data로 인코딩 해주었습니다.\n",
        "\n",
        "하지만, **하나의 feature 내 카테고리 개수가 너무 많은 경우는 어떨까요?**  \n",
        "아래 mpg_dataset의 'name' 항목처럼요. (*자동차 모델명)\n",
        "> - `.unique()` 👉 중복되지 않는 값의 '개수'\n",
        "> - `.nunique()` 👉 중복되지 않는 값을 '모두 나열'"
      ]
    },
    {
      "cell_type": "code",
      "metadata": {
        "id": "GbRFbTODt-dQ",
        "colab": {
          "base_uri": "https://localhost:8080/",
          "height": 186
        },
        "outputId": "7f83d7b3-4efc-4cee-de72-edf6b1935002"
      },
      "source": [
        "print(mpg.name.nunique())\n",
        "print(mpg['name'].unique()) "
      ],
      "execution_count": null,
      "outputs": [
        {
          "output_type": "error",
          "ename": "NameError",
          "evalue": "ignored",
          "traceback": [
            "\u001b[0;31m---------------------------------------------------------------------------\u001b[0m",
            "\u001b[0;31mNameError\u001b[0m                                 Traceback (most recent call last)",
            "\u001b[0;32m<ipython-input-41-5c11b61c6586>\u001b[0m in \u001b[0;36m<module>\u001b[0;34m()\u001b[0m\n\u001b[0;32m----> 1\u001b[0;31m \u001b[0mprint\u001b[0m\u001b[0;34m(\u001b[0m\u001b[0mmpg\u001b[0m\u001b[0;34m.\u001b[0m\u001b[0mname\u001b[0m\u001b[0;34m.\u001b[0m\u001b[0mnunique\u001b[0m\u001b[0;34m(\u001b[0m\u001b[0;34m)\u001b[0m\u001b[0;34m)\u001b[0m\u001b[0;34m\u001b[0m\u001b[0;34m\u001b[0m\u001b[0m\n\u001b[0m\u001b[1;32m      2\u001b[0m \u001b[0mprint\u001b[0m\u001b[0;34m(\u001b[0m\u001b[0mmpg\u001b[0m\u001b[0;34m[\u001b[0m\u001b[0;34m'name'\u001b[0m\u001b[0;34m]\u001b[0m\u001b[0;34m.\u001b[0m\u001b[0munique\u001b[0m\u001b[0;34m(\u001b[0m\u001b[0;34m)\u001b[0m\u001b[0;34m)\u001b[0m\u001b[0;34m\u001b[0m\u001b[0;34m\u001b[0m\u001b[0m\n",
            "\u001b[0;31mNameError\u001b[0m: name 'mpg' is not defined"
          ]
        }
      ]
    },
    {
      "cell_type": "markdown",
      "metadata": {
        "id": "7ss7LrLtxcMP"
      },
      "source": [
        "map 함수로 일일이 인코딩... 가능할까요?😖😖"
      ]
    },
    {
      "cell_type": "markdown",
      "metadata": {
        "id": "3YnrIhapyXII"
      },
      "source": [
        "💡 이런 경우 두번째 방법인 **scikit-learn (sklearn)**의 **LabelEncoder** 를 활용하면 됩니다!\n",
        "\n",
        "iris_dataset에서 categorical data인 'species'의 인코딩을 통해 알아볼까요?\n",
        "\n",
        "```\n",
        "🙂 여기서 잠깐! iris_dataset 기억나시나요?  \n",
        "👉 petal(꽃잎)과 sepal(꽃받침)의 길이/너비 data를 바탕으로 어떤 species(종)인지 예측\n",
        "```\n",
        "\n",
        "\n",
        "\n",
        ">  LabelEncoder를 쓰기 위해, 먼저 전처리(preprocessing) 패키지를 불러옵니다.\n",
        "\n",
        "```\n",
        "from sklearn import preprocessing\n",
        "```\n",
        "\n",
        "\n",
        "\n"
      ]
    },
    {
      "cell_type": "code",
      "metadata": {
        "id": "yUj7DxvxvUv9",
        "colab": {
          "base_uri": "https://localhost:8080/"
        },
        "outputId": "add0afdc-e6d3-45b7-b613-8738ae683eb6"
      },
      "source": [
        "import seaborn as sns # from seaborn import relplot\n",
        "# import sklearn\n",
        "from sklearn import preprocessing   #LabelEncoder()를 쓰기위해 먼저 불러와야 하는 패키지\n",
        "\n",
        "iris = sns.load_dataset('iris')\n",
        "print(iris.head())  # 원본 확인"
      ],
      "execution_count": null,
      "outputs": [
        {
          "output_type": "stream",
          "text": [
            "   sepal_length  sepal_width  petal_length  petal_width species\n",
            "0           5.1          3.5           1.4          0.2  setosa\n",
            "1           4.9          3.0           1.4          0.2  setosa\n",
            "2           4.7          3.2           1.3          0.2  setosa\n",
            "3           4.6          3.1           1.5          0.2  setosa\n",
            "4           5.0          3.6           1.4          0.2  setosa\n"
          ],
          "name": "stdout"
        }
      ]
    },
    {
      "cell_type": "markdown",
      "metadata": {
        "id": "ffufpRWlLql_"
      },
      "source": [
        "> 🔓인코딩 하기!\n",
        "- `preprocessing.LabelEncoder()`\n",
        "- `le.fit_transform(바꾸려는 데이터열)`"
      ]
    },
    {
      "cell_type": "code",
      "metadata": {
        "id": "Pl3nW-k0KkAa"
      },
      "source": [
        "le = preprocessing.LabelEncoder()   # 패키지를 특정 변수에 선언함으로 편리하게 사용 가능합니다."
      ],
      "execution_count": null,
      "outputs": []
    },
    {
      "cell_type": "code",
      "metadata": {
        "colab": {
          "base_uri": "https://localhost:8080/"
        },
        "id": "b_sZQlVFqOsB",
        "outputId": "280c2d55-3f29-440b-8877-d5f895a26266"
      },
      "source": [
        "le.fit_transform(iris['species'])"
      ],
      "execution_count": null,
      "outputs": [
        {
          "output_type": "execute_result",
          "data": {
            "text/plain": [
              "array([0, 0, 0, 0, 0, 0, 0, 0, 0, 0, 0, 0, 0, 0, 0, 0, 0, 0, 0, 0, 0, 0,\n",
              "       0, 0, 0, 0, 0, 0, 0, 0, 0, 0, 0, 0, 0, 0, 0, 0, 0, 0, 0, 0, 0, 0,\n",
              "       0, 0, 0, 0, 0, 0, 1, 1, 1, 1, 1, 1, 1, 1, 1, 1, 1, 1, 1, 1, 1, 1,\n",
              "       1, 1, 1, 1, 1, 1, 1, 1, 1, 1, 1, 1, 1, 1, 1, 1, 1, 1, 1, 1, 1, 1,\n",
              "       1, 1, 1, 1, 1, 1, 1, 1, 1, 1, 1, 1, 2, 2, 2, 2, 2, 2, 2, 2, 2, 2,\n",
              "       2, 2, 2, 2, 2, 2, 2, 2, 2, 2, 2, 2, 2, 2, 2, 2, 2, 2, 2, 2, 2, 2,\n",
              "       2, 2, 2, 2, 2, 2, 2, 2, 2, 2, 2, 2, 2, 2, 2, 2, 2, 2])"
            ]
          },
          "metadata": {
            "tags": []
          },
          "execution_count": 44
        }
      ]
    },
    {
      "cell_type": "code",
      "metadata": {
        "colab": {
          "base_uri": "https://localhost:8080/"
        },
        "id": "YXnPJ_pTqVWB",
        "outputId": "29194ff0-9d0f-45a8-b8f4-ff475ce0dca9"
      },
      "source": [
        "le.transform(['setosa', 'setosa', 'setosa'])"
      ],
      "execution_count": null,
      "outputs": [
        {
          "output_type": "execute_result",
          "data": {
            "text/plain": [
              "array([0, 0, 0])"
            ]
          },
          "metadata": {
            "tags": []
          },
          "execution_count": 45
        }
      ]
    },
    {
      "cell_type": "code",
      "metadata": {
        "colab": {
          "base_uri": "https://localhost:8080/"
        },
        "id": "I9js0qW1qi3k",
        "outputId": "fa3fd2f7-bb74-4746-cfb7-5ef03306082e"
      },
      "source": [
        "le.inverse_transform([0, 1, 2])"
      ],
      "execution_count": null,
      "outputs": [
        {
          "output_type": "execute_result",
          "data": {
            "text/plain": [
              "array(['setosa', 'versicolor', 'virginica'], dtype=object)"
            ]
          },
          "metadata": {
            "tags": []
          },
          "execution_count": 46
        }
      ]
    },
    {
      "cell_type": "code",
      "metadata": {
        "id": "_uPoQ4HUpcyy",
        "colab": {
          "base_uri": "https://localhost:8080/",
          "height": 213
        },
        "outputId": "e364ed42-b91b-4f9f-a4d6-4ab32062b071"
      },
      "source": [
        "iris['species'] = le.fit_transform(iris['species'])    # categorical 데이터를 간편하게 numerical 데이터로 바꿔줍니다\n",
        "print(iris['species'].unique())\n",
        "iris.head()    # 어떻게 바뀌었는지 확인"
      ],
      "execution_count": null,
      "outputs": [
        {
          "output_type": "stream",
          "text": [
            "[0 1 2]\n"
          ],
          "name": "stdout"
        },
        {
          "output_type": "execute_result",
          "data": {
            "text/html": [
              "<div>\n",
              "<style scoped>\n",
              "    .dataframe tbody tr th:only-of-type {\n",
              "        vertical-align: middle;\n",
              "    }\n",
              "\n",
              "    .dataframe tbody tr th {\n",
              "        vertical-align: top;\n",
              "    }\n",
              "\n",
              "    .dataframe thead th {\n",
              "        text-align: right;\n",
              "    }\n",
              "</style>\n",
              "<table border=\"1\" class=\"dataframe\">\n",
              "  <thead>\n",
              "    <tr style=\"text-align: right;\">\n",
              "      <th></th>\n",
              "      <th>sepal_length</th>\n",
              "      <th>sepal_width</th>\n",
              "      <th>petal_length</th>\n",
              "      <th>petal_width</th>\n",
              "      <th>species</th>\n",
              "    </tr>\n",
              "  </thead>\n",
              "  <tbody>\n",
              "    <tr>\n",
              "      <th>0</th>\n",
              "      <td>5.1</td>\n",
              "      <td>3.5</td>\n",
              "      <td>1.4</td>\n",
              "      <td>0.2</td>\n",
              "      <td>0</td>\n",
              "    </tr>\n",
              "    <tr>\n",
              "      <th>1</th>\n",
              "      <td>4.9</td>\n",
              "      <td>3.0</td>\n",
              "      <td>1.4</td>\n",
              "      <td>0.2</td>\n",
              "      <td>0</td>\n",
              "    </tr>\n",
              "    <tr>\n",
              "      <th>2</th>\n",
              "      <td>4.7</td>\n",
              "      <td>3.2</td>\n",
              "      <td>1.3</td>\n",
              "      <td>0.2</td>\n",
              "      <td>0</td>\n",
              "    </tr>\n",
              "    <tr>\n",
              "      <th>3</th>\n",
              "      <td>4.6</td>\n",
              "      <td>3.1</td>\n",
              "      <td>1.5</td>\n",
              "      <td>0.2</td>\n",
              "      <td>0</td>\n",
              "    </tr>\n",
              "    <tr>\n",
              "      <th>4</th>\n",
              "      <td>5.0</td>\n",
              "      <td>3.6</td>\n",
              "      <td>1.4</td>\n",
              "      <td>0.2</td>\n",
              "      <td>0</td>\n",
              "    </tr>\n",
              "  </tbody>\n",
              "</table>\n",
              "</div>"
            ],
            "text/plain": [
              "   sepal_length  sepal_width  petal_length  petal_width  species\n",
              "0           5.1          3.5           1.4          0.2        0\n",
              "1           4.9          3.0           1.4          0.2        0\n",
              "2           4.7          3.2           1.3          0.2        0\n",
              "3           4.6          3.1           1.5          0.2        0\n",
              "4           5.0          3.6           1.4          0.2        0"
            ]
          },
          "metadata": {
            "tags": []
          },
          "execution_count": 47
        }
      ]
    },
    {
      "cell_type": "code",
      "metadata": {
        "id": "08H9uHWZxpf9",
        "colab": {
          "base_uri": "https://localhost:8080/",
          "height": 195
        },
        "outputId": "12842952-dc1e-41ea-90c4-c807ebcf6ec6"
      },
      "source": [
        "# 반대로, numerical 데이터를 catergorical 데이터로 되돌릴 수도 있습니다\n",
        "iris['species'] = iris['species'] = le.inverse_transform(iris['species'])\n",
        "\n",
        "iris.head()"
      ],
      "execution_count": null,
      "outputs": [
        {
          "output_type": "execute_result",
          "data": {
            "text/html": [
              "<div>\n",
              "<style scoped>\n",
              "    .dataframe tbody tr th:only-of-type {\n",
              "        vertical-align: middle;\n",
              "    }\n",
              "\n",
              "    .dataframe tbody tr th {\n",
              "        vertical-align: top;\n",
              "    }\n",
              "\n",
              "    .dataframe thead th {\n",
              "        text-align: right;\n",
              "    }\n",
              "</style>\n",
              "<table border=\"1\" class=\"dataframe\">\n",
              "  <thead>\n",
              "    <tr style=\"text-align: right;\">\n",
              "      <th></th>\n",
              "      <th>sepal_length</th>\n",
              "      <th>sepal_width</th>\n",
              "      <th>petal_length</th>\n",
              "      <th>petal_width</th>\n",
              "      <th>species</th>\n",
              "    </tr>\n",
              "  </thead>\n",
              "  <tbody>\n",
              "    <tr>\n",
              "      <th>0</th>\n",
              "      <td>5.1</td>\n",
              "      <td>3.5</td>\n",
              "      <td>1.4</td>\n",
              "      <td>0.2</td>\n",
              "      <td>setosa</td>\n",
              "    </tr>\n",
              "    <tr>\n",
              "      <th>1</th>\n",
              "      <td>4.9</td>\n",
              "      <td>3.0</td>\n",
              "      <td>1.4</td>\n",
              "      <td>0.2</td>\n",
              "      <td>setosa</td>\n",
              "    </tr>\n",
              "    <tr>\n",
              "      <th>2</th>\n",
              "      <td>4.7</td>\n",
              "      <td>3.2</td>\n",
              "      <td>1.3</td>\n",
              "      <td>0.2</td>\n",
              "      <td>setosa</td>\n",
              "    </tr>\n",
              "    <tr>\n",
              "      <th>3</th>\n",
              "      <td>4.6</td>\n",
              "      <td>3.1</td>\n",
              "      <td>1.5</td>\n",
              "      <td>0.2</td>\n",
              "      <td>setosa</td>\n",
              "    </tr>\n",
              "    <tr>\n",
              "      <th>4</th>\n",
              "      <td>5.0</td>\n",
              "      <td>3.6</td>\n",
              "      <td>1.4</td>\n",
              "      <td>0.2</td>\n",
              "      <td>setosa</td>\n",
              "    </tr>\n",
              "  </tbody>\n",
              "</table>\n",
              "</div>"
            ],
            "text/plain": [
              "   sepal_length  sepal_width  petal_length  petal_width species\n",
              "0           5.1          3.5           1.4          0.2  setosa\n",
              "1           4.9          3.0           1.4          0.2  setosa\n",
              "2           4.7          3.2           1.3          0.2  setosa\n",
              "3           4.6          3.1           1.5          0.2  setosa\n",
              "4           5.0          3.6           1.4          0.2  setosa"
            ]
          },
          "metadata": {
            "tags": []
          },
          "execution_count": 48
        }
      ]
    },
    {
      "cell_type": "code",
      "metadata": {
        "colab": {
          "base_uri": "https://localhost:8080/",
          "height": 195
        },
        "id": "xpcn1fgLrmmF",
        "outputId": "b201ba57-48d9-4485-ab73-cb7f8817c335"
      },
      "source": [
        "# 반대로, numerical 데이터를 catergorical 데이터로 되돌릴 수도 있습니다\n",
        "iris['species'] = le.transform(iris['species'])\n",
        "iris.head()\n"
      ],
      "execution_count": null,
      "outputs": [
        {
          "output_type": "execute_result",
          "data": {
            "text/html": [
              "<div>\n",
              "<style scoped>\n",
              "    .dataframe tbody tr th:only-of-type {\n",
              "        vertical-align: middle;\n",
              "    }\n",
              "\n",
              "    .dataframe tbody tr th {\n",
              "        vertical-align: top;\n",
              "    }\n",
              "\n",
              "    .dataframe thead th {\n",
              "        text-align: right;\n",
              "    }\n",
              "</style>\n",
              "<table border=\"1\" class=\"dataframe\">\n",
              "  <thead>\n",
              "    <tr style=\"text-align: right;\">\n",
              "      <th></th>\n",
              "      <th>sepal_length</th>\n",
              "      <th>sepal_width</th>\n",
              "      <th>petal_length</th>\n",
              "      <th>petal_width</th>\n",
              "      <th>species</th>\n",
              "    </tr>\n",
              "  </thead>\n",
              "  <tbody>\n",
              "    <tr>\n",
              "      <th>0</th>\n",
              "      <td>5.1</td>\n",
              "      <td>3.5</td>\n",
              "      <td>1.4</td>\n",
              "      <td>0.2</td>\n",
              "      <td>0</td>\n",
              "    </tr>\n",
              "    <tr>\n",
              "      <th>1</th>\n",
              "      <td>4.9</td>\n",
              "      <td>3.0</td>\n",
              "      <td>1.4</td>\n",
              "      <td>0.2</td>\n",
              "      <td>0</td>\n",
              "    </tr>\n",
              "    <tr>\n",
              "      <th>2</th>\n",
              "      <td>4.7</td>\n",
              "      <td>3.2</td>\n",
              "      <td>1.3</td>\n",
              "      <td>0.2</td>\n",
              "      <td>0</td>\n",
              "    </tr>\n",
              "    <tr>\n",
              "      <th>3</th>\n",
              "      <td>4.6</td>\n",
              "      <td>3.1</td>\n",
              "      <td>1.5</td>\n",
              "      <td>0.2</td>\n",
              "      <td>0</td>\n",
              "    </tr>\n",
              "    <tr>\n",
              "      <th>4</th>\n",
              "      <td>5.0</td>\n",
              "      <td>3.6</td>\n",
              "      <td>1.4</td>\n",
              "      <td>0.2</td>\n",
              "      <td>0</td>\n",
              "    </tr>\n",
              "  </tbody>\n",
              "</table>\n",
              "</div>"
            ],
            "text/plain": [
              "   sepal_length  sepal_width  petal_length  petal_width  species\n",
              "0           5.1          3.5           1.4          0.2        0\n",
              "1           4.9          3.0           1.4          0.2        0\n",
              "2           4.7          3.2           1.3          0.2        0\n",
              "3           4.6          3.1           1.5          0.2        0\n",
              "4           5.0          3.6           1.4          0.2        0"
            ]
          },
          "metadata": {
            "tags": []
          },
          "execution_count": 49
        }
      ]
    },
    {
      "cell_type": "code",
      "metadata": {
        "id": "atDSgAbVp8mD",
        "colab": {
          "base_uri": "https://localhost:8080/"
        },
        "outputId": "334052c9-5582-4354-8ab0-b17690fd571e"
      },
      "source": [
        "le.transform(['setosa', 'versicolor', 'virginica'])"
      ],
      "execution_count": null,
      "outputs": [
        {
          "output_type": "execute_result",
          "data": {
            "text/plain": [
              "array([0, 1, 2])"
            ]
          },
          "metadata": {
            "tags": []
          },
          "execution_count": 50
        }
      ]
    },
    {
      "cell_type": "markdown",
      "metadata": {
        "id": "4NusXHGrp8SV"
      },
      "source": [
        ""
      ]
    },
    {
      "cell_type": "markdown",
      "metadata": {
        "id": "Hwlrjpbmx2cE"
      },
      "source": [
        "#### ③ **pandas**의 **get_dummies**  이용하기 🔩\n",
        "\n",
        "위와 같은 인코딩(전처리) 방법 두 개는 간단하고 직관적이지만, 한 가지 문제가 있습니다 ⛔\n",
        "\n",
        "> **[ 매우 싫다 -> 1, 보통이다 -> 3 , 매우 좋다 -> 5점 ]** 처럼  \n",
        "ordianal한 데이터에는 적합하지만, (*순서 또는 등급 有)\n",
        "\n",
        "> **[ 빨강 -> 1, 파랑 -> 2, 초록 -> 3 ]** 처럼  \n",
        "nominal한 데이터에는 적합하지 않습니다. (*순서 또는 등급 無)\n",
        "\n",
        "> 빨강, 파랑, 초록이라는 색깔들 사이에는 어떠한 순서나 등급도 없지만,  \n",
        "위의 방법들로 변환하면 초록값이 가장 크다던지,  \n",
        "\"(초록값) - (파랑값) = (빨강값)\" 등의 **관계**가 생기기 때문입니다.  \n",
        "머신러닝 모델은 변환된 숫자를 바탕으로 학습하기 때문에, 잘못하면 위의 관계(특성)를 학습해 버립니다 😭😭  \n",
        "이는 논리적으로 문제가 있을 뿐만 아니라, 실제 모델의 성능도 잘 안나오게 됩니다. \n",
        "\n",
        "**💡 따라서 nominal한 데이터 변환을 위해서는**, 숫자이기는 하지만 **서로 '관계없는' 숫자로 변환**해 주어야합니다.  \n",
        "\n",
        "> - `pd.get_dummies(데이터셋.타겟열, prefix='타겟열')`\n",
        "\n",
        "![예시](https://www.mwbrady.com/post/encodingcategoricaldata/Untitled-5f6d339d-ce4a-4533-8b67-c4e688b85ce0.png)"
      ]
    },
    {
      "cell_type": "code",
      "metadata": {
        "id": "BAyIihdbsEdT"
      },
      "source": [
        "#ONE HOT 인코딩"
      ],
      "execution_count": null,
      "outputs": []
    },
    {
      "cell_type": "markdown",
      "metadata": {
        "id": "uLuSCscO6Udx"
      },
      "source": [
        "👉 그럼 mpg_dataset에서 'origin(자동차 제조국)' 열을 통해 자세히 알아보겠습니다."
      ]
    },
    {
      "cell_type": "code",
      "metadata": {
        "id": "uIGcMdA88Ip7",
        "colab": {
          "base_uri": "https://localhost:8080/",
          "height": 169
        },
        "outputId": "707b23b6-2d8d-435e-8731-2871ef98497f"
      },
      "source": [
        "mpg.origin.unique()    # mpg_dataset에서 타겟열('origin')의 카테고리 종류(중복되지 않는 값의 개수) 확인하기"
      ],
      "execution_count": null,
      "outputs": [
        {
          "output_type": "error",
          "ename": "NameError",
          "evalue": "ignored",
          "traceback": [
            "\u001b[0;31m---------------------------------------------------------------------------\u001b[0m",
            "\u001b[0;31mNameError\u001b[0m                                 Traceback (most recent call last)",
            "\u001b[0;32m<ipython-input-52-5febef2bf56e>\u001b[0m in \u001b[0;36m<module>\u001b[0;34m()\u001b[0m\n\u001b[0;32m----> 1\u001b[0;31m \u001b[0mmpg\u001b[0m\u001b[0;34m.\u001b[0m\u001b[0morigin\u001b[0m\u001b[0;34m.\u001b[0m\u001b[0munique\u001b[0m\u001b[0;34m(\u001b[0m\u001b[0;34m)\u001b[0m    \u001b[0;31m# mpg_dataset에서 타겟열('origin')의 카테고리 종류(중복되지 않는 값의 개수) 확인하기\u001b[0m\u001b[0;34m\u001b[0m\u001b[0;34m\u001b[0m\u001b[0m\n\u001b[0m",
            "\u001b[0;31mNameError\u001b[0m: name 'mpg' is not defined"
          ]
        }
      ]
    },
    {
      "cell_type": "code",
      "metadata": {
        "id": "n3c421cg812n",
        "colab": {
          "base_uri": "https://localhost:8080/",
          "height": 186
        },
        "outputId": "517bf9b5-6d5b-43b8-e670-fd3581043257"
      },
      "source": [
        "mpg_origin_dummies = pd.get_dummies(data=mpg['origin'], prefix='origin')  # origin에 속한 카테고리(원산지)별로 새로운 comlumn(열)이 생김\n",
        "mpg_origin_dummies"
      ],
      "execution_count": null,
      "outputs": [
        {
          "output_type": "error",
          "ename": "NameError",
          "evalue": "ignored",
          "traceback": [
            "\u001b[0;31m---------------------------------------------------------------------------\u001b[0m",
            "\u001b[0;31mNameError\u001b[0m                                 Traceback (most recent call last)",
            "\u001b[0;32m<ipython-input-53-c151e31aeabc>\u001b[0m in \u001b[0;36m<module>\u001b[0;34m()\u001b[0m\n\u001b[0;32m----> 1\u001b[0;31m \u001b[0mmpg_origin_dummies\u001b[0m \u001b[0;34m=\u001b[0m \u001b[0mpd\u001b[0m\u001b[0;34m.\u001b[0m\u001b[0mget_dummies\u001b[0m\u001b[0;34m(\u001b[0m\u001b[0mdata\u001b[0m\u001b[0;34m=\u001b[0m\u001b[0mmpg\u001b[0m\u001b[0;34m[\u001b[0m\u001b[0;34m'origin'\u001b[0m\u001b[0;34m]\u001b[0m\u001b[0;34m,\u001b[0m \u001b[0mprefix\u001b[0m\u001b[0;34m=\u001b[0m\u001b[0;34m'origin'\u001b[0m\u001b[0;34m)\u001b[0m  \u001b[0;31m# origin에 속한 카테고리(원산지)별로 새로운 comlumn(열)이 생김\u001b[0m\u001b[0;34m\u001b[0m\u001b[0;34m\u001b[0m\u001b[0m\n\u001b[0m\u001b[1;32m      2\u001b[0m \u001b[0mmpg_origin_dummies\u001b[0m\u001b[0;34m\u001b[0m\u001b[0;34m\u001b[0m\u001b[0m\n",
            "\u001b[0;31mNameError\u001b[0m: name 'mpg' is not defined"
          ]
        }
      ]
    },
    {
      "cell_type": "markdown",
      "metadata": {
        "id": "98fubCag84nv"
      },
      "source": [
        "🛠전처리(변환) 후 원래 데이터와 합쳐주기 🛠\n",
        "> - `pd.concat()`\n",
        "\n",
        "\n"
      ]
    },
    {
      "cell_type": "code",
      "metadata": {
        "id": "CmYbWkmp9ERk",
        "colab": {
          "base_uri": "https://localhost:8080/",
          "height": 186
        },
        "outputId": "e2aa49d4-553d-4b37-a4a8-f10b4d8ee61c"
      },
      "source": [
        "mpg_dummies = pd.concat([mpg, mpg_origin_dummies], axis=1 )\n",
        "mpg_dummies"
      ],
      "execution_count": null,
      "outputs": [
        {
          "output_type": "error",
          "ename": "NameError",
          "evalue": "ignored",
          "traceback": [
            "\u001b[0;31m---------------------------------------------------------------------------\u001b[0m",
            "\u001b[0;31mNameError\u001b[0m                                 Traceback (most recent call last)",
            "\u001b[0;32m<ipython-input-54-ea80b0a2959f>\u001b[0m in \u001b[0;36m<module>\u001b[0;34m()\u001b[0m\n\u001b[0;32m----> 1\u001b[0;31m \u001b[0mmpg_dummies\u001b[0m \u001b[0;34m=\u001b[0m \u001b[0mpd\u001b[0m\u001b[0;34m.\u001b[0m\u001b[0mconcat\u001b[0m\u001b[0;34m(\u001b[0m\u001b[0;34m[\u001b[0m\u001b[0mmpg\u001b[0m\u001b[0;34m,\u001b[0m \u001b[0mmpg_origin_dummies\u001b[0m\u001b[0;34m]\u001b[0m\u001b[0;34m,\u001b[0m \u001b[0maxis\u001b[0m\u001b[0;34m=\u001b[0m\u001b[0;36m1\u001b[0m \u001b[0;34m)\u001b[0m\u001b[0;34m\u001b[0m\u001b[0;34m\u001b[0m\u001b[0m\n\u001b[0m\u001b[1;32m      2\u001b[0m \u001b[0mmpg_dummies\u001b[0m\u001b[0;34m\u001b[0m\u001b[0;34m\u001b[0m\u001b[0m\n",
            "\u001b[0;31mNameError\u001b[0m: name 'mpg' is not defined"
          ]
        }
      ]
    },
    {
      "cell_type": "markdown",
      "metadata": {
        "id": "PBVMj-Ty9Xwh"
      },
      "source": [
        "🛠categorical 데이터 드랍하기 🛠"
      ]
    },
    {
      "cell_type": "code",
      "metadata": {
        "id": "QPW05-Vz9bRL",
        "colab": {
          "base_uri": "https://localhost:8080/",
          "height": 186
        },
        "outputId": "23311417-289c-4198-de25-ce9063f7b932"
      },
      "source": [
        "mpg_dummies.drop('origin', axis=1, inplace=True) # 'origin'데이터를 드랍\n",
        "mpg_dummies"
      ],
      "execution_count": null,
      "outputs": [
        {
          "output_type": "error",
          "ename": "NameError",
          "evalue": "ignored",
          "traceback": [
            "\u001b[0;31m---------------------------------------------------------------------------\u001b[0m",
            "\u001b[0;31mNameError\u001b[0m                                 Traceback (most recent call last)",
            "\u001b[0;32m<ipython-input-55-1810904546be>\u001b[0m in \u001b[0;36m<module>\u001b[0;34m()\u001b[0m\n\u001b[0;32m----> 1\u001b[0;31m \u001b[0mmpg_dummies\u001b[0m\u001b[0;34m.\u001b[0m\u001b[0mdrop\u001b[0m\u001b[0;34m(\u001b[0m\u001b[0;34m'origin'\u001b[0m\u001b[0;34m,\u001b[0m \u001b[0maxis\u001b[0m\u001b[0;34m=\u001b[0m\u001b[0;36m1\u001b[0m\u001b[0;34m,\u001b[0m \u001b[0minplace\u001b[0m\u001b[0;34m=\u001b[0m\u001b[0;32mTrue\u001b[0m\u001b[0;34m)\u001b[0m \u001b[0;31m# 'origin'데이터를 드랍\u001b[0m\u001b[0;34m\u001b[0m\u001b[0;34m\u001b[0m\u001b[0m\n\u001b[0m\u001b[1;32m      2\u001b[0m \u001b[0mmpg_dummies\u001b[0m\u001b[0;34m\u001b[0m\u001b[0;34m\u001b[0m\u001b[0m\n",
            "\u001b[0;31mNameError\u001b[0m: name 'mpg_dummies' is not defined"
          ]
        }
      ]
    },
    {
      "cell_type": "markdown",
      "metadata": {
        "id": "wx1iic4-908_"
      },
      "source": [
        "### 📌 Step3. Test / Train data split\n",
        "\n",
        "**Train과 Test 데이터셋 분리**에 대한 개념을 이해하기 위해 대학 수능 시험 공부를 예시로 들어보겠습니다. \n",
        "\n",
        "수험생들은 당해 수능에 대비하기 위해 그 전년도까지의 수능 기출문제를 공부합니다 📝📝  \n",
        "\n",
        "만약 '19년도 기출문제만 반복해서 공부한 후 **똑같은** 문제를 풀었더니 100점이 나왔다고 해서, 그게 정말 내 '수능 성적'일까요?  \n",
        "진짜 실력이라기 보다는 단순히 답이 기억나서 점수가 높게 나온 것이겠죠? ❌🚫⛔❗  \n",
        "\n",
        "정확한 내 실력을 평가하기 위해서는,  \n",
        "**한 번도 보지못한** 기출문제로 평가를 해야할 것입니다. \n",
        "\n",
        "🧐기계학습도 마찬가지로! 모델 성능을 정확한 평가하려면,  \n",
        "공부(Train)에는 사용되지 않고 **오로지 평가에만 사용되는 TEST 데이터가 필요**합니다.  \n",
        "\n",
        "학습에 사용된 데이터로 평가를 하게 된다면,  \n",
        "기계학습 모델이 수능문제를 푸는 지식과 요령을 제대로 학습한 것인지,  \n",
        "아니면 단순히 문제의 답을 외워서 점수가 높은 것인지 분간이 되지 않기 때문입니다.  \n",
        "\n",
        ">⛹️‍♀️**학습**을 위한 데이터 집합 : **Train Set**  \n",
        "🥇성능 **검증**을 위한 데이터 집합 : **Test Set**  \n",
        "\n",
        "<img src = \"https://1.bp.blogspot.com/-goSQqE4gRuU/XoF9dP41nSI/AAAAAAAAAOU/9-6JB0R2QecGVI11hMKfxfQVxGN24jTEgCLcBGAsYHQ/s1600/%25E1%2584%258F%25E1%2585%25A2%25E1%2586%25B8%25E1%2584%258E%25E1%2585%25A52.JPG\" width = \"800\">"
      ]
    },
    {
      "cell_type": "markdown",
      "metadata": {
        "id": "UrXYNgxIAZFf"
      },
      "source": [
        "👍 Kaggle의 데이터셋 대부분은 Train set과 Test set이 분리되어 제공됩니다. \n",
        "(*titanic_dataset도 마찬가지!) \n",
        "\n",
        "![대체 텍스트](https://i.ibb.co/GJ8rrKW/Screen-Shot-2020-03-05-at-6-25-07-PM.png)"
      ]
    },
    {
      "cell_type": "markdown",
      "metadata": {
        "id": "McwupbD297Qi"
      },
      "source": [
        "#### 🤭 만약 Test set이 제공되지 않는다면?"
      ]
    },
    {
      "cell_type": "markdown",
      "metadata": {
        "id": "uhsgYMfWCmvq"
      },
      "source": [
        "##### 👉 하나의 Dataset을 Train set과 Test set으로 나눠줘야 합니다.\n",
        "\n",
        "> scikit-learn 의 함수를 사용하여 train 셋을 나눠서 사용할 수 있습니다.  \n",
        "> 🔍 tips dataset으로 연습\n"
      ]
    },
    {
      "cell_type": "code",
      "metadata": {
        "id": "sZgiFac8EHE1",
        "colab": {
          "base_uri": "https://localhost:8080/",
          "height": 402
        },
        "outputId": "5f675e5d-d0b7-49ed-a7f5-59d5b750a05c"
      },
      "source": [
        "tips  # 원본 데이터 확인해보기"
      ],
      "execution_count": null,
      "outputs": [
        {
          "output_type": "execute_result",
          "data": {
            "text/html": [
              "<div>\n",
              "<style scoped>\n",
              "    .dataframe tbody tr th:only-of-type {\n",
              "        vertical-align: middle;\n",
              "    }\n",
              "\n",
              "    .dataframe tbody tr th {\n",
              "        vertical-align: top;\n",
              "    }\n",
              "\n",
              "    .dataframe thead th {\n",
              "        text-align: right;\n",
              "    }\n",
              "</style>\n",
              "<table border=\"1\" class=\"dataframe\">\n",
              "  <thead>\n",
              "    <tr style=\"text-align: right;\">\n",
              "      <th></th>\n",
              "      <th>total_bill</th>\n",
              "      <th>tip</th>\n",
              "      <th>sex</th>\n",
              "      <th>smoker</th>\n",
              "      <th>day</th>\n",
              "      <th>time</th>\n",
              "      <th>size</th>\n",
              "    </tr>\n",
              "  </thead>\n",
              "  <tbody>\n",
              "    <tr>\n",
              "      <th>0</th>\n",
              "      <td>16.99</td>\n",
              "      <td>1.01</td>\n",
              "      <td>0</td>\n",
              "      <td>No</td>\n",
              "      <td>Sun</td>\n",
              "      <td>Dinner</td>\n",
              "      <td>2</td>\n",
              "    </tr>\n",
              "    <tr>\n",
              "      <th>1</th>\n",
              "      <td>10.34</td>\n",
              "      <td>1.66</td>\n",
              "      <td>1</td>\n",
              "      <td>No</td>\n",
              "      <td>Sun</td>\n",
              "      <td>Dinner</td>\n",
              "      <td>3</td>\n",
              "    </tr>\n",
              "    <tr>\n",
              "      <th>2</th>\n",
              "      <td>21.01</td>\n",
              "      <td>3.50</td>\n",
              "      <td>1</td>\n",
              "      <td>No</td>\n",
              "      <td>Sun</td>\n",
              "      <td>Dinner</td>\n",
              "      <td>3</td>\n",
              "    </tr>\n",
              "    <tr>\n",
              "      <th>3</th>\n",
              "      <td>23.68</td>\n",
              "      <td>3.31</td>\n",
              "      <td>1</td>\n",
              "      <td>No</td>\n",
              "      <td>Sun</td>\n",
              "      <td>Dinner</td>\n",
              "      <td>2</td>\n",
              "    </tr>\n",
              "    <tr>\n",
              "      <th>4</th>\n",
              "      <td>24.59</td>\n",
              "      <td>3.61</td>\n",
              "      <td>0</td>\n",
              "      <td>No</td>\n",
              "      <td>Sun</td>\n",
              "      <td>Dinner</td>\n",
              "      <td>4</td>\n",
              "    </tr>\n",
              "    <tr>\n",
              "      <th>...</th>\n",
              "      <td>...</td>\n",
              "      <td>...</td>\n",
              "      <td>...</td>\n",
              "      <td>...</td>\n",
              "      <td>...</td>\n",
              "      <td>...</td>\n",
              "      <td>...</td>\n",
              "    </tr>\n",
              "    <tr>\n",
              "      <th>239</th>\n",
              "      <td>29.03</td>\n",
              "      <td>5.92</td>\n",
              "      <td>1</td>\n",
              "      <td>No</td>\n",
              "      <td>Sat</td>\n",
              "      <td>Dinner</td>\n",
              "      <td>3</td>\n",
              "    </tr>\n",
              "    <tr>\n",
              "      <th>240</th>\n",
              "      <td>27.18</td>\n",
              "      <td>2.00</td>\n",
              "      <td>0</td>\n",
              "      <td>Yes</td>\n",
              "      <td>Sat</td>\n",
              "      <td>Dinner</td>\n",
              "      <td>2</td>\n",
              "    </tr>\n",
              "    <tr>\n",
              "      <th>241</th>\n",
              "      <td>22.67</td>\n",
              "      <td>2.00</td>\n",
              "      <td>1</td>\n",
              "      <td>Yes</td>\n",
              "      <td>Sat</td>\n",
              "      <td>Dinner</td>\n",
              "      <td>2</td>\n",
              "    </tr>\n",
              "    <tr>\n",
              "      <th>242</th>\n",
              "      <td>17.82</td>\n",
              "      <td>1.75</td>\n",
              "      <td>1</td>\n",
              "      <td>No</td>\n",
              "      <td>Sat</td>\n",
              "      <td>Dinner</td>\n",
              "      <td>2</td>\n",
              "    </tr>\n",
              "    <tr>\n",
              "      <th>243</th>\n",
              "      <td>18.78</td>\n",
              "      <td>3.00</td>\n",
              "      <td>0</td>\n",
              "      <td>No</td>\n",
              "      <td>Thur</td>\n",
              "      <td>Dinner</td>\n",
              "      <td>2</td>\n",
              "    </tr>\n",
              "  </tbody>\n",
              "</table>\n",
              "<p>244 rows × 7 columns</p>\n",
              "</div>"
            ],
            "text/plain": [
              "     total_bill   tip sex smoker   day    time  size\n",
              "0         16.99  1.01   0     No   Sun  Dinner     2\n",
              "1         10.34  1.66   1     No   Sun  Dinner     3\n",
              "2         21.01  3.50   1     No   Sun  Dinner     3\n",
              "3         23.68  3.31   1     No   Sun  Dinner     2\n",
              "4         24.59  3.61   0     No   Sun  Dinner     4\n",
              "..          ...   ...  ..    ...   ...     ...   ...\n",
              "239       29.03  5.92   1     No   Sat  Dinner     3\n",
              "240       27.18  2.00   0    Yes   Sat  Dinner     2\n",
              "241       22.67  2.00   1    Yes   Sat  Dinner     2\n",
              "242       17.82  1.75   1     No   Sat  Dinner     2\n",
              "243       18.78  3.00   0     No  Thur  Dinner     2\n",
              "\n",
              "[244 rows x 7 columns]"
            ]
          },
          "metadata": {
            "tags": []
          },
          "execution_count": 56
        }
      ]
    },
    {
      "cell_type": "code",
      "metadata": {
        "id": "ZkfiEuLeElOF",
        "colab": {
          "base_uri": "https://localhost:8080/"
        },
        "outputId": "96f15144-9f9f-49e8-898e-0bd505beafc3"
      },
      "source": [
        "tips['total_bill']    # y값을 의미하는 label 찾기"
      ],
      "execution_count": null,
      "outputs": [
        {
          "output_type": "execute_result",
          "data": {
            "text/plain": [
              "0      16.99\n",
              "1      10.34\n",
              "2      21.01\n",
              "3      23.68\n",
              "4      24.59\n",
              "       ...  \n",
              "239    29.03\n",
              "240    27.18\n",
              "241    22.67\n",
              "242    17.82\n",
              "243    18.78\n",
              "Name: total_bill, Length: 244, dtype: float64"
            ]
          },
          "metadata": {
            "tags": []
          },
          "execution_count": 57
        }
      ]
    },
    {
      "cell_type": "markdown",
      "metadata": {
        "id": "-D5XfjyXztil"
      },
      "source": [
        "#### scikit-learn 패키지를 사용하여 Train / Test 셋 분리하기\n",
        "- `train_test_split(arrays, test_size, train_size, random_state, shuffle, stratify)`의 인자(parameter)\n",
        "```\n",
        "arrays : 분할시킬 데이터를 입력 (Python list, Numpy array, Pandas dataframe 등..)\n",
        "test_size : 테스트 데이터셋의 비율(float)이나 갯수(int) (default = 0.25)\n",
        "train_size : 학습 데이터셋의 비율(float)이나 갯수(int) (default = test_size의 나머지)\n",
        "random_state : 데이터 분할시 셔플이 이루어지는데 이를 기억하기 위한 임의의 시드값 (int나 RandomState로 입력)\n",
        "shuffle : 셔플여부설정 (default = True)\n",
        "stratify : 지정한 Data의 비율을 유지한다. 예를 들어, Label Set인 Y가 25%의 0과 75%의 1로 이루어진 Binary Set일 때,\n",
        "            stratify=Y로 설정하면 나누어진 데이터셋들도 0과 1을 각각 25%, 75%로 유지한 채 분할된다.\n",
        "```\n",
        "\n",
        "- 예제\n",
        "\n",
        "```\n",
        "import numpy as np\n",
        "from sklearn.model_selection import train_test_split \n",
        "\n",
        "X = [[0,1],[2,3],[4,5],[6,7],[8,9]]\n",
        "Y = [0,1,2,3,4]\n",
        "\n",
        "# 데이터(X)만 넣었을 경우\n",
        "X_train, X_test = train_test_split(X, test_size=0.2, random_state=123)\n",
        "# X_train : [[0,1],[6,7],[8,9],[2,3]]\n",
        "# X_test : [[4,5]]\n",
        "\n",
        "# 데이터(X)와 레이블(Y)을 넣었을 경우\n",
        "X_train, X_test, Y_train, Y_test = train_test_split(X, Y, test_size=0.33, random_state=321)\n",
        "# X_train : [[4,5],[0,1],[6,7]]\n",
        "# Y_train : [2,0,3]\n",
        "# X_test : [[2,3],[8,9]]\n",
        "# Y_test : [1,4]\n",
        "```\n",
        "\n",
        "⭐괄호() 안에 들어가는 인자 중 x,y 변수의 순서에 주의하세요⭐"
      ]
    },
    {
      "cell_type": "code",
      "metadata": {
        "id": "ga1EUEVPDB-8"
      },
      "source": [
        "from sklearn.model_selection import train_test_split\n",
        "\n",
        "# 우선 나눌 input array x 와 output array y 를 정의합니다\n",
        "\n",
        "x = tips.drop('total_bill',axis=1)\n",
        "y = tips['total_bill']\n",
        "#xTrain, xTest, yTrain, yTest = ??? # 20%만 잘라서 test 로 만듭니다."
      ],
      "execution_count": null,
      "outputs": []
    },
    {
      "cell_type": "code",
      "metadata": {
        "id": "VzByxyk7GTBj"
      },
      "source": [
        "xTrain, xTest, yTrain, yTest = train_test_split(\n",
        "    x, y, test_size=0.2\n",
        ")\n"
      ],
      "execution_count": null,
      "outputs": []
    },
    {
      "cell_type": "code",
      "metadata": {
        "id": "G_uOwi0gFD0v",
        "colab": {
          "base_uri": "https://localhost:8080/",
          "height": 402
        },
        "outputId": "f8f26f20-8a8f-47fa-f795-0af9d32cfd73"
      },
      "source": [
        "xTrain    # 훈련셋 잘 분리 되었는지 항상 체크해보기!! 셀 단위 실행의 장점입니다 ^0^"
      ],
      "execution_count": null,
      "outputs": [
        {
          "output_type": "execute_result",
          "data": {
            "text/html": [
              "<div>\n",
              "<style scoped>\n",
              "    .dataframe tbody tr th:only-of-type {\n",
              "        vertical-align: middle;\n",
              "    }\n",
              "\n",
              "    .dataframe tbody tr th {\n",
              "        vertical-align: top;\n",
              "    }\n",
              "\n",
              "    .dataframe thead th {\n",
              "        text-align: right;\n",
              "    }\n",
              "</style>\n",
              "<table border=\"1\" class=\"dataframe\">\n",
              "  <thead>\n",
              "    <tr style=\"text-align: right;\">\n",
              "      <th></th>\n",
              "      <th>tip</th>\n",
              "      <th>sex</th>\n",
              "      <th>smoker</th>\n",
              "      <th>day</th>\n",
              "      <th>time</th>\n",
              "      <th>size</th>\n",
              "    </tr>\n",
              "  </thead>\n",
              "  <tbody>\n",
              "    <tr>\n",
              "      <th>19</th>\n",
              "      <td>3.35</td>\n",
              "      <td>1</td>\n",
              "      <td>No</td>\n",
              "      <td>Sat</td>\n",
              "      <td>Dinner</td>\n",
              "      <td>3</td>\n",
              "    </tr>\n",
              "    <tr>\n",
              "      <th>226</th>\n",
              "      <td>2.00</td>\n",
              "      <td>0</td>\n",
              "      <td>Yes</td>\n",
              "      <td>Fri</td>\n",
              "      <td>Lunch</td>\n",
              "      <td>2</td>\n",
              "    </tr>\n",
              "    <tr>\n",
              "      <th>183</th>\n",
              "      <td>6.50</td>\n",
              "      <td>1</td>\n",
              "      <td>Yes</td>\n",
              "      <td>Sun</td>\n",
              "      <td>Dinner</td>\n",
              "      <td>4</td>\n",
              "    </tr>\n",
              "    <tr>\n",
              "      <th>191</th>\n",
              "      <td>4.19</td>\n",
              "      <td>0</td>\n",
              "      <td>Yes</td>\n",
              "      <td>Thur</td>\n",
              "      <td>Lunch</td>\n",
              "      <td>2</td>\n",
              "    </tr>\n",
              "    <tr>\n",
              "      <th>180</th>\n",
              "      <td>3.68</td>\n",
              "      <td>1</td>\n",
              "      <td>Yes</td>\n",
              "      <td>Sun</td>\n",
              "      <td>Dinner</td>\n",
              "      <td>4</td>\n",
              "    </tr>\n",
              "    <tr>\n",
              "      <th>...</th>\n",
              "      <td>...</td>\n",
              "      <td>...</td>\n",
              "      <td>...</td>\n",
              "      <td>...</td>\n",
              "      <td>...</td>\n",
              "      <td>...</td>\n",
              "    </tr>\n",
              "    <tr>\n",
              "      <th>216</th>\n",
              "      <td>3.00</td>\n",
              "      <td>1</td>\n",
              "      <td>Yes</td>\n",
              "      <td>Sat</td>\n",
              "      <td>Dinner</td>\n",
              "      <td>5</td>\n",
              "    </tr>\n",
              "    <tr>\n",
              "      <th>166</th>\n",
              "      <td>2.24</td>\n",
              "      <td>1</td>\n",
              "      <td>No</td>\n",
              "      <td>Sun</td>\n",
              "      <td>Dinner</td>\n",
              "      <td>2</td>\n",
              "    </tr>\n",
              "    <tr>\n",
              "      <th>9</th>\n",
              "      <td>3.23</td>\n",
              "      <td>1</td>\n",
              "      <td>No</td>\n",
              "      <td>Sun</td>\n",
              "      <td>Dinner</td>\n",
              "      <td>2</td>\n",
              "    </tr>\n",
              "    <tr>\n",
              "      <th>108</th>\n",
              "      <td>3.76</td>\n",
              "      <td>1</td>\n",
              "      <td>No</td>\n",
              "      <td>Sat</td>\n",
              "      <td>Dinner</td>\n",
              "      <td>2</td>\n",
              "    </tr>\n",
              "    <tr>\n",
              "      <th>109</th>\n",
              "      <td>4.00</td>\n",
              "      <td>0</td>\n",
              "      <td>Yes</td>\n",
              "      <td>Sat</td>\n",
              "      <td>Dinner</td>\n",
              "      <td>2</td>\n",
              "    </tr>\n",
              "  </tbody>\n",
              "</table>\n",
              "<p>195 rows × 6 columns</p>\n",
              "</div>"
            ],
            "text/plain": [
              "      tip sex smoker   day    time  size\n",
              "19   3.35   1     No   Sat  Dinner     3\n",
              "226  2.00   0    Yes   Fri   Lunch     2\n",
              "183  6.50   1    Yes   Sun  Dinner     4\n",
              "191  4.19   0    Yes  Thur   Lunch     2\n",
              "180  3.68   1    Yes   Sun  Dinner     4\n",
              "..    ...  ..    ...   ...     ...   ...\n",
              "216  3.00   1    Yes   Sat  Dinner     5\n",
              "166  2.24   1     No   Sun  Dinner     2\n",
              "9    3.23   1     No   Sun  Dinner     2\n",
              "108  3.76   1     No   Sat  Dinner     2\n",
              "109  4.00   0    Yes   Sat  Dinner     2\n",
              "\n",
              "[195 rows x 6 columns]"
            ]
          },
          "metadata": {
            "tags": []
          },
          "execution_count": 62
        }
      ]
    },
    {
      "cell_type": "code",
      "metadata": {
        "id": "gi0BMRP9FFjU",
        "colab": {
          "base_uri": "https://localhost:8080/",
          "height": 195
        },
        "outputId": "675800f7-e9ae-48bc-d571-6d857865f48a"
      },
      "source": [
        "xTest.head()    # 테스트셋 확인해보기"
      ],
      "execution_count": null,
      "outputs": [
        {
          "output_type": "execute_result",
          "data": {
            "text/html": [
              "<div>\n",
              "<style scoped>\n",
              "    .dataframe tbody tr th:only-of-type {\n",
              "        vertical-align: middle;\n",
              "    }\n",
              "\n",
              "    .dataframe tbody tr th {\n",
              "        vertical-align: top;\n",
              "    }\n",
              "\n",
              "    .dataframe thead th {\n",
              "        text-align: right;\n",
              "    }\n",
              "</style>\n",
              "<table border=\"1\" class=\"dataframe\">\n",
              "  <thead>\n",
              "    <tr style=\"text-align: right;\">\n",
              "      <th></th>\n",
              "      <th>tip</th>\n",
              "      <th>sex</th>\n",
              "      <th>smoker</th>\n",
              "      <th>day</th>\n",
              "      <th>time</th>\n",
              "      <th>size</th>\n",
              "    </tr>\n",
              "  </thead>\n",
              "  <tbody>\n",
              "    <tr>\n",
              "      <th>58</th>\n",
              "      <td>1.76</td>\n",
              "      <td>1</td>\n",
              "      <td>Yes</td>\n",
              "      <td>Sat</td>\n",
              "      <td>Dinner</td>\n",
              "      <td>2</td>\n",
              "    </tr>\n",
              "    <tr>\n",
              "      <th>215</th>\n",
              "      <td>1.10</td>\n",
              "      <td>0</td>\n",
              "      <td>Yes</td>\n",
              "      <td>Sat</td>\n",
              "      <td>Dinner</td>\n",
              "      <td>2</td>\n",
              "    </tr>\n",
              "    <tr>\n",
              "      <th>49</th>\n",
              "      <td>3.00</td>\n",
              "      <td>1</td>\n",
              "      <td>No</td>\n",
              "      <td>Sun</td>\n",
              "      <td>Dinner</td>\n",
              "      <td>2</td>\n",
              "    </tr>\n",
              "    <tr>\n",
              "      <th>113</th>\n",
              "      <td>2.55</td>\n",
              "      <td>1</td>\n",
              "      <td>No</td>\n",
              "      <td>Sun</td>\n",
              "      <td>Dinner</td>\n",
              "      <td>2</td>\n",
              "    </tr>\n",
              "    <tr>\n",
              "      <th>0</th>\n",
              "      <td>1.01</td>\n",
              "      <td>0</td>\n",
              "      <td>No</td>\n",
              "      <td>Sun</td>\n",
              "      <td>Dinner</td>\n",
              "      <td>2</td>\n",
              "    </tr>\n",
              "  </tbody>\n",
              "</table>\n",
              "</div>"
            ],
            "text/plain": [
              "      tip sex smoker  day    time  size\n",
              "58   1.76   1    Yes  Sat  Dinner     2\n",
              "215  1.10   0    Yes  Sat  Dinner     2\n",
              "49   3.00   1     No  Sun  Dinner     2\n",
              "113  2.55   1     No  Sun  Dinner     2\n",
              "0    1.01   0     No  Sun  Dinner     2"
            ]
          },
          "metadata": {
            "tags": []
          },
          "execution_count": 66
        }
      ]
    },
    {
      "cell_type": "markdown",
      "metadata": {
        "id": "-yCCuqrBFPnh"
      },
      "source": [
        "#### Cross Validation 교차 검증 법 이용하기 \n",
        "\n",
        "> 🧨 데이터 수가 적을 때 발생하는 문제  \n",
        "   - 쪼갠 검증 데이터 수가 적기 때문에 검증 성능의 신뢰도가 떨어짐\n",
        "   - 검증 데이터셋 비율을 높힌다면, 학습 데이터셋 크기가 줄어들어 학습이 되지 않음  \n",
        "\n",
        "이 경우에 **Cross Validation** 이라는 교차검증법을 이용합니다.  \n",
        "보통 K-fold Cross Validation (k 겹 Cross Vlidatino) 을 많이 사용합니다. \n",
        "\n",
        "\n",
        "---\n",
        "\n",
        "\n",
        " K-fold Cross Validation\n",
        ">1) 데이터를 K 개의 집합으로 나눠,  \n",
        "2) 매번 한개의 집합을 Test 로 쓰고, 나머지를 학습에 사용합니다  \n",
        "3) 이때 나온 K 개의 정확도 지표를 평균을 내서 최종 평가지표로 사용합니다   \n",
        "✔ 주로 K = 5 를 많이 사용합니다 (오겹살 🐷)  \n",
        "✔ K = 10 도 종종 사용합니다 (그러나 K  가 10 이 넘어갈 정도면, 데이터셋이 split 해도될정도로 충분히 크다고 봄)  \n",
        "\n",
        "![대체 텍스트](https://1.bp.blogspot.com/-0xXCMk0QIQE/XoF9dLJqYxI/AAAAAAAAAOc/z_mbr5ZFEmgKeuIH2cspOjUjymrB-A-IQCLcBGAsYHQ/s1600/%25E1%2584%258F%25E1%2585%25A2%25E1%2586%25B8%25E1%2584%258E%25E1%2585%25A53%255D.JPG)\n"
      ]
    },
    {
      "cell_type": "code",
      "metadata": {
        "id": "3PItY7pLFOEe"
      },
      "source": [
        "iris = sns.load_dataset('iris')   # 데이터셋 불러오기\n",
        "iris"
      ],
      "execution_count": null,
      "outputs": []
    },
    {
      "cell_type": "code",
      "metadata": {
        "id": "w8uVXWdPLyo7"
      },
      "source": [
        "x = ???\n",
        "y = ???\n",
        "\n",
        "print(x)\n",
        "print(y)"
      ],
      "execution_count": null,
      "outputs": []
    },
    {
      "cell_type": "markdown",
      "metadata": {
        "id": "2IguDeJW4Id1"
      },
      "source": [
        "실제로 cross validation을 사용해서 머신러닝을 해보도록 하겠습니다!!\n",
        "> - `cross_val_score(모델,x,y,cv=k개)`"
      ]
    },
    {
      "cell_type": "code",
      "metadata": {
        "id": "i209o1UsFM4v"
      },
      "source": [
        "from sklearn.linear_model import LogisticRegression\n",
        "from sklearn.model_selection import cross_val_score\n",
        "\n",
        "model = ???      # 모델은 다음 시간에 설명합니다. 넘어가기!\n",
        "scores = ???     # cv 는 cross validation의 약자입니다\n",
        "\n",
        "print(scores)\n",
        "print(scores.mean())                         # 정확도까지만 보고 넘어가기!"
      ],
      "execution_count": null,
      "outputs": []
    },
    {
      "cell_type": "markdown",
      "metadata": {
        "id": "Hyn1tdSatSBF"
      },
      "source": [
        "## ✍ score 는 무슨기준으로 판별하는것인가요? \n",
        "\n",
        "score 은 scikitlearn 의 metrics.accuracy_score 에 의해서 계산됩니다.\n",
        "\n",
        "<img src = \"https://1.bp.blogspot.com/-LKcvhNPrpuo/XqaLxt7AIvI/AAAAAAAAAUI/6dADzp9Q-9cNWExBXEW4LQj4aWYiRFrHQCLcBGAsYHQ/s1600/%25E1%2584%2589%25E1%2585%25B3%25E1%2584%258F%25E1%2585%25B3%25E1%2584%2585%25E1%2585%25B5%25E1%2586%25AB%25E1%2584%2589%25E1%2585%25A3%25E1%2586%25BA%2B2020-04-27%2B%25E1%2584%258B%25E1%2585%25A9%25E1%2584%2592%25E1%2585%25AE%2B4.36.25.png\" width = \"800\">\n",
        "\n",
        "정확도를 기준으로 계산되며, 예측값 (pred) 와 실제값 (y_true) 가 정확하게 일치할 때 1 값을 가지고, 반만 맞으면 0.5 이런식으로 확률로 반환됩니다. \n",
        "\n",
        "\n"
      ]
    },
    {
      "cell_type": "markdown",
      "metadata": {
        "id": "pOQZMcKhRAKC"
      },
      "source": [
        "# 숙제 : test셋과 train셋의 분리 연습\n",
        "다음 시간에는 'titanic dataset'을 심도있게 다룰 예정입니다.  \n",
        "본격적으로 시작하기 전!! 🐬데이터 다이빙🐬 여러분이 직접 test셋과 train셋을 분리해보도록 하겠습니다.\n",
        "> - 타이타닉 데이터셋을 seaborn이 아닌, 본인 계정에서 gdrive 경로를 통해 불러오세요.\n",
        "- y라는 변수를 만들고 생존에 대한 열을 선언하세요.\n",
        "- x라는 변수에 label을 제외한 열들을 선언하세요.\n",
        "- z라는 변수에 'age'열을 담은 뒤, 비어있는 값이 있는 행을 제거하고, 배운 내용을 토대로 다양하게 해당 열을 시각화해보세요.\n"
      ]
    },
    {
      "cell_type": "code",
      "metadata": {
        "id": "r2M7TjR1VvoA"
      },
      "source": [
        "# 여기에!! 파이팅!!!!"
      ],
      "execution_count": null,
      "outputs": []
    },
    {
      "cell_type": "markdown",
      "metadata": {
        "id": "UAaJ_jZaPyZ5"
      },
      "source": [
        "# 🌈 끝 🌈\n",
        "<img src = \"https://www.studenttimes.org/wp-content/uploads/2017/04/shutterstock_78205810-1.jpg\" width = \"700\">\n",
        "\n",
        " 이렇게 **데이터 시각화와 데이터 전처리**에 대해서 배웠습니다  \n",
        "여러분의 표정이 보이는 듯도 하는데요 🙉🙈🤯🤮  \n",
        "\n",
        "특히 오늘 배운 전처리를 통해서 다음주에 본격적인 '머신러닝'을 돌려볼 것입니다.\n",
        "\n",
        "다음 수업엔 **재밌는 실습을 통해서** 오늘 배운 내용을 복습하고 또 머신러닝 모델에 대해서 배워보도록 하겠습니다.\n",
        "\n",
        "많이 기대해주세요~😍😍😍"
      ]
    },
    {
      "cell_type": "code",
      "metadata": {
        "id": "lF-_rbko5ZFq"
      },
      "source": [
        ""
      ],
      "execution_count": null,
      "outputs": []
    }
  ]
}