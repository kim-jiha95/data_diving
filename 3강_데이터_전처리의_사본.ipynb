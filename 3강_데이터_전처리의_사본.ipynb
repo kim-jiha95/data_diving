{
  "nbformat": 4,
  "nbformat_minor": 0,
  "metadata": {
    "colab": {
      "name": "3강 데이터 전처리의 사본",
      "provenance": [],
      "collapsed_sections": [],
      "toc_visible": true,
      "include_colab_link": true
    },
    "kernelspec": {
      "name": "python3",
      "display_name": "Python 3"
    }
  },
  "cells": [
    {
      "cell_type": "markdown",
      "metadata": {
        "id": "view-in-github",
        "colab_type": "text"
      },
      "source": [
        "<a href=\"https://colab.research.google.com/github/kim-jiha95/data_diving/blob/main/3%EA%B0%95_%E1%84%83%E1%85%A6%E1%84%8B%E1%85%B5%E1%84%90%E1%85%A5_%E1%84%8C%E1%85%A5%E1%86%AB%E1%84%8E%E1%85%A5%E1%84%85%E1%85%B5%EC%9D%98_%EC%82%AC%EB%B3%B8.ipynb\" target=\"_parent\"><img src=\"https://colab.research.google.com/assets/colab-badge.svg\" alt=\"Open In Colab\"/></a>"
      ]
    },
    {
      "cell_type": "markdown",
      "metadata": {
        "id": "I1NBu40WMAN0"
      },
      "source": [
        "\n",
        "\n",
        "## ✍ 지난 시간 복습하기 (10분 이상 소요)\n",
        "\n",
        "```\n",
        "간단히 지난 시간 강의내용 복습을 진행해주세요 🔥🔥\n",
        "```\n",
        "\n",
        "</br>\n",
        "\n",
        "#🔥 Lesson 3, Deep dive into Titanic Dataset!  \n",
        "🏊🏻‍♀️🏊🏻🏊🏻‍♂️🏊🏻‍♀️🏊🏻🏊🏻‍♂️🏊🏻‍♀️🏊🏻🏊🏻‍♂️🏊🏻‍♀️🏊🏻🏊🏻‍♂️🏊🏻‍♀️🏊🏻🏊🏻‍♂️🏊🏻‍♀️🏊🏻🏊🏻‍♂️🏊🏻‍♀️🏊🏻🏊🏻‍♂️🏊🏻‍♀️🏊🏻🏊🏻‍♂️\n",
        "\n",
        "</br>\n",
        "\n",
        "## ⛳ 무엇을 배우나요?\n",
        "\n",
        "안녕하세요. '🧜🏻‍♀️데이터 다이빙🧜🏻' 여러분!!  \n",
        "오늘은 타이나닉 데이터셋으로 실전 데이터 분석 연습을 할 것입니다 😆😀\n",
        "\n",
        "여태까지 pandas 와 scikit-learn을 이용한 다양한 데이터 분석 기법들을 배웠습니다.  \n",
        "이번 강의에서는 지금까지 배웠던 기법들을 사용하여 **데이터 전처리와 시각화를 복습**하고  \n",
        "데이터에 대한 📈insight를 얻어서 전처리를 다르게 시도하면 **성능에 어떤 차이가 나는지** 알아보겠습니다.\n",
        "\n"
      ]
    },
    {
      "cell_type": "markdown",
      "metadata": {
        "id": "wcF5YCrQMfsm"
      },
      "source": [
        "# 📙 데이터 분석 가이드 📙\n",
        "\n",
        " 어떤 데이터가 주어져도 겁먹지 마세요 🦾💪🤛  \n",
        "이제  📌Step1 ~ 📌Step6만 기억하면 \"**나도 데이터 분석가!**\""
      ]
    },
    {
      "cell_type": "markdown",
      "metadata": {
        "id": "eE_fM8ZSMj2q"
      },
      "source": [
        "## 📌Step1. 어떤 데이터가 주어졌는지 알아보기\n",
        "\n",
        "월요일 오전, 평소와 같이 출근을 했는데 부장님이 엑셀 파일을 카톡으로 보내며 \n",
        "\n",
        "\n",
        "```\n",
        "‍🤵‍ :‍ ‍김 대리. 내일 오전 회의에서 이거 분석 결과 좀 보도록 하지 ~\n",
        "```\n",
        "\n",
        "라고 한다면, 가장 먼저 해야 하는 일은 무엇일까요??\n",
        "\n",
        "🔎우선 파일을 열어 어떤 데이터인지 알아봐야하겠죠.  \n",
        "\n",
        "머신러닝, 데이터 분석 등을 위한 체크리스트는 다음과 같습니다 👍\n"
      ]
    },
    {
      "cell_type": "markdown",
      "metadata": {
        "id": "nC3IfEM5OOiP"
      },
      "source": [
        "🛳 titanic_dataset 을 보겠습니다.  \n",
        "> 🔍 데이터의 일부분을 보고 다음 질문들에 답변해보세요\n",
        "- 어떤 feature 들이 주어졌나요? \n",
        "- 각 feature 가 의미하는 바는 무엇인가요? \n",
        "- train set, test set 이 따로 주어졌나요? \n",
        "- 어떤 feature 가 categorical 이고 어떤 feature 가 numerical 인가요? "
      ]
    },
    {
      "cell_type": "code",
      "metadata": {
        "id": "qI9HM0_aOVBK"
      },
      "source": [
        "import seaborn as sns\n",
        "import pandas as pd\n",
        "##titanic = sns.load_dataset('raw/titanic') >>> 앞서 사용한 내장 데이터셋 사용 방법\n",
        "\n",
        "#이러한 방법도 있어요~!! pandas와 데이터셋의 주소를 활용하여 가져오는 방법!\n",
        "titanic = pd.read_csv('https://raw.githubusercontent.com/mwaskom/seaborn-data/master/raw/titanic.csv') \n",
        "\n",
        "titanic"
      ],
      "execution_count": null,
      "outputs": []
    },
    {
      "cell_type": "markdown",
      "metadata": {
        "id": "q74H4OcBOk5f"
      },
      "source": [
        "#### 어떤 feature 를 가지고 있나요?\n",
        "\n",
        "데이터셋의 feature 는 몇 개인지, 이름은 무엇인지 알아야 분석을 하고 처리를 할 수 있습니다."
      ]
    },
    {
      "cell_type": "code",
      "metadata": {
        "id": "u0wymkfQMb7U"
      },
      "source": [
        "titanic.???"
      ],
      "execution_count": null,
      "outputs": []
    },
    {
      "cell_type": "code",
      "metadata": {
        "id": "6e10jP8SP9BV"
      },
      "source": [
        "titanic.head()"
      ],
      "execution_count": null,
      "outputs": []
    },
    {
      "cell_type": "markdown",
      "metadata": {
        "id": "fFHxyRp27KB7"
      },
      "source": [
        "#### 각 feature 가 의미하는 바는 무엇인가요?\n",
        "\n",
        "🙄🙄sibsp? parch? 등의 이런 feature 들은 직관적으로 어떤 의미를 갖고 있는지 파악하기 힘듭니다.  \n",
        "\n",
        "name 은 이름이라는 걸 바로 알 수 있지만, 첫 번째 줄의 Braund, Mr. Owen Harris  보면 이름이 두 개인 것처럼 보이고 헷갈립니다.  \n",
        "\n",
        "**따.라.서!!** 데이터를 볼 때, 데이터의 출처를 확인하여 각 feature 가 의미하는 바는 무엇인지 파악할 필요가 있습니다.  \n",
        "\n",
        "캐글 - 데이터 분석 챌린지 사이트에서 확인해 봅시다.  \n",
        "Go to kaggle  👉👉 https://www.kaggle.com/c/titanic/data\n",
        "\n",
        "<img src = \"https://subinium.github.io/assets/images/category/kaggle.png\" width = \"800\">\n",
        "\n"
      ]
    },
    {
      "cell_type": "markdown",
      "metadata": {
        "id": "QFQS9-WyP6SQ"
      },
      "source": [
        "#### 데이터 형태 복습하기\n",
        "\n",
        "각 feature 의 데이터 형태를 아는 것이 시각화할 때 어떤 Plot을 선택해야 하는지 도움을 줍니다.\n",
        "\n",
        "> 어떤 항목이 📊Categorical(범주형) 인가요?  \n",
        "- 🍊🍎🍇Nominal : survived, sex, embarked  \n",
        "- 🥇🥈🥉ordinal : pclass  \n",
        "\n",
        ">어떤 항목이 📈Numerical(수치형) 인가요? \n",
        "- 👆✌🤟Discret : sibsp, parch\n",
        "- 📏📐🧭Continuous : age, fare\n"
      ]
    },
    {
      "cell_type": "markdown",
      "metadata": {
        "id": "oMWeOqaE3iPv"
      },
      "source": [
        "> 알 수 없는 데이터 형태가 있나요?  \n",
        "> Ex) Ticket의 `STON/O2. 3101282 `, Cabin 의 `C123` 등  \n",
        "\n",
        "이러한 데이터들은 문자와 숫자가 혼합되어 사용되고 있습니다. \n",
        "\n",
        "**문자 부분은 Categorical 이면서 숫자 부분은 Numerical 한 특징도 동시에** 있습니다.  \n",
        "\n",
        "이럴 경우 **전처리**가 필요합니다.\n",
        "\n",
        "\n",
        "\n",
        "\n"
      ]
    },
    {
      "cell_type": "markdown",
      "metadata": {
        "id": "ll6obMeR8Gtx"
      },
      "source": [
        "#### 비어있거나 (NaN) 틀린 값이 있는 feature 가 있나요?\n",
        "\n",
        "기계학습 모델에서 비어있는 값은 인식이 되지 않습니다.  \n",
        "데이터의 특성에 따라, 의도하는 방향에 따라 여러 처리 방법이 있지만\n",
        "\n",
        " 통상적으로 다음과 같은 방법을 이용합니다. \n",
        "\n",
        "1. 0 값으로 대체 (numerical의 경우) , \"empty\" \"null\" 등의 값으로 대체 (categorical의 경우)\n",
        "\n",
        "2. 중간값으로 대체 (numerical의 경우) , 가장 많이 등장하는 category 로 대체 (categorical의 경우) \n",
        "\n",
        "3.  작은 수의 경우, 해당 instance 를 삭제하여 사용하지 않음. 많이 비어있는 경우 해당 feature 를 아예 사용하지 않음.\n",
        "\n",
        "> `isna()`를 사용하여 결측값을 확인하세요."
      ]
    },
    {
      "cell_type": "code",
      "metadata": {
        "id": "HyVDosLQ9XSq"
      },
      "source": [
        "titanic.???        # True 부분이 비어있는 칸"
      ],
      "execution_count": null,
      "outputs": []
    },
    {
      "cell_type": "markdown",
      "metadata": {
        "id": "dpy-_AGF_RMl"
      },
      "source": [
        "> `isna().any()` 함수를 이용하여 좀 더 쉽게 한눈에 알아볼 수 있습니다."
      ]
    },
    {
      "cell_type": "code",
      "metadata": {
        "id": "1Qfkh_lV-k1Z"
      },
      "source": [
        "titanic.???   # 빈 칸이 있을 경우 'True'라고 표시"
      ],
      "execution_count": null,
      "outputs": []
    },
    {
      "cell_type": "markdown",
      "metadata": {
        "id": "53wHFhwA_avI"
      },
      "source": [
        "> `isna().sum()` 함수를 이용하여 몇 개가 na 인지 볼 수 있습니다."
      ]
    },
    {
      "cell_type": "code",
      "metadata": {
        "id": "RyDIlJsY_eX5"
      },
      "source": [
        "titanic.???"
      ],
      "execution_count": null,
      "outputs": []
    },
    {
      "cell_type": "markdown",
      "metadata": {
        "id": "qemK-R9v-kVb"
      },
      "source": [
        "age, cabin, embarked 는 비어있는 값이 있는 것을 확인하였습니다.  \n",
        "이중 age 는 177 개, cabin 은 무려 687개가 없기 때문에 대책이 필요한 것을 알 수 있습니다. "
      ]
    },
    {
      "cell_type": "markdown",
      "metadata": {
        "id": "lmD2MrEh-Xb1"
      },
      "source": [
        "#### 데이터의 분포는 어떻게 되나요?\n",
        "\n",
        "본격적으로 데이터 분석에 들어가기 전에, \n",
        "pandas 의 간단한 기능을 이용하여 전체적인 데이터의 분포를 확인하겠습니다.\n"
      ]
    },
    {
      "cell_type": "markdown",
      "metadata": {
        "id": "-WpRfCEIA4xy"
      },
      "source": [
        "##### **numerical 데이터**\n",
        "\n",
        "`describe()` 함수를 이용합니다."
      ]
    },
    {
      "cell_type": "code",
      "metadata": {
        "id": "X3sg-87r92Aq"
      },
      "source": [
        "titanic.???"
      ],
      "execution_count": null,
      "outputs": []
    },
    {
      "cell_type": "markdown",
      "metadata": {
        "id": "x2nTIfVLA_P0"
      },
      "source": [
        "🔍 위 표를 해석해 보기 \n",
        "- **count** 에 age를 제외하고 모두 891개의 데이터가 정상적으로 있다는 것을 알 수 있습니다.\n",
        "\n",
        "- `surivived` 의 평균값(**mean**) 이 0.38 임으로 대략 38퍼센트의 승객만이 생존한 것을 알 수 있습니다.\n",
        "\n",
        "- `pclass` 는 50% 구간까지가 3임으로 과반수의 승객들이 3등석에 있었습니다.\n",
        "\n",
        "- `age` 의 평균은 29, 추후 분석을 더 하겠지만 생각보다 승객의 나이가 젊습니다. \n",
        "\n",
        "- `sibsip`, `parch`, `fare` 는 이 표만 봐서는 잘 알 수 없습니다. \n"
      ]
    },
    {
      "cell_type": "markdown",
      "metadata": {
        "id": "uz17G4MQBrSk"
      },
      "source": [
        "##### **categorical 데이터**\n",
        "\n",
        "`describe(include=['O'])` 를 이용하면 categorical data 도 분석해줍니다.\n",
        "\n",
        "🤣숫자 0 아닌 대문자 알파벳 O 입니다 🤣 "
      ]
    },
    {
      "cell_type": "code",
      "metadata": {
        "id": "Vf4Nd42DBwbB"
      },
      "source": [
        "titanic.describe(include=['O'])"
      ],
      "execution_count": null,
      "outputs": []
    },
    {
      "cell_type": "markdown",
      "metadata": {
        "id": "BztYsDAaB30A"
      },
      "source": [
        "🔍 위 표를 해석 해보기 \n",
        "- `count` : 해당 열에서 NaN을 제외한 데이터의 개수\n",
        "\n",
        "- `unique` : 해당 열에서 중복되지 않는 값의 개수\n",
        "\n",
        "- `top` : 해당 열에서 가장 많이 중복되는 데이터\n",
        "\n",
        "- `freq` : 가장 많이 중복되는 데이터의 개수\n",
        "\n",
        "- `sex` 중 `male`이 891 중 577을 차지하고 있습니다.\n",
        "\n",
        "- `ticket` 은 210(891-681) 개의 중복값이 있는 것을 확인할 수 있습니다.\n",
        "\n",
        "- `cabin` 도 중복값이 있네요, 같은 방을 쓴 사람들이 있었나 봅니다.\n",
        "\n",
        "데이터의 형태와 분포를 살펴보는 것이 처음이시라면 쉽지 않게 느껴지실 수 있는데요.  \n",
        "이렇게 가설을 세우기 전, **데이터를 분석**해봐야 **유의미한 가설을 세우고 검증**을 할 수 있어집니다.  \n",
        "그리고 다양한 데이터를 분석해보며 연습한다면 훌륭한 데이터 사이언티스트가 되실 수 있을 것입니다!!"
      ]
    },
    {
      "cell_type": "code",
      "metadata": {
        "id": "h-LrJHqUryrU"
      },
      "source": [
        "sns.pairplot(titanic, hue='survived')"
      ],
      "execution_count": null,
      "outputs": []
    },
    {
      "cell_type": "markdown",
      "metadata": {
        "id": "a3n96le6Cmsb"
      },
      "source": [
        "## 📌Step2. 가설 검증하기\n",
        "\n",
        "타이타닉의 장면들을 기억하시나요?  \n",
        "끝까지 연주하는 악단, 두 손을 잡고 눈을 감는 노부부... 여러 슬픈 명장면들이 있었지만,  \n",
        "이러한 감정을 배제하고 생존에 관한 사실만 기억해보도록 하겠습니다 😭😭  \n",
        "\n",
        "> 어떤 사람이 생존에 유리했을까요?   \n",
        "- [가설1] 구명정에는 여자와 아이가 우선으로 탑승했습니다.  \n",
        "- [가설2] 1등석의 승객들은 비교적 탈출이 용이했습니다.  \n",
        "\n",
        "이 두 가지 가설을 바탕으로, 데이터를 좀 더 깊게 살펴보며 어떤 feature 를 기계학습에 사용할 것인지 판단할 것입니다. \n",
        "\n",
        "\n"
      ]
    },
    {
      "cell_type": "markdown",
      "metadata": {
        "id": "4BJj4832NTWz"
      },
      "source": [
        "\n",
        "\n",
        "![대체 텍스트](https://i.pinimg.com/originals/af/bf/af/afbfafac1e700ed3ed9b4a4157a7fa98.jpg)"
      ]
    },
    {
      "cell_type": "markdown",
      "metadata": {
        "id": "Vmob0QZNWjOL"
      },
      "source": [
        "> 먼저 `sex` 와 `survived` 의 관계를 보겠습니다. "
      ]
    },
    {
      "cell_type": "code",
      "metadata": {
        "id": "oL98xRoktQuA"
      },
      "source": [
        "import matplotlib.pyplot as plt"
      ],
      "execution_count": null,
      "outputs": []
    },
    {
      "cell_type": "code",
      "metadata": {
        "id": "zhLtqgaHNUDh"
      },
      "source": [
        "sns.set(style=\"darkgrid\")\n",
        "sns.???\n",
        "plt.???\n",
        "plt.show()"
      ],
      "execution_count": null,
      "outputs": []
    },
    {
      "cell_type": "markdown",
      "metadata": {
        "id": "RXOl-0UCaShB"
      },
      "source": [
        "> ✔ 여자 승객이 더 높은 생존율을 가진 것을 확인할 수 있습니다. "
      ]
    },
    {
      "cell_type": "markdown",
      "metadata": {
        "id": "exABBTPzajq3"
      },
      "source": [
        ">이번에는 가설1인 아이들의 생존율을 확인해보겠습니다.  \n",
        "(빨강색이 생존자 데이터)"
      ]
    },
    {
      "cell_type": "code",
      "metadata": {
        "id": "2hbSdZHxZAHh"
      },
      "source": [
        "sns.distplot(titanic.age.loc[titanic['survived']==0],kde=False)\n",
        "sns.distplot(titanic.age.loc[titanic['survived']==1],kde=False)"
      ],
      "execution_count": null,
      "outputs": []
    },
    {
      "cell_type": "markdown",
      "metadata": {
        "id": "QUnOzjCJc2s3"
      },
      "source": [
        "> `FacetGrid` 를 사용하면 여러 개의 그래프를 손쉽게 만들 수 있습니다 (위 그래프와 같음)"
      ]
    },
    {
      "cell_type": "code",
      "metadata": {
        "id": "t4UY8o2ibh5d"
      },
      "source": [
        "grid = ???\n",
        "grid.???"
      ],
      "execution_count": null,
      "outputs": []
    },
    {
      "cell_type": "code",
      "metadata": {
        "id": "fA670mmNuJq9"
      },
      "source": [
        "# grid = sns.FacetGrid(titanic, col='sex')\n",
        "# grid.map(sns.distplot, 'age', kde=False)"
      ],
      "execution_count": null,
      "outputs": []
    },
    {
      "cell_type": "markdown",
      "metadata": {
        "id": "rewN6sWFaoYO"
      },
      "source": [
        "10세 미만의 아이들은 생존율이 매우 높은 것을 확인할 수 있습니다. \n",
        "또한 80세 이상의 노인도 생존율이 높습니다. \n",
        "\n",
        "대부분의 승객은 15 ~ 35세 사이인 것을 확인 할 수 있습니다. "
      ]
    },
    {
      "cell_type": "markdown",
      "metadata": {
        "id": "N7kCfAAmc-cL"
      },
      "source": [
        "> 이번에는 `pclass` 와 `survived` 의 관계를 분석해 보겠습니다. "
      ]
    },
    {
      "cell_type": "code",
      "metadata": {
        "id": "I1BcvcZQc86l"
      },
      "source": [
        "sns.???    # sns(우선되는 기준 열, hue = 비교하려는 열) "
      ],
      "execution_count": null,
      "outputs": []
    },
    {
      "cell_type": "markdown",
      "metadata": {
        "id": "h3IFQ7E_eK1v"
      },
      "source": [
        "나이나 성별과는 관련이 있을까요?"
      ]
    },
    {
      "cell_type": "code",
      "metadata": {
        "id": "cdqSQcvhdlqm"
      },
      "source": [
        "grid = ???\n",
        "grid.???"
      ],
      "execution_count": null,
      "outputs": []
    },
    {
      "cell_type": "code",
      "metadata": {
        "id": "PfOdiCR4emgO"
      },
      "source": [
        "grid = ???\n",
        "grid.???\n",
        "grid.???"
      ],
      "execution_count": null,
      "outputs": []
    },
    {
      "cell_type": "markdown",
      "metadata": {
        "id": "p1WEYHExfGZO"
      },
      "source": [
        "[가설1] 여성 승객들은 생존율이 높은것을 확인할 수 있습니다.  \n",
        "[가설2] 객실 등급이 높을 수록 생존율이 높은것을 확인 할 수 있습니다.   "
      ]
    },
    {
      "cell_type": "code",
      "metadata": {
        "id": "LNnYuG7gwQXw"
      },
      "source": [
        "grid = sns.FacetGrid(titanic, col='sex')\n",
        "grid.map(sns.boxplot, 'survived', 'age')\n",
        "plt.show()"
      ],
      "execution_count": null,
      "outputs": []
    },
    {
      "cell_type": "code",
      "metadata": {
        "id": "78wK-1lhyxbb"
      },
      "source": [
        ""
      ],
      "execution_count": null,
      "outputs": []
    },
    {
      "cell_type": "markdown",
      "metadata": {
        "id": "RGOOQy5Lm9uc"
      },
      "source": [
        "> 🔍'데이터 시각화'가 기억이 잘 나지 않는다면??\n",
        "- 🧜‍♀️데이터 다이빙 🧜‍♂️ 2강 복습\n",
        "\n",
        "> 🔍'데이터 시각화'에 대해 더 자세히 알고 싶다면??\n",
        "- 코랩의 데이터 시각화 예제 : https://colab.research.google.com/notebooks/charts.ipynb\n",
        "- seaborn 패키지 기초부터 심화 : https://seaborn.pydata.org/introduction.html\n",
        "- seaborn 색상 파레트 : https://seaborn.pydata.org/generated/seaborn.color_palette.html#seaborn.color_palette"
      ]
    },
    {
      "cell_type": "markdown",
      "metadata": {
        "id": "x-BtUU0Fhljz"
      },
      "source": [
        "## 📌Step.3 Missing data\n",
        "\n",
        "`ticket` 의 값은 너무 다양하고 사용하기 힘들며 `cabin` 은 비어 있는 값이 많고, \n",
        "\n",
        "객실의 대략적 위치는 `pclass` 로 짐작할 수 있기 때문에 이 두 개의 값을 drop 하려고 합니다.\n",
        "> `drop.([제거하려는 열 이름], axis = 행-0 열-1, inplace = True)`\n"
      ]
    },
    {
      "cell_type": "code",
      "metadata": {
        "id": "1vAccknSh6sp"
      },
      "source": [
        "# ticket 데이터 마지막으로 확인\n",
        "titanic['ticket']"
      ],
      "execution_count": null,
      "outputs": []
    },
    {
      "cell_type": "code",
      "metadata": {
        "id": "MXUaSg1Hh-ih"
      },
      "source": [
        "# cabin 데이터 마지막으로 확인\n",
        "titanic['cabin']"
      ],
      "execution_count": null,
      "outputs": []
    },
    {
      "cell_type": "code",
      "metadata": {
        "id": "gDCPoBwbiX6V"
      },
      "source": [
        "titanic.???   # 'inplace=True'를 해야만 실제 데이터셋에서 해당 열이 완전히 지워집니다\n",
        "titanic"
      ],
      "execution_count": null,
      "outputs": []
    },
    {
      "cell_type": "code",
      "metadata": {
        "id": "IyOee_8Q0WZy"
      },
      "source": [
        "titanic"
      ],
      "execution_count": null,
      "outputs": []
    },
    {
      "cell_type": "code",
      "metadata": {
        "id": "RfL70vkH0lZX"
      },
      "source": [
        "titanic.isna().sum()"
      ],
      "execution_count": null,
      "outputs": []
    },
    {
      "cell_type": "code",
      "metadata": {
        "id": "4-9fmHrL03mp"
      },
      "source": [
        "titanic['age']"
      ],
      "execution_count": null,
      "outputs": []
    },
    {
      "cell_type": "markdown",
      "metadata": {
        "id": "Iygg_MpzP_Ta"
      },
      "source": [
        "### 🚁 Missing data 찾기  \n",
        "값이 없는 데이터의 경우, 판다스 데이터프레임에서는 NAN 으로 표기하게 됩니다.  \n",
        ">- NA = Not available  \n",
        "- NAN = Not a number (판다스에서는 NA 를 NAN 으로 표기합니다) \n",
        "\n",
        "일반적으로 NAN 를 처리하는 방법은 3가지가 있습니다 .\n",
        "\n",
        "1. **무시한다 ( 아무것도 하지 않음)** \n",
        "2. **제거한다 (drop)**\n",
        "3. **다른 값으로 대체한다 (FILL)**\n",
        "\n",
        "무시할 경우 분석을 할 때 걸리적거리고 모델에서 안 돌아가지 않기 때문에 2번(제거)와 3번(대체)를 배워보도록 하겠습니다.\n"
      ]
    },
    {
      "cell_type": "code",
      "metadata": {
        "id": "WCtOt9foRTy-"
      },
      "source": [
        "import pandas as pd\n",
        "import numpy as np    # NumPy는 행렬이나 일반적으로 대규모 다차원 배열을 쉽게 처리 할 수 있도록 지원하는 파이썬의 라이브러리\n",
        "\n",
        "# 예시 데이터 프레임  \n",
        "df = pd.DataFrame([[1,2,np.nan],[3,np.nan,4],[np.nan,5,6],[np.nan,np.nan,np.nan]],columns=['a','b','c'])\n",
        "df"
      ],
      "execution_count": null,
      "outputs": []
    },
    {
      "cell_type": "markdown",
      "metadata": {
        "id": "Wfgu1oUPRtLj"
      },
      "source": [
        "> 🗑제거(Drop) 하는 법 : 비어있는 값(NaN)이 너무 많을 경우, 전처리가 불가능한 경우 사용\n",
        "> - `데이터프레임.dropna()`\n",
        "- `데이터프레임.dropna(how='all')`"
      ]
    },
    {
      "cell_type": "code",
      "metadata": {
        "id": "YHmkZ0r5RwW5"
      },
      "source": [
        "#nan 값이 있는 행을 다 지우기 \n",
        "???"
      ],
      "execution_count": null,
      "outputs": []
    },
    {
      "cell_type": "code",
      "metadata": {
        "id": "Q6AcAgZCSGl1"
      },
      "source": [
        "#모든 값이 nan 일때만 지우기\n",
        "???"
      ],
      "execution_count": null,
      "outputs": []
    },
    {
      "cell_type": "markdown",
      "metadata": {
        "id": "gsy28Q5oSWkr"
      },
      "source": [
        "> 🎨대치(Fill) 하는 법 : 비교적 비어있는 값(NaN)이 적고 해당 데이터가 유의미하여 이용할만한 경우 사용  \n",
        "- `데이터프레임.fillna(0)`"
      ]
    },
    {
      "cell_type": "code",
      "metadata": {
        "id": "s-JKJEd0SVr5"
      },
      "source": [
        "#0 으로 대체\n",
        "???"
      ],
      "execution_count": null,
      "outputs": []
    },
    {
      "cell_type": "markdown",
      "metadata": {
        "id": "cZQeTWY2m42Q"
      },
      "source": [
        "### 통계적으로 차이가 나지 않도록 **평균(mean)** 에 **분산(std)** 만큼 차이 나는 사이의 임의값을 넣어주기\n",
        ">Age의 경우 `.drop()`을 사용해서 버리기에는 너무 중요한 값입니다.   \n",
        ">그렇다고 일괄적으로 빈칸에 0 등의 값을 넣기에는 분석에 도움이 되지 않습니다.  \n",
        ">그래서 이런 숫자 데이터에 일반적으로 **평균(mean)에 분산(std) 만큼 차이 나는 사이의 임의값을 넣어주게 됩니다**.  \n",
        "\n",
        "> < ---- 데이터 ---- >  \n",
        "- 평균 = 데이터의 중앙에 있을 확률이 높은 값  \n",
        "- 분산 = 각 값이 평균에서 얼마만큼 분산되어있는지의 척도   \n",
        "\n",
        ">그래서 평균에서 분산만큼 떨어진 값들 사이가 대략적으로 가장 확률이 높은 곳이라고 볼 수 있습니다.  \n",
        "> `분산  ~ 평균() ~ 분산 `\n"
      ]
    },
    {
      "cell_type": "markdown",
      "metadata": {
        "id": "WKYmjaCMwRZB"
      },
      "source": [
        "> ✋ 잠깐 그럼 왜 모두 평균값으로 대체하지 않는 것인가요?  \n",
        ">> 👉 평균값으로 대체하게 되면, 전체 데이터의 평균은 맞춰줄 수 있지만, 분산이 영향을 많이 받게 됩니다.\n",
        "\n",
        "예를 들면 :\n",
        "\n",
        "[1, 2, 5, 6 , 9, 10] 이라는 점수들의 평균은 5.5 입니다.\n",
        "\n",
        "missing value 가 3개 있어서 이것을 만약 대체해 준다면, \n",
        "\n",
        "[1, 2, 5, 5.5 , 5.5, 6, 9, 10] 이 됩니다. \n",
        "\n",
        "이렇게 되면 기존의 갖고 있던 분포와 매우 다르게 됩니다. "
      ]
    },
    {
      "cell_type": "markdown",
      "metadata": {
        "id": "ph7MUwSnwtzV"
      },
      "source": [
        "아래의 예제에서 평탄한 산 모양의 고른 분포를 가진 그래프가, \n",
        "중간 부분만 볼록 튀어나오게 되는 것을 볼 수 있습니다. "
      ]
    },
    {
      "cell_type": "code",
      "metadata": {
        "id": "SQT_DRjQwVuG"
      },
      "source": [
        "l = [1, 2, 5, np.nan, np.nan, np.nan, np.nan, 6 , 9, 10]\n",
        "\n",
        "sns.distplot(l)"
      ],
      "execution_count": null,
      "outputs": []
    },
    {
      "cell_type": "code",
      "metadata": {
        "id": "7uL98z1NwkKm"
      },
      "source": [
        "l = [1, 2, 5, 5.5, 5.5, 5.5, 5.5, 6, 9, 10] \n",
        "\n",
        "sns.distplot(l)"
      ],
      "execution_count": null,
      "outputs": []
    },
    {
      "cell_type": "markdown",
      "metadata": {
        "id": "fpp0xhGbIzan"
      },
      "source": [
        "그러나 임의값을 넣어주게 된다면?\n",
        "\n",
        "> `numpy`는 행렬이나 일반적으로 대규모 다차원 배열을 쉽게 처리 할 수 있도록 지원하는 파이썬의 라이브러리입니다.  \n",
        ">`numpy`는 데이터 구조 외에도 수치 계산을 위해 효율적으로 구현된 기능을 제공합니다.  \n",
        "- `np.std()`\n",
        "- `np.mean()`\n",
        "- `np.random.unifrom()`\n",
        "- `.extend()`"
      ]
    },
    {
      "cell_type": "code",
      "metadata": {
        "id": "fRwP66V2xAIf"
      },
      "source": [
        "import numpy as np\n",
        "\n",
        "std = np.std(l)    # np를 이용해 std 계산, 약 2.8 \n",
        "mean = np.mean(l)  # np를 이용한 mean 게산, 약 5.6 \n",
        "\n",
        "rand_value = np.random.uniform(mean - std, mean + std, 4) # mean 에서 std 만큼 떨어져 있는 랜덤한 값들을 size 만큼 반환\n",
        "\n",
        "l.extend(rand_value)    # 리스트를 더해줍니다\n",
        "\n",
        "sns.distplot(l)"
      ],
      "execution_count": null,
      "outputs": []
    },
    {
      "cell_type": "markdown",
      "metadata": {
        "id": "kT85Vdvyzw4Z"
      },
      "source": [
        "> 처음과 비슷한 분포가 나오는 것을 볼 수 있습니다.\n",
        "\n",
        "만약 숫자가 더 커진다면 더 그러한 경향이 더욱 심해집니다."
      ]
    },
    {
      "cell_type": "code",
      "metadata": {
        "id": "uxG_sMxoSjIz"
      },
      "source": [
        "#nan 값이 있는지 없는지 확인\n",
        "df.isna() "
      ],
      "execution_count": null,
      "outputs": []
    },
    {
      "cell_type": "code",
      "metadata": {
        "id": "LMdvWsSGSuce"
      },
      "source": [
        "#총 nan 값이 몇개인지 확인\n",
        "df.isna().sum()"
      ],
      "execution_count": null,
      "outputs": []
    },
    {
      "cell_type": "markdown",
      "metadata": {
        "id": "Hl898p52F0oL"
      },
      "source": [
        "> `np.random.randint(최소, 최대, 갯수)` : 랜덤하게 생성된 숫자들을 조건에 맞게 list 형태로 반환해주는 함수\n"
      ]
    },
    {
      "cell_type": "code",
      "metadata": {
        "id": "E_-Lp88OSzk8"
      },
      "source": [
        "# 0에서 10 사이의 랜덤한 숫자 4개를 만들어보시오.\n",
        "???"
      ],
      "execution_count": null,
      "outputs": []
    },
    {
      "cell_type": "code",
      "metadata": {
        "id": "53S8dCJ-oLIK"
      },
      "source": [
        "import numpy as np\n",
        "\n",
        "mean = ???       # age 의 mean 값을 구함\n",
        "std = ???        # age 의 std 값을 구함\n",
        "size = ???       # age 에 nan 값이 몇개인지를 구함 "
      ],
      "execution_count": null,
      "outputs": []
    },
    {
      "cell_type": "code",
      "metadata": {
        "id": "oU__sHv4336G"
      },
      "source": [
        "rand_age = ???    # mean 에서 std 만큼 떨어져 있는 랜덤한 값들을 size 만큼 반환\n",
        "print(rand_age)"
      ],
      "execution_count": null,
      "outputs": []
    },
    {
      "cell_type": "markdown",
      "metadata": {
        "id": "moLWWBVxo-r2"
      },
      "source": [
        "> 이제 `titanic['age']` 의 비여있는 값을 rand_age 로 대체해줍니다. "
      ]
    },
    {
      "cell_type": "code",
      "metadata": {
        "id": "bigzVUF_o8Z2"
      },
      "source": [
        "# 기존 'age'열 중 비어있는 값에 rand_age에 들어있는 값을 차례로 넣기\n",
        "??? = rand_age\n",
        "\n",
        "# 아직도 'age'에 nan 값이 있을까요? 확인해봅시다!\n",
        "titanic.isna().sum()"
      ],
      "execution_count": null,
      "outputs": []
    },
    {
      "cell_type": "markdown",
      "metadata": {
        "id": "AGKduQVtqHdW"
      },
      "source": [
        "> `embarked` 의 경우 2개만 없기 때문에, 가장 흔한 값인 'S' 로 대체해주는 방법을 사용했습니다.\n",
        "- 889개의 데이터에 3종류의 값이 들어가 있음\n",
        "- 가장 많은 것은 'S'\n",
        "- 'S'는 총 644개"
      ]
    },
    {
      "cell_type": "code",
      "metadata": {
        "id": "idCEBObZq0W7"
      },
      "source": [
        "titanic['embarked'].describe()    "
      ],
      "execution_count": null,
      "outputs": []
    },
    {
      "cell_type": "code",
      "metadata": {
        "id": "FEABFz7tqOEU"
      },
      "source": [
        "titanic['embarked'].???    # 'S'로 대체\n",
        "titanic['embarked'].???    #'embarked 열에서 NaN의 개수"
      ],
      "execution_count": null,
      "outputs": []
    },
    {
      "cell_type": "code",
      "metadata": {
        "id": "AyF6YGI_5C39"
      },
      "source": [
        "titanic.isna().sum()"
      ],
      "execution_count": null,
      "outputs": []
    },
    {
      "cell_type": "markdown",
      "metadata": {
        "id": "b_Ja1nQuigF7"
      },
      "source": [
        "## 📌Step4. 🔬Feature Engineering \n",
        "\n",
        "<img src = \"https://1.bp.blogspot.com/-HBgP_owm--A/XoQipYqD5qI/AAAAAAAAAPo/091_vEIxgDg5jjczw9zQosxZe_UPlSiPgCLcBGAsYHQ/s320/icon.png\" width = \"300\">  \n",
        "\n",
        "\n",
        "여러 개의 feature 를 조합하거나, 기존 feature 에서 새로운 정보를 추출해 새로운 \n",
        "\n",
        "feature 를 만드는 것을 **🔬Feature Engineering** 이라고 합니다. \n",
        "\n",
        "예를 들면 📒전화번호부에 \"**세스코 김부장**\" 이라고 저장되어있는 이름을 통해서, \n",
        "\n",
        "\"**김**\" 씨 성을 가진 \"**세스코**\"에서 일하는 \"**부장**\"직의 직원인 것을 알 수 있습니다.\n",
        "\n",
        "마찬가지로 titanic 에서는 'name' 항목에 그 사람의 'title'(직위) 가 있으니, \n",
        "\n",
        "필요 없는 'name'은 없애고, 어떤 승객 군을 나누는데 적합한 'title' 만 남기도록 하겠습니다."
      ]
    },
    {
      "cell_type": "markdown",
      "metadata": {
        "id": "M0Tn_kRalAUV"
      },
      "source": [
        "#### for문을 이용해서 일일이 손보기\n",
        "\n",
        "> 아래의 코드는 titanic 의 이름에서 '.' 앞에 붙는 단어를 가져와 title 에 저장하는 방법입니다.  \n",
        "- `Braund, Mr. Owen Harris` 에서 '`Mr`' 만 추출하기!\n",
        "- `.split('기준')`"
      ]
    },
    {
      "cell_type": "code",
      "metadata": {
        "id": "GX4bE01flQDH"
      },
      "source": [
        "name = \"Braund, Mr. Owen Harris\"\n",
        "\n",
        "print(name.split(' ')) # 이름을 ' ' 띄어쓰기를 기준으로 분리 하여 리스트로 반환\n",
        "# 예) \"Bround, Mr. Owne Harris\" -> [Bround, Mr., Owne, Harris]"
      ],
      "execution_count": null,
      "outputs": []
    },
    {
      "cell_type": "code",
      "metadata": {
        "id": "LR3R7BlXfFB7"
      },
      "source": [
        "for item in name.split(' '):    # 변환된 리스트의 원소를 item이라는 임시 변수에 하나씩 넣으면서 루프가 돌아감\n",
        "           # 분리한 리스트에서 . 이 있으면\n",
        "           # 출력\n",
        "           # .도 없애주기(1강 리스트 slicing 참고)"
      ],
      "execution_count": null,
      "outputs": []
    },
    {
      "cell_type": "markdown",
      "metadata": {
        "id": "Lt4vq0YA0efW"
      },
      "source": [
        "위의 작업을 모든 데이터에 적용하려면 for문을 두 번 사용해야 해서 코드도 길어지고, 시간도 오래 걸립니다.  \n",
        "\n",
        "<br/>\n",
        "\n",
        "#### 정규표현식 사용하기\n",
        "\n",
        "그러나 **정규표현식(正規表現式, Regular Expression)**을 이용하면 한줄로 가능합니다.  \n",
        "\n",
        "정규표현식이란? 문자열을 처리하는 방법의 하나로 특정한 조건의 문자를 \n",
        "\n",
        "'검색'하거나 '치환'하는 과정을 매우 간편하게 처리 할 수 있도록 하는 수단입니다. \n",
        "\n",
        "> `str.extract()` : 판다스 내장함수. 열 안에서 ()안 조건에 부합하는 string을 추출  \n",
        "> `' ([A-Za-z]+)\\.'` : 기존 string 중에서 ' '(스페이스바)로 시작해 '.'로 끝나는  \n",
        "하나 이상의 알파벳(대문자 A 부터 소문자 z 까지)을 가져오는 정규표현식입니다  "
      ]
    },
    {
      "cell_type": "code",
      "metadata": {
        "id": "76t7YqpLl7uT"
      },
      "source": [
        "titanic['name'].str.extract(' ([A-Za-z]+)\\.', expand=False)     # 정규표현식이란? '개념'만 알고 넘어갑시다"
      ],
      "execution_count": null,
      "outputs": []
    },
    {
      "cell_type": "markdown",
      "metadata": {
        "id": "r3qFJXA4PAOm"
      },
      "source": [
        "> 정규표현식으로 직위(Mr, Mrs, Miss 등)를 추출해서 기존 데이터셋에 'title'이라는 이름의 열 추가하기"
      ]
    },
    {
      "cell_type": "code",
      "metadata": {
        "id": "6HHJaSXejq39"
      },
      "source": [
        "titanic['title'] = titanic['name'].str.extract(' ([A-Za-z]+)\\.', expand=False)     # 정규표현식이란? '개념'만 알고 넘어갑시다\n",
        "titanic    # title이라고 새로 생기는 열을 주목해봅시다!"
      ],
      "execution_count": null,
      "outputs": []
    },
    {
      "cell_type": "markdown",
      "metadata": {
        "id": "mlB00iiTQ7GP"
      },
      "source": [
        "> 새로 추가된 'title'이라는 열에는 총 17 종류의 데이터가 들어가 있으며 'Mr'가 제일 많은 것을 알 수 있습니다."
      ]
    },
    {
      "cell_type": "code",
      "metadata": {
        "id": "LLdxlkg8QuOk"
      },
      "source": [
        "titanic.describe(include=['O'])"
      ],
      "execution_count": null,
      "outputs": []
    },
    {
      "cell_type": "code",
      "metadata": {
        "id": "HMyHAG_27bKq"
      },
      "source": [
        "titanic.title.unique()"
      ],
      "execution_count": null,
      "outputs": []
    },
    {
      "cell_type": "markdown",
      "metadata": {
        "id": "Swek0rgjs0rt"
      },
      "source": [
        "#### `cut()` 을 이용한 구간 설정\n",
        "\n",
        "마케팅 직군에서도 고객을 분석할 때 보통 10대, 20대, 30대 등 이런 식으로 연령대 구분을 많이 하죠?  \n",
        "마찬가지로 데이터 분석에서도 나이가 11인지 12인지 보다는 10대인지 20대인지 이런 식으로 구간을 설정하여 보는 것이   \n",
        "더 정확하고, 성능을 좋게 내는 경우가 있습니다.\n",
        "\n",
        "> 🔍 우리도 `pd.cut()` 함수를 이용하여 나이를 5개의 구간으로 잘라보겠습니다. \n"
      ]
    },
    {
      "cell_type": "code",
      "metadata": {
        "id": "JozmmrtItUaz"
      },
      "source": [
        "titanic['age_band'] ???    #5개의 구간으로 잘라, ageband 라는 새로운 열 생성\n",
        "titanic.head()"
      ],
      "execution_count": null,
      "outputs": []
    },
    {
      "cell_type": "markdown",
      "metadata": {
        "id": "D2DScr3Ct7h-"
      },
      "source": [
        "구간으로 나눈 게 의미가 있을까요? 한번 **🗒pivot table** 을 이용해서 알아봅시다  \n",
        "> - **🗒pivot table**이란?  \n",
        "\n",
        "<img src = \"https://cdn.lynda.com/course/114891/114891-636216267723725186-16x9.jpg\" width = \"800\">\n",
        "\n",
        " 커다란 표의 데이터를 요약하는 통계표입니다. 이 요약에는 합계, 평균, 기타 통계가 포함될 수 있으며 피벗 테이블이 이들을 함께 \n",
        " \n",
        " 의미 있는 방식으로 묶어줍니다. 이는 유용한 정보에 집중할 수 있도록 하기 위해 통계를 정렬 또는 재정렬(피벗)합니다.  \n",
        "\n",
        "> - `pd.pivot_table()`"
      ]
    },
    {
      "cell_type": "code",
      "metadata": {
        "id": "PxIc-XhQUWRS"
      },
      "source": [
        "#각 age_band 별로 평균 survived 가 어느 정도인지 보여주는 피벗 테이블 \n",
        "pd.pivot_table(titanic, values='survived', columns='age_band')"
      ],
      "execution_count": null,
      "outputs": []
    },
    {
      "cell_type": "markdown",
      "metadata": {
        "id": "p4OC1_p2Vfnq"
      },
      "source": [
        "나이 구간에 따라서 생존율이 유의미하게 차이 나는 것을 볼 수 있습니다.   \n",
        "\n",
        "> 🔍연습 : 아래의 공간에 각 title 별로 생존율을 보여주는 피벗 테이블을 만들어보세요 "
      ]
    },
    {
      "cell_type": "code",
      "metadata": {
        "id": "IoEVy_QmGk16"
      },
      "source": [
        "# 여기에\n",
        "pd.???"
      ],
      "execution_count": null,
      "outputs": []
    },
    {
      "cell_type": "markdown",
      "metadata": {
        "id": "tkvKlooft_5-"
      },
      "source": [
        "> age_band열을 drop해주기 위해서, 나눈 범위를 토대로 age 열의 값들을 0에서 4로 바꿔줍니다.\n",
        "> - `0: 'Child',  1: 'Young', 2: 'Middle', 3: 'Prime', 4: 'Old'`"
      ]
    },
    {
      "cell_type": "code",
      "metadata": {
        "id": "pXUo7Gdp-Qw7"
      },
      "source": [
        "rand_age"
      ],
      "execution_count": null,
      "outputs": []
    },
    {
      "cell_type": "code",
      "metadata": {
        "id": "yi99KSqA98LY"
      },
      "source": [
        "# [참고] 만약 두번 눌렀다면,,,,\n",
        "titanic_backup = pd.read_csv('https://raw.githubusercontent.com/mwaskom/seaborn-data/master/raw/titanic.csv')\n",
        "age_backup = titanic_backup['age']\n",
        "age_backup[ age_backup.isna() ] = rand_age\n",
        "titanic['age'] = age_backup"
      ],
      "execution_count": null,
      "outputs": []
    },
    {
      "cell_type": "code",
      "metadata": {
        "id": "QO_fcOfBuNRJ"
      },
      "source": [
        "titanic.loc[titanic['age'] <= 16, 'age'] = 0\n",
        "titanic.loc[(titanic['age'] > 16) & (titanic['age'] <= 32), 'age'] = 1\n",
        "titanic.loc[(titanic['age'] > 32) & (titanic['age'] <= 48), 'age'] = 2\n",
        "titanic.loc[(titanic['age'] > 48) & (titanic['age'] <= 64), 'age'] = 3\n",
        "titanic.loc[ titanic['age'] > 64, 'age'] = 4\n",
        "titanic.head()"
      ],
      "execution_count": null,
      "outputs": []
    },
    {
      "cell_type": "markdown",
      "metadata": {
        "id": "E450CK80um-r"
      },
      "source": [
        "> 🔍`age_band` 를 드랍하세요."
      ]
    },
    {
      "cell_type": "code",
      "metadata": {
        "id": "mLjLz9Gmuqz3"
      },
      "source": [
        "#여기에\n",
        "titanic.???"
      ],
      "execution_count": null,
      "outputs": []
    },
    {
      "cell_type": "markdown",
      "metadata": {
        "id": "Raa-r_2PX-_U"
      },
      "source": [
        "⭐두 개 이상의 feature 를 조합하여 새로운 feature 를 만들 수도 있습니다 ⭐\n",
        "\n",
        "예를 들면, `sibsp` 와 `parch` 를 합쳐서 solo 라는 항목을 만들 수 있습니다.  \n",
        "\n",
        "혼자 왔다면 `solo = 1`, 아니라면 `solo = 0` 을 만들어 줍시다. "
      ]
    },
    {
      "cell_type": "code",
      "metadata": {
        "id": "Gbf2LC6oYcy9"
      },
      "source": [
        "titanic['solo'] = ???     # 혼자이면 True를 반환, 누군가와 함께 왔으면 False를 반환"
      ],
      "execution_count": null,
      "outputs": []
    },
    {
      "cell_type": "code",
      "metadata": {
        "id": "nye6DGqi-xNc"
      },
      "source": [
        "titanic['solo'] = ???   # .astype()은 데이터셋 또는 데이터셋의 특정 열의 데이터 타입을 바꿔줍니다\n",
        "titanic.head()           # int는 파이썬에서 정수 타입을 의미, float과 반대"
      ],
      "execution_count": null,
      "outputs": []
    },
    {
      "cell_type": "code",
      "metadata": {
        "id": "jP9wXjaW-Hiz"
      },
      "source": [
        "# 참고 : True 값은 숫자로 1, False는 숫자로 0 입니다.\n",
        "num_True = True + 2\n",
        "num_False = False + 2\n",
        "print(num_True)\n",
        "print(num_False)"
      ],
      "execution_count": null,
      "outputs": []
    },
    {
      "cell_type": "markdown",
      "metadata": {
        "id": "IIQ7kboReiHR"
      },
      "source": [
        "> 이제 필요 없는 항목인 `sibsp` 와  `parch`를 `drop()` 하세요"
      ]
    },
    {
      "cell_type": "code",
      "metadata": {
        "id": "FJL5vJ7_elo4"
      },
      "source": [
        "titanic.???\n",
        "titanic"
      ],
      "execution_count": null,
      "outputs": []
    },
    {
      "cell_type": "markdown",
      "metadata": {
        "id": "RCx05wFFspmC"
      },
      "source": [
        "## 📌Step5. 데이터 검수\n",
        "\n",
        "> 모든 항목이 numeric 한지 마지막으로 확인해 봅시다. \n",
        "- `데이터셋.info()` "
      ]
    },
    {
      "cell_type": "code",
      "metadata": {
        "id": "3Kad2roTsxcS"
      },
      "source": [
        "titanic.info()"
      ],
      "execution_count": null,
      "outputs": []
    },
    {
      "cell_type": "markdown",
      "metadata": {
        "id": "IBM6oNoNvN_r"
      },
      "source": [
        "> `fare` 는 소수점 5자리 까지 쓰고 있는데, \n",
        "이것을 int 로 바꿔서 소수점을 버리겠습니다. \n"
      ]
    },
    {
      "cell_type": "code",
      "metadata": {
        "id": "qrZPkgg6vVuY"
      },
      "source": [
        "titanic['fare'] = titanic['fare'].astype(int)     # float에서 int로 바꿔줍니다\n",
        "titanic.info()"
      ],
      "execution_count": null,
      "outputs": []
    },
    {
      "cell_type": "markdown",
      "metadata": {
        "id": "ZTSYhXHiveWA"
      },
      "source": [
        "> 🔍 마찬가지로 `age` 항목도 int 로 변환해 보세요.\n",
        "\n"
      ]
    },
    {
      "cell_type": "code",
      "metadata": {
        "id": "93qmJzGBvnEn"
      },
      "source": [
        "#여기에\n",
        "titanic['age'] = ???\n",
        "titanic.info()"
      ],
      "execution_count": null,
      "outputs": []
    },
    {
      "cell_type": "markdown",
      "metadata": {
        "id": "bo4AuIlTrn3X"
      },
      "source": [
        "> 🔍 `map` 또는 `labelencoder` 을 이용해 title 을 numerical 하게 바꾼 후에, name 항목을 drop 하기\n",
        " - ① 먼저 title 안에 어떤 값이 있는지 확인 - `데이터셋.title.unique()`\n",
        " - ② 중복되는 표현을 통일 - `데이터열.replace('이전', '이후')`\n",
        " - ③ numerical 데이터로 인코딩\n",
        " - ④ name 항목 드랍"
      ]
    },
    {
      "cell_type": "code",
      "metadata": {
        "id": "8T2D8W6db1P4"
      },
      "source": [
        "# ① title 안에 어떤 값들이 있는지 확인\n",
        "???"
      ],
      "execution_count": null,
      "outputs": []
    },
    {
      "cell_type": "code",
      "metadata": {
        "id": "KjunzfE4i12X"
      },
      "source": [
        "# ② 중복되는 표현 통일\n",
        "# 개체수가 적은 것들은 Other로 통일 / Mlle과 Miss / Mme과 Mrs / Ms와 Miss\n",
        "titanic['title'] = titanic['title'].replace( ['Capt', 'Col', 'Countess', 'Don','Dona', 'Dr', 'Jonkheer', 'Lady','Major', 'Rev', 'Sir'], 'Other')\n",
        "titanic['title'] = titanic['title'].???\n",
        "titanic['title'] = titanic['title'].???\n",
        "titanic['title'] = titanic['title'].???"
      ],
      "execution_count": null,
      "outputs": []
    },
    {
      "cell_type": "code",
      "metadata": {
        "id": "x8zfahAzlB2N"
      },
      "source": [
        "titanic.title.unique() # 이제 다시 한번 어떤 값들이 있는지 확인"
      ],
      "execution_count": null,
      "outputs": []
    },
    {
      "cell_type": "markdown",
      "metadata": {
        "id": "CcryigielChT"
      },
      "source": [
        "> 😱 이제 title 열 안에 5 종류의 값밖에 남아있지 않을 것을 확인할 수 있을 것입니다"
      ]
    },
    {
      "cell_type": "code",
      "metadata": {
        "id": "SSddY8v6PCz9"
      },
      "source": [
        "# ③ numerical 데이터로 인코딩(LabelEncoder 사용)\n",
        "from sklearn.preprocessing import LabelEncoder    # LabelEncoder를 불러오기\n",
        "encoder = ???       # encoder라는 변수를 선언\n",
        "encoder.???         # title 열에 맞게 인코딩\n",
        "titanic['title'] = ???  # 인코딩 결과를 실제 행에 적용\n",
        "titanic.head()"
      ],
      "execution_count": null,
      "outputs": []
    },
    {
      "cell_type": "code",
      "metadata": {
        "id": "2_7wana8Im-s"
      },
      "source": [
        "# ④ name 항목 드랍\n",
        "titanic.???\n",
        "titanic.head()"
      ],
      "execution_count": null,
      "outputs": []
    },
    {
      "cell_type": "code",
      "metadata": {
        "id": "46lxVLSXbwgv"
      },
      "source": [
        "# inverse transform 을 이용하면 역으로 원래 문자열 데이터를 알 수 있습니다. \n",
        "???"
      ],
      "execution_count": null,
      "outputs": []
    },
    {
      "cell_type": "markdown",
      "metadata": {
        "id": "fQk8NL_bvoHj"
      },
      "source": [
        "> 🔍 `sex` 항목도 numeric 으로 변환해주세요"
      ]
    },
    {
      "cell_type": "code",
      "metadata": {
        "id": "lPPg2TFBvs7I"
      },
      "source": [
        "# map 함수 사용\n",
        "genders = ???\n",
        "titanic['sex'] = ???\n",
        "titanic.head()"
      ],
      "execution_count": null,
      "outputs": []
    },
    {
      "cell_type": "code",
      "metadata": {
        "id": "wppCg6YdCMd_"
      },
      "source": [
        "titanic.embarked.unique()"
      ],
      "execution_count": null,
      "outputs": []
    },
    {
      "cell_type": "markdown",
      "metadata": {
        "id": "hFKL5NSQN83W"
      },
      "source": [
        "> 🔍`embarked` 항목도 변환해보겠습니다"
      ]
    },
    {
      "cell_type": "code",
      "metadata": {
        "id": "4p5t4xKrSAj5"
      },
      "source": [
        "# 여기에\n",
        "titanic['embarked'] = ???   # 소숫점 자리가 나오지 않게 .astype(int)를 사용"
      ],
      "execution_count": null,
      "outputs": []
    },
    {
      "cell_type": "code",
      "metadata": {
        "id": "99rPhN9hC4_Z"
      },
      "source": [
        "titanic.embarked = titanic.embarked.astype(int)"
      ],
      "execution_count": null,
      "outputs": []
    },
    {
      "cell_type": "code",
      "metadata": {
        "id": "LNLrxToGRvM2"
      },
      "source": [
        "titanic.head()"
      ],
      "execution_count": null,
      "outputs": []
    },
    {
      "cell_type": "code",
      "metadata": {
        "id": "B-El_vCVCwQo"
      },
      "source": [
        "titanic.info()"
      ],
      "execution_count": null,
      "outputs": []
    },
    {
      "cell_type": "markdown",
      "metadata": {
        "id": "7HatWPlLRxrT"
      },
      "source": [
        "💥 자!! 예비 데이터 사이언티스트 여러분! 이제 데이터셋을 모델에 넣을 준비가 다 되었습니다 (드디어 ㅠㅠ)\n"
      ]
    },
    {
      "cell_type": "markdown",
      "metadata": {
        "id": "zS6Dt15L5kBm"
      },
      "source": [
        "## 📌Step6. scikit-learn 모델로 성능 검증하기 \n",
        "\n",
        "데이터 전처리와 모델에 사용하기 위해서 각종 전처리 방법을 배우고 실습해 보았습니다. \n",
        "\n",
        "실제 전처리가 모델에 성능에 어떤 영향을 미치는지 확인해 봅시다.\n",
        "\n",
        "`scores(x,y)` 함수는 x 에 features 를, y 에 예측하고자 하는 output 을 넣어주면\n",
        "4개의 모델 \n",
        "\n",
        "**logistic regression, SVM, KNN, Random Forest** 로 훈련한 정확도를 보여줍니다. \n",
        "\n",
        "위의 모델에 대해서 일부를 나중에 더 자세히 배우고, 현재는 이 `scores()` 함수를 이용해 타이타닉 데이터셋에 대하여 \n",
        "\n",
        "어느 정도의 성능이 나오는지만 확인해 보겠습니다.  \n",
        "\n",
        "\n",
        "\n",
        "\n"
      ]
    },
    {
      "cell_type": "markdown",
      "metadata": {
        "id": "VDGKgym_tHbu"
      },
      "source": [
        "> 📂필요한 패키지 불러오기"
      ]
    },
    {
      "cell_type": "code",
      "metadata": {
        "id": "pwmGvBgxN5gZ"
      },
      "source": [
        "# 4강에서 배울 모델들이 포함되어있습니다. 일단 실행만 시켜줍니다!\n",
        "from sklearn.linear_model import LogisticRegression    # \n",
        "from sklearn.model_selection import train_test_split   # 데이터 분리를 위한 함수"
      ],
      "execution_count": null,
      "outputs": []
    },
    {
      "cell_type": "markdown",
      "metadata": {
        "id": "mdvZ73lnpI18"
      },
      "source": [
        "### 🔥함수 직접 만들어보기🔥  \n",
        "> **🤖 함수1** : 데이터를 모델에 학습시키고 성능 확인까지  \n",
        ">>① `train_logistic_model(x,y)` 라는 함수를 정의  \n",
        "② 모델은 LogisticRegression을 사용, 최적화를 위한 반복 횟수는 1000번으로 설정  \n",
        "*LogisticRegression : 사건의 발생 가능성을 예측하는데 사용되는 통계 기법  \n",
        "③ 학습을 위해 train셋과 test셋 분리(비율은 8:2로 설정)  \n",
        "④ x_train과 y_train 데이터로 모델을 학습시키기  \n",
        "⑤ x_test 데이터로 모델의 성능을 평가하고 Y_pred라는 변수에 선언  \n",
        "⑥ `모델 변수.score(x_train, y_train)`을 사용하여 소수점 둘째 자리까지 표현하는 확률 출력"
      ]
    },
    {
      "cell_type": "code",
      "metadata": {
        "id": "O0KDohlYd_h8"
      },
      "source": [
        "def train_logistic_model(x,y):\n",
        "  model = LogisticRegression(max_iter=1000)   \n",
        "  x_train, x_test, y_train,y_test = train_test_split(x,y,test_size=0.2)\n",
        "  model.fit(x_train,y_train)\n",
        "  Y_pred = model.predict(x_test)\n",
        "  print('---'*5 + 'train_test_split 20/80')\n",
        "  print('Logistic Regression' , round(model.score(x_train, y_train) * 100, 2))\n",
        "  print('---'*5)\n",
        "  return(model)"
      ],
      "execution_count": null,
      "outputs": []
    },
    {
      "cell_type": "markdown",
      "metadata": {
        "id": "ddwGXOhi0EoO"
      },
      "source": [
        "> 🔎 `max_iter` 는 무엇인가요? \n",
        "\n",
        "`max_iter`는 기본적으로 100으로 세팅되어있습니다.\n",
        "\n",
        "이것은 `model.fit` 에서 피팅 시에 최대 시도 횟수를 뜻합니다. 100 이면 최대 100번 시도 하는 것이고,  \n",
        "1000이면 최대 1000번시도합니다.\n",
        "\n",
        "이 경우에 데이터가 복잡해서 100번을 기본세팅으로 하면 `model.fit` 이 실행되지 않습니다. "
      ]
    },
    {
      "cell_type": "markdown",
      "metadata": {
        "id": "yPmi1X4Gu8Hm"
      },
      "source": [
        "> 🧿 잠깐 `round()` 는 무슨 기능인가요?\n",
        "\n",
        "`round()` 는 파이썬 기본 내장함수로, (2832941023, 2) 라면 , 소수점 아래 2자리만 남겨놓습니다."
      ]
    },
    {
      "cell_type": "code",
      "metadata": {
        "id": "uXlorLWmu-1L"
      },
      "source": [
        "number_too_long = round(5.76543231, 2)\n",
        "print(number_too_long)"
      ],
      "execution_count": null,
      "outputs": []
    },
    {
      "cell_type": "markdown",
      "metadata": {
        "id": "BuPDN9wCsah7"
      },
      "source": [
        "> **🤖 함수2** : 하나의 특정 데이터를 입력하고, 그 데이터에 대한 생존 확률을 구해주는 기능  \n",
        ">>① `predict_survival_prob(model,x)` 라는 함수를 정의  \n",
        "② `모델변수.predict_proba(x) `를 사용하여 특정 데이터에 대한 생존 확률 출력"
      ]
    },
    {
      "cell_type": "code",
      "metadata": {
        "id": "ktqvMVHzsf6Y"
      },
      "source": [
        "def predict_survival_prob(model, x):\n",
        "  print('---'*5 + 'printing survival probablity')\n",
        "  print('By Logistic Regression probablity of survival ', np.round(model.predict_proba(x)[:,1]*100,2))\n",
        "  print('---'*5)"
      ],
      "execution_count": null,
      "outputs": []
    },
    {
      "cell_type": "markdown",
      "metadata": {
        "id": "wiE85iO7kMgW"
      },
      "source": [
        "먼저 모델을 테스트하기 위하여 2강에 배운 input과 output 구분을 해줍니다. (⛔test_train split과 헷갈리지 말기⛔)\n",
        "\n",
        " 우리가 에측하고자하는 목표인 `survived` 가 y(output,target,label), 나머지 행은 x  입니다."
      ]
    },
    {
      "cell_type": "code",
      "metadata": {
        "id": "W9mnWjI9eOmG"
      },
      "source": [
        "x = titanic[['pclass','sex','age','fare','embarked','solo','title']]\n",
        "y = titanic[['survived']]\n",
        "\n",
        "print(x)\n",
        "print(y)"
      ],
      "execution_count": null,
      "outputs": []
    },
    {
      "cell_type": "markdown",
      "metadata": {
        "id": "5ekd7V0FkZES"
      },
      "source": [
        "> ⛹️‍♀️⛹⛹️‍♂️ 한번 위에 정의한 함수로 훈련을 해볼까요? "
      ]
    },
    {
      "cell_type": "code",
      "metadata": {
        "id": "8NikzuInfMi2"
      },
      "source": [
        "model = ???"
      ],
      "execution_count": null,
      "outputs": []
    },
    {
      "cell_type": "markdown",
      "metadata": {
        "id": "iSK6DsHwkcjN"
      },
      "source": [
        "랜덤하게 초기화하는 작업이 일부 있기 때문에 정확도의 차이가 조금은 있을 수 있습니다.  \n",
        "🤭 현재 우리의 모델은 약 80% 정도의 정확도로 생존을 예측하네요. "
      ]
    },
    {
      "cell_type": "markdown",
      "metadata": {
        "id": "EQ7nkQNCgeRn"
      },
      "source": [
        "[링크 : 타이타닉 실존 인물들 데이터](https://www.encyclopedia-titanica.org/titanic-survivors/) 👈👈 **눌러서 확인해보세요!!**\n",
        "\n",
        "</br>\n",
        "\n",
        "우리의 모델을 테스트해보기 위해서 위의 링크에서 실존했던 인물들의 데이터를 사용해 보겠습니다. \n",
        "\n",
        "맨 위의 생존자분은 ABBOTT, Mrs Rhoda Mary 'Rosa'\t39\t3rd Class Passenger 이네요\n",
        "\n",
        "눌러보면 가족과 함께 Southhampton 에서 탑승했고 티켓값은 20.5 였던 것을 확인 할 수 있습니다. "
      ]
    },
    {
      "cell_type": "code",
      "metadata": {
        "id": "v0alzGV2hs44"
      },
      "source": [
        "encoder.???   # 칭호의 지정 number 확인하기 "
      ],
      "execution_count": null,
      "outputs": []
    },
    {
      "cell_type": "code",
      "metadata": {
        "id": "6mcIVWY2gSOx"
      },
      "source": [
        "test_input = [[3,1,2,20,0,0,3]] \n",
        "#3등석, 여자(1), 39세(age_band 2), 20 유로(운임료), embarked(southhampton), solo 여부,Mrs 칭호\n",
        "\n",
        "predict_survival_prob(model, test_input)"
      ],
      "execution_count": null,
      "outputs": []
    },
    {
      "cell_type": "markdown",
      "metadata": {
        "id": "3hlfaWpmjWOQ"
      },
      "source": [
        "이분은 확률이 높게 나오지 않네요 \n",
        "\n",
        "'Mr.Henry Anderson' 는 어떨까요? "
      ]
    },
    {
      "cell_type": "code",
      "metadata": {
        "id": "qr9JhFSEjHbS"
      },
      "source": [
        "test_input = [[1,0,3,26,0,1,2]]\n",
        "# 1등석 , 남자(0), 42세(age_band 2) , 25 유로(운임료), embarked(southhampton), solo 여부,Mrs 칭호\n",
        "predict_survival_prob(model, test_input)"
      ],
      "execution_count": null,
      "outputs": []
    },
    {
      "cell_type": "markdown",
      "metadata": {
        "id": "iPN3WH9Jk38Z"
      },
      "source": [
        "> 🔍 한번 본인의 데이터, 본인의 나이 이름 등을 넣어서 생존율을 출력해보세요~"
      ]
    },
    {
      "cell_type": "code",
      "metadata": {
        "id": "5jN2MJXKEpRT"
      },
      "source": [
        "encoder.transform(['Mr'])"
      ],
      "execution_count": null,
      "outputs": []
    },
    {
      "cell_type": "code",
      "metadata": {
        "id": "0gLKJAObJjbp"
      },
      "source": [
        "my_input = [[?,?,?,?,?,?,?]]\n",
        "# ?등석 , 성별, 나이 구간 , ? 유로(운임료), embarked(southhampton), 칭호 \n",
        "predict_survival_prob(model, my_input)"
      ],
      "execution_count": null,
      "outputs": []
    },
    {
      "cell_type": "markdown",
      "metadata": {
        "id": "o27DzFieeBsn"
      },
      "source": [
        "# 💕 오늘도 고생하셨습니다 💕\n",
        "\n",
        "데이터 다이빙 여러분의 📃이력서에\n",
        "\n",
        "\" **Tech Stack.**   Python for data analysis \"\n",
        "\n",
        "이라고 쓸 수 있는 그 날까지 앞으로 얼마 남지 않았습니다.  \n",
        "\n",
        "물론 쉽지 않겠지만 🧜‍♀️데이터 다이빙 🧜‍♂️에서 도와드리겠습니다! 😊다음주에 뵈어요~\n",
        "\n"
      ]
    }
  ]
}