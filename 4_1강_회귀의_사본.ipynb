{
  "nbformat": 4,
  "nbformat_minor": 0,
  "metadata": {
    "colab": {
      "name": "4-1강 회귀의 사본",
      "provenance": [],
      "collapsed_sections": [],
      "include_colab_link": true
    },
    "kernelspec": {
      "name": "python3",
      "display_name": "Python 3"
    }
  },
  "cells": [
    {
      "cell_type": "markdown",
      "metadata": {
        "id": "view-in-github",
        "colab_type": "text"
      },
      "source": [
        "<a href=\"https://colab.research.google.com/github/kim-jiha95/data_diving/blob/main/4_1%EA%B0%95_%ED%9A%8C%EA%B7%80%EC%9D%98_%EC%82%AC%EB%B3%B8.ipynb\" target=\"_parent\"><img src=\"https://colab.research.google.com/assets/colab-badge.svg\" alt=\"Open In Colab\"/></a>"
      ]
    },
    {
      "cell_type": "markdown",
      "metadata": {
        "id": "W4SBMfKPVd2H"
      },
      "source": [
        "\n",
        "\n",
        "## ✍ 지난 시간 복습하기 (10분 이상 소요)\n",
        "\n",
        "```\n",
        "간단히 지난 시간 강의내용 복습을 진행해주세요 🔥🔥\n",
        "```\n",
        "\n",
        "</br>"
      ]
    },
    {
      "cell_type": "markdown",
      "metadata": {
        "id": "0-4Hv4fGqyZs"
      },
      "source": [
        "## ⛔**시작하기에 앞서...**\n",
        "\n",
        "구글 코랩 환경과 자신의 구글 드라이브를 연동\n",
        "\n"
      ]
    },
    {
      "cell_type": "code",
      "metadata": {
        "id": "khhC8uxQnfYs",
        "colab": {
          "base_uri": "https://localhost:8080/"
        },
        "outputId": "16ef5330-fe98-4d88-b9c2-a0fc08bde8dd"
      },
      "source": [
        "import os\n",
        "from google.colab import drive\n",
        "drive.mount('/content/gdrive/') \n",
        "\n",
        "os.chdir('/content/gdrive/My Drive/Colab Notebooks/datascience')    ## 현재 작업 환경으로 설정한 경로를 입력하세요"
      ],
      "execution_count": null,
      "outputs": [
        {
          "output_type": "stream",
          "text": [
            "Mounted at /content/gdrive/\n"
          ],
          "name": "stdout"
        }
      ]
    },
    {
      "cell_type": "markdown",
      "metadata": {
        "id": "_ITys7aSsI6G"
      },
      "source": [
        "# 🔥 Lesson 4-1, 회귀 분석과 기본 회귀 모델\n",
        "🏄‍♀️🏄🏄‍♂️🏄‍♀️🏄🏄‍♂️🏄‍♀️🏄🏄‍♂️🏄‍♀️🏄🏄‍♂️🏄‍♀️🏄🏄‍♂️🏄‍♀️🏄🏄‍♂️🏄‍♀️🏄🏄‍♂️🏄‍♀🏄‍♂\n",
        "\n",
        "## 목차\n",
        "\n",
        "1. 회귀 분석에 대하여\n",
        "    - 정의\n",
        "    - 분류와 회귀\n",
        "    - 종류\n",
        "\n",
        "2. 알아두면 좋은 수학 용어 복습\n",
        "\n",
        "3. 단순 선형 회귀 분석\n",
        "    - 보스턴 주택 가격 예측\n",
        "\n",
        "4. 다중 선형 회귀 분석\n",
        "    - 보스턴 주택 가격 예측 \n",
        "\n",
        "5. 사이킷런 선형회귀 모델을 통해 분석해보기\n",
        "\n",
        "6. Kaggle [실습] - 자전거 수요 예측\n"
      ]
    },
    {
      "cell_type": "markdown",
      "metadata": {
        "id": "WTxgG7fysptI"
      },
      "source": [
        "## 📌 **1. 회귀 분석(Regression Analysis)에 대하여**\n",
        "\n",
        "\n",
        "<img src = \"https://nextjournal.com/data/QmUT7KoKG2e6rLsjh8vPKCAWRuZ8rLTSoaDbjoiW4TVe3y?content-type=image/svg%2Bxml\">\n",
        "\n",
        "### **🌈정의** :\n",
        "\n",
        "#### **회귀 분석**\n",
        "\n",
        "지도 학습의 대표적인 학습 모델 중 하나로, 독립(설명) 변수 '`X`'와 수치형 종속(반응) 변수 '`Y`' 사이의 관계를 분석하는 것\n",
        "\n",
        "#### **회귀 모델**\n",
        "\n",
        "위에서 이야기하는 변수들 사이의 함수적 관계를 '**가장 잘 표현할 수 있는**' 모형으로 나타낸 것을 의미합니다. \n",
        "\n",
        "\n",
        "<br/>\n",
        "\n",
        "### **🌈분류와 회귀** :\n",
        "\n",
        "* 📊 **분류 👉 범주형**: 순위, 명목\n",
        " \n",
        "  - 막대그래프, 도수 분포표, 원형 그래프로 표현\n",
        "\n",
        "<img src = \"https://1.bp.blogspot.com/-lkBRs-BuVdk/XnxqbYjVIUI/AAAAAAAAALg/w-Ub80-wyTYLe1pjRmxTKbZVDR1QBTD5wCLcBGAsYHQ/s1600/8.JPG\" width = \"800\">  \n",
        "\n",
        "* 📈 **회귀 👉 수치형**: 연속, 이산\n",
        " \n",
        "  - Box plot, 히스토그램으로 표현\n",
        "\n",
        "![대체 텍스트](https://1.bp.blogspot.com/-_v2XEZX0p8Y/Xnxqbk8jHyI/AAAAAAAAALk/FL9WcIzZkss5NThipA4i2mwGKQQwYf-mwCLcBGAsYHQ/s640/9.JPG)\n",
        "\n",
        "\n",
        "* 📦 Box plot이란?\n",
        "\n",
        "<img src = \"https://1.bp.blogspot.com/-igx1etu1zis/XtSqEP9jM-I/AAAAAAAAAZU/DAMhT8VHJYEyGumqQQ-eW-8m6ADCD2pWACLcBGAsYHQ/s1600/%25E1%2584%2587%25E1%2585%25A1%25E1%2586%25A8%25E1%2584%2589%25E1%2585%25B3%25E1%2584%2591%25E1%2585%25B3%25E1%2586%25AF%25E1%2584%2585%25E1%2585%25A9%25E1%2586%25BA%25E1%2584%2589%25E1%2585%25A5%25E1%2586%25AF%25E1%2584%2586%25E1%2585%25A7%25E1%2586%25BC.png\" width = \"800\">\n",
        "\n",
        "> Box plot을 구성하는 다섯 가지의 수치 요약이 존재합니다. \n",
        ">\n",
        "> - 최솟값 Min : 제 1사분위에서 1.5*IQR(제 3사분위에서 제 1사분위 사이의 범위)을 뺀 범위 내 최소값\n",
        ">\n",
        "> - 제 1사분위 : 25%의 위치\n",
        ">\n",
        "> - 제 2사분위 : 50%의 위치 = 중앙값\n",
        ">\n",
        "> - 제 3사분위 : 75%의 위치\n",
        ">\n",
        "> - 최댓값 Max: 제 3사분위에서 1.5*IQR을 더한 위치 내 최댓값  \n",
        "> ※ 1 ~ 5사이의 범위 밖에 있는 값은 이상치(outlier)라 부릅니다.\n",
        "\n",
        "<br/>\n",
        "\n",
        "### **🌈종류** :\n",
        "\n",
        "\n",
        "**1) 선형 회귀**\n",
        "\n",
        "* 단순 선형회귀\n",
        "\n",
        "<br/>\n",
        "\n",
        "$$\n",
        "\\hat{Y} = \\hat{\\beta}_{0} + \\hat{\\beta}_{1}X \n",
        "$$\n",
        "\n",
        " <br/>\n",
        "\n",
        "* 다중 선형회귀 : 변수(Feautre)가 한 개 이상일 경우의 회귀 모형\n",
        "\n",
        "<br/>\n",
        "\n",
        "$$\n",
        "\\hat{Y} = \\hat{\\beta}_{0} + \\hat{\\beta}_{1}X_{1} + \\hat{\\beta}_{2}X_{2} + ... \\hat{\\beta}_{n}X_{n}\n",
        "$$\n",
        "\n",
        "<br/>\n",
        "\n",
        "**2) 비선형 회귀**\n",
        "\n",
        "* 다항 회귀 : 데이터의 분포가 직선이 아니라 곡선일 때 N차항을 추가하는 회귀 모형\n",
        "\n",
        "<center>\n",
        "<img src = \"https://1.bp.blogspot.com/-zo1oL3pPFTQ/XpAOefmAarI/AAAAAAAAAQ0/xBkTUknxaQkpo2wHE7kJXn-G6jj0tRZRQCLcBGAsYHQ/s1600/%25E1%2584%2589%25E1%2585%25B3%25E1%2584%258F%25E1%2585%25B3%25E1%2584%2585%25E1%2585%25B5%25E1%2586%25AB%25E1%2584%2589%25E1%2585%25A3%25E1%2586%25BA%2B2020-04-10%2B%25E1%2584%258B%25E1%2585%25A9%25E1%2584%2592%25E1%2585%25AE%2B3.10.52.png\" align = \"center\" width = \"400\" >\n",
        "</center>\n",
        "\n"
      ]
    },
    {
      "cell_type": "markdown",
      "metadata": {
        "id": "Te6DhB0zTw2u"
      },
      "source": [
        "*  다항회귀:  회귀함수의 형태를 다항함수로 가정한 회귀모형"
      ]
    },
    {
      "cell_type": "markdown",
      "metadata": {
        "id": "G4RntoIW5mON"
      },
      "source": [
        "## **📌 2. 회귀를 위한 간단한 수학 용어 복습 📝**\n",
        "\n",
        " 이미 🔥데이터사이언스를 위한 통계학🔥에 대해서 배웠던 내용이지만,\n",
        "\n",
        "비전공자들은 아래와 같은 수학적인 내용을 기억하기 힘들 수 있기 때문에💦,\n",
        "\n",
        "필요한 순간마다 구글에 물어볼 수 있도록 합시다!!\n",
        "\n",
        "<br/>\n",
        "\n",
        "### ① 대표값으로 쓰일 수 있는 것들\n",
        "\n",
        "* **평균값** (산술 평균 / 조화 평균 / 기하 평균)\n",
        "\n",
        " -> 극도로 편향된 이상치를 만나면 평균값이 왜곡되어 버리는 약점이 있음.\n",
        " \n",
        "* **중앙값**\n",
        "\n",
        " -> 평균값과 같은 수치라면 데이터가 좌우 대칭된 형태를 보임!\n",
        "\n",
        "* **최빈값**\n",
        "\n",
        " -> 문자열 데이터나 순위를 매길 때 주로 고려.\n",
        "\n",
        "<br/>\n",
        "\n",
        "### ② 데이터의 분산 정도로 알 수 있는 것들\n",
        "\n",
        " * **분산**  \n",
        "  -> 데이터가 퍼져있는 정도. 분산이 크면 들쭉날쭉 불안정하다는 의미.\n",
        "\n",
        " * **표준 편차**  \n",
        "-> 분산의 수치가 너무 커서 단위를 맞추기 위해서 제곱근(루트)으로 만든 값.\n",
        "\n",
        " * **4분위수**  \n",
        "-> Box plot을 통해 결과를 크게 왜곡하는 이상치 데이터를 잡아냄(25% - 50% - 75%)  \n",
        "\n",
        "*  IQR: 사분위수범위:  $Q_3 - Q_1$\n",
        "\n",
        "<br/>\n",
        "\n",
        "### ③ 통계\n",
        "\n",
        "전체 데이터인 모집단에서 추출한 표본 집단 (sample)에서 \n",
        "\n",
        "모집단의 특징을 나타내는 **모수 (parameter)**를 찾아내야 함.\n",
        "\n",
        " * 모집단 (Population) : 전체 데이터 집합\n",
        "\n",
        " * 표본 집단 (Sample) : 모수 추정을 위해 추출한 부분 집합 \n",
        "\n",
        " * 모수 (Parameter) : 전체 데이터 집합을 나타내는 특징들  \n",
        "<img src=\"https://1.bp.blogspot.com/-2AgDT9UtTfo/XnxqY63bAtI/AAAAAAAAALA/q1InNf-y5Pke72QwZdV2bDmX7dkMDpzhgCLcBGAsYHQ/s1600/10.JPG\" width = \"600\">\n",
        "\n",
        "<br/>\n",
        "\n",
        "### ④ 확률\n",
        "\n",
        "ex) 주사위를 던졌을때 👉 Dice = {1,2,3,4,5,6}\n",
        "\n",
        " * **표본 공간** : 모든 경우의 수의 모임 = {1,2,3,4,5,6}\n",
        " * **근원 사건** : 표본 공간을 구성하는 모든 원소 = 1,2,3,4,5,6\n",
        " * **사건** : 표본 공간의 부분 집합 = {1,2,4}, {1,2}... 등등\n",
        " * **조건부 확률** : P(A|B) = B라는 사건이 발생했을 때, A가 일어날 확률\n",
        " * **독립 사건** : 주사위를 4번 던졌을 때, 4번 모두 6이 나올 확률\n",
        "```\n",
        "1/6 x 1/6 x 1/6 x 1/6 \n",
        "```\n",
        "각 시행마다 주사위의 결과는 모두 독립적이므로 곱셈합니다.   \n",
        "서로 다른 **두 사건이 독립적으로 발생하면 곱 법칙이 성립**합니다.  \n",
        "```\n",
        "P(AnB) = P(A) x P(B)\n",
        "```\n",
        "\n"
      ]
    },
    {
      "cell_type": "markdown",
      "metadata": {
        "id": "cZOa7mjhAmKM"
      },
      "source": [
        "## **📌 3. 단순 선형 회귀**\n",
        "\n",
        "<img src = \"https://nextjournal.com/data/QmfPuPp4V74FyvTTojMj6ix9T8Skj1ji4GhX5Pr6zK8w4N?filename=linear-regression.png&content-type=image/png\" width = \"400\">\n",
        "\n",
        "### **🌈정의** :\n",
        "\n",
        "변수(X)가 1개인 선형 회귀\n",
        "\n",
        "* 실제 모형(모집단, Population)으로부터 구하려는 식\n",
        "\n",
        "$$\n",
        "Y = \\beta_{0} + \\beta_{1}X + error \n",
        "$$\n",
        "\n",
        "* 추정한 모수로부터 얻은 모형(표본집단, Sample)으로부터 구하려는 식\n",
        "\n",
        "$$\n",
        "\\hat{Y} = \\hat{\\beta}_{0} + \\hat{\\beta}_{1}X \n",
        "$$\n",
        "\n",
        "<br/>\n",
        "\n",
        "### **🌈회귀 계수 추정** :\n",
        "\n",
        "**잔차(Residual)가 제일 적은 방향으로** 회귀 계수(𝛽0, 𝛽1)를 추정해 나가야 하는데,\n",
        "\n",
        "잔차를 위의 식을 통해서 계산해보면 아래와 같습니다.\n",
        "\n",
        "* 잔차 = 실제 값과 예측 값 사이의 차이 (회귀로 설명이 가능한 부분만 해당)\n",
        "\n",
        "$$\n",
        "Residual = Y_{i} - \\hat{Y}_{i}\n",
        "$$\n",
        "\n",
        "<br/>\n",
        "\n",
        "### **🌈잔차의 제곱합** :\n",
        "\n",
        "잔차는 회귀 계수(𝛽0, 𝛽1)를 추정하는데 사용되는 중요한 지표입니다.\n",
        "\n",
        "궁극적으로 **주어진 데이터를 가장 잘 대표(표현)하는**, 즉 **잔차가 제일 작은 유일한 1개의 직선**을 찾아야하죠.\n",
        "\n",
        "그러나, 위의 식으로 구해지는 잔차를 그대로 사용할 경우 두 가지 문제가 발생합니다😱\n",
        "\n",
        "> ①  잔차(실제 값 - 예측 값)는 무수히 많은 **음수**와 **양수**의 값으로 이루어집니다.  \n",
        "만약 단순히 **잔차들을 합(+) 하는 경우 0**이 됩니다. (※ **모든 편차의 합은 0**)  \n",
        "> ② ①을 해결하기 위해 부호를 통일하여 **절대값**을 쓰는 경우, (잔차가 최소화되는 지점을 찾기 위한)  \n",
        "미분이 불가능한 지점이 발생하거나, 동일한 Y값을 갖는 특정 '구간'이 발생합니다.  \n",
        "<center>\n",
        "<img src=\"https://i.ibb.co/HYQ1nfs/image.png\">  \n",
        "</center> \n",
        "\n",
        "> 🔍 한번 다음의 그래프 예시를 살펴볼까요?\n",
        "\n",
        "<center>\n",
        "<img src = \"https://i.ibb.co/zQ861qy/1.png\" width = \"400\"> <img src = \"https://i.ibb.co/0ykMZmL/2.png\" width = \"400\">\n",
        "</center>\n",
        "\n",
        "> 🤨 위의 첫번째 직선과 두번째 직선 모두 잔차의 합은 0, 잔차 절대값의 합은 4입니다.  \n",
        "🧐 과연 두 직선이 주어진 데이터를 가장 잘 대표(표현)하는 직선이라고 할 수 있을까요?\n",
        "\n",
        "💡이러한 문제를 해결하기 위해 일반적으로 **'잔차의 제곱합'**을 사용합니다. (※ **분산을 구할 때 편차를 제곱**하듯!) 💡\n",
        "\n",
        ">* 잔차 제곱의 합을 통한 회귀 계수 추정\n",
        ">\n",
        ">$$\n",
        "\\sum_{i=1}^N e_{i}^2 = \t\\sum_{i=1}^N (y_{i}-\\beta_{0} - \\beta_{1}X_{i})^2 = L\n",
        "$$\n",
        "* 위의 이차방정식을 아래의 회귀 계수로 **편미분** 합니다. \n",
        "$$\n",
        "\\beta_{0} : y절편 \\quad \\beta_{1} : 기울기 \n",
        "$$\n",
        "* 편미분으로 도출된 식을 계산해보면 아래의 회귀 계수 값이 추정됩니다.  \n",
        "(※ **편미분의 결과가 0**이 되는, 즉 **위의 식이 최소값**이 되는 𝛽0, 𝛽1의 해 구하기) \n",
        "\n",
        "$$\n",
        "\\hat{\\beta_{0}} \\quad \\hat{\\beta_{1}} \n",
        "$$  \n",
        "\n",
        "### **🌈결과적으로**: \n",
        "\n",
        "(1) **잔차의 제곱합이 최소화되는** \n",
        "\n",
        "(2) **최적의 회귀계수**\n",
        "\n",
        "를 추정한 아래의 식이 도출됩니다!\n",
        "\n",
        "$$\n",
        "\\hat{Y} = \\hat{\\beta}_{0} + \\hat{\\beta}_{1}X \n",
        "$$\n",
        "\n",
        "> 🔍 위의 그래프 예시에 적용해본다면 다음과 같은 직선이 나오게 됩니다!\n",
        "<center>\n",
        "<img src=\"https://i.ibb.co/t2t2Knq/image.png\" width = \"400\" >  \n",
        "</center>\n",
        "\n",
        "이런 L을 회귀분석에서는 SSR(Sum of Squares of residuals)이라고 합니다.\n"
      ]
    },
    {
      "cell_type": "markdown",
      "metadata": {
        "id": "b2SVAxv-hDio"
      },
      "source": [
        "## **3-1 🏠 단순 선형 회귀분석을 통한 보스턴 주택 가격 예측**\n",
        "\n",
        "<img src = \"https://cdn10.bostonmagazine.com/wp-content/uploads/sites/2/2018/05/boston-rent.jpg\" width = \"700\" >\n",
        "\n",
        "보스턴 시의 주택 가격과 관련된 데이터로\n",
        "\n",
        "* 주택 가격에 영향을 끼치는 여러가지 요소들 (X, Features) \n",
        "* 주택 가격 정보 (Y, Target)\n",
        "\n",
        "가 포함되어있습니다.\n",
        "\n",
        "\n",
        "① 주택의 가격에 영향을 미치는 요소를 분석하고 ② 회귀분석에 활용해보도록 하겠습니다.\n",
        "\n",
        "(*본 데이터 집합은 14개의 변수를 포함하고 있음)\n",
        "\n",
        "\n",
        "> 🐚 필요한 패키지를 불러옵니다.\n"
      ]
    },
    {
      "cell_type": "code",
      "metadata": {
        "id": "Rp6ve7TLsaK8",
        "colab": {
          "base_uri": "https://localhost:8080/"
        },
        "outputId": "b2e6159e-e603-4dde-9e08-96d71197b648"
      },
      "source": [
        "import os\n",
        "import pandas as pd \n",
        "import numpy as np\n",
        "import statsmodels.api as sm"
      ],
      "execution_count": null,
      "outputs": [
        {
          "output_type": "stream",
          "text": [
            "/usr/local/lib/python3.6/dist-packages/statsmodels/tools/_testing.py:19: FutureWarning: pandas.util.testing is deprecated. Use the functions in the public API at pandas.testing instead.\n",
            "  import pandas.util.testing as tm\n"
          ],
          "name": "stderr"
        }
      ]
    },
    {
      "cell_type": "markdown",
      "metadata": {
        "id": "04nY_V8BOO8A"
      },
      "source": [
        "> - `statsmodels.api` : 사이킷런 패키지에서 지원하지 않는 통계 관련 함수들을 지원합니다."
      ]
    },
    {
      "cell_type": "markdown",
      "metadata": {
        "id": "Odj5rvIwjer5"
      },
      "source": [
        "### **Step 0. 보스턴 데이터셋 불러오기**\n",
        "\n"
      ]
    },
    {
      "cell_type": "code",
      "metadata": {
        "id": "PaYMZPQggoI4",
        "colab": {
          "base_uri": "https://localhost:8080/",
          "height": 195
        },
        "outputId": "c8a43c8d-7321-4cb8-d482-5379fa67b70e"
      },
      "source": [
        "# 자신의 드라이브에 저장되어 있는 데이터셋을 불러옵니다\n",
        "boston = pd.read_csv(\"/content/gdrive/My Drive/Colab Notebooks/datascience/Boston_house.csv\")\n",
        "# 데이터 확인하기\n",
        "boston.head(5)"
      ],
      "execution_count": null,
      "outputs": [
        {
          "output_type": "execute_result",
          "data": {
            "text/html": [
              "<div>\n",
              "<style scoped>\n",
              "    .dataframe tbody tr th:only-of-type {\n",
              "        vertical-align: middle;\n",
              "    }\n",
              "\n",
              "    .dataframe tbody tr th {\n",
              "        vertical-align: top;\n",
              "    }\n",
              "\n",
              "    .dataframe thead th {\n",
              "        text-align: right;\n",
              "    }\n",
              "</style>\n",
              "<table border=\"1\" class=\"dataframe\">\n",
              "  <thead>\n",
              "    <tr style=\"text-align: right;\">\n",
              "      <th></th>\n",
              "      <th>AGE</th>\n",
              "      <th>B</th>\n",
              "      <th>RM</th>\n",
              "      <th>CRIM</th>\n",
              "      <th>DIS</th>\n",
              "      <th>INDUS</th>\n",
              "      <th>LSTAT</th>\n",
              "      <th>NOX</th>\n",
              "      <th>PTRATIO</th>\n",
              "      <th>RAD</th>\n",
              "      <th>ZN</th>\n",
              "      <th>TAX</th>\n",
              "      <th>CHAS</th>\n",
              "      <th>Target</th>\n",
              "    </tr>\n",
              "  </thead>\n",
              "  <tbody>\n",
              "    <tr>\n",
              "      <th>0</th>\n",
              "      <td>65.2</td>\n",
              "      <td>396.90</td>\n",
              "      <td>6.575</td>\n",
              "      <td>0.00632</td>\n",
              "      <td>4.0900</td>\n",
              "      <td>2.31</td>\n",
              "      <td>4.98</td>\n",
              "      <td>0.538</td>\n",
              "      <td>15.3</td>\n",
              "      <td>1</td>\n",
              "      <td>18.0</td>\n",
              "      <td>296</td>\n",
              "      <td>0</td>\n",
              "      <td>24.0</td>\n",
              "    </tr>\n",
              "    <tr>\n",
              "      <th>1</th>\n",
              "      <td>78.9</td>\n",
              "      <td>396.90</td>\n",
              "      <td>6.421</td>\n",
              "      <td>0.02731</td>\n",
              "      <td>4.9671</td>\n",
              "      <td>7.07</td>\n",
              "      <td>9.14</td>\n",
              "      <td>0.469</td>\n",
              "      <td>17.8</td>\n",
              "      <td>2</td>\n",
              "      <td>0.0</td>\n",
              "      <td>242</td>\n",
              "      <td>0</td>\n",
              "      <td>21.6</td>\n",
              "    </tr>\n",
              "    <tr>\n",
              "      <th>2</th>\n",
              "      <td>61.1</td>\n",
              "      <td>392.83</td>\n",
              "      <td>7.185</td>\n",
              "      <td>0.02729</td>\n",
              "      <td>4.9671</td>\n",
              "      <td>7.07</td>\n",
              "      <td>4.03</td>\n",
              "      <td>0.469</td>\n",
              "      <td>17.8</td>\n",
              "      <td>2</td>\n",
              "      <td>0.0</td>\n",
              "      <td>242</td>\n",
              "      <td>0</td>\n",
              "      <td>34.7</td>\n",
              "    </tr>\n",
              "    <tr>\n",
              "      <th>3</th>\n",
              "      <td>45.8</td>\n",
              "      <td>394.63</td>\n",
              "      <td>6.998</td>\n",
              "      <td>0.03237</td>\n",
              "      <td>6.0622</td>\n",
              "      <td>2.18</td>\n",
              "      <td>2.94</td>\n",
              "      <td>0.458</td>\n",
              "      <td>18.7</td>\n",
              "      <td>3</td>\n",
              "      <td>0.0</td>\n",
              "      <td>222</td>\n",
              "      <td>0</td>\n",
              "      <td>33.4</td>\n",
              "    </tr>\n",
              "    <tr>\n",
              "      <th>4</th>\n",
              "      <td>54.2</td>\n",
              "      <td>396.90</td>\n",
              "      <td>7.147</td>\n",
              "      <td>0.06905</td>\n",
              "      <td>6.0622</td>\n",
              "      <td>2.18</td>\n",
              "      <td>5.33</td>\n",
              "      <td>0.458</td>\n",
              "      <td>18.7</td>\n",
              "      <td>3</td>\n",
              "      <td>0.0</td>\n",
              "      <td>222</td>\n",
              "      <td>0</td>\n",
              "      <td>36.2</td>\n",
              "    </tr>\n",
              "  </tbody>\n",
              "</table>\n",
              "</div>"
            ],
            "text/plain": [
              "    AGE       B     RM     CRIM     DIS  ...  RAD    ZN  TAX  CHAS  Target\n",
              "0  65.2  396.90  6.575  0.00632  4.0900  ...    1  18.0  296     0    24.0\n",
              "1  78.9  396.90  6.421  0.02731  4.9671  ...    2   0.0  242     0    21.6\n",
              "2  61.1  392.83  7.185  0.02729  4.9671  ...    2   0.0  242     0    34.7\n",
              "3  45.8  394.63  6.998  0.03237  6.0622  ...    3   0.0  222     0    33.4\n",
              "4  54.2  396.90  7.147  0.06905  6.0622  ...    3   0.0  222     0    36.2\n",
              "\n",
              "[5 rows x 14 columns]"
            ]
          },
          "metadata": {
            "tags": []
          },
          "execution_count": 3
        }
      ]
    },
    {
      "cell_type": "markdown",
      "metadata": {
        "id": "sYfZRpUX_Sww"
      },
      "source": [
        "> 데이터의 **크기**를 확인해주세요! (행, 열)\n",
        "- 여기서 행은 데이터의 개수, 열은 Feature + Target의 개수임을 다시 한 번 상기해주세요!\n",
        "- Y값 = Target / X값 = Feature"
      ]
    },
    {
      "cell_type": "code",
      "metadata": {
        "id": "jc2HguzBla5Q",
        "colab": {
          "base_uri": "https://localhost:8080/"
        },
        "outputId": "fc501a35-fee9-423f-8441-c3008593e043"
      },
      "source": [
        "# 데이터 크기 확인하기\n",
        "boston.shape"
      ],
      "execution_count": null,
      "outputs": [
        {
          "output_type": "execute_result",
          "data": {
            "text/plain": [
              "(506, 14)"
            ]
          },
          "metadata": {
            "tags": []
          },
          "execution_count": 4
        }
      ]
    },
    {
      "cell_type": "code",
      "metadata": {
        "id": "yhHjHih9kY69",
        "colab": {
          "base_uri": "https://localhost:8080/",
          "height": 304
        },
        "outputId": "eaa8a58e-503f-443e-d063-474104eb1287"
      },
      "source": [
        "# 기초 정보 확인하기 \n",
        "boston.describe()"
      ],
      "execution_count": null,
      "outputs": [
        {
          "output_type": "execute_result",
          "data": {
            "text/html": [
              "<div>\n",
              "<style scoped>\n",
              "    .dataframe tbody tr th:only-of-type {\n",
              "        vertical-align: middle;\n",
              "    }\n",
              "\n",
              "    .dataframe tbody tr th {\n",
              "        vertical-align: top;\n",
              "    }\n",
              "\n",
              "    .dataframe thead th {\n",
              "        text-align: right;\n",
              "    }\n",
              "</style>\n",
              "<table border=\"1\" class=\"dataframe\">\n",
              "  <thead>\n",
              "    <tr style=\"text-align: right;\">\n",
              "      <th></th>\n",
              "      <th>AGE</th>\n",
              "      <th>B</th>\n",
              "      <th>RM</th>\n",
              "      <th>CRIM</th>\n",
              "      <th>DIS</th>\n",
              "      <th>INDUS</th>\n",
              "      <th>LSTAT</th>\n",
              "      <th>NOX</th>\n",
              "      <th>PTRATIO</th>\n",
              "      <th>RAD</th>\n",
              "      <th>ZN</th>\n",
              "      <th>TAX</th>\n",
              "      <th>CHAS</th>\n",
              "      <th>Target</th>\n",
              "    </tr>\n",
              "  </thead>\n",
              "  <tbody>\n",
              "    <tr>\n",
              "      <th>count</th>\n",
              "      <td>506.000000</td>\n",
              "      <td>506.000000</td>\n",
              "      <td>506.000000</td>\n",
              "      <td>506.000000</td>\n",
              "      <td>506.000000</td>\n",
              "      <td>506.000000</td>\n",
              "      <td>506.000000</td>\n",
              "      <td>506.000000</td>\n",
              "      <td>506.000000</td>\n",
              "      <td>506.000000</td>\n",
              "      <td>506.000000</td>\n",
              "      <td>506.000000</td>\n",
              "      <td>506.000000</td>\n",
              "      <td>506.000000</td>\n",
              "    </tr>\n",
              "    <tr>\n",
              "      <th>mean</th>\n",
              "      <td>68.574901</td>\n",
              "      <td>356.674032</td>\n",
              "      <td>6.284634</td>\n",
              "      <td>3.613524</td>\n",
              "      <td>3.795043</td>\n",
              "      <td>11.136779</td>\n",
              "      <td>12.653063</td>\n",
              "      <td>0.554695</td>\n",
              "      <td>18.455534</td>\n",
              "      <td>9.549407</td>\n",
              "      <td>11.363636</td>\n",
              "      <td>408.237154</td>\n",
              "      <td>0.069170</td>\n",
              "      <td>22.532806</td>\n",
              "    </tr>\n",
              "    <tr>\n",
              "      <th>std</th>\n",
              "      <td>28.148861</td>\n",
              "      <td>91.294864</td>\n",
              "      <td>0.702617</td>\n",
              "      <td>8.601545</td>\n",
              "      <td>2.105710</td>\n",
              "      <td>6.860353</td>\n",
              "      <td>7.141062</td>\n",
              "      <td>0.115878</td>\n",
              "      <td>2.164946</td>\n",
              "      <td>8.707259</td>\n",
              "      <td>23.322453</td>\n",
              "      <td>168.537116</td>\n",
              "      <td>0.253994</td>\n",
              "      <td>9.197104</td>\n",
              "    </tr>\n",
              "    <tr>\n",
              "      <th>min</th>\n",
              "      <td>2.900000</td>\n",
              "      <td>0.320000</td>\n",
              "      <td>3.561000</td>\n",
              "      <td>0.006320</td>\n",
              "      <td>1.129600</td>\n",
              "      <td>0.460000</td>\n",
              "      <td>1.730000</td>\n",
              "      <td>0.385000</td>\n",
              "      <td>12.600000</td>\n",
              "      <td>1.000000</td>\n",
              "      <td>0.000000</td>\n",
              "      <td>187.000000</td>\n",
              "      <td>0.000000</td>\n",
              "      <td>5.000000</td>\n",
              "    </tr>\n",
              "    <tr>\n",
              "      <th>25%</th>\n",
              "      <td>45.025000</td>\n",
              "      <td>375.377500</td>\n",
              "      <td>5.885500</td>\n",
              "      <td>0.082045</td>\n",
              "      <td>2.100175</td>\n",
              "      <td>5.190000</td>\n",
              "      <td>6.950000</td>\n",
              "      <td>0.449000</td>\n",
              "      <td>17.400000</td>\n",
              "      <td>4.000000</td>\n",
              "      <td>0.000000</td>\n",
              "      <td>279.000000</td>\n",
              "      <td>0.000000</td>\n",
              "      <td>17.025000</td>\n",
              "    </tr>\n",
              "    <tr>\n",
              "      <th>50%</th>\n",
              "      <td>77.500000</td>\n",
              "      <td>391.440000</td>\n",
              "      <td>6.208500</td>\n",
              "      <td>0.256510</td>\n",
              "      <td>3.207450</td>\n",
              "      <td>9.690000</td>\n",
              "      <td>11.360000</td>\n",
              "      <td>0.538000</td>\n",
              "      <td>19.050000</td>\n",
              "      <td>5.000000</td>\n",
              "      <td>0.000000</td>\n",
              "      <td>330.000000</td>\n",
              "      <td>0.000000</td>\n",
              "      <td>21.200000</td>\n",
              "    </tr>\n",
              "    <tr>\n",
              "      <th>75%</th>\n",
              "      <td>94.075000</td>\n",
              "      <td>396.225000</td>\n",
              "      <td>6.623500</td>\n",
              "      <td>3.677082</td>\n",
              "      <td>5.188425</td>\n",
              "      <td>18.100000</td>\n",
              "      <td>16.955000</td>\n",
              "      <td>0.624000</td>\n",
              "      <td>20.200000</td>\n",
              "      <td>24.000000</td>\n",
              "      <td>12.500000</td>\n",
              "      <td>666.000000</td>\n",
              "      <td>0.000000</td>\n",
              "      <td>25.000000</td>\n",
              "    </tr>\n",
              "    <tr>\n",
              "      <th>max</th>\n",
              "      <td>100.000000</td>\n",
              "      <td>396.900000</td>\n",
              "      <td>8.780000</td>\n",
              "      <td>88.976200</td>\n",
              "      <td>12.126500</td>\n",
              "      <td>27.740000</td>\n",
              "      <td>37.970000</td>\n",
              "      <td>0.871000</td>\n",
              "      <td>22.000000</td>\n",
              "      <td>24.000000</td>\n",
              "      <td>100.000000</td>\n",
              "      <td>711.000000</td>\n",
              "      <td>1.000000</td>\n",
              "      <td>50.000000</td>\n",
              "    </tr>\n",
              "  </tbody>\n",
              "</table>\n",
              "</div>"
            ],
            "text/plain": [
              "              AGE           B          RM  ...         TAX        CHAS      Target\n",
              "count  506.000000  506.000000  506.000000  ...  506.000000  506.000000  506.000000\n",
              "mean    68.574901  356.674032    6.284634  ...  408.237154    0.069170   22.532806\n",
              "std     28.148861   91.294864    0.702617  ...  168.537116    0.253994    9.197104\n",
              "min      2.900000    0.320000    3.561000  ...  187.000000    0.000000    5.000000\n",
              "25%     45.025000  375.377500    5.885500  ...  279.000000    0.000000   17.025000\n",
              "50%     77.500000  391.440000    6.208500  ...  330.000000    0.000000   21.200000\n",
              "75%     94.075000  396.225000    6.623500  ...  666.000000    0.000000   25.000000\n",
              "max    100.000000  396.900000    8.780000  ...  711.000000    1.000000   50.000000\n",
              "\n",
              "[8 rows x 14 columns]"
            ]
          },
          "metadata": {
            "tags": []
          },
          "execution_count": 5
        }
      ]
    },
    {
      "cell_type": "code",
      "metadata": {
        "id": "z_ekwcFYcXAK"
      },
      "source": [
        "import seaborn as sns\n",
        "import matplotlib.pyplot as plt"
      ],
      "execution_count": null,
      "outputs": []
    },
    {
      "cell_type": "code",
      "metadata": {
        "colab": {
          "base_uri": "https://localhost:8080/",
          "height": 279
        },
        "id": "ObqZ7Y3_cc_9",
        "outputId": "d19afdf5-d8b8-46a6-9f71-03f7949d06dc"
      },
      "source": [
        "sns.histplot(data=boston, x='Target')\n",
        "plt.show()\n"
      ],
      "execution_count": null,
      "outputs": [
        {
          "output_type": "display_data",
          "data": {
            "image/png": "[encoded data removed]",
            "text/plain": [
              "<Figure size 432x288 with 1 Axes>"
            ]
          },
          "metadata": {
            "tags": [],
            "needs_background": "light"
          }
        }
      ]
    },
    {
      "cell_type": "markdown",
      "metadata": {
        "id": "Y_RBjPGnl6Xi"
      },
      "source": [
        "### **Step 1. 단순 선형 회귀 모델을 통해 각 변수 관계 분석해보기**\n",
        "\n",
        "### 📔Code Book \n",
        "\n",
        "1) Target (Y) data\n",
        "* Target: 1978년 보스턴 주택 가격\n",
        "\n",
        "2) Feature (X) data\n",
        "* CRIM: 범죄율\n",
        "* INDUS: 비소매상업지역 면적 비율\n",
        "* NOX: 일산화질소 농도\n",
        "* RM: 주택당 방 개수\n",
        "* LSTAT: 인구 중 하위 계층 비율\n",
        "* B: 인구 중 흑인 비율\n",
        "* PTRATIO: 학생/교사 비율\n",
        "* ZN: 25,000 평방피트를 초과하는 거주지역 비율\n",
        "* CHAS: 찰스강의 경계에 위치한 경우는 1, 아니면 0\n",
        "* AGE: 1940년 이전에 건축된 주택의 비율\n",
        "* RAD: 방사형 고속도로까지의 거리\n",
        "* DIS: 직업센터의 거리\n",
        "* TAX: 재산세율\n",
        "\n",
        "<br/>\n",
        "\n",
        "📉 **Target과 Feature를 하나씩 선택해서 단순 선형회귀 분석을 해보겠습니다!**\n",
        "> - `CRIM` 변수에 범죄열 데이터 담기\n",
        "> - `Target` 변수에 주택 가격 열 데이터 담기"
      ]
    },
    {
      "cell_type": "code",
      "metadata": {
        "colab": {
          "base_uri": "https://localhost:8080/",
          "height": 383
        },
        "id": "mYJhfhjRc6to",
        "outputId": "ba7a35eb-fe99-4340-bedb-114296577f5d"
      },
      "source": [
        "sns.relplot(data=boston, x='CRIM', y='Target', hue='CHAS')\n",
        "plt.show()"
      ],
      "execution_count": null,
      "outputs": [
        {
          "output_type": "display_data",
          "data": {
            "image/png": "[encoded data removed]",
            "text/plain": [
              "<Figure size 402.375x360 with 1 Axes>"
            ]
          },
          "metadata": {
            "tags": [],
            "needs_background": "light"
          }
        }
      ]
    },
    {
      "cell_type": "code",
      "metadata": {
        "id": "CAXgIT5gkqJS"
      },
      "source": [
        "# Feature data\n",
        "crim = boston['CRIM']\n",
        "\n",
        "# Target data\n",
        "target = boston['Target']"
      ],
      "execution_count": null,
      "outputs": []
    },
    {
      "cell_type": "markdown",
      "metadata": {
        "id": "2kNHbt8Zm99j"
      },
      "source": [
        "**Feature에 상수항을 더해서 Target과의 관계 정보를 담아볼까요?**  \n",
        "<img src = \"https://1.bp.blogspot.com/-ASTSERw9Gos/XqJRmr0X1eI/AAAAAAAAATY/N59WQzF3M5QqDG5yuKVHyTuTw_dfAlcJQCLcBGAsYHQ/s1600/%25E1%2584%2589%25E1%2585%25AE%25E1%2584%2589%25E1%2585%25B5%25E1%2586%25A81.png\" width = \"800\">\n",
        "\n",
        "> - `crim_1`이라는 상수항을 더하는 변수를 새로 만들어주기 (백업 차원)\n",
        "- `sm.add_constant(feature 데이터, has_constant = 'add')` : 상수항을 더해주는 함수\n",
        "- `has_constant = 'add'` : 새로운 상수항 열을 추가\n"
      ]
    },
    {
      "cell_type": "code",
      "metadata": {
        "id": "tyQSg3G9m7Uy",
        "colab": {
          "base_uri": "https://localhost:8080/",
          "height": 195
        },
        "outputId": "597a6c23-538b-443b-9cfb-1e1330033b18"
      },
      "source": [
        "crim_1 = sm.add_constant(crim, has_constant='add')\n",
        "crim_1.head()"
      ],
      "execution_count": null,
      "outputs": [
        {
          "output_type": "execute_result",
          "data": {
            "text/html": [
              "<div>\n",
              "<style scoped>\n",
              "    .dataframe tbody tr th:only-of-type {\n",
              "        vertical-align: middle;\n",
              "    }\n",
              "\n",
              "    .dataframe tbody tr th {\n",
              "        vertical-align: top;\n",
              "    }\n",
              "\n",
              "    .dataframe thead th {\n",
              "        text-align: right;\n",
              "    }\n",
              "</style>\n",
              "<table border=\"1\" class=\"dataframe\">\n",
              "  <thead>\n",
              "    <tr style=\"text-align: right;\">\n",
              "      <th></th>\n",
              "      <th>const</th>\n",
              "      <th>CRIM</th>\n",
              "    </tr>\n",
              "  </thead>\n",
              "  <tbody>\n",
              "    <tr>\n",
              "      <th>0</th>\n",
              "      <td>1.0</td>\n",
              "      <td>0.00632</td>\n",
              "    </tr>\n",
              "    <tr>\n",
              "      <th>1</th>\n",
              "      <td>1.0</td>\n",
              "      <td>0.02731</td>\n",
              "    </tr>\n",
              "    <tr>\n",
              "      <th>2</th>\n",
              "      <td>1.0</td>\n",
              "      <td>0.02729</td>\n",
              "    </tr>\n",
              "    <tr>\n",
              "      <th>3</th>\n",
              "      <td>1.0</td>\n",
              "      <td>0.03237</td>\n",
              "    </tr>\n",
              "    <tr>\n",
              "      <th>4</th>\n",
              "      <td>1.0</td>\n",
              "      <td>0.06905</td>\n",
              "    </tr>\n",
              "  </tbody>\n",
              "</table>\n",
              "</div>"
            ],
            "text/plain": [
              "   const     CRIM\n",
              "0    1.0  0.00632\n",
              "1    1.0  0.02731\n",
              "2    1.0  0.02729\n",
              "3    1.0  0.03237\n",
              "4    1.0  0.06905"
            ]
          },
          "metadata": {
            "tags": []
          },
          "execution_count": 17
        }
      ]
    },
    {
      "cell_type": "markdown",
      "metadata": {
        "id": "UItPeUgenhu8"
      },
      "source": [
        "**두 변수의 관계를 단순 선형 회귀 분석해봐요**\n",
        "\n",
        "- `sm.OLS(타겟 데이터, feature 데이터)`\n",
        "- `.fit()` : 수많은 패키지에서 학습을 명령하는 함수로 사용"
      ]
    },
    {
      "cell_type": "code",
      "metadata": {
        "id": "HVAuH2szngYC"
      },
      "source": [
        "# 선형 회귀 모델에 Target과 Feature를 넣기\n",
        "single_model = sm.OLS(target, crim_1)\n",
        "\n",
        "# 모델 학습하기\n",
        "fitted_model = single_model.fit()   # 우리가 만든 학습된 모델"
      ],
      "execution_count": null,
      "outputs": []
    },
    {
      "cell_type": "markdown",
      "metadata": {
        "id": "LY14FpWtCeVV"
      },
      "source": [
        " 모델학습이 완료되었습니다 👏👏👏 "
      ]
    },
    {
      "cell_type": "code",
      "metadata": {
        "id": "IwXlque8oRtK",
        "colab": {
          "base_uri": "https://localhost:8080/",
          "height": 426
        },
        "outputId": "711dd644-b0a9-40cc-9a7e-131657d47065"
      },
      "source": [
        "# 학습의 결과를 확인해보기\n",
        "fitted_model.summary()"
      ],
      "execution_count": null,
      "outputs": [
        {
          "output_type": "execute_result",
          "data": {
            "text/html": [
              "<table class=\"simpletable\">\n",
              "<caption>OLS Regression Results</caption>\n",
              "<tr>\n",
              "  <th>Dep. Variable:</th>         <td>Target</td>      <th>  R-squared:         </th> <td>   0.151</td>\n",
              "</tr>\n",
              "<tr>\n",
              "  <th>Model:</th>                   <td>OLS</td>       <th>  Adj. R-squared:    </th> <td>   0.149</td>\n",
              "</tr>\n",
              "<tr>\n",
              "  <th>Method:</th>             <td>Least Squares</td>  <th>  F-statistic:       </th> <td>   89.49</td>\n",
              "</tr>\n",
              "<tr>\n",
              "  <th>Date:</th>             <td>Thu, 03 Dec 2020</td> <th>  Prob (F-statistic):</th> <td>1.17e-19</td>\n",
              "</tr>\n",
              "<tr>\n",
              "  <th>Time:</th>                 <td>12:05:21</td>     <th>  Log-Likelihood:    </th> <td> -1798.9</td>\n",
              "</tr>\n",
              "<tr>\n",
              "  <th>No. Observations:</th>      <td>   506</td>      <th>  AIC:               </th> <td>   3602.</td>\n",
              "</tr>\n",
              "<tr>\n",
              "  <th>Df Residuals:</th>          <td>   504</td>      <th>  BIC:               </th> <td>   3610.</td>\n",
              "</tr>\n",
              "<tr>\n",
              "  <th>Df Model:</th>              <td>     1</td>      <th>                     </th>     <td> </td>   \n",
              "</tr>\n",
              "<tr>\n",
              "  <th>Covariance Type:</th>      <td>nonrobust</td>    <th>                     </th>     <td> </td>   \n",
              "</tr>\n",
              "</table>\n",
              "<table class=\"simpletable\">\n",
              "<tr>\n",
              "    <td></td>       <th>coef</th>     <th>std err</th>      <th>t</th>      <th>P>|t|</th>  <th>[0.025</th>    <th>0.975]</th>  \n",
              "</tr>\n",
              "<tr>\n",
              "  <th>const</th> <td>   24.0331</td> <td>    0.409</td> <td>   58.740</td> <td> 0.000</td> <td>   23.229</td> <td>   24.837</td>\n",
              "</tr>\n",
              "<tr>\n",
              "  <th>CRIM</th>  <td>   -0.4152</td> <td>    0.044</td> <td>   -9.460</td> <td> 0.000</td> <td>   -0.501</td> <td>   -0.329</td>\n",
              "</tr>\n",
              "</table>\n",
              "<table class=\"simpletable\">\n",
              "<tr>\n",
              "  <th>Omnibus:</th>       <td>139.832</td> <th>  Durbin-Watson:     </th> <td>   0.713</td>\n",
              "</tr>\n",
              "<tr>\n",
              "  <th>Prob(Omnibus):</th> <td> 0.000</td>  <th>  Jarque-Bera (JB):  </th> <td> 295.404</td>\n",
              "</tr>\n",
              "<tr>\n",
              "  <th>Skew:</th>          <td> 1.490</td>  <th>  Prob(JB):          </th> <td>7.14e-65</td>\n",
              "</tr>\n",
              "<tr>\n",
              "  <th>Kurtosis:</th>      <td> 5.264</td>  <th>  Cond. No.          </th> <td>    10.1</td>\n",
              "</tr>\n",
              "</table><br/><br/>Warnings:<br/>[1] Standard Errors assume that the covariance matrix of the errors is correctly specified."
            ],
            "text/plain": [
              "<class 'statsmodels.iolib.summary.Summary'>\n",
              "\"\"\"\n",
              "                            OLS Regression Results                            \n",
              "==============================================================================\n",
              "Dep. Variable:                 Target   R-squared:                       0.151\n",
              "Model:                            OLS   Adj. R-squared:                  0.149\n",
              "Method:                 Least Squares   F-statistic:                     89.49\n",
              "Date:                Thu, 03 Dec 2020   Prob (F-statistic):           1.17e-19\n",
              "Time:                        12:05:21   Log-Likelihood:                -1798.9\n",
              "No. Observations:                 506   AIC:                             3602.\n",
              "Df Residuals:                     504   BIC:                             3610.\n",
              "Df Model:                           1                                         \n",
              "Covariance Type:            nonrobust                                         \n",
              "==============================================================================\n",
              "                 coef    std err          t      P>|t|      [0.025      0.975]\n",
              "------------------------------------------------------------------------------\n",
              "const         24.0331      0.409     58.740      0.000      23.229      24.837\n",
              "CRIM          -0.4152      0.044     -9.460      0.000      -0.501      -0.329\n",
              "==============================================================================\n",
              "Omnibus:                      139.832   Durbin-Watson:                   0.713\n",
              "Prob(Omnibus):                  0.000   Jarque-Bera (JB):              295.404\n",
              "Skew:                           1.490   Prob(JB):                     7.14e-65\n",
              "Kurtosis:                       5.264   Cond. No.                         10.1\n",
              "==============================================================================\n",
              "\n",
              "Warnings:\n",
              "[1] Standard Errors assume that the covariance matrix of the errors is correctly specified.\n",
              "\"\"\""
            ]
          },
          "metadata": {
            "tags": []
          },
          "execution_count": 21
        }
      ]
    },
    {
      "cell_type": "markdown",
      "metadata": {
        "id": "8lvP3uVIoQBx"
      },
      "source": [
        "### **Step 2. 분석 결과 해석해보기**\n",
        "\n",
        "#### **① R-squared: ( 0 <= R-squared <= 1 )**\n",
        "\n",
        "회귀 직선이 표현 가능한 자료의 변동을 의미하며,\n",
        "\n",
        "값이 1에 가까울수록 추정된 직선의 설명력이 우수함 \n",
        "\n",
        "설명 변수(feature)가 종속 변수(target)을 얼마나 잘 설명할 수 있는지와 관련됨\n",
        "\n",
        "\n",
        "#### **② coef(계수):**\n",
        "\n",
        "설명 변수(feature)가 한 단위 변화할 때, 반응 변수(target)가 얼마나 변화하는지 보여주는 수치, 기울기\n",
        "\n",
        "#### **③ p-value (P):**\n",
        "\n",
        "해당 계수가 위의 회귀 모델에서 '유의미'한 변수인지 측정하는 척도\n",
        "\n",
        "기본적으로 p-value가 0.05보다 작으면 해당 변수는 유의미하다고 추정\n",
        "\n",
        "<br>\n",
        "\n",
        "**<통계적 검정>**\n",
        "\n",
        "귀무 가설: 회귀계수는 0이다. \n",
        "\n",
        "대립 가설: 회귀계수는 0이 아니다 \n",
        "\n",
        "p-value가 0.05보다 작다 \n",
        "\n",
        "= 대립 가설을 지지하고 귀무가설을 기각하는 상황 \n",
        "\n",
        "= 회귀 계수는 0이 아니다 \n",
        "\n",
        "= 회귀 계수가 0이 아니라고 할 만한 충분한 증거가 있다. \n",
        "\n",
        "= 해당 변수는 유의미하다\n",
        "\n",
        "\n",
        "\n",
        "\n"
      ]
    },
    {
      "cell_type": "markdown",
      "metadata": {
        "id": "AyVMrzP6I0tl"
      },
      "source": [
        "🔎**결과 해석** 🔎\n",
        "\n",
        "- R-squared가 0.151로 15%의 설명력을 지님\n",
        "- coef가 -0.4로, 범죄율(`crim`)이 0.4 단위 감소할 때 평균적으로 주택 가격(`target`)이 1씩 증가\n",
        "- P-value는 0.000으로 0.05보다 작은 유의미한 상태 (`P>⎪t⎪`에 해당) "
      ]
    },
    {
      "cell_type": "markdown",
      "metadata": {
        "id": "2AXk73cAt59E"
      },
      "source": [
        "❓강사님! R-squared가 15%의 설명력을 지녔다고 하셨는데,  \n",
        "현업이나 논문에서는\n",
        "몇퍼센트 정도가 좋다고 인정되는 편인가요?\n",
        "\n",
        "```\n",
        "# 강사님 답변\n",
        "```\n",
        "\n"
      ]
    },
    {
      "cell_type": "markdown",
      "metadata": {
        "id": "qwXNpy9orl80"
      },
      "source": [
        "### **Step 3. 모델의 예측 결과 확인해보기**\n",
        "\n",
        "어떠한 선형의 직선이 그려지는지 확인해보겠습니다!\n",
        "\n",
        "> ① 우리가 만든 모델로 예측해보고  \n",
        "- `만든모델.predict(입력데이터)`"
      ]
    },
    {
      "cell_type": "code",
      "metadata": {
        "id": "mt4nqn4prgaW",
        "colab": {
          "base_uri": "https://localhost:8080/"
        },
        "outputId": "4de93b59-f7c1-41ae-b462-a297c59cbbbe"
      },
      "source": [
        "# 범죄율을 통해 예측해 본 보스턴의 주택가격\n",
        "crim_predict = fitted_model.predict(crim_1)\n",
        "crim_predict    # 예측 결과가 담긴 데이터 열"
      ],
      "execution_count": null,
      "outputs": [
        {
          "output_type": "execute_result",
          "data": {
            "text/plain": [
              "0      24.030482\n",
              "1      24.021767\n",
              "2      24.021776\n",
              "3      24.019666\n",
              "4      24.004437\n",
              "         ...    \n",
              "501    24.007103\n",
              "502    24.014311\n",
              "503    24.007879\n",
              "504    23.987605\n",
              "505    24.013422\n",
              "Length: 506, dtype: float64"
            ]
          },
          "metadata": {
            "tags": []
          },
          "execution_count": 26
        }
      ]
    },
    {
      "cell_type": "markdown",
      "metadata": {
        "id": "KkwcZz8hKdlv"
      },
      "source": [
        "> ② 실제 데이터에 비해 얼마나 잘 예측했는지 시각화\n",
        "- `matplotlib.pyplot` : 파이썬에서 매트랩과 유사한 그래프 표시를 가능케 하는 라이브러리\n",
        "- `plt.scatter(x 데이터, y 데이터, label=\"플롯 이름\")` : 스캐터 플롯 만들기\n",
        "- `plt.plot(x 데이터, y 데이터,label=\"플롯 이름\")` : 선 플롯 만들기\n",
        "- `plt.legend()` : 범례를 호출\n",
        "- `plt.show()` : 지금까지 그린 그래프를 한번에 호출\n"
      ]
    },
    {
      "cell_type": "code",
      "metadata": {
        "id": "7zD6zUnzgu_A"
      },
      "source": [
        "import matplotlib.pyplot as plt"
      ],
      "execution_count": null,
      "outputs": []
    },
    {
      "cell_type": "code",
      "metadata": {
        "colab": {
          "base_uri": "https://localhost:8080/",
          "height": 383
        },
        "id": "Wkclc0qFhqCX",
        "outputId": "cb8a3d5b-74fe-45d3-ab1a-22594a2fac9e"
      },
      "source": [
        "sns.relplot(x=crim, y=target)\n",
        "plt.plot(crim, crim_predict, label='predicted', color='red')\n",
        "plt.legend()\n",
        "plt.show()"
      ],
      "execution_count": null,
      "outputs": [
        {
          "output_type": "display_data",
          "data": {
            "image/png": "[encoded data removed]",
            "text/plain": [
              "<Figure size 360x360 with 1 Axes>"
            ]
          },
          "metadata": {
            "tags": [],
            "needs_background": "light"
          }
        }
      ]
    },
    {
      "cell_type": "code",
      "metadata": {
        "id": "qYda6RCtr54e"
      },
      "source": [
        "## 실제 데이터\n",
        "plt.???\n",
        "\n",
        "## 범죄율을 통해 만들어 본 예측 모델의 직선 \n",
        "plt.plot(crim, crim_predict,  label=\"result\")\n",
        "plt.legend()\n",
        "plt.show()"
      ],
      "execution_count": null,
      "outputs": []
    },
    {
      "cell_type": "markdown",
      "metadata": {
        "id": "KUIJjZLxMx4a"
      },
      "source": [
        "왜 이렇게... 많이 빗나갈까요? 😭😭😭\n",
        "\n",
        "> `.resid.plot()` : 학습된 모델의 잔차를 확인해주는 함수"
      ]
    },
    {
      "cell_type": "code",
      "metadata": {
        "id": "wYWXQXe-s6Xk",
        "colab": {
          "base_uri": "https://localhost:8080/",
          "height": 265
        },
        "outputId": "7cbaa262-0068-4882-fa1b-5add0a212536"
      },
      "source": [
        "# 잔차를 확인해볼까요?\n",
        "# 잔차도(Residual Plot)\n",
        "fitted_model.resid.plot()\n",
        "plt.show()"
      ],
      "execution_count": null,
      "outputs": [
        {
          "output_type": "display_data",
          "data": {
            "image/png": "[encoded data removed]",
            "text/plain": [
              "<Figure size 432x288 with 1 Axes>"
            ]
          },
          "metadata": {
            "tags": [],
            "needs_background": "light"
          }
        }
      ]
    },
    {
      "cell_type": "markdown",
      "metadata": {
        "id": "rJHLxbsPpsWm"
      },
      "source": [
        "잔차가 불규칙적이고 값이 매우 큰 것을 확인할 수 있습니다. \n",
        "\n",
        "잔차 그래프에서 폭이 적을수록 모델의 예측이 잘되었다고 해석할 수 있습니다.\n",
        "\n",
        "<img src = \"https://1.bp.blogspot.com/-95yMB_bKD9E/XqJWUvMTZuI/AAAAAAAAATk/4JHhNZ-LV8sF_oM4dvwm3_3Yq60J9yQfgCLcBGAsYHQ/s1600/%25E1%2584%258C%25E1%2585%25A1%25E1%2586%25AB%25E1%2584%258E%25E1%2585%25A1%25E1%2584%2580%25E1%2585%25B3%25E1%2584%2585%25E1%2585%25A2%25E1%2584%2591%25E1%2585%25B3.png\" width = \"500\">"
      ]
    },
    {
      "cell_type": "markdown",
      "metadata": {
        "id": "tX_BoCJStEkg"
      },
      "source": [
        "### **Step 4. 다른 변수로도 회귀 분석 해보자**\n",
        "\n",
        "이제 한번 LSTAT(하위 계층 비율)과 Target과의 관계 또한 분석해 볼 수 있겠죠?\n",
        "\n"
      ]
    },
    {
      "cell_type": "code",
      "metadata": {
        "id": "8ft-4DgBtYP4",
        "colab": {
          "base_uri": "https://localhost:8080/",
          "height": 426
        },
        "outputId": "d0ca0127-2e58-4365-e2e9-b45a2e83d19f"
      },
      "source": [
        "# 분석할 feature를 하나 추출하고\n",
        "lstat = boston[['LSTAT']]\n",
        "\n",
        "# 회귀 분석 정보를 담아낼 상수항을 더해주기\n",
        "lstat_1 = sm.add_constant(lstat, has_constant='add')\n",
        "\n",
        "# 선형회귀 모델에 두 변수를 입력하고\n",
        "lstat_model = sm.OLS(target, lstat_1)\n",
        "\n",
        "# 학습을 진행\n",
        "fitted_model2 = lstat_model.fit()\n",
        "\n",
        "# 학습의 결과는?\n",
        "fitted_model2.summary()"
      ],
      "execution_count": null,
      "outputs": [
        {
          "output_type": "execute_result",
          "data": {
            "text/html": [
              "<table class=\"simpletable\">\n",
              "<caption>OLS Regression Results</caption>\n",
              "<tr>\n",
              "  <th>Dep. Variable:</th>         <td>Target</td>      <th>  R-squared:         </th> <td>   0.544</td>\n",
              "</tr>\n",
              "<tr>\n",
              "  <th>Model:</th>                   <td>OLS</td>       <th>  Adj. R-squared:    </th> <td>   0.543</td>\n",
              "</tr>\n",
              "<tr>\n",
              "  <th>Method:</th>             <td>Least Squares</td>  <th>  F-statistic:       </th> <td>   601.6</td>\n",
              "</tr>\n",
              "<tr>\n",
              "  <th>Date:</th>             <td>Thu, 03 Dec 2020</td> <th>  Prob (F-statistic):</th> <td>5.08e-88</td>\n",
              "</tr>\n",
              "<tr>\n",
              "  <th>Time:</th>                 <td>12:20:07</td>     <th>  Log-Likelihood:    </th> <td> -1641.5</td>\n",
              "</tr>\n",
              "<tr>\n",
              "  <th>No. Observations:</th>      <td>   506</td>      <th>  AIC:               </th> <td>   3287.</td>\n",
              "</tr>\n",
              "<tr>\n",
              "  <th>Df Residuals:</th>          <td>   504</td>      <th>  BIC:               </th> <td>   3295.</td>\n",
              "</tr>\n",
              "<tr>\n",
              "  <th>Df Model:</th>              <td>     1</td>      <th>                     </th>     <td> </td>   \n",
              "</tr>\n",
              "<tr>\n",
              "  <th>Covariance Type:</th>      <td>nonrobust</td>    <th>                     </th>     <td> </td>   \n",
              "</tr>\n",
              "</table>\n",
              "<table class=\"simpletable\">\n",
              "<tr>\n",
              "    <td></td>       <th>coef</th>     <th>std err</th>      <th>t</th>      <th>P>|t|</th>  <th>[0.025</th>    <th>0.975]</th>  \n",
              "</tr>\n",
              "<tr>\n",
              "  <th>const</th> <td>   34.5538</td> <td>    0.563</td> <td>   61.415</td> <td> 0.000</td> <td>   33.448</td> <td>   35.659</td>\n",
              "</tr>\n",
              "<tr>\n",
              "  <th>LSTAT</th> <td>   -0.9500</td> <td>    0.039</td> <td>  -24.528</td> <td> 0.000</td> <td>   -1.026</td> <td>   -0.874</td>\n",
              "</tr>\n",
              "</table>\n",
              "<table class=\"simpletable\">\n",
              "<tr>\n",
              "  <th>Omnibus:</th>       <td>137.043</td> <th>  Durbin-Watson:     </th> <td>   0.892</td>\n",
              "</tr>\n",
              "<tr>\n",
              "  <th>Prob(Omnibus):</th> <td> 0.000</td>  <th>  Jarque-Bera (JB):  </th> <td> 291.373</td>\n",
              "</tr>\n",
              "<tr>\n",
              "  <th>Skew:</th>          <td> 1.453</td>  <th>  Prob(JB):          </th> <td>5.36e-64</td>\n",
              "</tr>\n",
              "<tr>\n",
              "  <th>Kurtosis:</th>      <td> 5.319</td>  <th>  Cond. No.          </th> <td>    29.7</td>\n",
              "</tr>\n",
              "</table><br/><br/>Warnings:<br/>[1] Standard Errors assume that the covariance matrix of the errors is correctly specified."
            ],
            "text/plain": [
              "<class 'statsmodels.iolib.summary.Summary'>\n",
              "\"\"\"\n",
              "                            OLS Regression Results                            \n",
              "==============================================================================\n",
              "Dep. Variable:                 Target   R-squared:                       0.544\n",
              "Model:                            OLS   Adj. R-squared:                  0.543\n",
              "Method:                 Least Squares   F-statistic:                     601.6\n",
              "Date:                Thu, 03 Dec 2020   Prob (F-statistic):           5.08e-88\n",
              "Time:                        12:20:07   Log-Likelihood:                -1641.5\n",
              "No. Observations:                 506   AIC:                             3287.\n",
              "Df Residuals:                     504   BIC:                             3295.\n",
              "Df Model:                           1                                         \n",
              "Covariance Type:            nonrobust                                         \n",
              "==============================================================================\n",
              "                 coef    std err          t      P>|t|      [0.025      0.975]\n",
              "------------------------------------------------------------------------------\n",
              "const         34.5538      0.563     61.415      0.000      33.448      35.659\n",
              "LSTAT         -0.9500      0.039    -24.528      0.000      -1.026      -0.874\n",
              "==============================================================================\n",
              "Omnibus:                      137.043   Durbin-Watson:                   0.892\n",
              "Prob(Omnibus):                  0.000   Jarque-Bera (JB):              291.373\n",
              "Skew:                           1.453   Prob(JB):                     5.36e-64\n",
              "Kurtosis:                       5.319   Cond. No.                         29.7\n",
              "==============================================================================\n",
              "\n",
              "Warnings:\n",
              "[1] Standard Errors assume that the covariance matrix of the errors is correctly specified.\n",
              "\"\"\""
            ]
          },
          "metadata": {
            "tags": []
          },
          "execution_count": 31
        }
      ]
    },
    {
      "cell_type": "markdown",
      "metadata": {
        "id": "llKcOfVHNT4h"
      },
      "source": [
        "🔎**결과 해석** 🔎\n",
        "\n",
        "- R-squared는 0.544로 약 55%의 설명력을 지니고 있으며  \n",
        "- coef가 -0.95로, 하위계층비율(`lstat`)이 0.95 단위 감소할 때 평균적으로 주택 가격(`target`)이 1씩 증가합니다  \n",
        "- P-value는 0.000으로 유의미한 상태를 나타냅니다\n",
        "\n",
        "<br/>\n",
        "\n",
        "> 🔍 **우리의 모델로 예측 시켜보기**"
      ]
    },
    {
      "cell_type": "code",
      "metadata": {
        "id": "5E5jDTx3uUdC",
        "colab": {
          "base_uri": "https://localhost:8080/"
        },
        "outputId": "f8688326-68ca-4a81-87f6-3c9e971320c8"
      },
      "source": [
        "# 여기에\n",
        "predict2 = fitted_model2.predict(lstat_1)\n",
        "predict2"
      ],
      "execution_count": null,
      "outputs": [
        {
          "output_type": "execute_result",
          "data": {
            "text/plain": [
              "0      29.822595\n",
              "1      25.870390\n",
              "2      30.725142\n",
              "3      31.760696\n",
              "4      29.490078\n",
              "         ...    \n",
              "501    25.366864\n",
              "502    25.927393\n",
              "503    29.195563\n",
              "504    28.397521\n",
              "505    27.067452\n",
              "Length: 506, dtype: float64"
            ]
          },
          "metadata": {
            "tags": []
          },
          "execution_count": 32
        }
      ]
    },
    {
      "cell_type": "markdown",
      "metadata": {
        "id": "bym_zyztPWdl"
      },
      "source": [
        "> 🔍 **실제 데이터와 예측 데이터 비교를 시각화하기**"
      ]
    },
    {
      "cell_type": "code",
      "metadata": {
        "id": "yBFF6bcZubUq",
        "colab": {
          "base_uri": "https://localhost:8080/",
          "height": 265
        },
        "outputId": "04d23345-f3b8-431d-dd91-3a8bb77ecee7"
      },
      "source": [
        "# 실제 데이터를 얼마나 잘 예측하는지 확인해보기\n",
        "import matplotlib.pyplot as plt\n",
        "plt.scatter(lstat,target,label=\"data\", alpha = 0.5, color='black')\n",
        "plt.plot(lstat,predict2,label=\"result\")\n",
        "plt.legend()\n",
        "plt.show()"
      ],
      "execution_count": null,
      "outputs": [
        {
          "output_type": "display_data",
          "data": {
            "image/png": "[encoded data removed]",
            "text/plain": [
              "<Figure size 432x288 with 1 Axes>"
            ]
          },
          "metadata": {
            "tags": [],
            "needs_background": "light"
          }
        }
      ]
    },
    {
      "cell_type": "markdown",
      "metadata": {
        "id": "XODXrPvjPmzF"
      },
      "source": [
        "😀아주 양호한 음의 상관 관계를 보여주는 선형 그래프가 나타났네요!!\n",
        "\n",
        "> 🔍 **잔차도 확인해볼까요?**"
      ]
    },
    {
      "cell_type": "code",
      "metadata": {
        "id": "5Boejolvuuus",
        "colab": {
          "base_uri": "https://localhost:8080/",
          "height": 280
        },
        "outputId": "0dcae239-e458-4d87-ad07-6ada62fc69bb"
      },
      "source": [
        "# 잔차도 확인해볼까요?\n",
        "fitted_model2.resid.plot()\n",
        "plt.xlabel(\"residual_number\")\n",
        "plt.show()"
      ],
      "execution_count": null,
      "outputs": [
        {
          "output_type": "display_data",
          "data": {
            "image/png": "[encoded data removed]",
            "text/plain": [
              "<Figure size 432x288 with 1 Axes>"
            ]
          },
          "metadata": {
            "tags": [],
            "needs_background": "light"
          }
        }
      ]
    },
    {
      "cell_type": "markdown",
      "metadata": {
        "id": "wzs4jeyrP1nl"
      },
      "source": [
        "🙏 여전히 크지만, 조금은 양호해진 모습을 보여준다고 해석할 수 있습니다!"
      ]
    },
    {
      "cell_type": "markdown",
      "metadata": {
        "id": "4CyNFlnjvKtY"
      },
      "source": [
        "## **📌 4. 다중 선형 회귀**\n",
        "\n",
        "<img src = \"https://1.bp.blogspot.com/-Ws0b1Dd8BOI/WRNEHR1SwHI/AAAAAAAAB20/piXqQ-k5WgsnpFIA3VsebzEgkuJ4wiwCQCLcB/s1600/%25ED%259A%258C%25EA%25B7%2580%2B%25EB%25B6%2584%25EC%2584%259D.PNG\" >\n",
        "\n",
        "### **정의**:\n",
        "\n",
        "변수가 2개 이상인 선형 회귀\n",
        "\n",
        "\n",
        "* 추정하려고 하는 식\n",
        "\n",
        "$$\n",
        "\\hat{Y} = \\hat{\\beta}_{0} + \\hat{\\beta}_{1}X_{1} + \\hat{\\beta}_{2}X_{2} + ... \\hat{\\beta}_{n}X_{n}\n",
        "$$\n",
        "\n",
        "<br>\n",
        "\n",
        "### **회귀 계수 추정**:\n",
        "\n",
        "단순 선형회귀와 동일하게 잔차가 제일 적은 방향으로 회귀 계수를 추정해나가야 합니다.\n",
        "\n",
        "잔차를 위의 식을 통해서 추정해본다면 아래와 같습니다.\n",
        "\n",
        "* 실제 값과 예측 값 사이의 차이가 최소가 되도록 해야함 (회귀로 설명이 가능한 부분만 해당)\n",
        "\n",
        "$$\n",
        "\\sum_{i=1}^N e_{i}^2  = Loss\n",
        "$$\n",
        "\n",
        "* 마찬가지로 위의 Loss를 각 회귀 계수를 사용하여 편미분하면 추정하려고 하는 식의 회귀 계수를 구할 수 있습니다.\n",
        "\n",
        "<br>\n",
        "\n",
        "### **알아만 두기!!**:\n",
        "\n",
        "* 행렬식으로 회귀 계수를 담고 있는 열 벡터를 정리해보면\n",
        "\n",
        "$$\n",
        "\\hat{\\beta} = (X'X)^{-1}X'Y\n",
        "$$\n",
        "\n",
        "* 위와 같은 결과가 도출되는데... 이는 역행렬이 반드시 존재해야 함을 의미합니다.\n",
        "\n",
        "* 따라서.. 아래의 식을 만족해야 합니다.\n",
        "\n",
        "$$\n",
        "if \\ given \\ matrix \\ is \\begin{pmatrix} a & b \\\\ c & d \\end{pmatrix}\n",
        "$$\n",
        "\n",
        "$$\n",
        "ad - bc \\neq 0 \n",
        "$$\n",
        "\n",
        "\n",
        "**역행렬이 존재하지 않으면, 다중 선형회귀 분석이 불가능하다!**\n"
      ]
    },
    {
      "cell_type": "markdown",
      "metadata": {
        "id": "wLldWIAt2I8A"
      },
      "source": [
        "## **4-1 다중 선형 회귀를 통한 보스턴 주택 가격 예측**\n",
        "\n",
        "> 모델과 필요한 패키지를 불러옵니다\n"
      ]
    },
    {
      "cell_type": "code",
      "metadata": {
        "id": "nU1gyVVv2BLk"
      },
      "source": [
        "import os\n",
        "import pandas as pd \n",
        "import numpy as np\n",
        "import statsmodels.api as sm"
      ],
      "execution_count": null,
      "outputs": []
    },
    {
      "cell_type": "markdown",
      "metadata": {
        "id": "VTd6kHsx2at5"
      },
      "source": [
        "### **Step 0. 보스턴 데이터셋 불러오기**"
      ]
    },
    {
      "cell_type": "code",
      "metadata": {
        "id": "QmzFR6LM2bn4",
        "colab": {
          "base_uri": "https://localhost:8080/",
          "height": 195
        },
        "outputId": "f56410bc-1c9c-4936-f5bd-c7bab713eabd"
      },
      "source": [
        "# 자신의 드라이브에 저장되어 있는 데이터 셋을 불러오기\n",
        "boston = pd.read_csv(\"./Boston_house.csv\")\n",
        "boston.head(5)"
      ],
      "execution_count": null,
      "outputs": [
        {
          "output_type": "execute_result",
          "data": {
            "text/html": [
              "<div>\n",
              "<style scoped>\n",
              "    .dataframe tbody tr th:only-of-type {\n",
              "        vertical-align: middle;\n",
              "    }\n",
              "\n",
              "    .dataframe tbody tr th {\n",
              "        vertical-align: top;\n",
              "    }\n",
              "\n",
              "    .dataframe thead th {\n",
              "        text-align: right;\n",
              "    }\n",
              "</style>\n",
              "<table border=\"1\" class=\"dataframe\">\n",
              "  <thead>\n",
              "    <tr style=\"text-align: right;\">\n",
              "      <th></th>\n",
              "      <th>AGE</th>\n",
              "      <th>B</th>\n",
              "      <th>RM</th>\n",
              "      <th>CRIM</th>\n",
              "      <th>DIS</th>\n",
              "      <th>INDUS</th>\n",
              "      <th>LSTAT</th>\n",
              "      <th>NOX</th>\n",
              "      <th>PTRATIO</th>\n",
              "      <th>RAD</th>\n",
              "      <th>ZN</th>\n",
              "      <th>TAX</th>\n",
              "      <th>CHAS</th>\n",
              "      <th>Target</th>\n",
              "    </tr>\n",
              "  </thead>\n",
              "  <tbody>\n",
              "    <tr>\n",
              "      <th>0</th>\n",
              "      <td>65.2</td>\n",
              "      <td>396.90</td>\n",
              "      <td>6.575</td>\n",
              "      <td>0.00632</td>\n",
              "      <td>4.0900</td>\n",
              "      <td>2.31</td>\n",
              "      <td>4.98</td>\n",
              "      <td>0.538</td>\n",
              "      <td>15.3</td>\n",
              "      <td>1</td>\n",
              "      <td>18.0</td>\n",
              "      <td>296</td>\n",
              "      <td>0</td>\n",
              "      <td>24.0</td>\n",
              "    </tr>\n",
              "    <tr>\n",
              "      <th>1</th>\n",
              "      <td>78.9</td>\n",
              "      <td>396.90</td>\n",
              "      <td>6.421</td>\n",
              "      <td>0.02731</td>\n",
              "      <td>4.9671</td>\n",
              "      <td>7.07</td>\n",
              "      <td>9.14</td>\n",
              "      <td>0.469</td>\n",
              "      <td>17.8</td>\n",
              "      <td>2</td>\n",
              "      <td>0.0</td>\n",
              "      <td>242</td>\n",
              "      <td>0</td>\n",
              "      <td>21.6</td>\n",
              "    </tr>\n",
              "    <tr>\n",
              "      <th>2</th>\n",
              "      <td>61.1</td>\n",
              "      <td>392.83</td>\n",
              "      <td>7.185</td>\n",
              "      <td>0.02729</td>\n",
              "      <td>4.9671</td>\n",
              "      <td>7.07</td>\n",
              "      <td>4.03</td>\n",
              "      <td>0.469</td>\n",
              "      <td>17.8</td>\n",
              "      <td>2</td>\n",
              "      <td>0.0</td>\n",
              "      <td>242</td>\n",
              "      <td>0</td>\n",
              "      <td>34.7</td>\n",
              "    </tr>\n",
              "    <tr>\n",
              "      <th>3</th>\n",
              "      <td>45.8</td>\n",
              "      <td>394.63</td>\n",
              "      <td>6.998</td>\n",
              "      <td>0.03237</td>\n",
              "      <td>6.0622</td>\n",
              "      <td>2.18</td>\n",
              "      <td>2.94</td>\n",
              "      <td>0.458</td>\n",
              "      <td>18.7</td>\n",
              "      <td>3</td>\n",
              "      <td>0.0</td>\n",
              "      <td>222</td>\n",
              "      <td>0</td>\n",
              "      <td>33.4</td>\n",
              "    </tr>\n",
              "    <tr>\n",
              "      <th>4</th>\n",
              "      <td>54.2</td>\n",
              "      <td>396.90</td>\n",
              "      <td>7.147</td>\n",
              "      <td>0.06905</td>\n",
              "      <td>6.0622</td>\n",
              "      <td>2.18</td>\n",
              "      <td>5.33</td>\n",
              "      <td>0.458</td>\n",
              "      <td>18.7</td>\n",
              "      <td>3</td>\n",
              "      <td>0.0</td>\n",
              "      <td>222</td>\n",
              "      <td>0</td>\n",
              "      <td>36.2</td>\n",
              "    </tr>\n",
              "  </tbody>\n",
              "</table>\n",
              "</div>"
            ],
            "text/plain": [
              "    AGE       B     RM     CRIM     DIS  ...  RAD    ZN  TAX  CHAS  Target\n",
              "0  65.2  396.90  6.575  0.00632  4.0900  ...    1  18.0  296     0    24.0\n",
              "1  78.9  396.90  6.421  0.02731  4.9671  ...    2   0.0  242     0    21.6\n",
              "2  61.1  392.83  7.185  0.02729  4.9671  ...    2   0.0  242     0    34.7\n",
              "3  45.8  394.63  6.998  0.03237  6.0622  ...    3   0.0  222     0    33.4\n",
              "4  54.2  396.90  7.147  0.06905  6.0622  ...    3   0.0  222     0    36.2\n",
              "\n",
              "[5 rows x 14 columns]"
            ]
          },
          "metadata": {
            "tags": []
          },
          "execution_count": 37
        }
      ]
    },
    {
      "cell_type": "markdown",
      "metadata": {
        "id": "Z7s0lU422nlX"
      },
      "source": [
        "### **Step 1. 다중 선형 회귀 모델을 통해 각 변수들 관계 분석해보기**\n",
        "\n",
        "### Code Book\n",
        "\n",
        "1) Target data\n",
        "* 1978 보스턴 주택 가격\n",
        "\n",
        "2) Feature data\n",
        "* CRIM: 범죄율\n",
        "* INDUS: 비소매상업지역 면적 비율\n",
        "* NOX: 일산화질소 농도\n",
        "* RM: 주택당 방 수\n",
        "* LSTAT: 인구 중 하위 계층 비율\n",
        "* B: 인구 중 흑인 비율\n",
        "* PTRATIO: 학생/교사 비율\n",
        "* ZN: 25,000 평방피트를 초과 거주지역 비율\n",
        "* CHAS: 찰스강의 경계에 위치한 경우는 1, 아니면 0\n",
        "* AGE: 1940년 이전에 건축된 주택의 비율\n",
        "* RAD: 방사형 고속도로까지의 거리\n",
        "* DIS: 직업센터의 거리\n",
        "* TAX: 재산세율\n",
        "\n",
        "<br/>\n",
        "\n",
        "📉 **Target과 2개 이상의 Feature를 선택해서 다중 선형회귀 분석을 해봐요!** (※ 위에서는 한개의 Feature만 사용)\n",
        "> - `features` 변수에 'CRIM', 'RM', 'LSTAT' 열 데이터 담기\n"
      ]
    },
    {
      "cell_type": "code",
      "metadata": {
        "id": "ts2h21ln2z7z",
        "colab": {
          "base_uri": "https://localhost:8080/",
          "height": 136
        },
        "outputId": "b6fc1b01-bcc1-4f75-d51f-0557c24bce4f"
      },
      "source": [
        "features = boston[ ['CRIM', 'RM', 'LSTAT'] ]\n",
        "target = boston['Target']\n",
        "features.head(3)"
      ],
      "execution_count": null,
      "outputs": [
        {
          "output_type": "execute_result",
          "data": {
            "text/html": [
              "<div>\n",
              "<style scoped>\n",
              "    .dataframe tbody tr th:only-of-type {\n",
              "        vertical-align: middle;\n",
              "    }\n",
              "\n",
              "    .dataframe tbody tr th {\n",
              "        vertical-align: top;\n",
              "    }\n",
              "\n",
              "    .dataframe thead th {\n",
              "        text-align: right;\n",
              "    }\n",
              "</style>\n",
              "<table border=\"1\" class=\"dataframe\">\n",
              "  <thead>\n",
              "    <tr style=\"text-align: right;\">\n",
              "      <th></th>\n",
              "      <th>CRIM</th>\n",
              "      <th>RM</th>\n",
              "      <th>LSTAT</th>\n",
              "    </tr>\n",
              "  </thead>\n",
              "  <tbody>\n",
              "    <tr>\n",
              "      <th>0</th>\n",
              "      <td>0.00632</td>\n",
              "      <td>6.575</td>\n",
              "      <td>4.98</td>\n",
              "    </tr>\n",
              "    <tr>\n",
              "      <th>1</th>\n",
              "      <td>0.02731</td>\n",
              "      <td>6.421</td>\n",
              "      <td>9.14</td>\n",
              "    </tr>\n",
              "    <tr>\n",
              "      <th>2</th>\n",
              "      <td>0.02729</td>\n",
              "      <td>7.185</td>\n",
              "      <td>4.03</td>\n",
              "    </tr>\n",
              "  </tbody>\n",
              "</table>\n",
              "</div>"
            ],
            "text/plain": [
              "      CRIM     RM  LSTAT\n",
              "0  0.00632  6.575   4.98\n",
              "1  0.02731  6.421   9.14\n",
              "2  0.02729  7.185   4.03"
            ]
          },
          "metadata": {
            "tags": []
          },
          "execution_count": 43
        }
      ]
    },
    {
      "cell_type": "markdown",
      "metadata": {
        "id": "GFNEX6N52_FS"
      },
      "source": [
        "🌀 **단순 선형회귀에서 했던 내용들을 반복해볼까요**\n",
        "\n",
        "⚡ **한.번.에.** ⚡"
      ]
    },
    {
      "cell_type": "code",
      "metadata": {
        "id": "iRpQMLed3Flo"
      },
      "source": [
        "# features 데이터셋에 상수 추가\n",
        "features_1 = sm.add_constant(features, has_constant='add')\n",
        "\n",
        "# 다중선형회귀 모델 선언!\n",
        "multi_model = sm.OLS(target, features_1)\n",
        "\n",
        "# 모델 학습시키기\n",
        "fitted_multi_model = multi_model.fit()"
      ],
      "execution_count": null,
      "outputs": []
    },
    {
      "cell_type": "markdown",
      "metadata": {
        "id": "-xijcZob4CHV"
      },
      "source": [
        "### **Step 2. 분석 결과 해석해보기**\n"
      ]
    },
    {
      "cell_type": "code",
      "metadata": {
        "id": "11Fa4j2E4E7t",
        "colab": {
          "base_uri": "https://localhost:8080/",
          "height": 466
        },
        "outputId": "62c7eafc-93cf-456b-c92a-b89b9cada89a"
      },
      "source": [
        "fitted_multi_model.summary()"
      ],
      "execution_count": null,
      "outputs": [
        {
          "output_type": "execute_result",
          "data": {
            "text/html": [
              "<table class=\"simpletable\">\n",
              "<caption>OLS Regression Results</caption>\n",
              "<tr>\n",
              "  <th>Dep. Variable:</th>         <td>Target</td>      <th>  R-squared:         </th> <td>   0.646</td> \n",
              "</tr>\n",
              "<tr>\n",
              "  <th>Model:</th>                   <td>OLS</td>       <th>  Adj. R-squared:    </th> <td>   0.644</td> \n",
              "</tr>\n",
              "<tr>\n",
              "  <th>Method:</th>             <td>Least Squares</td>  <th>  F-statistic:       </th> <td>   305.2</td> \n",
              "</tr>\n",
              "<tr>\n",
              "  <th>Date:</th>             <td>Thu, 03 Dec 2020</td> <th>  Prob (F-statistic):</th> <td>1.01e-112</td>\n",
              "</tr>\n",
              "<tr>\n",
              "  <th>Time:</th>                 <td>12:41:17</td>     <th>  Log-Likelihood:    </th> <td> -1577.6</td> \n",
              "</tr>\n",
              "<tr>\n",
              "  <th>No. Observations:</th>      <td>   506</td>      <th>  AIC:               </th> <td>   3163.</td> \n",
              "</tr>\n",
              "<tr>\n",
              "  <th>Df Residuals:</th>          <td>   502</td>      <th>  BIC:               </th> <td>   3180.</td> \n",
              "</tr>\n",
              "<tr>\n",
              "  <th>Df Model:</th>              <td>     3</td>      <th>                     </th>     <td> </td>    \n",
              "</tr>\n",
              "<tr>\n",
              "  <th>Covariance Type:</th>      <td>nonrobust</td>    <th>                     </th>     <td> </td>    \n",
              "</tr>\n",
              "</table>\n",
              "<table class=\"simpletable\">\n",
              "<tr>\n",
              "    <td></td>       <th>coef</th>     <th>std err</th>      <th>t</th>      <th>P>|t|</th>  <th>[0.025</th>    <th>0.975]</th>  \n",
              "</tr>\n",
              "<tr>\n",
              "  <th>const</th> <td>   -2.5623</td> <td>    3.166</td> <td>   -0.809</td> <td> 0.419</td> <td>   -8.783</td> <td>    3.658</td>\n",
              "</tr>\n",
              "<tr>\n",
              "  <th>CRIM</th>  <td>   -0.1029</td> <td>    0.032</td> <td>   -3.215</td> <td> 0.001</td> <td>   -0.166</td> <td>   -0.040</td>\n",
              "</tr>\n",
              "<tr>\n",
              "  <th>RM</th>    <td>    5.2170</td> <td>    0.442</td> <td>   11.802</td> <td> 0.000</td> <td>    4.348</td> <td>    6.085</td>\n",
              "</tr>\n",
              "<tr>\n",
              "  <th>LSTAT</th> <td>   -0.5785</td> <td>    0.048</td> <td>  -12.135</td> <td> 0.000</td> <td>   -0.672</td> <td>   -0.485</td>\n",
              "</tr>\n",
              "</table>\n",
              "<table class=\"simpletable\">\n",
              "<tr>\n",
              "  <th>Omnibus:</th>       <td>171.754</td> <th>  Durbin-Watson:     </th> <td>   0.822</td> \n",
              "</tr>\n",
              "<tr>\n",
              "  <th>Prob(Omnibus):</th> <td> 0.000</td>  <th>  Jarque-Bera (JB):  </th> <td> 628.308</td> \n",
              "</tr>\n",
              "<tr>\n",
              "  <th>Skew:</th>          <td> 1.535</td>  <th>  Prob(JB):          </th> <td>3.67e-137</td>\n",
              "</tr>\n",
              "<tr>\n",
              "  <th>Kurtosis:</th>      <td> 7.514</td>  <th>  Cond. No.          </th> <td>    216.</td> \n",
              "</tr>\n",
              "</table><br/><br/>Warnings:<br/>[1] Standard Errors assume that the covariance matrix of the errors is correctly specified."
            ],
            "text/plain": [
              "<class 'statsmodels.iolib.summary.Summary'>\n",
              "\"\"\"\n",
              "                            OLS Regression Results                            \n",
              "==============================================================================\n",
              "Dep. Variable:                 Target   R-squared:                       0.646\n",
              "Model:                            OLS   Adj. R-squared:                  0.644\n",
              "Method:                 Least Squares   F-statistic:                     305.2\n",
              "Date:                Thu, 03 Dec 2020   Prob (F-statistic):          1.01e-112\n",
              "Time:                        12:41:17   Log-Likelihood:                -1577.6\n",
              "No. Observations:                 506   AIC:                             3163.\n",
              "Df Residuals:                     502   BIC:                             3180.\n",
              "Df Model:                           3                                         \n",
              "Covariance Type:            nonrobust                                         \n",
              "==============================================================================\n",
              "                 coef    std err          t      P>|t|      [0.025      0.975]\n",
              "------------------------------------------------------------------------------\n",
              "const         -2.5623      3.166     -0.809      0.419      -8.783       3.658\n",
              "CRIM          -0.1029      0.032     -3.215      0.001      -0.166      -0.040\n",
              "RM             5.2170      0.442     11.802      0.000       4.348       6.085\n",
              "LSTAT         -0.5785      0.048    -12.135      0.000      -0.672      -0.485\n",
              "==============================================================================\n",
              "Omnibus:                      171.754   Durbin-Watson:                   0.822\n",
              "Prob(Omnibus):                  0.000   Jarque-Bera (JB):              628.308\n",
              "Skew:                           1.535   Prob(JB):                    3.67e-137\n",
              "Kurtosis:                       7.514   Cond. No.                         216.\n",
              "==============================================================================\n",
              "\n",
              "Warnings:\n",
              "[1] Standard Errors assume that the covariance matrix of the errors is correctly specified.\n",
              "\"\"\""
            ]
          },
          "metadata": {
            "tags": []
          },
          "execution_count": 45
        }
      ]
    },
    {
      "cell_type": "markdown",
      "metadata": {
        "id": "ao4CVPMYUZZm"
      },
      "source": [
        "🔎**결과 해석** 🔎\n",
        "\n",
        "- Features_1에 포함된 3개의 변수들은 target에 대해 약 65%정도의 설명력을 지닙니다.\n",
        "- coef는 각 독립 변수들의 변화에 따라 종속 변수(주택 가격)가 어떻게 변화하는지를 보여줍니다.\n",
        "- P value는 모두 0.05보다 작으므로, 유의미한 변수임을 알 수 있습니다.\n",
        "\n",
        "<br>\n",
        "\n",
        "⭐**회귀모델의 '변수 선택' 방법론**⭐\n",
        "\n",
        "설명 변수를 선택하는 대표적인 방법 3가지\n",
        "\n",
        "(1) 전진 선택법: 기준 통계치를 가장 많이 개선 시키는 것을 우선 Y에 하나씩 변수를 추가하면서 모형 선택\n",
        "\n",
        "(2) 후진 제거법: 전체 모형 Y에서 하나씩 변수를 제거하면서 모형 선택\n",
        "\n",
        "(3) 단계적 선택법: 통계치를 보면서 추가와 삭제를 반복 \n",
        "\n",
        "🔍 **여기서 눈여겨보아야 할 통계치란..? (변수 선택 기준!)**\n",
        "\n",
        "(1) 설명력 (R-squared) : 1에 가까울수록 모형의 설명력이 높음\n",
        "\n",
        "(2) 수정 설명력 (Adj.R-squared) : 변수의 개수가 늘어날 수록 페널티 적용\n",
        "\n",
        "(3) 아카이케 정보 기준 (AIC) : 변수가 많아질수록 페널티가 존재하며 실제로 변수를 선택하는 데 가장 중요한 판별 기준.  \n",
        "값이 작을수록 좋음\n",
        "\n",
        "(4) 베이즈 정보 기준 (BIC) : AIC와 유사하나 변수의 개수가 늘어나는 것에 많은 페널티 부과, 마찬가지로 값이 작을수록 좋음 \n",
        "\n",
        "👉 이 과정을 반복해가며 모델에 들어갈 Feature들과 그 Feature들의 상관계수를 정해나가는 것이  \n",
        "바로 **🔥데이터 사이언티스트의 역할🔥**인 것입니다.\n",
        "\n",
        "```\n",
        "# Feature를 결정해나가는 방법 관련\n",
        "다중 선형 회귀로 모든 Feature를 다 넣고 하나씩 빼는 방식도 있고, 콤비네이션(조합)을 쓰는 방식도 있는데,  \n",
        "결국 그때그때 맞는 방식으로 Feature를 선별해야 합니다...\n",
        "```\n",
        "\n",
        "\n"
      ]
    },
    {
      "cell_type": "markdown",
      "metadata": {
        "id": "AaNQ6Wcn4HIL"
      },
      "source": [
        "### **Step 3. 모델의 예측 결과 확인해보기**\n",
        "\n",
        "> `.fit()`은 학습 `.predict()`은 예측!\n"
      ]
    },
    {
      "cell_type": "code",
      "metadata": {
        "id": "Ss2MSu7G3rnX",
        "colab": {
          "base_uri": "https://localhost:8080/"
        },
        "outputId": "26949c51-456c-4f2c-9fe0-4c7b63b57b65"
      },
      "source": [
        "multi_pred = fitted_multi_model.predict(features_1)\n",
        "multi_pred"
      ],
      "execution_count": null,
      "outputs": [
        {
          "output_type": "execute_result",
          "data": {
            "text/plain": [
              "0      28.857718\n",
              "1      25.645645\n",
              "2      32.587463\n",
              "3      32.241919\n",
              "4      31.632888\n",
              "         ...    \n",
              "501    26.232728\n",
              "502    24.108202\n",
              "503    30.562312\n",
              "504    29.121871\n",
              "505    24.332638\n",
              "Length: 506, dtype: float64"
            ]
          },
          "metadata": {
            "tags": []
          },
          "execution_count": 46
        }
      ]
    },
    {
      "cell_type": "markdown",
      "metadata": {
        "id": "aQ7oG4gUU0ci"
      },
      "source": [
        "⛑ 잔차 확인해보기\n",
        "> `.resid.plot()`"
      ]
    },
    {
      "cell_type": "code",
      "metadata": {
        "id": "0bZ9cbLN32LV",
        "colab": {
          "base_uri": "https://localhost:8080/",
          "height": 280
        },
        "outputId": "773b9aad-e304-444a-8be1-56cc0cba2286"
      },
      "source": [
        "# 시각화로 잔차 확인1\n",
        "fitted_multi_model.resid.plot()\n",
        "plt.xlabel(\"residual_number\")\n",
        "plt.show()"
      ],
      "execution_count": null,
      "outputs": [
        {
          "output_type": "display_data",
          "data": {
            "image/png": "[encoded data removed]",
            "text/plain": [
              "<Figure size 432x288 with 1 Axes>"
            ]
          },
          "metadata": {
            "tags": [],
            "needs_background": "light"
          }
        }
      ]
    },
    {
      "cell_type": "code",
      "metadata": {
        "id": "pOgIWY-rS1yH",
        "colab": {
          "base_uri": "https://localhost:8080/",
          "height": 265
        },
        "outputId": "bdec0636-c840-4de4-b1eb-dd522ab8749d"
      },
      "source": [
        "# 시각화로 잔차 확인2\n",
        "std_resid = fitted_multi_model.resid_pearson\n",
        "plt.scatter(range(len(std_resid)), std_resid)\n",
        "plt.show()"
      ],
      "execution_count": null,
      "outputs": [
        {
          "output_type": "display_data",
          "data": {
            "image/png": "[encoded data removed]",
            "text/plain": [
              "<Figure size 432x288 with 1 Axes>"
            ]
          },
          "metadata": {
            "tags": [],
            "needs_background": "light"
          }
        }
      ]
    },
    {
      "cell_type": "markdown",
      "metadata": {
        "id": "ykUCL8NZU5vQ"
      },
      "source": [
        "😀 단순 선형회귀보다 크게 잔차가 줄어든 것이 보입니다!!"
      ]
    },
    {
      "cell_type": "markdown",
      "metadata": {
        "id": "kYl23w734ph9"
      },
      "source": [
        "## **📌 5. 사이킷런의 LinearRegression 모델을 사용해보자**\n",
        "\n",
        "매번 선형회귀를 만들 필요 없이, 🖥데이터 사이언티스트 🖥인 우리는  \n",
        "\n",
        "📚학자분들께서 만들어놓은 모델을 불러와 사용하면 됩니다 🍯🍯🍯"
      ]
    },
    {
      "cell_type": "markdown",
      "metadata": {
        "id": "I9rZ3iWB5D2C"
      },
      "source": [
        "### **Step 0. 모델 생성하기**\n",
        "\n",
        "모델과 필요한 패키지를 불러오고 `lr`이라는 변수에 모델을 선언해줍니다.\n",
        "\n",
        "싸이킷런에서는 `statsmodels.api` 와 달리 상수항을 추가할 필요가 없습니다."
      ]
    },
    {
      "cell_type": "code",
      "metadata": {
        "id": "2DutKGFd5UkI"
      },
      "source": [
        "from sklearn.model_selection import train_test_split\n",
        "from sklearn.linear_model import LinearRegression\n",
        "from sklearn.metrics import accuracy_score\n",
        "\n",
        "# 선형회귀모델 불러오기\n",
        "lr = LinearRegression()"
      ],
      "execution_count": null,
      "outputs": []
    },
    {
      "cell_type": "markdown",
      "metadata": {
        "id": "T5-_gKOR5crH"
      },
      "source": [
        "### **Step 1. 보스턴 데이터셋 불러오기**"
      ]
    },
    {
      "cell_type": "code",
      "metadata": {
        "id": "xPQfP0505p6J",
        "colab": {
          "base_uri": "https://localhost:8080/",
          "height": 195
        },
        "outputId": "33d8553f-3775-4a8f-9a9b-3e92a5d77ba7"
      },
      "source": [
        "# 자신의 드라이브에 저장되어 있는 데이터 셋을 불러오기\n",
        "boston_data = pd.read_csv(\"./Boston_house.csv\")\n",
        "\n",
        "# 데이터 확인하기\n",
        "boston_data.head(5)"
      ],
      "execution_count": null,
      "outputs": [
        {
          "output_type": "execute_result",
          "data": {
            "text/html": [
              "<div>\n",
              "<style scoped>\n",
              "    .dataframe tbody tr th:only-of-type {\n",
              "        vertical-align: middle;\n",
              "    }\n",
              "\n",
              "    .dataframe tbody tr th {\n",
              "        vertical-align: top;\n",
              "    }\n",
              "\n",
              "    .dataframe thead th {\n",
              "        text-align: right;\n",
              "    }\n",
              "</style>\n",
              "<table border=\"1\" class=\"dataframe\">\n",
              "  <thead>\n",
              "    <tr style=\"text-align: right;\">\n",
              "      <th></th>\n",
              "      <th>AGE</th>\n",
              "      <th>B</th>\n",
              "      <th>RM</th>\n",
              "      <th>CRIM</th>\n",
              "      <th>DIS</th>\n",
              "      <th>INDUS</th>\n",
              "      <th>LSTAT</th>\n",
              "      <th>NOX</th>\n",
              "      <th>PTRATIO</th>\n",
              "      <th>RAD</th>\n",
              "      <th>ZN</th>\n",
              "      <th>TAX</th>\n",
              "      <th>CHAS</th>\n",
              "      <th>Target</th>\n",
              "    </tr>\n",
              "  </thead>\n",
              "  <tbody>\n",
              "    <tr>\n",
              "      <th>0</th>\n",
              "      <td>65.2</td>\n",
              "      <td>396.90</td>\n",
              "      <td>6.575</td>\n",
              "      <td>0.00632</td>\n",
              "      <td>4.0900</td>\n",
              "      <td>2.31</td>\n",
              "      <td>4.98</td>\n",
              "      <td>0.538</td>\n",
              "      <td>15.3</td>\n",
              "      <td>1</td>\n",
              "      <td>18.0</td>\n",
              "      <td>296</td>\n",
              "      <td>0</td>\n",
              "      <td>24.0</td>\n",
              "    </tr>\n",
              "    <tr>\n",
              "      <th>1</th>\n",
              "      <td>78.9</td>\n",
              "      <td>396.90</td>\n",
              "      <td>6.421</td>\n",
              "      <td>0.02731</td>\n",
              "      <td>4.9671</td>\n",
              "      <td>7.07</td>\n",
              "      <td>9.14</td>\n",
              "      <td>0.469</td>\n",
              "      <td>17.8</td>\n",
              "      <td>2</td>\n",
              "      <td>0.0</td>\n",
              "      <td>242</td>\n",
              "      <td>0</td>\n",
              "      <td>21.6</td>\n",
              "    </tr>\n",
              "    <tr>\n",
              "      <th>2</th>\n",
              "      <td>61.1</td>\n",
              "      <td>392.83</td>\n",
              "      <td>7.185</td>\n",
              "      <td>0.02729</td>\n",
              "      <td>4.9671</td>\n",
              "      <td>7.07</td>\n",
              "      <td>4.03</td>\n",
              "      <td>0.469</td>\n",
              "      <td>17.8</td>\n",
              "      <td>2</td>\n",
              "      <td>0.0</td>\n",
              "      <td>242</td>\n",
              "      <td>0</td>\n",
              "      <td>34.7</td>\n",
              "    </tr>\n",
              "    <tr>\n",
              "      <th>3</th>\n",
              "      <td>45.8</td>\n",
              "      <td>394.63</td>\n",
              "      <td>6.998</td>\n",
              "      <td>0.03237</td>\n",
              "      <td>6.0622</td>\n",
              "      <td>2.18</td>\n",
              "      <td>2.94</td>\n",
              "      <td>0.458</td>\n",
              "      <td>18.7</td>\n",
              "      <td>3</td>\n",
              "      <td>0.0</td>\n",
              "      <td>222</td>\n",
              "      <td>0</td>\n",
              "      <td>33.4</td>\n",
              "    </tr>\n",
              "    <tr>\n",
              "      <th>4</th>\n",
              "      <td>54.2</td>\n",
              "      <td>396.90</td>\n",
              "      <td>7.147</td>\n",
              "      <td>0.06905</td>\n",
              "      <td>6.0622</td>\n",
              "      <td>2.18</td>\n",
              "      <td>5.33</td>\n",
              "      <td>0.458</td>\n",
              "      <td>18.7</td>\n",
              "      <td>3</td>\n",
              "      <td>0.0</td>\n",
              "      <td>222</td>\n",
              "      <td>0</td>\n",
              "      <td>36.2</td>\n",
              "    </tr>\n",
              "  </tbody>\n",
              "</table>\n",
              "</div>"
            ],
            "text/plain": [
              "    AGE       B     RM     CRIM     DIS  ...  RAD    ZN  TAX  CHAS  Target\n",
              "0  65.2  396.90  6.575  0.00632  4.0900  ...    1  18.0  296     0    24.0\n",
              "1  78.9  396.90  6.421  0.02731  4.9671  ...    2   0.0  242     0    21.6\n",
              "2  61.1  392.83  7.185  0.02729  4.9671  ...    2   0.0  242     0    34.7\n",
              "3  45.8  394.63  6.998  0.03237  6.0622  ...    3   0.0  222     0    33.4\n",
              "4  54.2  396.90  7.147  0.06905  6.0622  ...    3   0.0  222     0    36.2\n",
              "\n",
              "[5 rows x 14 columns]"
            ]
          },
          "metadata": {
            "tags": []
          },
          "execution_count": 50
        }
      ]
    },
    {
      "cell_type": "markdown",
      "metadata": {
        "id": "jN52_ySz520V"
      },
      "source": [
        "### **훈련 데이터와 테스트 데이터로 나누기**\n",
        "\n",
        "지금까지 훈련한 방식 그대로 나눠줍니다. 😻 슬슬 익숙해지시나요?\n",
        "\n",
        " - `train_test_split(arrays, test_size, train_size, random_state, shuffle, stratify)`의 인자(parameter)\n",
        "```\n",
        "arrays : 분할시킬 데이터를 입력 (Python list, Numpy array, Pandas dataframe 등..)\n",
        "test_size : 테스트 데이터셋의 비율(float)이나 갯수(int) (default = 0.25)\n",
        "train_size : 학습 데이터셋의 비율(float)이나 갯수(int) (default = test_size의 나머지)\n",
        "random_state : 데이터 분할시 셔플이 이루어지는데 이를 기억하기 위한 임의의 시드값 (int나 RandomState로 입력)\n",
        "shuffle : 셔플여부설정 (default = True)\n",
        "stratify : 지정한 Data의 비율을 유지한다. 예를 들어, Label Set인 Y가 25%의 0과 75%의 1로 이루어진 Binary Set일 때,\n",
        "            stratify=Y로 설정하면 나누어진 데이터셋들도 0과 1을 각각 25%, 75%로 유지한 채 분할된다.\n",
        "```\n",
        "\n",
        "**🌱 시드값이란??**\n",
        "\n",
        "Random한 결과를 내는 상황에서 컴퓨터는 기본적으로 'Seed'라 부르는 특정한 시작 숫자를 지정합니다 \n",
        "\n",
        "(Random으로 보이지만 실제로 Random이 아닌 것이죠. Random한 결과를 내는 것마저도 Seed값을 중심으로 \n",
        "\n",
        "정해져 있는 규칙이라 볼 수 있습니다). \n",
        "\n",
        "현재 우리는 학습 시행마다 다른 결과값을 받게 될 것입니다.\n",
        "\n",
        "ex) 1회차와 2회차 3회차... n회차 모두 미세하지만 다른\n",
        "학습의 결과를 보이죠.\n",
        "\n",
        "특정한 n회차에서 정말 좋은 결과가 나온다면? \n",
        "\n",
        "Random한 학습 상황에서도 해당 Seed 상태의 상황을 그대로 다시 가져올 수 있기에 시드값을 사용합니다.\n",
        "\n",
        "`random_sate`은 **①모델을 만들 때 ②훈련/테스트 데이터 분리할 때**, 이렇게 두가지 경우에 사용합니다.\n",
        " \n",
        "①의 경우 학습할 때마다 모델이 미세 조정되고, ②의 경우 데이터셋을 무작위로 섞어서 분리하기 때문에 **시드값**이 필요합니다.\n",
        "\n",
        "`random_state` = 1이라고 정의하는 경우, 시드값을 1로하는 무작위로 복원 추출된 데이터의 학습 결과와 그에 따라 결정된 변수들을 담아둡니다.\n"
      ]
    },
    {
      "cell_type": "code",
      "metadata": {
        "colab": {
          "base_uri": "https://localhost:8080/"
        },
        "id": "tlefzIpxqiBM",
        "outputId": "4765369a-0654-4c55-c33a-12f4b92c6e05"
      },
      "source": [
        "feature_data = boston.drop(\"Target\", axis=1)\n",
        "taeget_data = boston['Target']\n",
        "taeget_data"
      ],
      "execution_count": null,
      "outputs": [
        {
          "output_type": "execute_result",
          "data": {
            "text/plain": [
              "0      24.0\n",
              "1      21.6\n",
              "2      34.7\n",
              "3      33.4\n",
              "4      36.2\n",
              "       ... \n",
              "501    22.4\n",
              "502    20.6\n",
              "503    23.9\n",
              "504    22.0\n",
              "505    11.9\n",
              "Name: Target, Length: 506, dtype: float64"
            ]
          },
          "metadata": {
            "tags": []
          },
          "execution_count": 55
        }
      ]
    },
    {
      "cell_type": "code",
      "metadata": {
        "id": "ZM4-Uj1RmxCv"
      },
      "source": [
        "# Feature, 독립 변수로 나누기\n",
        "feature_data = boston.iloc[:,:-1]    \n",
        "feature_names = boston.columns[:-1]   \n",
        "\n",
        "# Target, 종속 변수로 나누기\n",
        "target_data = boston.iloc[:,-1]\n",
        "target_names = boston.columns[-1]\n",
        "\n",
        "# 훈련 데이터와 실험 데이터의 분할(3:7로)\n",
        "X_train, X_test, y_train, y_test = \\\n",
        "train_test_split(feature_data, target_data, test_size = 0.3, random_state = 1)"
      ],
      "execution_count": null,
      "outputs": []
    },
    {
      "cell_type": "markdown",
      "metadata": {
        "id": "GpeDo_RkRx3V"
      },
      "source": [
        "> 당연히 아직도 헷갈릴 수 있습니다. 그럴땐!!\n",
        "- `feature_data`\n",
        "- `feature_names`\n",
        "- `target_data`\n",
        "- `target_names`\n",
        "\n",
        "를 차례로 실행해보세요!! 코딩은 그렇게 하는 것입니다 🔥🔥"
      ]
    },
    {
      "cell_type": "code",
      "metadata": {
        "id": "t_oaf6rdq96-",
        "colab": {
          "base_uri": "https://localhost:8080/",
          "height": 402
        },
        "outputId": "7a1530e7-fe80-4e8b-f5de-1f9cdec8b12c"
      },
      "source": [
        "feature_data"
      ],
      "execution_count": null,
      "outputs": [
        {
          "output_type": "execute_result",
          "data": {
            "text/html": [
              "<div>\n",
              "<style scoped>\n",
              "    .dataframe tbody tr th:only-of-type {\n",
              "        vertical-align: middle;\n",
              "    }\n",
              "\n",
              "    .dataframe tbody tr th {\n",
              "        vertical-align: top;\n",
              "    }\n",
              "\n",
              "    .dataframe thead th {\n",
              "        text-align: right;\n",
              "    }\n",
              "</style>\n",
              "<table border=\"1\" class=\"dataframe\">\n",
              "  <thead>\n",
              "    <tr style=\"text-align: right;\">\n",
              "      <th></th>\n",
              "      <th>AGE</th>\n",
              "      <th>B</th>\n",
              "      <th>RM</th>\n",
              "      <th>CRIM</th>\n",
              "      <th>DIS</th>\n",
              "      <th>INDUS</th>\n",
              "      <th>LSTAT</th>\n",
              "      <th>NOX</th>\n",
              "      <th>PTRATIO</th>\n",
              "      <th>RAD</th>\n",
              "      <th>ZN</th>\n",
              "      <th>TAX</th>\n",
              "      <th>CHAS</th>\n",
              "    </tr>\n",
              "  </thead>\n",
              "  <tbody>\n",
              "    <tr>\n",
              "      <th>0</th>\n",
              "      <td>65.2</td>\n",
              "      <td>396.90</td>\n",
              "      <td>6.575</td>\n",
              "      <td>0.00632</td>\n",
              "      <td>4.0900</td>\n",
              "      <td>2.31</td>\n",
              "      <td>4.98</td>\n",
              "      <td>0.538</td>\n",
              "      <td>15.3</td>\n",
              "      <td>1</td>\n",
              "      <td>18.0</td>\n",
              "      <td>296</td>\n",
              "      <td>0</td>\n",
              "    </tr>\n",
              "    <tr>\n",
              "      <th>1</th>\n",
              "      <td>78.9</td>\n",
              "      <td>396.90</td>\n",
              "      <td>6.421</td>\n",
              "      <td>0.02731</td>\n",
              "      <td>4.9671</td>\n",
              "      <td>7.07</td>\n",
              "      <td>9.14</td>\n",
              "      <td>0.469</td>\n",
              "      <td>17.8</td>\n",
              "      <td>2</td>\n",
              "      <td>0.0</td>\n",
              "      <td>242</td>\n",
              "      <td>0</td>\n",
              "    </tr>\n",
              "    <tr>\n",
              "      <th>2</th>\n",
              "      <td>61.1</td>\n",
              "      <td>392.83</td>\n",
              "      <td>7.185</td>\n",
              "      <td>0.02729</td>\n",
              "      <td>4.9671</td>\n",
              "      <td>7.07</td>\n",
              "      <td>4.03</td>\n",
              "      <td>0.469</td>\n",
              "      <td>17.8</td>\n",
              "      <td>2</td>\n",
              "      <td>0.0</td>\n",
              "      <td>242</td>\n",
              "      <td>0</td>\n",
              "    </tr>\n",
              "    <tr>\n",
              "      <th>3</th>\n",
              "      <td>45.8</td>\n",
              "      <td>394.63</td>\n",
              "      <td>6.998</td>\n",
              "      <td>0.03237</td>\n",
              "      <td>6.0622</td>\n",
              "      <td>2.18</td>\n",
              "      <td>2.94</td>\n",
              "      <td>0.458</td>\n",
              "      <td>18.7</td>\n",
              "      <td>3</td>\n",
              "      <td>0.0</td>\n",
              "      <td>222</td>\n",
              "      <td>0</td>\n",
              "    </tr>\n",
              "    <tr>\n",
              "      <th>4</th>\n",
              "      <td>54.2</td>\n",
              "      <td>396.90</td>\n",
              "      <td>7.147</td>\n",
              "      <td>0.06905</td>\n",
              "      <td>6.0622</td>\n",
              "      <td>2.18</td>\n",
              "      <td>5.33</td>\n",
              "      <td>0.458</td>\n",
              "      <td>18.7</td>\n",
              "      <td>3</td>\n",
              "      <td>0.0</td>\n",
              "      <td>222</td>\n",
              "      <td>0</td>\n",
              "    </tr>\n",
              "    <tr>\n",
              "      <th>...</th>\n",
              "      <td>...</td>\n",
              "      <td>...</td>\n",
              "      <td>...</td>\n",
              "      <td>...</td>\n",
              "      <td>...</td>\n",
              "      <td>...</td>\n",
              "      <td>...</td>\n",
              "      <td>...</td>\n",
              "      <td>...</td>\n",
              "      <td>...</td>\n",
              "      <td>...</td>\n",
              "      <td>...</td>\n",
              "      <td>...</td>\n",
              "    </tr>\n",
              "    <tr>\n",
              "      <th>501</th>\n",
              "      <td>69.1</td>\n",
              "      <td>391.99</td>\n",
              "      <td>6.593</td>\n",
              "      <td>0.06263</td>\n",
              "      <td>2.4786</td>\n",
              "      <td>11.93</td>\n",
              "      <td>9.67</td>\n",
              "      <td>0.573</td>\n",
              "      <td>21.0</td>\n",
              "      <td>1</td>\n",
              "      <td>0.0</td>\n",
              "      <td>273</td>\n",
              "      <td>0</td>\n",
              "    </tr>\n",
              "    <tr>\n",
              "      <th>502</th>\n",
              "      <td>76.7</td>\n",
              "      <td>396.90</td>\n",
              "      <td>6.120</td>\n",
              "      <td>0.04527</td>\n",
              "      <td>2.2875</td>\n",
              "      <td>11.93</td>\n",
              "      <td>9.08</td>\n",
              "      <td>0.573</td>\n",
              "      <td>21.0</td>\n",
              "      <td>1</td>\n",
              "      <td>0.0</td>\n",
              "      <td>273</td>\n",
              "      <td>0</td>\n",
              "    </tr>\n",
              "    <tr>\n",
              "      <th>503</th>\n",
              "      <td>91.0</td>\n",
              "      <td>396.90</td>\n",
              "      <td>6.976</td>\n",
              "      <td>0.06076</td>\n",
              "      <td>2.1675</td>\n",
              "      <td>11.93</td>\n",
              "      <td>5.64</td>\n",
              "      <td>0.573</td>\n",
              "      <td>21.0</td>\n",
              "      <td>1</td>\n",
              "      <td>0.0</td>\n",
              "      <td>273</td>\n",
              "      <td>0</td>\n",
              "    </tr>\n",
              "    <tr>\n",
              "      <th>504</th>\n",
              "      <td>89.3</td>\n",
              "      <td>393.45</td>\n",
              "      <td>6.794</td>\n",
              "      <td>0.10959</td>\n",
              "      <td>2.3889</td>\n",
              "      <td>11.93</td>\n",
              "      <td>6.48</td>\n",
              "      <td>0.573</td>\n",
              "      <td>21.0</td>\n",
              "      <td>1</td>\n",
              "      <td>0.0</td>\n",
              "      <td>273</td>\n",
              "      <td>0</td>\n",
              "    </tr>\n",
              "    <tr>\n",
              "      <th>505</th>\n",
              "      <td>80.8</td>\n",
              "      <td>396.90</td>\n",
              "      <td>6.030</td>\n",
              "      <td>0.04741</td>\n",
              "      <td>2.5050</td>\n",
              "      <td>11.93</td>\n",
              "      <td>7.88</td>\n",
              "      <td>0.573</td>\n",
              "      <td>21.0</td>\n",
              "      <td>1</td>\n",
              "      <td>0.0</td>\n",
              "      <td>273</td>\n",
              "      <td>0</td>\n",
              "    </tr>\n",
              "  </tbody>\n",
              "</table>\n",
              "<p>506 rows × 13 columns</p>\n",
              "</div>"
            ],
            "text/plain": [
              "      AGE       B     RM     CRIM     DIS  ...  PTRATIO  RAD    ZN  TAX  CHAS\n",
              "0    65.2  396.90  6.575  0.00632  4.0900  ...     15.3    1  18.0  296     0\n",
              "1    78.9  396.90  6.421  0.02731  4.9671  ...     17.8    2   0.0  242     0\n",
              "2    61.1  392.83  7.185  0.02729  4.9671  ...     17.8    2   0.0  242     0\n",
              "3    45.8  394.63  6.998  0.03237  6.0622  ...     18.7    3   0.0  222     0\n",
              "4    54.2  396.90  7.147  0.06905  6.0622  ...     18.7    3   0.0  222     0\n",
              "..    ...     ...    ...      ...     ...  ...      ...  ...   ...  ...   ...\n",
              "501  69.1  391.99  6.593  0.06263  2.4786  ...     21.0    1   0.0  273     0\n",
              "502  76.7  396.90  6.120  0.04527  2.2875  ...     21.0    1   0.0  273     0\n",
              "503  91.0  396.90  6.976  0.06076  2.1675  ...     21.0    1   0.0  273     0\n",
              "504  89.3  393.45  6.794  0.10959  2.3889  ...     21.0    1   0.0  273     0\n",
              "505  80.8  396.90  6.030  0.04741  2.5050  ...     21.0    1   0.0  273     0\n",
              "\n",
              "[506 rows x 13 columns]"
            ]
          },
          "metadata": {
            "tags": []
          },
          "execution_count": 57
        }
      ]
    },
    {
      "cell_type": "code",
      "metadata": {
        "id": "VXtcxhlorAtc",
        "colab": {
          "base_uri": "https://localhost:8080/",
          "height": 402
        },
        "outputId": "296d0dad-d5d8-4687-aa97-a62dc699216d"
      },
      "source": [
        "X_train"
      ],
      "execution_count": null,
      "outputs": [
        {
          "output_type": "execute_result",
          "data": {
            "text/html": [
              "<div>\n",
              "<style scoped>\n",
              "    .dataframe tbody tr th:only-of-type {\n",
              "        vertical-align: middle;\n",
              "    }\n",
              "\n",
              "    .dataframe tbody tr th {\n",
              "        vertical-align: top;\n",
              "    }\n",
              "\n",
              "    .dataframe thead th {\n",
              "        text-align: right;\n",
              "    }\n",
              "</style>\n",
              "<table border=\"1\" class=\"dataframe\">\n",
              "  <thead>\n",
              "    <tr style=\"text-align: right;\">\n",
              "      <th></th>\n",
              "      <th>AGE</th>\n",
              "      <th>B</th>\n",
              "      <th>RM</th>\n",
              "      <th>CRIM</th>\n",
              "      <th>DIS</th>\n",
              "      <th>INDUS</th>\n",
              "      <th>LSTAT</th>\n",
              "      <th>NOX</th>\n",
              "      <th>PTRATIO</th>\n",
              "      <th>RAD</th>\n",
              "      <th>ZN</th>\n",
              "      <th>TAX</th>\n",
              "      <th>CHAS</th>\n",
              "    </tr>\n",
              "  </thead>\n",
              "  <tbody>\n",
              "    <tr>\n",
              "      <th>13</th>\n",
              "      <td>61.8</td>\n",
              "      <td>396.90</td>\n",
              "      <td>5.949</td>\n",
              "      <td>0.62976</td>\n",
              "      <td>4.7075</td>\n",
              "      <td>8.14</td>\n",
              "      <td>8.26</td>\n",
              "      <td>0.538</td>\n",
              "      <td>21.0</td>\n",
              "      <td>4</td>\n",
              "      <td>0.0</td>\n",
              "      <td>307</td>\n",
              "      <td>0</td>\n",
              "    </tr>\n",
              "    <tr>\n",
              "      <th>61</th>\n",
              "      <td>93.4</td>\n",
              "      <td>378.08</td>\n",
              "      <td>5.966</td>\n",
              "      <td>0.17171</td>\n",
              "      <td>6.8185</td>\n",
              "      <td>5.13</td>\n",
              "      <td>14.44</td>\n",
              "      <td>0.453</td>\n",
              "      <td>19.7</td>\n",
              "      <td>8</td>\n",
              "      <td>25.0</td>\n",
              "      <td>284</td>\n",
              "      <td>0</td>\n",
              "    </tr>\n",
              "    <tr>\n",
              "      <th>377</th>\n",
              "      <td>98.8</td>\n",
              "      <td>396.90</td>\n",
              "      <td>6.794</td>\n",
              "      <td>9.82349</td>\n",
              "      <td>1.3580</td>\n",
              "      <td>18.10</td>\n",
              "      <td>21.24</td>\n",
              "      <td>0.671</td>\n",
              "      <td>20.2</td>\n",
              "      <td>24</td>\n",
              "      <td>0.0</td>\n",
              "      <td>666</td>\n",
              "      <td>0</td>\n",
              "    </tr>\n",
              "    <tr>\n",
              "      <th>39</th>\n",
              "      <td>21.8</td>\n",
              "      <td>395.63</td>\n",
              "      <td>6.595</td>\n",
              "      <td>0.02763</td>\n",
              "      <td>5.4011</td>\n",
              "      <td>2.95</td>\n",
              "      <td>4.32</td>\n",
              "      <td>0.428</td>\n",
              "      <td>18.3</td>\n",
              "      <td>3</td>\n",
              "      <td>75.0</td>\n",
              "      <td>252</td>\n",
              "      <td>0</td>\n",
              "    </tr>\n",
              "    <tr>\n",
              "      <th>365</th>\n",
              "      <td>87.9</td>\n",
              "      <td>354.70</td>\n",
              "      <td>3.561</td>\n",
              "      <td>4.55587</td>\n",
              "      <td>1.6132</td>\n",
              "      <td>18.10</td>\n",
              "      <td>7.12</td>\n",
              "      <td>0.718</td>\n",
              "      <td>20.2</td>\n",
              "      <td>24</td>\n",
              "      <td>0.0</td>\n",
              "      <td>666</td>\n",
              "      <td>0</td>\n",
              "    </tr>\n",
              "    <tr>\n",
              "      <th>...</th>\n",
              "      <td>...</td>\n",
              "      <td>...</td>\n",
              "      <td>...</td>\n",
              "      <td>...</td>\n",
              "      <td>...</td>\n",
              "      <td>...</td>\n",
              "      <td>...</td>\n",
              "      <td>...</td>\n",
              "      <td>...</td>\n",
              "      <td>...</td>\n",
              "      <td>...</td>\n",
              "      <td>...</td>\n",
              "      <td>...</td>\n",
              "    </tr>\n",
              "    <tr>\n",
              "      <th>255</th>\n",
              "      <td>19.1</td>\n",
              "      <td>395.18</td>\n",
              "      <td>5.876</td>\n",
              "      <td>0.03548</td>\n",
              "      <td>9.2203</td>\n",
              "      <td>3.64</td>\n",
              "      <td>9.25</td>\n",
              "      <td>0.392</td>\n",
              "      <td>16.4</td>\n",
              "      <td>1</td>\n",
              "      <td>80.0</td>\n",
              "      <td>315</td>\n",
              "      <td>0</td>\n",
              "    </tr>\n",
              "    <tr>\n",
              "      <th>72</th>\n",
              "      <td>7.8</td>\n",
              "      <td>390.91</td>\n",
              "      <td>6.065</td>\n",
              "      <td>0.09164</td>\n",
              "      <td>5.2873</td>\n",
              "      <td>10.81</td>\n",
              "      <td>5.52</td>\n",
              "      <td>0.413</td>\n",
              "      <td>19.2</td>\n",
              "      <td>4</td>\n",
              "      <td>0.0</td>\n",
              "      <td>305</td>\n",
              "      <td>0</td>\n",
              "    </tr>\n",
              "    <tr>\n",
              "      <th>396</th>\n",
              "      <td>96.0</td>\n",
              "      <td>396.90</td>\n",
              "      <td>6.405</td>\n",
              "      <td>5.87205</td>\n",
              "      <td>1.6768</td>\n",
              "      <td>18.10</td>\n",
              "      <td>19.37</td>\n",
              "      <td>0.693</td>\n",
              "      <td>20.2</td>\n",
              "      <td>24</td>\n",
              "      <td>0.0</td>\n",
              "      <td>666</td>\n",
              "      <td>0</td>\n",
              "    </tr>\n",
              "    <tr>\n",
              "      <th>235</th>\n",
              "      <td>61.5</td>\n",
              "      <td>376.75</td>\n",
              "      <td>6.086</td>\n",
              "      <td>0.33045</td>\n",
              "      <td>3.6519</td>\n",
              "      <td>6.20</td>\n",
              "      <td>10.88</td>\n",
              "      <td>0.507</td>\n",
              "      <td>17.4</td>\n",
              "      <td>8</td>\n",
              "      <td>0.0</td>\n",
              "      <td>307</td>\n",
              "      <td>0</td>\n",
              "    </tr>\n",
              "    <tr>\n",
              "      <th>37</th>\n",
              "      <td>41.5</td>\n",
              "      <td>396.90</td>\n",
              "      <td>5.850</td>\n",
              "      <td>0.08014</td>\n",
              "      <td>3.9342</td>\n",
              "      <td>5.96</td>\n",
              "      <td>8.77</td>\n",
              "      <td>0.499</td>\n",
              "      <td>19.2</td>\n",
              "      <td>5</td>\n",
              "      <td>0.0</td>\n",
              "      <td>279</td>\n",
              "      <td>0</td>\n",
              "    </tr>\n",
              "  </tbody>\n",
              "</table>\n",
              "<p>354 rows × 13 columns</p>\n",
              "</div>"
            ],
            "text/plain": [
              "      AGE       B     RM     CRIM     DIS  ...  PTRATIO  RAD    ZN  TAX  CHAS\n",
              "13   61.8  396.90  5.949  0.62976  4.7075  ...     21.0    4   0.0  307     0\n",
              "61   93.4  378.08  5.966  0.17171  6.8185  ...     19.7    8  25.0  284     0\n",
              "377  98.8  396.90  6.794  9.82349  1.3580  ...     20.2   24   0.0  666     0\n",
              "39   21.8  395.63  6.595  0.02763  5.4011  ...     18.3    3  75.0  252     0\n",
              "365  87.9  354.70  3.561  4.55587  1.6132  ...     20.2   24   0.0  666     0\n",
              "..    ...     ...    ...      ...     ...  ...      ...  ...   ...  ...   ...\n",
              "255  19.1  395.18  5.876  0.03548  9.2203  ...     16.4    1  80.0  315     0\n",
              "72    7.8  390.91  6.065  0.09164  5.2873  ...     19.2    4   0.0  305     0\n",
              "396  96.0  396.90  6.405  5.87205  1.6768  ...     20.2   24   0.0  666     0\n",
              "235  61.5  376.75  6.086  0.33045  3.6519  ...     17.4    8   0.0  307     0\n",
              "37   41.5  396.90  5.850  0.08014  3.9342  ...     19.2    5   0.0  279     0\n",
              "\n",
              "[354 rows x 13 columns]"
            ]
          },
          "metadata": {
            "tags": []
          },
          "execution_count": 53
        }
      ]
    },
    {
      "cell_type": "markdown",
      "metadata": {
        "id": "MZSrlE0Z6fV5"
      },
      "source": [
        "### **Step 2. 모델 학습하기**\n",
        "\n",
        "기억해주세요! \n",
        "- `.fit(X_train, y_train)`은 학습 📝 \n",
        "- `.predict(new_X)`는 만든 모델로 예측 🔍"
      ]
    },
    {
      "cell_type": "code",
      "metadata": {
        "id": "LX-unxRw6K6j",
        "colab": {
          "base_uri": "https://localhost:8080/"
        },
        "outputId": "346bb9b4-514f-44c3-a755-5b57ea61e60b"
      },
      "source": [
        "lr.fit(X_train, y_train)\n",
        "y_preds = lr.predict(X_test)\n",
        "y_preds"
      ],
      "execution_count": null,
      "outputs": [
        {
          "output_type": "execute_result",
          "data": {
            "text/plain": [
              "array([32.3914647 , 27.94401279, 17.83762764, 21.66941388, 18.93639614,\n",
              "       20.01995795, 32.63414961, 17.86179976, 24.73211676, 26.77346826,\n",
              "       27.26138023, 28.63243014, 21.16103038, 27.15098589, 23.33198614,\n",
              "       21.02894005, 17.11819755, 37.52455938, 30.69864427,  8.46104486,\n",
              "       20.83966032, 16.26732451, 25.05030307, 24.8069032 , 31.6789299 ,\n",
              "       10.98989363, 13.54111562, 16.54697099, 35.86699683, 14.69589266,\n",
              "       21.05655107, 13.90301353, 43.01321262, 17.80335305, 21.68817023,\n",
              "       20.45077825, 17.38095983, 26.81334904, 10.08706217, 19.96174586,\n",
              "       24.1983249 , 21.00202622, 29.38682967, 16.33215467, 19.37439646,\n",
              "       14.45525235, 39.52670798, 18.18535021, 26.38536303, 20.41420863,\n",
              "       25.08511581, 24.40208165, 24.87902769, 26.97887956,  4.93921657,\n",
              "       24.0001365 , 10.66711602, 26.98494775, 16.63507993, 35.31652989,\n",
              "       19.49249915, 27.37577863, 16.53965715, 19.09746715, 11.06765336,\n",
              "       32.03445261, 36.15847648, 21.53547868, 24.96434626, 25.50601154,\n",
              "       23.41203509,  7.20513615, 16.8659937 , 20.06269471, 20.61979368,\n",
              "       21.97238475, 34.25908683, 27.9998298 , 24.95261644, 34.74201458,\n",
              "       18.63786454, 23.95355085, 34.50655345, 13.15979729, 20.53691051,\n",
              "       30.29844955, 16.932953  , 24.29285934, 19.11800155, 16.9848188 ,\n",
              "       26.80165303, 40.90027245, 14.43790215, 23.20589688, 15.39439519,\n",
              "       21.77332361, 22.85660249, 29.45718412, 36.54373379, 20.36577747,\n",
              "       18.01790611, 17.41615519, 25.23381893, 21.98069747,  8.3160445 ,\n",
              "       21.49942727, 16.565317  , 33.22680671, 24.39944797, 24.99055027,\n",
              "       38.37532568, 28.82033178, 14.76287071, 34.72063358, 35.40686066,\n",
              "       32.93299015, 20.95996646, 16.74324182, 34.54769634, 38.9463732 ,\n",
              "       21.47971843, 15.54203787, 27.46719043, 18.62729405, 27.3819011 ,\n",
              "       21.13549164, 26.24403323, 22.22010257, 23.34295812, 28.29923408,\n",
              "       20.53788412, 23.94639233, 29.8421088 , 10.55075792, 27.02280253,\n",
              "       32.41641579, 13.94180705, 13.62057726, 33.00870341, 14.2836798 ,\n",
              "       17.70899424, 16.30194776, 17.14377392, 28.71467061, 34.07548297,\n",
              "       20.31288796, 24.55801246, 17.32995936, 28.3602341 , 20.79422791,\n",
              "       33.6981572 , 13.51882716])"
            ]
          },
          "metadata": {
            "tags": []
          },
          "execution_count": 60
        }
      ]
    },
    {
      "cell_type": "markdown",
      "metadata": {
        "id": "dYRQrIMqjVb1"
      },
      "source": [
        "### **Step 3. 모델 평가하기**\n",
        "\n",
        "#### **🌞회귀의 평가지표 🌞**\n",
        "\n",
        "앞에서 이야기 했듯이, 회귀의 평가지표로는 실제 값과 예측 값인 잔차를 주로 사용합니다.\n",
        "\n",
        "특히, 잔차의 경우 절대값 평균, 제곱 또는 제곱 후 다시 루트를 씌운 평균값을 사용합니다.\n",
        "\n",
        "#### **🌞평가지표 종류 🌞**\n",
        "\n",
        "* MAE(Mean Absolute Error): 실제 값과 예측값의 차이를 절대값으로 변환해 평균한 것.\n",
        "\n",
        "* MSE(Mean Squared Error): 실제 값과 예측값의 차이를 제곱해 평균한 것.\n",
        "\n",
        "* RMSE(Root Mean Squared Error): MSE에 루트를 씌워 값이 지나치게 커지는 것을 하고, 단위를 맞춰주는 것을 목표로 함.\n",
        "> - 이외에도.. MSLE, RMSLE 등의 로그를 사용해 값을 낮춘 평균을 사용하기도 함.  \n",
        "> - **Error가 들어가는 지표는 작을 수록 모델의 성능이 높은 것.**\n",
        "> - MSE에서는 단위가 m인 길이를 예측하는 회귀모형에서 MSE는 m제곱으로 계산되지만 RMSE는 m으로 계산됩니다.\n",
        "\n",
        "* R^2, 분산을 기반으로 예측 성능을 평가. 실제 값의 분산 대비 예측 값의 분산 비율을 지표로 하여,  \n",
        "\n",
        "**1에 가까울 수록 예측 정확도가 높다**고 볼 수 있음. \n",
        "\n"
      ]
    },
    {
      "cell_type": "code",
      "metadata": {
        "id": "rUSrOu2KrhOv",
        "colab": {
          "base_uri": "https://localhost:8080/"
        },
        "outputId": "ecc47fa9-fa41-45ca-b5b1-78c28d2060d3"
      },
      "source": [
        "# real mse\n",
        "print('MSE:' , ((y_preds - y_test)**2).mean())\n",
        "print('RMSE' , np.sqrt((y_preds - y_test)**2).mean())"
      ],
      "execution_count": null,
      "outputs": [
        {
          "output_type": "stream",
          "text": [
            "MSE: 19.83132367206318\n",
            "RMSE 3.344665503598753\n"
          ],
          "name": "stdout"
        }
      ]
    },
    {
      "cell_type": "code",
      "metadata": {
        "id": "g_nX6-Cqipi8"
      },
      "source": [
        "from sklearn.metrics import mean_squared_error, r2_score    # 사이킷런에 있는 평가 지표 함수들\n",
        "\n",
        "# MSE 방식으로 평가\n",
        "mse = mean_squared_error(y_test, y_preds)\n",
        "# RSME 방식으로 평가2\n",
        "rmse = np.sqrt(mse)"
      ],
      "execution_count": null,
      "outputs": []
    },
    {
      "cell_type": "code",
      "metadata": {
        "id": "nui-BzsArzeK",
        "colab": {
          "base_uri": "https://localhost:8080/"
        },
        "outputId": "7f318fba-35e5-4009-eb8d-0469506eece1"
      },
      "source": [
        "print('MSE : {0:.3f} , RMSE : {1:.3F}'.format(mse, rmse)) # 문자열 포맷팅"
      ],
      "execution_count": null,
      "outputs": [
        {
          "output_type": "stream",
          "text": [
            "MSE : 19.831 , RMSE : 4.453\n"
          ],
          "name": "stdout"
        }
      ]
    },
    {
      "cell_type": "code",
      "metadata": {
        "id": "9uslA7Rhr4fW",
        "colab": {
          "base_uri": "https://localhost:8080/"
        },
        "outputId": "c8fe530d-926a-4fa2-808e-8f7261f64c54"
      },
      "source": [
        "# R^2의 분산 지표를 통해, 모델의 예측 정확도 평가\n",
        "print('Variance score : {0:.3f}'.format(r2_score(y_test, y_preds)))"
      ],
      "execution_count": null,
      "outputs": [
        {
          "output_type": "stream",
          "text": [
            "Variance score : 0.784\n"
          ],
          "name": "stdout"
        }
      ]
    },
    {
      "cell_type": "code",
      "metadata": {
        "id": "3ZhvPIKisbOt",
        "colab": {
          "base_uri": "https://localhost:8080/",
          "height": 260
        },
        "outputId": "388dca6f-b154-43b4-86db-d64cf6976b46"
      },
      "source": [
        "plt.matshow(boston.iloc[:,:-1].corr())\n",
        "# plt.matshow(df.corr(), fignum=f.number)\n",
        "# plt.xticks(range(df.shape[1]), df.columns, fontsize=14, rotation=45)\n",
        "# plt.yticks(range(df.shape[1]), df.columns, fontsize=14)\n",
        "cb = plt.colorbar()\n",
        "cb.ax.tick_params(labelsize=14)\n",
        "plt.show()"
      ],
      "execution_count": null,
      "outputs": [
        {
          "output_type": "display_data",
          "data": {
            "image/png": "[encoded data removed]",
            "text/plain": [
              "<Figure size 288x288 with 2 Axes>"
            ]
          },
          "metadata": {
            "tags": [],
            "needs_background": "light"
          }
        }
      ]
    },
    {
      "cell_type": "markdown",
      "metadata": {
        "id": "XJhRDx6hxBPo"
      },
      "source": [
        "# 🐲 **심화 과정 : 과적합(Overfitting) vs 과소적합(Underfitting)**\n",
        "\n",
        "과적합과 과소적합의 문제를 보여주는 간단한 예시와 2강 수업에서 배운 **교차 검증(Cross Validation)을 통해** 이러한 문제를 해결하는 방법을 살펴보겠습니다.\n",
        "\n",
        "이 섹션에서는 예시를 생성하는 코드 및 함수들이 많습니다. 코드 한줄 한줄을 이해하시기 보다는 코드 실행 후 **'개념'**에 초점을 맞춰 학습해주세요!\n",
        "\n",
        "<br>\n",
        "\n",
        "### **🌄 모형**\n",
        "\n",
        "> 세개의 그림을 보세요. 어떤 점선이 파란점들을 '잘' 이어주고 있나요? 여러분이 데이터사이언티스라면, 예측을 위해서 어떤 선을 쓸것같나요? \n",
        "\n",
        "<img src = \"https://1.bp.blogspot.com/-z-QAfdfZcCk/Xtxb4I4M79I/AAAAAAAAAZ4/i7rBfU891owLMMbpwDaz4a0e_LNTVI5rgCLcBGAsYHQ/s1600/KakaoTalk_Photo_2020-06-07-12-14-27.png\">\n",
        "\n",
        "<br>\n",
        "\n",
        "### **📉 과소적합 Undefitting**\n",
        "먼저 과소적합(underfitting)입니다. 우리가 모델을 학습할 때 `model.fit()`을 사용하지요? \n",
        "\n",
        "쉽게 말하면, 이 함수의 실행이 '덜'된 것이라고 할 수 있습니다. 한눈에 보아도, 점선이 점들의 관계를 잘 표현하지 못하는 것을 볼 수 있습니다. \n",
        "\n",
        "이는 모델이 너무 단순하거나, 학습이 부족해서 데이터의 내재된 구조를 학습하지 못할 때 발생합니다. \n",
        "\n",
        "그렇다면 과소적합을 해결하기 위해선, 어떻게 해야할 까요? \n",
        "\n",
        "**👊 과소적합 해결 방법**\n",
        "1. 파라미터가 더 많은 복잡한 모델을 선택\n",
        "2. 모델의 제약을 줄이기(규제 하이퍼 파라미터 값 줄이기) -> 우리는 배우지 않습니다 🥺\n",
        "3. 조기종료 시점(overfitting이 되기 전의 시점)까지 충분히 학습\n",
        "\n",
        "<br>\n",
        "\n",
        "### **📈 과적합 (Overfitting)**\n",
        "\n",
        "모델이 훈련 데이터를 너무 과하게 설명한 나머지 실제 변수들 간의 관계를 잘못 설명하게 되는 경우입니다. \n",
        "\n",
        "<img src = \"https://upload.wikimedia.org/wikipedia/commons/thumb/1/19/Overfitting.svg/1200px-Overfitting.svg.png\" width = \"400\">\n",
        "\n",
        "초록선을 보면 타겟점들의 아주 조그만 굴곡마저 다 맞추고 있습니다. \n",
        " \n",
        "이러한 모델은 이미 학습한 데이터는 잘 설명하는 것처럼 보이지만 아직 학습하지 않은 데이터에 대해서는 제대로 설명하지 못합니다. \n",
        "\n",
        "마치 암기식으로 공부하여 시험 문제를 잘 못 푸는 것처럼 말이죠.\n",
        "\n",
        "**👊 과적합 해결 방법**\n",
        "1. 훈련 데이터를 더 많이 모음\n",
        "\n",
        "2. 정규화(Regularization) \n",
        "\n",
        "3. 훈련 데이터 잡음을 줄임(오류 수정과 이상치 제거)\n",
        "- 규제(제약 조건)\n",
        "- 드롭-아웃\n",
        "- **교차 검증**  \n",
        "\n",
        "등 다양한 방법을 이용해서 적당한 복잡도를 가지는 모델을 찾아주기\n",
        "\n",
        "<br>\n",
        "\n",
        "\n"
      ]
    },
    {
      "cell_type": "markdown",
      "metadata": {
        "id": "GJic8AEAzW4o"
      },
      "source": [
        "> 기본 설정 !\n",
        "\n",
        "인공적으로 과적합과 과소적합 그리고 '잘' 적합 된 모델을 시각화 하기 위해서, \n",
        "\n",
        "100% 적합한 `sin`함수를 그리고 (검정색 선) 그 주위에 랜덤하게 노이즈(잡음)를 주어 **검정색 점(train) 과 빨간색 점(test)** 을 생성할 것입니다. \n",
        "\n",
        "즉 잡음을 제거한 원본 모델 (검정색 선)에 가까우면 가까울 수록 위의 점들을 가장 '잘' 적합하게 설명해주는 모델입니다.\n",
        "\n"
      ]
    },
    {
      "cell_type": "code",
      "metadata": {
        "id": "7APltA8yyzlq"
      },
      "source": [
        "# Numpy와 pandas\n",
        "import numpy as np\n",
        "import pandas as pd\n",
        "\n",
        "# 모델을 제작하고 평가하기 위한 사이킷런의 여러 패키지\n",
        "from sklearn.preprocessing import PolynomialFeatures\n",
        "from sklearn.linear_model import LinearRegression\n",
        "from sklearn.model_selection import cross_val_score\n",
        "from sklearn.metrics import mean_squared_error\n",
        "\n",
        "# 모델을 시각화하기 위한 라이브러리\n",
        "import matplotlib\n",
        "import matplotlib.pyplot as plt\n",
        "%matplotlib inline\n",
        "\n",
        "# 기본 설정\n",
        "matplotlib.rcParams['font.size'] = 12\n",
        "matplotlib.rcParams['figure.titlesize'] = 16\n",
        "matplotlib.rcParams['figure.figsize'] = [9, 7]"
      ],
      "execution_count": null,
      "outputs": []
    },
    {
      "cell_type": "code",
      "metadata": {
        "id": "-GdSdxzcE9_j"
      },
      "source": [
        "# 랜덤값에 대한 시드 설정\n",
        "np.random.seed(42)\n",
        "\n",
        "# 사인 그래프로 데이터 생성\n",
        "def true_gen(x):\n",
        "    y = np.sin(1.2 * x * np.pi) \n",
        "    return(y)\n",
        "\n",
        "# 약간의 랜덤 노이즈 데이터가 더해진 x, y 값\n",
        "x = np.sort(np.random.rand(120))\n",
        "y = true_gen(x) + 0.1 * np.random.randn(len(x))"
      ],
      "execution_count": null,
      "outputs": []
    },
    {
      "cell_type": "code",
      "metadata": {
        "id": "AoKHdCJyFE93"
      },
      "source": [
        "# Train data과 Test data을 만들기 위한 무작위 지수\n",
        "random_ind = np.random.choice(list(range(120)), size = 120, replace=False)\n",
        "xt = x[random_ind]\n",
        "yt = y[random_ind]\n",
        "\n",
        "# Train data와 Test data 분리\n",
        "train = xt[:int(0.7 * len(x))]\n",
        "test = xt[int(0.7 * len(x)):]\n",
        "\n",
        "y_train = yt[:int(0.7 * len(y))]\n",
        "y_test = yt[int(0.7 * len(y)):]\n",
        "\n",
        "\n",
        "# 실제 곡선 모델링\n",
        "x_linspace = np.linspace(0, 1, 1000)\n",
        "y_true = true_gen(x_linspace)"
      ],
      "execution_count": null,
      "outputs": []
    },
    {
      "cell_type": "code",
      "metadata": {
        "id": "0KBClMKoFFBM",
        "colab": {
          "base_uri": "https://localhost:8080/",
          "height": 465
        },
        "outputId": "9e86092d-dcbd-4ba3-92b5-4be7d0553361"
      },
      "source": [
        "# 관측값 시각화와 실제 곡선\n",
        "plt.plot(train, y_train, 'ko', label = 'Train'); \n",
        "plt.plot(test, y_test, 'ro', label = 'Test')\n",
        "plt.plot(x_linspace, y_true, 'b-', linewidth = 2, label = 'True Function')\n",
        "plt.legend()\n",
        "plt.xlabel('x'); plt.ylabel('y'); plt.title('Data');"
      ],
      "execution_count": null,
      "outputs": [
        {
          "output_type": "display_data",
          "data": {
            "image/png": "[encoded data removed]",
            "text/plain": [
              "<Figure size 648x504 with 1 Axes>"
            ]
          },
          "metadata": {
            "tags": [],
            "needs_background": "light"
          }
        }
      ]
    },
    {
      "cell_type": "code",
      "metadata": {
        "id": "bFPwhcICuA2q",
        "colab": {
          "base_uri": "https://localhost:8080/",
          "height": 465
        },
        "outputId": "149a9cee-ce4c-4d82-fbe3-f36d4d8a86b8"
      },
      "source": [
        "# 관측값 시각화와 실제 곡선\n",
        "plt.plot(train, y_train, 'ko', label = 'Train'); \n",
        "# plt.plot(test, y_test, 'ro', label = 'Test')\n",
        "# plt.plot(x_linspace, y_true, 'b-', linewidth = 2, label = 'True Function')\n",
        "plt.legend()\n",
        "plt.xlabel('x'); plt.ylabel('y'); plt.title('Data');"
      ],
      "execution_count": null,
      "outputs": [
        {
          "output_type": "display_data",
          "data": {
            "image/png": "[encoded data removed]",
            "text/plain": [
              "<Figure size 648x504 with 1 Axes>"
            ]
          },
          "metadata": {
            "tags": [],
            "needs_background": "light"
          }
        }
      ]
    },
    {
      "cell_type": "markdown",
      "metadata": {
        "id": "ttcQAyQsFMyR"
      },
      "source": [
        "## Polynomial Model 다항식 모델\n",
        "\n",
        "\n",
        "\n",
        "\n",
        "우리는 다항식 함수, logistic regression 을 이용해 아까 생성한 검정색 점에 대해서 모델을 만들겁니다.\n",
        "\n",
        "이때, 과소적합과 과적합을 표현하기 위해서 다항식의 항 개수를 이용할겁니다. \n",
        "여러분 수학의 정석에서 다음 그림을 본 기억이 나시나요?\n",
        "\n",
        "<img src = \"https://1.bp.blogspot.com/-Qww4TNzezTY/XuhvmZRBMII/AAAAAAAAAaI/zpDisUcrNU8DrcAl-tQ51dO6jsJBm5J6QCLcBGAsYHQ/s1600/%25E1%2584%2589%25E1%2585%25B3%25E1%2584%258F%25E1%2585%25B3%25E1%2584%2585%25E1%2585%25B5%25E1%2586%25AB%25E1%2584%2589%25E1%2585%25A3%25E1%2586%25BA%2B2020-06-16%2B%25E1%2584%258B%25E1%2585%25A9%25E1%2584%2592%25E1%2585%25AE%2B3.57.02.png\" width = \"800\">\n",
        "\n",
        "다항식의 항 개수가 늘어날수록, 변곡점(굴절하는 횟수가) 늘어나게 되죠, 25차원 함수라면 아주 꼬불꼬불할겁니다. 1차원이면 직선이고요. \n",
        "\n",
        "> 다음 함수는 차수가 지정된 다항식을 만들고 결과를 표시해줍니다. 우리는 이러한 결과를 사용하여 과적합과 과소적합 사이의 적절한 균형을 이루기 위한 최적의 차수를 구할 것입니다."
      ]
    },
    {
      "cell_type": "code",
      "metadata": {
        "id": "nWZZmNaWFM8f"
      },
      "source": [
        "def fit_poly(train, y_train, test, y_test, degrees, plot='train', return_scores=False):\n",
        "     \n",
        "    # 독립 변수들 다항식화하기\n",
        "    features = PolynomialFeatures(degree=degrees, include_bias=False)\n",
        "    \n",
        "    # 학습 데이터 재구성\n",
        "    train = train.reshape((-1, 1))\n",
        "    train_trans = features.fit_transform(train)\n",
        "    \n",
        "    # linear regression 모델 학습\n",
        "    model = LinearRegression()\n",
        "    model.fit(train_trans, y_train)\n",
        "    \n",
        "    # cross validation score 측정\n",
        "    cross_valid = cross_val_score(model, train_trans, y_train, scoring='neg_mean_squared_error', cv = 5)\n",
        "    \n",
        "    # 학습에 대한 예측과 오차 확인하기\n",
        "    train_predictions = model.predict(train_trans)\n",
        "    training_error = mean_squared_error(y_train, train_predictions)\n",
        "    \n",
        "    # 테스트 데이터 재구성\n",
        "    test = test.reshape((-1, 1))\n",
        "    test_trans = features.fit_transform(test)\n",
        "    \n",
        "    # 테스트셋에 대한 예측과 오차 확인하기\n",
        "    test_predictions = model.predict(test_trans)\n",
        "    testing_error = mean_squared_error(y_test, test_predictions)\n",
        "    \n",
        "    # 모델 곡선과 실제 곡선 찾기\n",
        "    x_curve = np.linspace(0, 1, 100)\n",
        "    x_curve = x_curve.reshape((-1, 1))\n",
        "    x_curve_trans = features.fit_transform(x_curve)\n",
        "    \n",
        "    # 모델 곡선\n",
        "    model_curve = model.predict(x_curve_trans)\n",
        "    \n",
        "    # 실제 곡선\n",
        "    y_true_curve = true_gen(x_curve[:, 0])\n",
        "    \n",
        "    # 그래프 그리기 : 관측치, 실제 함수, 예측 함수 모형\n",
        "    if plot == 'train':\n",
        "        plt.plot(train[:, 0], y_train, 'ko', label = 'Observations')\n",
        "        plt.plot(x_curve[:, 0], y_true_curve, linewidth = 4, label = 'True Function')\n",
        "        plt.plot(x_curve[:, 0], model_curve, linewidth = 4, label = 'Model Function')\n",
        "        plt.xlabel('x'); plt.ylabel('y')\n",
        "        plt.legend()\n",
        "        plt.ylim(-1, 1.5); plt.xlim(0, 1)\n",
        "        plt.title('{} Degree Model on Training Data'.format(degrees))\n",
        "        plt.show()\n",
        "        \n",
        "    elif plot == 'test':\n",
        "        # 그래프 그리기 : 관측치, 테스트셋 예측\n",
        "        plt.plot(test, y_test, 'o', label = 'Test Observations')\n",
        "        plt.plot(x_curve[:, 0], y_true_curve, 'b-', linewidth = 2, label = 'True Function')\n",
        "        plt.plot(test, test_predictions, 'ro', label = 'Test Predictions')\n",
        "        plt.ylim(-1, 1.5); plt.xlim(0, 1)\n",
        "        plt.legend(), plt.xlabel('x'), plt.ylabel('y'); plt.title('{} Degree Model on Testing Data'.format(degrees)), plt.show();\n",
        "    \n",
        "    # 행렬 반환\n",
        "    if return_scores:\n",
        "        return training_error, testing_error, -np.mean(cross_valid)"
      ],
      "execution_count": null,
      "outputs": []
    },
    {
      "cell_type": "markdown",
      "metadata": {
        "id": "nFAW4hS-FdM4"
      },
      "source": [
        "## 다양한 N차 함수로 모델 적합해보기\n",
        "\n",
        "### **1차 함수 -> 과소적합**\n",
        "\n",
        "파란색(이상적) 모델과 우리가 만든 선형모델 (주황색) 은 너무나도 동떨어져있습니다. \n",
        "\n",
        "단순 선형 모델은 기울기를 아무리 변화한들, 정확하게 x와 y의 관계를 반영하지 못해서 데이터에 과소적합 된것입니다. \n",
        "\n",
        "이 경우, 더 복잡한 모델(선형이면 feature 을 갯수를 늘린 모델, 또는 logistic 이면 차원수를 늘린 모델)을 이용해야 관계가 제대로 학습될 것입니다. "
      ]
    },
    {
      "cell_type": "code",
      "metadata": {
        "id": "zU-veQX0Fljj",
        "colab": {
          "base_uri": "https://localhost:8080/",
          "height": 465
        },
        "outputId": "77b5eef0-7a4c-4833-ce11-ea42c6fe3ee9"
      },
      "source": [
        "fit_poly(train, y_train, test, y_test, degrees = 1, plot='train')"
      ],
      "execution_count": null,
      "outputs": [
        {
          "output_type": "display_data",
          "data": {
            "image/png": "[encoded data removed]",
            "text/plain": [
              "<Figure size 648x504 with 1 Axes>"
            ]
          },
          "metadata": {
            "tags": [],
            "needs_background": "light"
          }
        }
      ]
    },
    {
      "cell_type": "markdown",
      "metadata": {
        "id": "dMzX3O0MCkGP"
      },
      "source": [
        "> 아래는 학습된 단순 선형 모델로 테스트 데이터 예측해본 결과입니다 😭"
      ]
    },
    {
      "cell_type": "code",
      "metadata": {
        "id": "gfPJtOogFoJP",
        "colab": {
          "base_uri": "https://localhost:8080/",
          "height": 465
        },
        "outputId": "0f9f879d-1122-44f9-a2d9-350f1df7f177"
      },
      "source": [
        "fit_poly(train, y_train, test, y_test, degrees = 1, plot='test')"
      ],
      "execution_count": null,
      "outputs": [
        {
          "output_type": "display_data",
          "data": {
            "image/png": "[encoded data removed]",
            "text/plain": [
              "<Figure size 648x504 with 1 Axes>"
            ]
          },
          "metadata": {
            "tags": [],
            "needs_background": "light"
          }
        }
      ]
    },
    {
      "cell_type": "code",
      "metadata": {
        "id": "R0nzs0Epubwr",
        "colab": {
          "base_uri": "https://localhost:8080/",
          "height": 465
        },
        "outputId": "95d70360-fa79-45b7-caf3-3008bd31130a"
      },
      "source": [
        "fit_poly(train, y_train, test, y_test, degrees = 5, plot='test')"
      ],
      "execution_count": null,
      "outputs": [
        {
          "output_type": "display_data",
          "data": {
            "image/png": "[encoded data removed]",
            "text/plain": [
              "<Figure size 648x504 with 1 Axes>"
            ]
          },
          "metadata": {
            "tags": [],
            "needs_background": "light"
          }
        }
      ]
    },
    {
      "cell_type": "markdown",
      "metadata": {
        "id": "NN3Isgg_FrRL"
      },
      "source": [
        "### **25차 함수 -> 과적합**\n",
        "\n",
        "반대로 차원수가 아주~ 많이 늘어난다면 어떻게 될까요? 모델이 과하게 유연하여, 이상적 모델(파란색선)에 임의로 추가한 노이즈(검정색 점이 살짝 벗어나게 분포)를 완벽하게 학습하여, train 에는 100%적합하나 test 는 떨어질 수 있습니다. \n",
        "\n",
        "결과에서 특히 맨 오른쪽 부분을 보면 모델이 조그만 x 축의 변화에도 y 값이 극명하게 변화하는 것을 알수 있습니다. 1차함수보다는 더 fit 된 경우지만, 후반부에 가면 오히려 1차원함수보다 더 이상함수(파란색)  거리가 멀어지죠. "
      ]
    },
    {
      "cell_type": "code",
      "metadata": {
        "id": "gpllo1eYupP7",
        "colab": {
          "base_uri": "https://localhost:8080/"
        },
        "outputId": "b51a0f89-3f28-4bc3-d97a-f1f5a068ef03"
      },
      "source": [
        "len(y_train)"
      ],
      "execution_count": null,
      "outputs": [
        {
          "output_type": "execute_result",
          "data": {
            "text/plain": [
              "84"
            ]
          },
          "metadata": {
            "tags": []
          },
          "execution_count": 82
        }
      ]
    },
    {
      "cell_type": "code",
      "metadata": {
        "id": "1tpi49xqFvw4",
        "colab": {
          "base_uri": "https://localhost:8080/",
          "height": 465
        },
        "outputId": "2c1313cd-b9a7-4d28-eb90-bce0b2d24539"
      },
      "source": [
        "fit_poly(train, y_train, test, y_test, plot='train', degrees = 80)"
      ],
      "execution_count": null,
      "outputs": [
        {
          "output_type": "display_data",
          "data": {
            "image/png": "[encoded data removed]",
            "text/plain": [
              "<Figure size 648x504 with 1 Axes>"
            ]
          },
          "metadata": {
            "tags": [],
            "needs_background": "light"
          }
        }
      ]
    },
    {
      "cell_type": "markdown",
      "metadata": {
        "id": "O4iHBBijDb6n"
      },
      "source": [
        "> 아래는 학습된 25차 함수 모델로 테스트 데이터를 예측해본 결과입니다. 아직까지도 꽤 많은 차이를 보이는 편입니다."
      ]
    },
    {
      "cell_type": "code",
      "metadata": {
        "id": "CnT2dtMbFwbD",
        "colab": {
          "base_uri": "https://localhost:8080/",
          "height": 465
        },
        "outputId": "78f278e4-c27e-4f55-d5d1-88f453e9f3d7"
      },
      "source": [
        "fit_poly(train, y_train, test, y_test, degrees=25, plot='test')"
      ],
      "execution_count": null,
      "outputs": [
        {
          "output_type": "display_data",
          "data": {
            "image/png": "[encoded data removed]",
            "text/plain": [
              "<Figure size 648x504 with 1 Axes>"
            ]
          },
          "metadata": {
            "tags": [],
            "needs_background": "light"
          }
        }
      ]
    },
    {
      "cell_type": "markdown",
      "metadata": {
        "id": "umApKciaF2GE"
      },
      "source": [
        "### **5차 함수 -> 균형 잡힌 모델**\n",
        "\n",
        "이제 두 가지 극단적 예시(1차와 25차)를 보았으니, 데이터에 적당하게 적합된 모델을 살펴보겠습니다.\n",
        "\n",
        "5차원 정도의 함수를 쓰면, 이상적 모델(파란색)과 우리의 모델 (주황색)이 거의 일치하는 것을 볼 수 있습니다. \n",
        "\n",
        "이는 모델이 이상적 모델(파란색) 에서 벗어난 노이즈(검정색 점들)가 주어져서 학습됬음에도 불구하고, 거기서 패턴을 '잘' 학습하여(fit 되어) 이상적 모델을 제대로 유추해 낸 것입니다. \n",
        "\n",
        "우리가 딥러닝, 머신러닝 모델을 학습할 때도 위와 같은 태도를 가져야 합니다!\n",
        "\n",
        "실제로 이 모델은, 위의 25차원 함수보다 training (검정색점) 들을 잘 이어주고 있지는 않지만, 오히려 더 '적합'한 모델이라고 말할 수 있습니다."
      ]
    },
    {
      "cell_type": "code",
      "metadata": {
        "id": "v_XecurQF7h6",
        "colab": {
          "base_uri": "https://localhost:8080/",
          "height": 465
        },
        "outputId": "2000f014-e7ca-4e50-a67b-b9f2a9383d9b"
      },
      "source": [
        "fit_poly(train, y_train, test, y_test, plot='train', degrees = 5)"
      ],
      "execution_count": null,
      "outputs": [
        {
          "output_type": "display_data",
          "data": {
            "image/png": "[encoded data removed]",
            "text/plain": [
              "<Figure size 648x504 with 1 Axes>"
            ]
          },
          "metadata": {
            "tags": [],
            "needs_background": "light"
          }
        }
      ]
    },
    {
      "cell_type": "markdown",
      "metadata": {
        "id": "BEI1TY_QEUSd"
      },
      "source": [
        "> 아래에서 1차 함수나 25차 함수보다 테스트 데이터에 대한 예측의 오차가 적은 것을 확인할 수 있습니다."
      ]
    },
    {
      "cell_type": "code",
      "metadata": {
        "id": "TLKvKlM-F93u"
      },
      "source": [
        "fit_poly(train, y_train, test, y_test, degrees=5, plot='test')"
      ],
      "execution_count": null,
      "outputs": []
    },
    {
      "cell_type": "markdown",
      "metadata": {
        "id": "JdKRLV9mGBe1"
      },
      "source": [
        "### **Cross Validation 교차 검증법**\n",
        "\n",
        "![대체 텍스트](https://1.bp.blogspot.com/-0xXCMk0QIQE/XoF9dLJqYxI/AAAAAAAAAOc/z_mbr5ZFEmgKeuIH2cspOjUjymrB-A-IQCLcBGAsYHQ/s1600/%25E1%2584%258F%25E1%2585%25A2%25E1%2586%25B8%25E1%2584%258E%25E1%2585%25A53%255D.JPG)\n",
        "\n",
        "최적의 모델을 선택하는 방법 중 2강에서 배운 Validation Data Set(검증 데이터셋)를 사용하는 방법이 있습니다. \n",
        "\n",
        "교차 검증법은 Train 데이터에서 생성된 수많은 검증 세트를 사용하기 때문에 단일 검증 세트를 사용하는 것 보다 훨씬 성능이 좋습니다. \n",
        "\n",
        "우리는 5개의 다른 검증 세트로 나눠서 사용할 것입니다.\n",
        "\n",
        " 교차 검증에서 가장 잘 수행되는 모델은 과적합되지 않으면서 x와 y의 관계를 학습할 수 있다는 것을 보여주기 때문에 일반적으로 최적의 모델입니다."
      ]
    },
    {
      "cell_type": "markdown",
      "metadata": {
        "id": "bvHF6cSIQVt-"
      },
      "source": [
        "🤜🤜 예를 들어 볼까요?\n",
        "\n",
        "교차 검증시에는 학습용 데이터셋 중 무작위하게 일부분(1/N)이 사라져서 모델을 만들게 됩니다.\n",
        "\n",
        "<img src = \"https://1.bp.blogspot.com/-KkjBiISzRNY/XuiAWHnKtgI/AAAAAAAAAaU/OJPlmrQWaLIP5RRggWCTBdMoZRu6fDvjgCLcBGAsYHQ/s1600/%25E1%2584%2589%25E1%2585%25B3%25E1%2584%258F%25E1%2585%25B3%25E1%2584%2585%25E1%2585%25B5%25E1%2586%25AB%25E1%2584%2589%25E1%2585%25A3%25E1%2586%25BA%2B2020-06-16%2B%25E1%2584%258B%25E1%2585%25A9%25E1%2584%2592%25E1%2585%25AE%2B5.17.15.png\">\n",
        "\n",
        "아까 25차원에서 특별히 과적합되는 끝 부분을 확대한 부분에서 위의 그림이 나오고, 마지막 4개의 점들을 각각 한 개씩을 뺴서 모델을 그린 경우입니다.\n",
        "\n",
        "이때 점 하나씩만 없는 경우, 다들 이상적 모델(파란색)과는 거리가 멀어보이지만, 이것들의 평균값(cross-validation)은 이상적 모델과 가깝게 됩니다.\n",
        "\n",
        "이처럼 cross-validation 은 test, train 셋의 노이즈를 어느정도 무시하게 하는 효과가 있고, 이것을 이용해 가장 잘 fit 된 모델을 찾을 수 있습니다. \n"
      ]
    },
    {
      "cell_type": "code",
      "metadata": {
        "id": "ariAivYsGFwP"
      },
      "source": [
        "# 평가해볼 차수의 범위 설정(1차 ~ 40차)\n",
        "degrees = [int(x) for x in np.linspace(1, 40, 40)]\n",
        "\n",
        "# 결과에 대한 데이터 프레임 만들어주기\n",
        "results = pd.DataFrame(0, columns = ['train_error', 'test_error', 'cross_valid'], index = degrees)\n",
        "\n",
        "# N차 함수 모델 별로 오차에 대한 결과값을 생성해주기\n",
        "for degree in degrees:\n",
        "    degree_results = fit_poly(train, y_train, test, y_test, degree, plot=False, return_scores=True)\n",
        "    results.loc[degree, 'train_error'] = degree_results[0]\n",
        "    results.loc[degree, 'test_error'] = degree_results[1]\n",
        "    results.loc[degree, 'cross_valid'] = degree_results[2]"
      ],
      "execution_count": null,
      "outputs": []
    },
    {
      "cell_type": "code",
      "metadata": {
        "id": "qecmsQdZGK5e",
        "colab": {
          "base_uri": "https://localhost:8080/",
          "height": 378
        },
        "outputId": "d392b9a4-2dad-4426-a02d-0cc17cddfe79"
      },
      "source": [
        "print('10 Lowest Cross Validation Errors\\n')\n",
        "train_eval = results.sort_values('cross_valid').reset_index(level=0).rename(columns={'index': 'degrees'})\n",
        "train_eval.loc[:,['degrees', 'cross_valid']] .head(10)"
      ],
      "execution_count": null,
      "outputs": [
        {
          "output_type": "stream",
          "text": [
            "10 Lowest Cross Validation Errors\n",
            "\n"
          ],
          "name": "stdout"
        },
        {
          "output_type": "execute_result",
          "data": {
            "text/html": [
              "<div>\n",
              "<style scoped>\n",
              "    .dataframe tbody tr th:only-of-type {\n",
              "        vertical-align: middle;\n",
              "    }\n",
              "\n",
              "    .dataframe tbody tr th {\n",
              "        vertical-align: top;\n",
              "    }\n",
              "\n",
              "    .dataframe thead th {\n",
              "        text-align: right;\n",
              "    }\n",
              "</style>\n",
              "<table border=\"1\" class=\"dataframe\">\n",
              "  <thead>\n",
              "    <tr style=\"text-align: right;\">\n",
              "      <th></th>\n",
              "      <th>degrees</th>\n",
              "      <th>cross_valid</th>\n",
              "    </tr>\n",
              "  </thead>\n",
              "  <tbody>\n",
              "    <tr>\n",
              "      <th>0</th>\n",
              "      <td>4</td>\n",
              "      <td>0.010549</td>\n",
              "    </tr>\n",
              "    <tr>\n",
              "      <th>1</th>\n",
              "      <td>5</td>\n",
              "      <td>0.010637</td>\n",
              "    </tr>\n",
              "    <tr>\n",
              "      <th>2</th>\n",
              "      <td>7</td>\n",
              "      <td>0.010665</td>\n",
              "    </tr>\n",
              "    <tr>\n",
              "      <th>3</th>\n",
              "      <td>6</td>\n",
              "      <td>0.010887</td>\n",
              "    </tr>\n",
              "    <tr>\n",
              "      <th>4</th>\n",
              "      <td>8</td>\n",
              "      <td>0.011182</td>\n",
              "    </tr>\n",
              "    <tr>\n",
              "      <th>5</th>\n",
              "      <td>3</td>\n",
              "      <td>0.011695</td>\n",
              "    </tr>\n",
              "    <tr>\n",
              "      <th>6</th>\n",
              "      <td>9</td>\n",
              "      <td>0.011757</td>\n",
              "    </tr>\n",
              "    <tr>\n",
              "      <th>7</th>\n",
              "      <td>11</td>\n",
              "      <td>0.011769</td>\n",
              "    </tr>\n",
              "    <tr>\n",
              "      <th>8</th>\n",
              "      <td>10</td>\n",
              "      <td>0.011902</td>\n",
              "    </tr>\n",
              "    <tr>\n",
              "      <th>9</th>\n",
              "      <td>12</td>\n",
              "      <td>0.012642</td>\n",
              "    </tr>\n",
              "  </tbody>\n",
              "</table>\n",
              "</div>"
            ],
            "text/plain": [
              "   degrees  cross_valid\n",
              "0        4     0.010549\n",
              "1        5     0.010637\n",
              "2        7     0.010665\n",
              "3        6     0.010887\n",
              "4        8     0.011182\n",
              "5        3     0.011695\n",
              "6        9     0.011757\n",
              "7       11     0.011769\n",
              "8       10     0.011902\n",
              "9       12     0.012642"
            ]
          },
          "metadata": {
            "tags": []
          },
          "execution_count": 87
        }
      ]
    },
    {
      "cell_type": "markdown",
      "metadata": {
        "id": "3OA-PImAOlu0"
      },
      "source": [
        "4차 함수일 때 `0.010549`로 오차가 제일 적은 것을 알 수 있습니다!\n",
        "\n",
        "> 아래 그래프에서도 똑같이 4차 함수일 때 오차가 가장 적네요!"
      ]
    },
    {
      "cell_type": "code",
      "metadata": {
        "id": "iYVv5vwFGMz_",
        "colab": {
          "base_uri": "https://localhost:8080/",
          "height": 500
        },
        "outputId": "337b7a24-bafa-4a3d-93cd-96503ac62a68"
      },
      "source": [
        "plt.plot(results.index, results['cross_valid'], 'go-', ms=6)\n",
        "plt.xlabel('Degrees'); plt.ylabel('Cross Validation Error'); plt.title('Cross Validation Results');\n",
        "plt.ylim(0, 0.2);\n",
        "print('Minimum Cross Validation Error occurs at {} degrees.\\n'.format(int(np.argmin(results['cross_valid']))))"
      ],
      "execution_count": null,
      "outputs": [
        {
          "output_type": "stream",
          "text": [
            "Minimum Cross Validation Error occurs at 3 degrees.\n",
            "\n"
          ],
          "name": "stdout"
        },
        {
          "output_type": "display_data",
          "data": {
            "image/png": "[encoded data removed]",
            "text/plain": [
              "<Figure size 648x504 with 1 Axes>"
            ]
          },
          "metadata": {
            "tags": [],
            "needs_background": "light"
          }
        }
      ]
    },
    {
      "cell_type": "markdown",
      "metadata": {
        "id": "wg9JVLWyGSW7"
      },
      "source": [
        "### **최종 모델**\n",
        "\n",
        "위 그래프에서 교차 검증 오차(cross validation error)가 제일 작았던 모델은 4차 함수였기 때문에 최종 모델은 4차 함수를 사용하도록 하겠습니다."
      ]
    },
    {
      "cell_type": "code",
      "metadata": {
        "id": "a_oRgKjEGVr0",
        "colab": {
          "base_uri": "https://localhost:8080/",
          "height": 465
        },
        "outputId": "ea98dc93-b9a3-44bc-bead-288ea5b6d487"
      },
      "source": [
        "fit_poly(train, y_train, test, y_test, degrees=4, plot='train')"
      ],
      "execution_count": null,
      "outputs": [
        {
          "output_type": "display_data",
          "data": {
            "image/png": "[encoded data removed]",
            "text/plain": [
              "<Figure size 648x504 with 1 Axes>"
            ]
          },
          "metadata": {
            "tags": [],
            "needs_background": "light"
          }
        }
      ]
    },
    {
      "cell_type": "code",
      "metadata": {
        "id": "jaiNscaIGXm_",
        "colab": {
          "base_uri": "https://localhost:8080/",
          "height": 465
        },
        "outputId": "b2e20845-c1db-484d-f780-a7c5a696e947"
      },
      "source": [
        "fit_poly(train, y_train, test, y_test, degrees=4, plot='test')"
      ],
      "execution_count": null,
      "outputs": [
        {
          "output_type": "display_data",
          "data": {
            "image/png": "[encoded data removed]",
            "text/plain": [
              "<Figure size 648x504 with 1 Axes>"
            ]
          },
          "metadata": {
            "tags": [],
            "needs_background": "light"
          }
        }
      ]
    },
    {
      "cell_type": "markdown",
      "metadata": {
        "id": "Yo9US3o9Gcwn"
      },
      "source": [
        "### **Evaluate Models 모델 평가**\n",
        "\n",
        "마지막 단계는 모델을 평가하는 것입니다. Testing error가 Training error보다 높다면 그 모델은 과적합된 것입니다.\n",
        "\n",
        "> 아래 그래프에서 과적합된 지점과 제대로 적합된 지점을 찾아보도록 합니다."
      ]
    },
    {
      "cell_type": "code",
      "metadata": {
        "id": "4SD6TZf4GwyG",
        "colab": {
          "base_uri": "https://localhost:8080/",
          "height": 535
        },
        "outputId": "4f664261-de60-4d84-8c94-76eaaa358e79"
      },
      "source": [
        "# 마지막으로 차수에 따른 MSE 시각화하기\n",
        "plt.plot(results.index, results['train_error'], 'b-o', ms=6, label = 'Training Error')\n",
        "plt.plot(results.index, results['test_error'], 'r-*', ms=6, label = 'Testing Error')\n",
        "plt.legend(loc=2); plt.xlabel('Degrees'); plt.ylabel('Mean Squared Error'); plt.title('Training and Testing Curves');\n",
        "plt.ylim(0, 0.05); plt.show()\n",
        "\n",
        "print('\\nTraining Error는 {}차 함수에서 최소값을 갖지만,'.format(int(np.argmin(results['train_error']))))\n",
        "print('Testing Error는 {}차 함수에서 최소값을 갖는다.\\n'.format(int(np.argmin(results['test_error']))))"
      ],
      "execution_count": null,
      "outputs": [
        {
          "output_type": "display_data",
          "data": {
            "image/png": "[encoded data removed]",
            "text/plain": [
              "<Figure size 648x504 with 1 Axes>"
            ]
          },
          "metadata": {
            "tags": [],
            "needs_background": "light"
          }
        },
        {
          "output_type": "stream",
          "text": [
            "\n",
            "Training Error는 35차 함수에서 최소값을 갖지만,\n",
            "Testing Error는 4차 함수에서 최소값을 갖는다.\n",
            "\n"
          ],
          "name": "stdout"
        }
      ]
    },
    {
      "cell_type": "markdown",
      "metadata": {
        "id": "LLs1b9KXcN5Q"
      },
      "source": [
        "\n",
        "# 🐚 고생하셨습니다 🐚\n",
        "\n",
        "\n",
        "이제 실습으로 이동해볼까요? GO! GO!"
      ]
    }
  ]
}