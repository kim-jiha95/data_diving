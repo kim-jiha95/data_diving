{
  "nbformat": 4,
  "nbformat_minor": 0,
  "metadata": {
    "colab": {
      "name": "3강 전처리 과제 정답지.ipynb의 사본",
      "provenance": [],
      "collapsed_sections": [],
      "toc_visible": true,
      "include_colab_link": true
    },
    "kernelspec": {
      "name": "python3",
      "display_name": "Python 3"
    }
  },
  "cells": [
    {
      "cell_type": "markdown",
      "metadata": {
        "id": "view-in-github",
        "colab_type": "text"
      },
      "source": [
        "<a href=\"https://colab.research.google.com/github/kim-jiha95/data_diving/blob/main/3%EA%B0%95_%EC%A0%84%EC%B2%98%EB%A6%AC_%EA%B3%BC%EC%A0%9C_%EC%A0%95%EB%8B%B5%EC%A7%80_ipynb%EC%9D%98_%EC%82%AC%EB%B3%B8.ipynb\" target=\"_parent\"><img src=\"https://colab.research.google.com/assets/colab-badge.svg\" alt=\"Open In Colab\"/></a>"
      ]
    },
    {
      "cell_type": "markdown",
      "metadata": {
        "id": "mV5mTQjsAgHC"
      },
      "source": [
        "# 🔥 Quiz 3\n",
        "\n",
        "> 야생의 🦌 타이타닉 자료 분석하기"
      ]
    },
    {
      "cell_type": "markdown",
      "metadata": {
        "id": "O6OaqgyxUF26"
      },
      "source": [
        "시작하기 전에 필요한 라이브러리와 가공되지 않은 형태의 타이타닉 자료를 불러옵시다\n",
        "\n"
      ]
    },
    {
      "cell_type": "code",
      "metadata": {
        "id": "H7Nrk0MIHE-7"
      },
      "source": [
        "import seaborn as sns\n",
        "import pandas as pd\n",
        "titanic = sns.load_dataset('raw/titanic') # 앞서 사용한 내장 데이터셋 사용 방법\n",
        "titanic"
      ],
      "execution_count": null,
      "outputs": []
    },
    {
      "cell_type": "markdown",
      "metadata": {
        "id": "PqZqlEJzGjlL"
      },
      "source": [
        "## Q 3-1\n",
        "\n",
        "야생의 타이타닉 데이터셋에서 **모든 결측치의 총 개수**를 `total_na` 변수에 저장해보세요!"
      ]
    },
    {
      "cell_type": "code",
      "metadata": {
        "id": "lF-_rbko5ZFq"
      },
      "source": [
        "# prob 1\n",
        "total_na = \n",
        "\n",
        "# 결과보기\n",
        "total_na"
      ],
      "execution_count": null,
      "outputs": []
    },
    {
      "cell_type": "markdown",
      "metadata": {
        "id": "PN3-sZ1WOH88"
      },
      "source": [
        "총 866개가 나온다면 정답입니다."
      ]
    },
    {
      "cell_type": "markdown",
      "metadata": {
        "id": "RyXj8-9gimIa"
      },
      "source": [
        "## Q 3-2\n",
        "\n",
        "수업시간에는 야생의 타이타닉 데이터셋에서 관측되지 않은(`NA`) 나이 항목을 채워주었습니다.  \n",
        "이번에는 **나이**가 관측되지 않은 사람들의 관측치 **행(row)를 모두 제거**해 타이타닉 데이터셋을 **업데이트(`inplcae=True`)**해주세요!\n",
        "\n",
        "> 힌트: `dropna()`함수의 `subset` 인자는 `NA` 값을 탐색할 열을 지정합니다."
      ]
    },
    {
      "cell_type": "code",
      "metadata": {
        "id": "sRimkTu9ikgT"
      },
      "source": [
        "# sol 2\n",
        "\n",
        "# 결과보기\n",
        "titanic"
      ],
      "execution_count": null,
      "outputs": []
    },
    {
      "cell_type": "markdown",
      "metadata": {
        "id": "cEJ6OKpjL4Y5"
      },
      "source": [
        "> <img src = \"https://1.bp.blogspot.com/-e1MwoXVimZc/XrTMAP9ihmI/AAAAAAAAAVA/d96vQpzsEK4zUHUfm3s3Z3HzN5x7M35BQCLcBGAsYHQ/s1600/%25E1%2584%2589%25E1%2585%25B3%25E1%2584%258F%25E1%2585%25B3%25E1%2584%2585%25E1%2585%25B5%25E1%2586%25AB%25E1%2584%2589%25E1%2585%25A3%25E1%2586%25BA%2B2020-05-08%2B%25E1%2584%258B%25E1%2585%25A9%25E1%2584%258C%25E1%2585%25A5%25E1%2586%25AB%2B11.56.06.png\">\n",
        "> 이런 결과가 나오도록 해주세요! 총 714개의 행이 남아있으면 됩니다.\n",
        "\n"
      ]
    },
    {
      "cell_type": "markdown",
      "metadata": {
        "id": "LT51pAlGG5PK"
      },
      "source": [
        "## Q 3-3\n",
        "\n",
        "타이타닉 데이터셋에 나이가 **30세 미만인 사람은 0**을, **30세 이상, 50세 미만인 사람은 1**을, **50세 이상인 사람은 2**의 값을 갖는 **열 `age_ind`를 추가**해보세요.\n",
        "\n",
        "이때, `age_ind`는 **정수형(int) 값**을 가져야합니다.\n",
        "\n",
        "> <img src = \"https://1.bp.blogspot.com/-fxN7Jm4zE9E/XrTL_RK1mdI/AAAAAAAAAU8/avMSlOgjzbI-iA1Vn9qW3uk8LlsOvIZ-wCLcBGAsYHQ/s1600/%25E1%2584%2589%25E1%2585%25B3%25E1%2584%258F%25E1%2585%25B3%25E1%2584%2585%25E1%2585%25B5%25E1%2586%25AB%25E1%2584%2589%25E1%2585%25A3%25E1%2586%25BA%2B2020-05-08%2B%25E1%2584%258B%25E1%2585%25A9%25E1%2584%2592%25E1%2585%25AE%2B12.01.39.png\">\n",
        "> 이런 결과가 나오면 됩니다."
      ]
    },
    {
      "cell_type": "code",
      "metadata": {
        "id": "k2tCNLD1xS7w"
      },
      "source": [
        "# sol 3\n",
        "\n",
        "# 결과보기\n",
        "titanic.head()"
      ],
      "execution_count": null,
      "outputs": []
    },
    {
      "cell_type": "markdown",
      "metadata": {
        "id": "SGWEuvNqj4FP"
      },
      "source": [
        "## Q 3-4\n",
        "\n",
        "마지막으로 각 **`age_ind`**에 대해 **`pclass`의 분포**를 **막대그래프의 형태로 시각화**해주세요,"
      ]
    },
    {
      "cell_type": "markdown",
      "metadata": {
        "id": "E_SWEzZSkrWN"
      },
      "source": [
        "> 이렇게요!  \n",
        "> <img src = \"https://1.bp.blogspot.com/-q4z7gH25cqU/XrTIUKo-7LI/AAAAAAAAAUs/CIK6bIIRRqUhxzWSlpzYMMSIgbqLoPKXQCLcBGAsYHQ/s1600/%25E1%2584%2589%25E1%2585%25B3%25E1%2584%258F%25E1%2585%25B3%25E1%2584%2585%25E1%2585%25B5%25E1%2586%25AB%25E1%2584%2589%25E1%2585%25A3%25E1%2586%25BA%2B2020-05-08%2B%25E1%2584%258B%25E1%2585%25A9%25E1%2584%258C%25E1%2585%25A5%25E1%2586%25AB%2B11.47.30.png\" width = \"400\">"
      ]
    },
    {
      "cell_type": "code",
      "metadata": {
        "id": "jv94NryMj3Hm"
      },
      "source": [
        "# sol 4\n"
      ],
      "execution_count": null,
      "outputs": []
    },
    {
      "cell_type": "markdown",
      "metadata": {
        "id": "ooh6knfbkybM"
      },
      "source": [
        "승객별로 나이의 분포가 비슷한가요? 다른가요?"
      ]
    },
    {
      "cell_type": "markdown",
      "metadata": {
        "id": "CG8cJ8bJKjZg"
      },
      "source": [
        "# 🔍 Quiz 3 답안지"
      ]
    },
    {
      "cell_type": "markdown",
      "metadata": {
        "id": "MKpwYHaewkk1"
      },
      "source": [
        "## Q 3-1"
      ]
    },
    {
      "cell_type": "code",
      "metadata": {
        "id": "iGhLRjk2K0xa"
      },
      "source": [
        "# sol 1\n",
        "total_na = titanic.isna().sum().sum()\n",
        "total_na"
      ],
      "execution_count": null,
      "outputs": []
    },
    {
      "cell_type": "markdown",
      "metadata": {
        "id": "K7kY4b_BLCrZ"
      },
      "source": [
        "## Q 3-2"
      ]
    },
    {
      "cell_type": "code",
      "metadata": {
        "id": "0YUzTIg5LDhO"
      },
      "source": [
        "# sol 2\n",
        "titanic.dropna(axis=0, subset=['age'], inplace=True)\n",
        "titanic"
      ],
      "execution_count": null,
      "outputs": []
    },
    {
      "cell_type": "markdown",
      "metadata": {
        "id": "fG51x-N_LCuY"
      },
      "source": [
        "## Q 3-3"
      ]
    },
    {
      "cell_type": "code",
      "metadata": {
        "id": "0fRmEnJ8LH2z"
      },
      "source": [
        "# sol 3\n",
        "titanic['age_ind'] = titanic['age']\n",
        "titanic.loc[titanic['age_ind'] < 30, 'age_ind'] = 0\n",
        "titanic.loc[(titanic['age_ind'] >= 30) & (titanic['age_ind'] <= 50), 'age_ind'] = 1\n",
        "titanic.loc[titanic['age_ind'] > 50, 'age_ind'] = 2\n",
        "titanic['age_ind'] = titanic['age_ind'].astype(int)"
      ],
      "execution_count": null,
      "outputs": []
    },
    {
      "cell_type": "markdown",
      "metadata": {
        "id": "4NZyztjFLCxA"
      },
      "source": [
        "## Q 3-4"
      ]
    },
    {
      "cell_type": "code",
      "metadata": {
        "id": "3NIaksnMLJ5I"
      },
      "source": [
        "# sol 4\n",
        "sns.countplot(data=titanic, x='pclass', hue='age_ind');"
      ],
      "execution_count": null,
      "outputs": []
    },
    {
      "cell_type": "code",
      "metadata": {
        "id": "k8MQAOgtQuX7"
      },
      "source": [
        ""
      ],
      "execution_count": null,
      "outputs": []
    }
  ]
}